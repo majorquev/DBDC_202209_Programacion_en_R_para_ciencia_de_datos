{
  "nbformat": 4,
  "nbformat_minor": 0,
  "metadata": {
    "colab": {
      "provenance": [],
      "collapsed_sections": [],
      "include_colab_link": true
    },
    "kernelspec": {
      "name": "ir",
      "display_name": "R"
    }
  },
  "cells": [
    {
      "cell_type": "markdown",
      "metadata": {
        "id": "view-in-github",
        "colab_type": "text"
      },
      "source": [
        "<a href=\"https://colab.research.google.com/github/majorquev/DBDC_202209_Programacion_en_R_para_ciencia_de_datos/blob/main/Clases/Clase1/Clase_1_02_vectores_desarrollo.ipynb\" target=\"_parent\"><img src=\"https://colab.research.google.com/assets/colab-badge.svg\" alt=\"Open In Colab\"/></a>"
      ]
    },
    {
      "cell_type": "markdown",
      "metadata": {
        "collapsed": true,
        "id": "Yb2RXjL2Igun"
      },
      "source": [
        "# Parte 1: Introducción a R (continuación)\n",
        "\n",
        "**Autor:** Miguel Jorquera Viguera<br>\n",
        "**E-mail:** majorquev@gmail.com<br>\n",
        "**Ayudante:** Rodrigo Morales <br>\n",
        "**E-mail ayudante:** rumorale1@gmail.com\n",
        "\n"
      ]
    },
    {
      "cell_type": "markdown",
      "metadata": {
        "id": "d_bHZs66Iguo"
      },
      "source": [
        "## 3. Vectores y matrices\n",
        "\n",
        "### 3.1 Vectores\n",
        "\n",
        "En R, así como en la mayoría de los lenguajes de programación, uno de los objetos más usuales para almacenar información son los vectores, los que corresponden a arreglos unidimensionales que almacenan un mismo tipo de dato en cada una de sus entradas.\n",
        "\n",
        "Todo vector en R se puede declarar con la letra \"c\" seguido de los elementos que lo componen entre paréntesis y separados por comas."
      ]
    },
    {
      "cell_type": "code",
      "metadata": {
        "id": "ljQ0JcsTIgup"
      },
      "source": [
        "# Declaración de dos vectores\n",
        "v1 <- c(1,1,2,3,5,8)"
      ],
      "execution_count": 1,
      "outputs": []
    },
    {
      "cell_type": "code",
      "source": [
        "v1"
      ],
      "metadata": {
        "id": "H6sMxuddJwc9",
        "outputId": "0efd9838-69b1-4a53-8693-ae145d6e7d61",
        "colab": {
          "base_uri": "https://localhost:8080/",
          "height": 34
        }
      },
      "execution_count": 2,
      "outputs": [
        {
          "output_type": "display_data",
          "data": {
            "text/html": [
              "<style>\n",
              ".list-inline {list-style: none; margin:0; padding: 0}\n",
              ".list-inline>li {display: inline-block}\n",
              ".list-inline>li:not(:last-child)::after {content: \"\\00b7\"; padding: 0 .5ex}\n",
              "</style>\n",
              "<ol class=list-inline><li>1</li><li>1</li><li>2</li><li>3</li><li>5</li><li>8</li></ol>\n"
            ],
            "text/markdown": "1. 1\n2. 1\n3. 2\n4. 3\n5. 5\n6. 8\n\n\n",
            "text/latex": "\\begin{enumerate*}\n\\item 1\n\\item 1\n\\item 2\n\\item 3\n\\item 5\n\\item 8\n\\end{enumerate*}\n",
            "text/plain": [
              "[1] 1 1 2 3 5 8"
            ]
          },
          "metadata": {}
        }
      ]
    },
    {
      "cell_type": "code",
      "metadata": {
        "id": "GxHhDdS4Iguy",
        "outputId": "64974188-ad7d-4a1c-e0e3-a3745f9fa534",
        "colab": {
          "base_uri": "https://localhost:8080/",
          "height": 34
        }
      },
      "source": [
        "# clase y tipo de dato\n",
        "class(v1)"
      ],
      "execution_count": 3,
      "outputs": [
        {
          "output_type": "display_data",
          "data": {
            "text/html": [
              "'numeric'"
            ],
            "text/markdown": "'numeric'",
            "text/latex": "'numeric'",
            "text/plain": [
              "[1] \"numeric\""
            ]
          },
          "metadata": {}
        }
      ]
    },
    {
      "cell_type": "code",
      "metadata": {
        "id": "FUBvbIN9Igu4",
        "outputId": "fdfa2857-3481-46b1-e391-eda9db011df3",
        "colab": {
          "base_uri": "https://localhost:8080/",
          "height": 34
        }
      },
      "source": [
        "# vectores lógicos\n",
        "V2 <- c(T,T,F,T)\n",
        "V2"
      ],
      "execution_count": 4,
      "outputs": [
        {
          "output_type": "display_data",
          "data": {
            "text/html": [
              "<style>\n",
              ".list-inline {list-style: none; margin:0; padding: 0}\n",
              ".list-inline>li {display: inline-block}\n",
              ".list-inline>li:not(:last-child)::after {content: \"\\00b7\"; padding: 0 .5ex}\n",
              "</style>\n",
              "<ol class=list-inline><li>TRUE</li><li>TRUE</li><li>FALSE</li><li>TRUE</li></ol>\n"
            ],
            "text/markdown": "1. TRUE\n2. TRUE\n3. FALSE\n4. TRUE\n\n\n",
            "text/latex": "\\begin{enumerate*}\n\\item TRUE\n\\item TRUE\n\\item FALSE\n\\item TRUE\n\\end{enumerate*}\n",
            "text/plain": [
              "[1]  TRUE  TRUE FALSE  TRUE"
            ]
          },
          "metadata": {}
        }
      ]
    },
    {
      "cell_type": "code",
      "metadata": {
        "id": "R88mjniaIgu_",
        "outputId": "f672f9b5-aaa3-468f-e57b-5087110526cb",
        "colab": {
          "base_uri": "https://localhost:8080/",
          "height": 34
        }
      },
      "source": [
        "# Nombres de las entradas de un vector\n",
        "V3 <- c(n1 = 1, n2 = 10, n3 = 89 )\n",
        "V3"
      ],
      "execution_count": 5,
      "outputs": [
        {
          "output_type": "display_data",
          "data": {
            "text/html": [
              "<style>\n",
              ".dl-inline {width: auto; margin:0; padding: 0}\n",
              ".dl-inline>dt, .dl-inline>dd {float: none; width: auto; display: inline-block}\n",
              ".dl-inline>dt::after {content: \":\\0020\"; padding-right: .5ex}\n",
              ".dl-inline>dt:not(:first-of-type) {padding-left: .5ex}\n",
              "</style><dl class=dl-inline><dt>n1</dt><dd>1</dd><dt>n2</dt><dd>10</dd><dt>n3</dt><dd>89</dd></dl>\n"
            ],
            "text/markdown": "n1\n:   1n2\n:   10n3\n:   89\n\n",
            "text/latex": "\\begin{description*}\n\\item[n1] 1\n\\item[n2] 10\n\\item[n3] 89\n\\end{description*}\n",
            "text/plain": [
              "n1 n2 n3 \n",
              " 1 10 89 "
            ]
          },
          "metadata": {}
        }
      ]
    },
    {
      "cell_type": "code",
      "metadata": {
        "id": "E6dxkyP5IgvF",
        "outputId": "44eb2579-0b65-40bb-c1f9-5d99e53c23b3",
        "colab": {
          "base_uri": "https://localhost:8080/",
          "height": 34
        }
      },
      "source": [
        "# nombres de las entradas con la función, names() # Retorna un vector con nombres\n",
        "names(V3)"
      ],
      "execution_count": 6,
      "outputs": [
        {
          "output_type": "display_data",
          "data": {
            "text/html": [
              "<style>\n",
              ".list-inline {list-style: none; margin:0; padding: 0}\n",
              ".list-inline>li {display: inline-block}\n",
              ".list-inline>li:not(:last-child)::after {content: \"\\00b7\"; padding: 0 .5ex}\n",
              "</style>\n",
              "<ol class=list-inline><li>'n1'</li><li>'n2'</li><li>'n3'</li></ol>\n"
            ],
            "text/markdown": "1. 'n1'\n2. 'n2'\n3. 'n3'\n\n\n",
            "text/latex": "\\begin{enumerate*}\n\\item 'n1'\n\\item 'n2'\n\\item 'n3'\n\\end{enumerate*}\n",
            "text/plain": [
              "[1] \"n1\" \"n2\" \"n3\""
            ]
          },
          "metadata": {}
        }
      ]
    },
    {
      "cell_type": "code",
      "source": [
        "names(v1)"
      ],
      "metadata": {
        "id": "rsE0k2xRK0oa",
        "outputId": "e6b114b4-0cea-4b44-b7f4-976e5cb8a51e",
        "colab": {
          "base_uri": "https://localhost:8080/",
          "height": 34
        }
      },
      "execution_count": 7,
      "outputs": [
        {
          "output_type": "display_data",
          "data": {
            "text/plain": [
              "NULL"
            ]
          },
          "metadata": {}
        }
      ]
    },
    {
      "cell_type": "code",
      "metadata": {
        "id": "OAhPpN3vIgvB"
      },
      "source": [
        "# podemos asignar los nombres a vector 1\n"
      ],
      "execution_count": 8,
      "outputs": []
    },
    {
      "cell_type": "code",
      "source": [
        "names(v1) <- c(\"p1\",\"p2\",\"p3\",\"p4\",\"p5\",\"p6\")"
      ],
      "metadata": {
        "id": "SYGx85vOK5d-"
      },
      "execution_count": 9,
      "outputs": []
    },
    {
      "cell_type": "code",
      "source": [
        "v1\n",
        "names(v1)"
      ],
      "metadata": {
        "id": "SwVJHml5KqPp",
        "outputId": "a5caedd7-2351-41b6-e7cb-01b7d14280ce",
        "colab": {
          "base_uri": "https://localhost:8080/",
          "height": 52
        }
      },
      "execution_count": 10,
      "outputs": [
        {
          "output_type": "display_data",
          "data": {
            "text/html": [
              "<style>\n",
              ".dl-inline {width: auto; margin:0; padding: 0}\n",
              ".dl-inline>dt, .dl-inline>dd {float: none; width: auto; display: inline-block}\n",
              ".dl-inline>dt::after {content: \":\\0020\"; padding-right: .5ex}\n",
              ".dl-inline>dt:not(:first-of-type) {padding-left: .5ex}\n",
              "</style><dl class=dl-inline><dt>p1</dt><dd>1</dd><dt>p2</dt><dd>1</dd><dt>p3</dt><dd>2</dd><dt>p4</dt><dd>3</dd><dt>p5</dt><dd>5</dd><dt>p6</dt><dd>8</dd></dl>\n"
            ],
            "text/markdown": "p1\n:   1p2\n:   1p3\n:   2p4\n:   3p5\n:   5p6\n:   8\n\n",
            "text/latex": "\\begin{description*}\n\\item[p1] 1\n\\item[p2] 1\n\\item[p3] 2\n\\item[p4] 3\n\\item[p5] 5\n\\item[p6] 8\n\\end{description*}\n",
            "text/plain": [
              "p1 p2 p3 p4 p5 p6 \n",
              " 1  1  2  3  5  8 "
            ]
          },
          "metadata": {}
        },
        {
          "output_type": "display_data",
          "data": {
            "text/html": [
              "<style>\n",
              ".list-inline {list-style: none; margin:0; padding: 0}\n",
              ".list-inline>li {display: inline-block}\n",
              ".list-inline>li:not(:last-child)::after {content: \"\\00b7\"; padding: 0 .5ex}\n",
              "</style>\n",
              "<ol class=list-inline><li>'p1'</li><li>'p2'</li><li>'p3'</li><li>'p4'</li><li>'p5'</li><li>'p6'</li></ol>\n"
            ],
            "text/markdown": "1. 'p1'\n2. 'p2'\n3. 'p3'\n4. 'p4'\n5. 'p5'\n6. 'p6'\n\n\n",
            "text/latex": "\\begin{enumerate*}\n\\item 'p1'\n\\item 'p2'\n\\item 'p3'\n\\item 'p4'\n\\item 'p5'\n\\item 'p6'\n\\end{enumerate*}\n",
            "text/plain": [
              "[1] \"p1\" \"p2\" \"p3\" \"p4\" \"p5\" \"p6\""
            ]
          },
          "metadata": {}
        }
      ]
    },
    {
      "cell_type": "code",
      "metadata": {
        "id": "7Ayre5BlIgvH"
      },
      "source": [
        "#combinar vectores\n",
        "w1 <- c(2,5)\n",
        "w2 <- c(1,50)\n"
      ],
      "execution_count": 11,
      "outputs": []
    },
    {
      "cell_type": "code",
      "source": [
        "c(w1,w2)"
      ],
      "metadata": {
        "id": "F5zZzk1RLT5W",
        "outputId": "c8f4b61a-96b7-4ce3-e112-8f88db0ab492",
        "colab": {
          "base_uri": "https://localhost:8080/",
          "height": 34
        }
      },
      "execution_count": 12,
      "outputs": [
        {
          "output_type": "display_data",
          "data": {
            "text/html": [
              "<style>\n",
              ".list-inline {list-style: none; margin:0; padding: 0}\n",
              ".list-inline>li {display: inline-block}\n",
              ".list-inline>li:not(:last-child)::after {content: \"\\00b7\"; padding: 0 .5ex}\n",
              "</style>\n",
              "<ol class=list-inline><li>2</li><li>5</li><li>1</li><li>50</li></ol>\n"
            ],
            "text/markdown": "1. 2\n2. 5\n3. 1\n4. 50\n\n\n",
            "text/latex": "\\begin{enumerate*}\n\\item 2\n\\item 5\n\\item 1\n\\item 50\n\\end{enumerate*}\n",
            "text/plain": [
              "[1]  2  5  1 50"
            ]
          },
          "metadata": {}
        }
      ]
    },
    {
      "cell_type": "code",
      "metadata": {
        "id": "QETBghXxIgvI"
      },
      "source": [
        "# c : es una abreviación de \"combine\"\n"
      ],
      "execution_count": 13,
      "outputs": []
    },
    {
      "cell_type": "markdown",
      "metadata": {
        "id": "MX35j24_IgvN"
      },
      "source": [
        "#### 3.1.1 Acceso a los elementos de un vector\n",
        "\n",
        "El acceso a los elementos de un vector se puede llevar acabo indicando la posición del elemento (los naturales parten en 1!), el nombre de la casilla que lo contiene, o bien mediante sentencias lógicas que retornen \"TRUE\" en la posición deseada.\n",
        "\n"
      ]
    },
    {
      "cell_type": "code",
      "metadata": {
        "id": "zW2_TzKxIgvN",
        "outputId": "94df8387-98d2-41e1-a990-9181a5ea5985",
        "colab": {
          "base_uri": "https://localhost:8080/",
          "height": 34
        }
      },
      "source": [
        "# Mediante posición\n",
        "V3[2]"
      ],
      "execution_count": 14,
      "outputs": [
        {
          "output_type": "display_data",
          "data": {
            "text/html": [
              "<strong>n2:</strong> 10"
            ],
            "text/markdown": "**n2:** 10",
            "text/latex": "\\textbf{n2:} 10",
            "text/plain": [
              "n2 \n",
              "10 "
            ]
          },
          "metadata": {}
        }
      ]
    },
    {
      "cell_type": "code",
      "metadata": {
        "id": "XWL1ZIyMIgvR",
        "outputId": "24337e64-1f46-4a46-f50b-6b5d09e1732b",
        "colab": {
          "base_uri": "https://localhost:8080/",
          "height": 34
        }
      },
      "source": [
        "# retorna los elementos de las casillas 1  y 4 de v1\n",
        "v1[c(1,4)]\n"
      ],
      "execution_count": 15,
      "outputs": [
        {
          "output_type": "display_data",
          "data": {
            "text/html": [
              "<style>\n",
              ".dl-inline {width: auto; margin:0; padding: 0}\n",
              ".dl-inline>dt, .dl-inline>dd {float: none; width: auto; display: inline-block}\n",
              ".dl-inline>dt::after {content: \":\\0020\"; padding-right: .5ex}\n",
              ".dl-inline>dt:not(:first-of-type) {padding-left: .5ex}\n",
              "</style><dl class=dl-inline><dt>p1</dt><dd>1</dd><dt>p4</dt><dd>3</dd></dl>\n"
            ],
            "text/markdown": "p1\n:   1p4\n:   3\n\n",
            "text/latex": "\\begin{description*}\n\\item[p1] 1\n\\item[p4] 3\n\\end{description*}\n",
            "text/plain": [
              "p1 p4 \n",
              " 1  3 "
            ]
          },
          "metadata": {}
        }
      ]
    },
    {
      "cell_type": "code",
      "source": [
        "v1[1,4]# No aplica para el caso ed arreglos unidimensionales como los vectores."
      ],
      "metadata": {
        "id": "iEo0IfXpMNcV",
        "outputId": "c2d9c580-2fcb-4e6f-f7da-c5f2c3d299f3",
        "colab": {
          "base_uri": "https://localhost:8080/",
          "height": 96
        }
      },
      "execution_count": 16,
      "outputs": [
        {
          "output_type": "error",
          "ename": "ERROR",
          "evalue": "ignored",
          "traceback": [
            "Error in v1[1, 4]: incorrect number of dimensions\nTraceback:\n"
          ]
        }
      ]
    },
    {
      "cell_type": "code",
      "metadata": {
        "id": "uBqEKq1aIgvT",
        "outputId": "441ba95b-fb63-4330-8cdb-e53ef4f8121e",
        "colab": {
          "base_uri": "https://localhost:8080/",
          "height": 52
        }
      },
      "source": [
        "#NOTA 3:5, R lo interpreta como c(3,4,5)\n",
        "3:5\n",
        "c(3,4,5)"
      ],
      "execution_count": 17,
      "outputs": [
        {
          "output_type": "display_data",
          "data": {
            "text/html": [
              "<style>\n",
              ".list-inline {list-style: none; margin:0; padding: 0}\n",
              ".list-inline>li {display: inline-block}\n",
              ".list-inline>li:not(:last-child)::after {content: \"\\00b7\"; padding: 0 .5ex}\n",
              "</style>\n",
              "<ol class=list-inline><li>3</li><li>4</li><li>5</li></ol>\n"
            ],
            "text/markdown": "1. 3\n2. 4\n3. 5\n\n\n",
            "text/latex": "\\begin{enumerate*}\n\\item 3\n\\item 4\n\\item 5\n\\end{enumerate*}\n",
            "text/plain": [
              "[1] 3 4 5"
            ]
          },
          "metadata": {}
        },
        {
          "output_type": "display_data",
          "data": {
            "text/html": [
              "<style>\n",
              ".list-inline {list-style: none; margin:0; padding: 0}\n",
              ".list-inline>li {display: inline-block}\n",
              ".list-inline>li:not(:last-child)::after {content: \"\\00b7\"; padding: 0 .5ex}\n",
              "</style>\n",
              "<ol class=list-inline><li>3</li><li>4</li><li>5</li></ol>\n"
            ],
            "text/markdown": "1. 3\n2. 4\n3. 5\n\n\n",
            "text/latex": "\\begin{enumerate*}\n\\item 3\n\\item 4\n\\item 5\n\\end{enumerate*}\n",
            "text/plain": [
              "[1] 3 4 5"
            ]
          },
          "metadata": {}
        }
      ]
    },
    {
      "cell_type": "code",
      "source": [
        "v1[3:6] # Los elemntos desde la posiciòn 3 hasta la 6."
      ],
      "metadata": {
        "id": "F9vnPgF4MCIA",
        "outputId": "54a69037-d54e-486b-ab2e-19944b91c70e",
        "colab": {
          "base_uri": "https://localhost:8080/",
          "height": 34
        }
      },
      "execution_count": 18,
      "outputs": [
        {
          "output_type": "display_data",
          "data": {
            "text/html": [
              "<style>\n",
              ".dl-inline {width: auto; margin:0; padding: 0}\n",
              ".dl-inline>dt, .dl-inline>dd {float: none; width: auto; display: inline-block}\n",
              ".dl-inline>dt::after {content: \":\\0020\"; padding-right: .5ex}\n",
              ".dl-inline>dt:not(:first-of-type) {padding-left: .5ex}\n",
              "</style><dl class=dl-inline><dt>p3</dt><dd>2</dd><dt>p4</dt><dd>3</dd><dt>p5</dt><dd>5</dd><dt>p6</dt><dd>8</dd></dl>\n"
            ],
            "text/markdown": "p3\n:   2p4\n:   3p5\n:   5p6\n:   8\n\n",
            "text/latex": "\\begin{description*}\n\\item[p3] 2\n\\item[p4] 3\n\\item[p5] 5\n\\item[p6] 8\n\\end{description*}\n",
            "text/plain": [
              "p3 p4 p5 p6 \n",
              " 2  3  5  8 "
            ]
          },
          "metadata": {}
        }
      ]
    },
    {
      "cell_type": "code",
      "metadata": {
        "id": "XIuQSfvKIgvV",
        "outputId": "f92d0ede-883e-413e-a393-a6c09a95357f",
        "colab": {
          "base_uri": "https://localhost:8080/",
          "height": 34
        }
      },
      "source": [
        "# podemos acceder a los elmentos mediante el nombre\n",
        "v1[\"p3\"]"
      ],
      "execution_count": 19,
      "outputs": [
        {
          "output_type": "display_data",
          "data": {
            "text/html": [
              "<strong>p3:</strong> 2"
            ],
            "text/markdown": "**p3:** 2",
            "text/latex": "\\textbf{p3:} 2",
            "text/plain": [
              "p3 \n",
              " 2 "
            ]
          },
          "metadata": {}
        }
      ]
    },
    {
      "cell_type": "code",
      "source": [
        "v1[c(\"p1\",\"p4\")]"
      ],
      "metadata": {
        "id": "dKNBYIB-Mo4_",
        "outputId": "98c6b4e4-fec0-4f94-8207-54fbbb06e5cc",
        "colab": {
          "base_uri": "https://localhost:8080/",
          "height": 34
        }
      },
      "execution_count": 20,
      "outputs": [
        {
          "output_type": "display_data",
          "data": {
            "text/html": [
              "<style>\n",
              ".dl-inline {width: auto; margin:0; padding: 0}\n",
              ".dl-inline>dt, .dl-inline>dd {float: none; width: auto; display: inline-block}\n",
              ".dl-inline>dt::after {content: \":\\0020\"; padding-right: .5ex}\n",
              ".dl-inline>dt:not(:first-of-type) {padding-left: .5ex}\n",
              "</style><dl class=dl-inline><dt>p1</dt><dd>1</dd><dt>p4</dt><dd>3</dd></dl>\n"
            ],
            "text/markdown": "p1\n:   1p4\n:   3\n\n",
            "text/latex": "\\begin{description*}\n\\item[p1] 1\n\\item[p4] 3\n\\end{description*}\n",
            "text/plain": [
              "p1 p4 \n",
              " 1  3 "
            ]
          },
          "metadata": {}
        }
      ]
    },
    {
      "cell_type": "code",
      "metadata": {
        "id": "IHjnaSSyIgvX"
      },
      "source": [
        "# cambiar una entrada de un vector o cambiar un nombre\n",
        "# Queremos modificar la pos 4 de v1, y cambiarla por un 99\n",
        "\n",
        "v1[4] <- 99"
      ],
      "execution_count": 21,
      "outputs": []
    },
    {
      "cell_type": "code",
      "source": [
        "v1"
      ],
      "metadata": {
        "id": "11yx2TFDNAxo",
        "outputId": "bbadd105-30b9-45ee-d3ac-7685b87e4c2a",
        "colab": {
          "base_uri": "https://localhost:8080/",
          "height": 34
        }
      },
      "execution_count": 22,
      "outputs": [
        {
          "output_type": "display_data",
          "data": {
            "text/html": [
              "<style>\n",
              ".dl-inline {width: auto; margin:0; padding: 0}\n",
              ".dl-inline>dt, .dl-inline>dd {float: none; width: auto; display: inline-block}\n",
              ".dl-inline>dt::after {content: \":\\0020\"; padding-right: .5ex}\n",
              ".dl-inline>dt:not(:first-of-type) {padding-left: .5ex}\n",
              "</style><dl class=dl-inline><dt>p1</dt><dd>1</dd><dt>p2</dt><dd>1</dd><dt>p3</dt><dd>2</dd><dt>p4</dt><dd>99</dd><dt>p5</dt><dd>5</dd><dt>p6</dt><dd>8</dd></dl>\n"
            ],
            "text/markdown": "p1\n:   1p2\n:   1p3\n:   2p4\n:   99p5\n:   5p6\n:   8\n\n",
            "text/latex": "\\begin{description*}\n\\item[p1] 1\n\\item[p2] 1\n\\item[p3] 2\n\\item[p4] 99\n\\item[p5] 5\n\\item[p6] 8\n\\end{description*}\n",
            "text/plain": [
              "p1 p2 p3 p4 p5 p6 \n",
              " 1  1  2 99  5  8 "
            ]
          },
          "metadata": {}
        }
      ]
    },
    {
      "cell_type": "code",
      "metadata": {
        "id": "KCKDbYtRIgvZ"
      },
      "source": [],
      "execution_count": 23,
      "outputs": []
    },
    {
      "cell_type": "code",
      "metadata": {
        "id": "cVzhj4ASIgvb"
      },
      "source": [
        "# podemos cambiar uno de los nombres (ej, queremos cambiar el sexto nombre de v1)\n",
        "\n",
        "names(v1)[6] <- \"nuevo_nombre\""
      ],
      "execution_count": 24,
      "outputs": []
    },
    {
      "cell_type": "code",
      "source": [
        "v1"
      ],
      "metadata": {
        "id": "OIxd7YdpNleh",
        "outputId": "585a6791-544f-439f-fa84-469d0562d53e",
        "colab": {
          "base_uri": "https://localhost:8080/",
          "height": 34
        }
      },
      "execution_count": 25,
      "outputs": [
        {
          "output_type": "display_data",
          "data": {
            "text/html": [
              "<style>\n",
              ".dl-inline {width: auto; margin:0; padding: 0}\n",
              ".dl-inline>dt, .dl-inline>dd {float: none; width: auto; display: inline-block}\n",
              ".dl-inline>dt::after {content: \":\\0020\"; padding-right: .5ex}\n",
              ".dl-inline>dt:not(:first-of-type) {padding-left: .5ex}\n",
              "</style><dl class=dl-inline><dt>p1</dt><dd>1</dd><dt>p2</dt><dd>1</dd><dt>p3</dt><dd>2</dd><dt>p4</dt><dd>99</dd><dt>p5</dt><dd>5</dd><dt>nuevo_nombre</dt><dd>8</dd></dl>\n"
            ],
            "text/markdown": "p1\n:   1p2\n:   1p3\n:   2p4\n:   99p5\n:   5nuevo_nombre\n:   8\n\n",
            "text/latex": "\\begin{description*}\n\\item[p1] 1\n\\item[p2] 1\n\\item[p3] 2\n\\item[p4] 99\n\\item[p5] 5\n\\item[nuevo\\textbackslash{}\\_nombre] 8\n\\end{description*}\n",
            "text/plain": [
              "          p1           p2           p3           p4           p5 nuevo_nombre \n",
              "           1            1            2           99            5            8 "
            ]
          },
          "metadata": {}
        }
      ]
    },
    {
      "cell_type": "code",
      "source": [
        "letras <- LETTERS"
      ],
      "metadata": {
        "id": "XwMbeyomNzQc"
      },
      "execution_count": 26,
      "outputs": []
    },
    {
      "cell_type": "code",
      "source": [
        "letras"
      ],
      "metadata": {
        "id": "RIqagthkN3LN",
        "outputId": "ce640ebf-c6d6-4d04-80d3-6878abb83834",
        "colab": {
          "base_uri": "https://localhost:8080/",
          "height": 34
        }
      },
      "execution_count": 27,
      "outputs": [
        {
          "output_type": "display_data",
          "data": {
            "text/html": [
              "<style>\n",
              ".list-inline {list-style: none; margin:0; padding: 0}\n",
              ".list-inline>li {display: inline-block}\n",
              ".list-inline>li:not(:last-child)::after {content: \"\\00b7\"; padding: 0 .5ex}\n",
              "</style>\n",
              "<ol class=list-inline><li>'A'</li><li>'B'</li><li>'C'</li><li>'D'</li><li>'E'</li><li>'F'</li><li>'G'</li><li>'H'</li><li>'I'</li><li>'J'</li><li>'K'</li><li>'L'</li><li>'M'</li><li>'N'</li><li>'O'</li><li>'P'</li><li>'Q'</li><li>'R'</li><li>'S'</li><li>'T'</li><li>'U'</li><li>'V'</li><li>'W'</li><li>'X'</li><li>'Y'</li><li>'Z'</li></ol>\n"
            ],
            "text/markdown": "1. 'A'\n2. 'B'\n3. 'C'\n4. 'D'\n5. 'E'\n6. 'F'\n7. 'G'\n8. 'H'\n9. 'I'\n10. 'J'\n11. 'K'\n12. 'L'\n13. 'M'\n14. 'N'\n15. 'O'\n16. 'P'\n17. 'Q'\n18. 'R'\n19. 'S'\n20. 'T'\n21. 'U'\n22. 'V'\n23. 'W'\n24. 'X'\n25. 'Y'\n26. 'Z'\n\n\n",
            "text/latex": "\\begin{enumerate*}\n\\item 'A'\n\\item 'B'\n\\item 'C'\n\\item 'D'\n\\item 'E'\n\\item 'F'\n\\item 'G'\n\\item 'H'\n\\item 'I'\n\\item 'J'\n\\item 'K'\n\\item 'L'\n\\item 'M'\n\\item 'N'\n\\item 'O'\n\\item 'P'\n\\item 'Q'\n\\item 'R'\n\\item 'S'\n\\item 'T'\n\\item 'U'\n\\item 'V'\n\\item 'W'\n\\item 'X'\n\\item 'Y'\n\\item 'Z'\n\\end{enumerate*}\n",
            "text/plain": [
              " [1] \"A\" \"B\" \"C\" \"D\" \"E\" \"F\" \"G\" \"H\" \"I\" \"J\" \"K\" \"L\" \"M\" \"N\" \"O\" \"P\" \"Q\" \"R\" \"S\"\n",
              "[20] \"T\" \"U\" \"V\" \"W\" \"X\" \"Y\" \"Z\""
            ]
          },
          "metadata": {}
        }
      ]
    },
    {
      "cell_type": "code",
      "metadata": {
        "id": "b6oqx_D4Igvd"
      },
      "source": [
        "# podemos modificar varias posiciones a la vez\n",
        "# queremos re-asignar los valores \"XX\" y \"ZZ\" en las posiciones 3 y 7 respecivamente\n",
        "letras[c(3,7)] <- c(\"XX\",\"ZZ\")"
      ],
      "execution_count": 28,
      "outputs": []
    },
    {
      "cell_type": "code",
      "source": [
        "letras"
      ],
      "metadata": {
        "id": "UcuHWYVdOeJr",
        "outputId": "3b2f1875-7c7c-4acc-8711-9eb9d9a81934",
        "colab": {
          "base_uri": "https://localhost:8080/",
          "height": 34
        }
      },
      "execution_count": 29,
      "outputs": [
        {
          "output_type": "display_data",
          "data": {
            "text/html": [
              "<style>\n",
              ".list-inline {list-style: none; margin:0; padding: 0}\n",
              ".list-inline>li {display: inline-block}\n",
              ".list-inline>li:not(:last-child)::after {content: \"\\00b7\"; padding: 0 .5ex}\n",
              "</style>\n",
              "<ol class=list-inline><li>'A'</li><li>'B'</li><li>'XX'</li><li>'D'</li><li>'E'</li><li>'F'</li><li>'ZZ'</li><li>'H'</li><li>'I'</li><li>'J'</li><li>'K'</li><li>'L'</li><li>'M'</li><li>'N'</li><li>'O'</li><li>'P'</li><li>'Q'</li><li>'R'</li><li>'S'</li><li>'T'</li><li>'U'</li><li>'V'</li><li>'W'</li><li>'X'</li><li>'Y'</li><li>'Z'</li></ol>\n"
            ],
            "text/markdown": "1. 'A'\n2. 'B'\n3. 'XX'\n4. 'D'\n5. 'E'\n6. 'F'\n7. 'ZZ'\n8. 'H'\n9. 'I'\n10. 'J'\n11. 'K'\n12. 'L'\n13. 'M'\n14. 'N'\n15. 'O'\n16. 'P'\n17. 'Q'\n18. 'R'\n19. 'S'\n20. 'T'\n21. 'U'\n22. 'V'\n23. 'W'\n24. 'X'\n25. 'Y'\n26. 'Z'\n\n\n",
            "text/latex": "\\begin{enumerate*}\n\\item 'A'\n\\item 'B'\n\\item 'XX'\n\\item 'D'\n\\item 'E'\n\\item 'F'\n\\item 'ZZ'\n\\item 'H'\n\\item 'I'\n\\item 'J'\n\\item 'K'\n\\item 'L'\n\\item 'M'\n\\item 'N'\n\\item 'O'\n\\item 'P'\n\\item 'Q'\n\\item 'R'\n\\item 'S'\n\\item 'T'\n\\item 'U'\n\\item 'V'\n\\item 'W'\n\\item 'X'\n\\item 'Y'\n\\item 'Z'\n\\end{enumerate*}\n",
            "text/plain": [
              " [1] \"A\"  \"B\"  \"XX\" \"D\"  \"E\"  \"F\"  \"ZZ\" \"H\"  \"I\"  \"J\"  \"K\"  \"L\"  \"M\"  \"N\"  \"O\" \n",
              "[16] \"P\"  \"Q\"  \"R\"  \"S\"  \"T\"  \"U\"  \"V\"  \"W\"  \"X\"  \"Y\"  \"Z\" "
            ]
          },
          "metadata": {}
        }
      ]
    },
    {
      "cell_type": "markdown",
      "source": [
        "# NOTA:\n",
        "El largo de un vetor lo podemos obtener con la función `length()`"
      ],
      "metadata": {
        "id": "oeo3VeK6Ojr2"
      }
    },
    {
      "cell_type": "code",
      "source": [
        "length(letras)\n",
        "length(v1)"
      ],
      "metadata": {
        "id": "CvQhK_MfOcSp",
        "outputId": "6a68d5e7-0b47-4d13-bc29-a0071460fb28",
        "colab": {
          "base_uri": "https://localhost:8080/",
          "height": 52
        }
      },
      "execution_count": 30,
      "outputs": [
        {
          "output_type": "display_data",
          "data": {
            "text/html": [
              "26"
            ],
            "text/markdown": "26",
            "text/latex": "26",
            "text/plain": [
              "[1] 26"
            ]
          },
          "metadata": {}
        },
        {
          "output_type": "display_data",
          "data": {
            "text/html": [
              "6"
            ],
            "text/markdown": "6",
            "text/latex": "6",
            "text/plain": [
              "[1] 6"
            ]
          },
          "metadata": {}
        }
      ]
    },
    {
      "cell_type": "markdown",
      "metadata": {
        "id": "XzyIBLZxIgvg"
      },
      "source": [
        "**Algunas sentencias de utilidad**\n",
        "\n",
        "También es posible acceder a los alementos de un vector mediante sentencias lógicas que retornen \"TRUE\" en la posición deseada. Para ello algunas funciones que son de utilidad son las siguientes.\n",
        "\n",
        "   **Conectores lógicos**\n",
        "\n",
        "    &, && |                  : conector y \n",
        "    |,||                     : conector o\n",
        "    ==                       : igual\n",
        "    !                        : negación\n",
        "    !=                       : distinto\n",
        "    >, >=                    : mayor que, mayor o igual que\n",
        "    <,<=                     : menor que, menor o igual que\n",
        "    is.na()                  : es NA?\n",
        "    which()                  : en qué posición es verdadera la expresión evaluada?\n",
        "    which.min(), which.max() : en qué posición se alcanza el mínimi/máximo\n",
        "    %in%                     : los elementos están en?\n",
        "    \n",
        "    "
      ]
    },
    {
      "cell_type": "code",
      "metadata": {
        "id": "5C4hDsvSIgvj"
      },
      "source": [
        "# Esto facilita la búsqueda dentro de un un vector. Ej: retornar los elementos mayores aun valor dado\n",
        "\n",
        "edad <- c(11,18,34,56,80,18)\n",
        "\n"
      ],
      "execution_count": 31,
      "outputs": []
    },
    {
      "cell_type": "code",
      "source": [
        "edad == 18"
      ],
      "metadata": {
        "id": "_mGH8SPfPlhU",
        "outputId": "fdd78434-36d4-4794-dca8-7d497db485cd",
        "colab": {
          "base_uri": "https://localhost:8080/",
          "height": 34
        }
      },
      "execution_count": 32,
      "outputs": [
        {
          "output_type": "display_data",
          "data": {
            "text/html": [
              "<style>\n",
              ".list-inline {list-style: none; margin:0; padding: 0}\n",
              ".list-inline>li {display: inline-block}\n",
              ".list-inline>li:not(:last-child)::after {content: \"\\00b7\"; padding: 0 .5ex}\n",
              "</style>\n",
              "<ol class=list-inline><li>FALSE</li><li>TRUE</li><li>FALSE</li><li>FALSE</li><li>FALSE</li><li>TRUE</li></ol>\n"
            ],
            "text/markdown": "1. FALSE\n2. TRUE\n3. FALSE\n4. FALSE\n5. FALSE\n6. TRUE\n\n\n",
            "text/latex": "\\begin{enumerate*}\n\\item FALSE\n\\item TRUE\n\\item FALSE\n\\item FALSE\n\\item FALSE\n\\item TRUE\n\\end{enumerate*}\n",
            "text/plain": [
              "[1] FALSE  TRUE FALSE FALSE FALSE  TRUE"
            ]
          },
          "metadata": {}
        }
      ]
    },
    {
      "cell_type": "code",
      "source": [
        "edad <= 18"
      ],
      "metadata": {
        "id": "hRrahp6VPz33",
        "outputId": "b4bf5d22-d211-4d4d-c06a-a9c3ca8adb92",
        "colab": {
          "base_uri": "https://localhost:8080/",
          "height": 34
        }
      },
      "execution_count": 33,
      "outputs": [
        {
          "output_type": "display_data",
          "data": {
            "text/html": [
              "<style>\n",
              ".list-inline {list-style: none; margin:0; padding: 0}\n",
              ".list-inline>li {display: inline-block}\n",
              ".list-inline>li:not(:last-child)::after {content: \"\\00b7\"; padding: 0 .5ex}\n",
              "</style>\n",
              "<ol class=list-inline><li>TRUE</li><li>TRUE</li><li>FALSE</li><li>FALSE</li><li>FALSE</li><li>TRUE</li></ol>\n"
            ],
            "text/markdown": "1. TRUE\n2. TRUE\n3. FALSE\n4. FALSE\n5. FALSE\n6. TRUE\n\n\n",
            "text/latex": "\\begin{enumerate*}\n\\item TRUE\n\\item TRUE\n\\item FALSE\n\\item FALSE\n\\item FALSE\n\\item TRUE\n\\end{enumerate*}\n",
            "text/plain": [
              "[1]  TRUE  TRUE FALSE FALSE FALSE  TRUE"
            ]
          },
          "metadata": {}
        }
      ]
    },
    {
      "cell_type": "code",
      "metadata": {
        "id": "NhZPJo56Igvh",
        "outputId": "ecb963d3-db70-4cd4-f38b-af1a6ec661a7",
        "colab": {
          "base_uri": "https://localhost:8080/",
          "height": 34
        }
      },
      "source": [
        "# para acceder a elementos de un vector tenemos:\n",
        "# 1. por posicion\n",
        "# 2. por nombre\n",
        "# 3. por indicatrices lógicas (un vector con TRUE (T) o FALSE (F) del mismo largo del que quiero consultar)\n",
        "\n",
        "nv <- c(10,40,60)\n",
        "#Busco rescatar los elementos 10 y 60\n",
        "nv[c(T,F,T)]\n",
        "\n",
        "\n"
      ],
      "execution_count": 34,
      "outputs": [
        {
          "output_type": "display_data",
          "data": {
            "text/html": [
              "<style>\n",
              ".list-inline {list-style: none; margin:0; padding: 0}\n",
              ".list-inline>li {display: inline-block}\n",
              ".list-inline>li:not(:last-child)::after {content: \"\\00b7\"; padding: 0 .5ex}\n",
              "</style>\n",
              "<ol class=list-inline><li>10</li><li>60</li></ol>\n"
            ],
            "text/markdown": "1. 10\n2. 60\n\n\n",
            "text/latex": "\\begin{enumerate*}\n\\item 10\n\\item 60\n\\end{enumerate*}\n",
            "text/plain": [
              "[1] 10 60"
            ]
          },
          "metadata": {}
        }
      ]
    },
    {
      "cell_type": "code",
      "metadata": {
        "id": "bj-wjeddIgvl",
        "outputId": "f8b5d007-eda8-47ed-de75-758d2b89bbdd",
        "colab": {
          "base_uri": "https://localhost:8080/",
          "height": 34
        }
      },
      "source": [
        "# con esta idea en mente podríamos, por ejemplo, rescatar las edades con valor menor o igual a 18 años (sin saber donde están)\n",
        "edad[edad <= 18]"
      ],
      "execution_count": 35,
      "outputs": [
        {
          "output_type": "display_data",
          "data": {
            "text/html": [
              "<style>\n",
              ".list-inline {list-style: none; margin:0; padding: 0}\n",
              ".list-inline>li {display: inline-block}\n",
              ".list-inline>li:not(:last-child)::after {content: \"\\00b7\"; padding: 0 .5ex}\n",
              "</style>\n",
              "<ol class=list-inline><li>11</li><li>18</li><li>18</li></ol>\n"
            ],
            "text/markdown": "1. 11\n2. 18\n3. 18\n\n\n",
            "text/latex": "\\begin{enumerate*}\n\\item 11\n\\item 18\n\\item 18\n\\end{enumerate*}\n",
            "text/plain": [
              "[1] 11 18 18"
            ]
          },
          "metadata": {}
        }
      ]
    },
    {
      "cell_type": "code",
      "metadata": {
        "id": "fvq5tBXVIgvm",
        "outputId": "aa0a68b3-a60f-42a4-b9c0-5f56530aa2f8",
        "colab": {
          "base_uri": "https://localhost:8080/",
          "height": 34
        }
      },
      "source": [
        "# podríamos guardar el vector de T o F's en una variable para luego referenciarla\n",
        "ind <- edad <= 18\n",
        "\n",
        "edad[ind]"
      ],
      "execution_count": 36,
      "outputs": [
        {
          "output_type": "display_data",
          "data": {
            "text/html": [
              "<style>\n",
              ".list-inline {list-style: none; margin:0; padding: 0}\n",
              ".list-inline>li {display: inline-block}\n",
              ".list-inline>li:not(:last-child)::after {content: \"\\00b7\"; padding: 0 .5ex}\n",
              "</style>\n",
              "<ol class=list-inline><li>11</li><li>18</li><li>18</li></ol>\n"
            ],
            "text/markdown": "1. 11\n2. 18\n3. 18\n\n\n",
            "text/latex": "\\begin{enumerate*}\n\\item 11\n\\item 18\n\\item 18\n\\end{enumerate*}\n",
            "text/plain": [
              "[1] 11 18 18"
            ]
          },
          "metadata": {}
        }
      ]
    },
    {
      "cell_type": "code",
      "source": [
        "#which: Retorna la posición donde se cumple la condición indicada\n",
        "\n",
        "which(edad <= 18)# Retorna las posiciones donde la edad es menor o igual a 18.\n",
        "which(!(edad <= 18)) # Retorna las posiciones donde la edad NO es menor o igual a 18."
      ],
      "metadata": {
        "id": "r6ezDyaPRQNp",
        "outputId": "05ea7075-da88-4e2f-8433-ae5b71853496",
        "colab": {
          "base_uri": "https://localhost:8080/",
          "height": 52
        }
      },
      "execution_count": 37,
      "outputs": [
        {
          "output_type": "display_data",
          "data": {
            "text/html": [
              "<style>\n",
              ".list-inline {list-style: none; margin:0; padding: 0}\n",
              ".list-inline>li {display: inline-block}\n",
              ".list-inline>li:not(:last-child)::after {content: \"\\00b7\"; padding: 0 .5ex}\n",
              "</style>\n",
              "<ol class=list-inline><li>1</li><li>2</li><li>6</li></ol>\n"
            ],
            "text/markdown": "1. 1\n2. 2\n3. 6\n\n\n",
            "text/latex": "\\begin{enumerate*}\n\\item 1\n\\item 2\n\\item 6\n\\end{enumerate*}\n",
            "text/plain": [
              "[1] 1 2 6"
            ]
          },
          "metadata": {}
        },
        {
          "output_type": "display_data",
          "data": {
            "text/html": [
              "<style>\n",
              ".list-inline {list-style: none; margin:0; padding: 0}\n",
              ".list-inline>li {display: inline-block}\n",
              ".list-inline>li:not(:last-child)::after {content: \"\\00b7\"; padding: 0 .5ex}\n",
              "</style>\n",
              "<ol class=list-inline><li>3</li><li>4</li><li>5</li></ol>\n"
            ],
            "text/markdown": "1. 3\n2. 4\n3. 5\n\n\n",
            "text/latex": "\\begin{enumerate*}\n\\item 3\n\\item 4\n\\item 5\n\\end{enumerate*}\n",
            "text/plain": [
              "[1] 3 4 5"
            ]
          },
          "metadata": {}
        }
      ]
    },
    {
      "cell_type": "code",
      "metadata": {
        "id": "ioUJy8UEIgvz",
        "outputId": "0ec7699d-4f71-49a3-e0c5-196a8a7c0225",
        "colab": {
          "base_uri": "https://localhost:8080/",
          "height": 52
        }
      },
      "source": [
        "#?which.max (which.min) # Retorna la posiciòn donde se alcanza el primer máximo (mínimo)\n",
        "\n",
        "edad2 <- c(17,18,30, 40, 17,40)\n",
        "\n",
        "which.max(edad2)\n",
        "which.min(edad2)\n",
        "\n",
        "\n"
      ],
      "execution_count": 38,
      "outputs": [
        {
          "output_type": "display_data",
          "data": {
            "text/html": [
              "4"
            ],
            "text/markdown": "4",
            "text/latex": "4",
            "text/plain": [
              "[1] 4"
            ]
          },
          "metadata": {}
        },
        {
          "output_type": "display_data",
          "data": {
            "text/html": [
              "1"
            ],
            "text/markdown": "1",
            "text/latex": "1",
            "text/plain": [
              "[1] 1"
            ]
          },
          "metadata": {}
        }
      ]
    },
    {
      "cell_type": "code",
      "source": [
        "min(edad2)\n",
        "max(edad2)"
      ],
      "metadata": {
        "id": "sqFY1UPoSx70",
        "outputId": "90a45337-1b75-4e4c-d9f4-fbccf2415e50",
        "colab": {
          "base_uri": "https://localhost:8080/",
          "height": 52
        }
      },
      "execution_count": 39,
      "outputs": [
        {
          "output_type": "display_data",
          "data": {
            "text/html": [
              "17"
            ],
            "text/markdown": "17",
            "text/latex": "17",
            "text/plain": [
              "[1] 17"
            ]
          },
          "metadata": {}
        },
        {
          "output_type": "display_data",
          "data": {
            "text/html": [
              "40"
            ],
            "text/markdown": "40",
            "text/latex": "40",
            "text/plain": [
              "[1] 40"
            ]
          },
          "metadata": {}
        }
      ]
    },
    {
      "cell_type": "code",
      "source": [
        "#Otra alternativa\n",
        "\n",
        "which(edad2 == min(edad2))  \n",
        "which(edad2 == max(edad2))  "
      ],
      "metadata": {
        "id": "4s-oW1GaSvNG",
        "outputId": "e906da4b-7867-4c64-d7a9-d7e61ac9cc5a",
        "colab": {
          "base_uri": "https://localhost:8080/",
          "height": 52
        }
      },
      "execution_count": 40,
      "outputs": [
        {
          "output_type": "display_data",
          "data": {
            "text/html": [
              "<style>\n",
              ".list-inline {list-style: none; margin:0; padding: 0}\n",
              ".list-inline>li {display: inline-block}\n",
              ".list-inline>li:not(:last-child)::after {content: \"\\00b7\"; padding: 0 .5ex}\n",
              "</style>\n",
              "<ol class=list-inline><li>1</li><li>5</li></ol>\n"
            ],
            "text/markdown": "1. 1\n2. 5\n\n\n",
            "text/latex": "\\begin{enumerate*}\n\\item 1\n\\item 5\n\\end{enumerate*}\n",
            "text/plain": [
              "[1] 1 5"
            ]
          },
          "metadata": {}
        },
        {
          "output_type": "display_data",
          "data": {
            "text/html": [
              "<style>\n",
              ".list-inline {list-style: none; margin:0; padding: 0}\n",
              ".list-inline>li {display: inline-block}\n",
              ".list-inline>li:not(:last-child)::after {content: \"\\00b7\"; padding: 0 .5ex}\n",
              "</style>\n",
              "<ol class=list-inline><li>4</li><li>6</li></ol>\n"
            ],
            "text/markdown": "1. 4\n2. 6\n\n\n",
            "text/latex": "\\begin{enumerate*}\n\\item 4\n\\item 6\n\\end{enumerate*}\n",
            "text/plain": [
              "[1] 4 6"
            ]
          },
          "metadata": {}
        }
      ]
    },
    {
      "cell_type": "code",
      "source": [
        "# NOTA\n",
        "edad3 <- c(edad2,NA,50)\n",
        "edad3\n",
        "\n",
        "\n",
        "\n"
      ],
      "metadata": {
        "id": "KJE7amrnTQ2d",
        "outputId": "04ef3a97-187b-450e-c145-1a0598d141ca",
        "colab": {
          "base_uri": "https://localhost:8080/",
          "height": 34
        }
      },
      "execution_count": 41,
      "outputs": [
        {
          "output_type": "display_data",
          "data": {
            "text/html": [
              "<style>\n",
              ".list-inline {list-style: none; margin:0; padding: 0}\n",
              ".list-inline>li {display: inline-block}\n",
              ".list-inline>li:not(:last-child)::after {content: \"\\00b7\"; padding: 0 .5ex}\n",
              "</style>\n",
              "<ol class=list-inline><li>17</li><li>18</li><li>30</li><li>40</li><li>17</li><li>40</li><li>&lt;NA&gt;</li><li>50</li></ol>\n"
            ],
            "text/markdown": "1. 17\n2. 18\n3. 30\n4. 40\n5. 17\n6. 40\n7. &lt;NA&gt;\n8. 50\n\n\n",
            "text/latex": "\\begin{enumerate*}\n\\item 17\n\\item 18\n\\item 30\n\\item 40\n\\item 17\n\\item 40\n\\item <NA>\n\\item 50\n\\end{enumerate*}\n",
            "text/plain": [
              "[1] 17 18 30 40 17 40 NA 50"
            ]
          },
          "metadata": {}
        }
      ]
    },
    {
      "cell_type": "code",
      "source": [
        "# Si queremos ubicar la posiciòn del NA\n",
        "\n",
        "which(is.na(edad3))"
      ],
      "metadata": {
        "id": "mzETx0NkTYuC",
        "outputId": "844f92c9-86dc-4fa4-93ee-a1d7e43e1203",
        "colab": {
          "base_uri": "https://localhost:8080/",
          "height": 34
        }
      },
      "execution_count": 42,
      "outputs": [
        {
          "output_type": "display_data",
          "data": {
            "text/html": [
              "7"
            ],
            "text/markdown": "7",
            "text/latex": "7",
            "text/plain": [
              "[1] 7"
            ]
          },
          "metadata": {}
        }
      ]
    },
    {
      "cell_type": "code",
      "metadata": {
        "id": "_8-SMxfWIgv0",
        "outputId": "bfffa3f0-293c-47f7-ef44-0a3b4e5d2d0f",
        "colab": {
          "base_uri": "https://localhost:8080/",
          "height": 34
        }
      },
      "source": [
        "# Operador %in%\n",
        "# vector_a %in% vector_b (qué elementos del vector a están en el vector b)\n",
        "# retorna un  vector de TRUE's y FALSE's del largo del primer vector(a) (izquierda) \n",
        "\n",
        "c(1,2,3) %in% c(5,1,6,3)\n"
      ],
      "execution_count": 43,
      "outputs": [
        {
          "output_type": "display_data",
          "data": {
            "text/html": [
              "<style>\n",
              ".list-inline {list-style: none; margin:0; padding: 0}\n",
              ".list-inline>li {display: inline-block}\n",
              ".list-inline>li:not(:last-child)::after {content: \"\\00b7\"; padding: 0 .5ex}\n",
              "</style>\n",
              "<ol class=list-inline><li>TRUE</li><li>FALSE</li><li>TRUE</li></ol>\n"
            ],
            "text/markdown": "1. TRUE\n2. FALSE\n3. TRUE\n\n\n",
            "text/latex": "\\begin{enumerate*}\n\\item TRUE\n\\item FALSE\n\\item TRUE\n\\end{enumerate*}\n",
            "text/plain": [
              "[1]  TRUE FALSE  TRUE"
            ]
          },
          "metadata": {}
        }
      ]
    },
    {
      "cell_type": "code",
      "metadata": {
        "id": "s9bYOQ4GIgv2",
        "outputId": "ce179b88-214f-462c-fab1-b4649149a230",
        "colab": {
          "base_uri": "https://localhost:8080/",
          "height": 34
        }
      },
      "source": [
        "# podemos utilizar la función all() para evaluar si todos los elementos de un vector son TRUE.\n",
        "all(c(T,T,T))"
      ],
      "execution_count": 44,
      "outputs": [
        {
          "output_type": "display_data",
          "data": {
            "text/html": [
              "TRUE"
            ],
            "text/markdown": "TRUE",
            "text/latex": "TRUE",
            "text/plain": [
              "[1] TRUE"
            ]
          },
          "metadata": {}
        }
      ]
    },
    {
      "cell_type": "code",
      "source": [
        "all(c(T,F,T))"
      ],
      "metadata": {
        "id": "y9YcSpekwPtD",
        "outputId": "6e34b40d-83b3-4cad-88f6-8103da4d466a",
        "colab": {
          "base_uri": "https://localhost:8080/",
          "height": 34
        }
      },
      "execution_count": 45,
      "outputs": [
        {
          "output_type": "display_data",
          "data": {
            "text/html": [
              "FALSE"
            ],
            "text/markdown": "FALSE",
            "text/latex": "FALSE",
            "text/plain": [
              "[1] FALSE"
            ]
          },
          "metadata": {}
        }
      ]
    },
    {
      "cell_type": "code",
      "metadata": {
        "id": "Wd-mSv3PIgv4"
      },
      "source": [
        "# si quisiéramos evaluar que todos los elementos de la izq. estén en la derecha,\n",
        "# podemos utilizar la función all()."
      ],
      "execution_count": null,
      "outputs": []
    },
    {
      "cell_type": "code",
      "metadata": {
        "id": "Zn85mjGmIgv5",
        "outputId": "5738f340-4dc9-431b-9cab-185f20771921",
        "colab": {
          "base_uri": "https://localhost:8080/",
          "height": 34
        }
      },
      "source": [
        "all(c(1,2,3) %in% c(5,1,6,3))"
      ],
      "execution_count": 46,
      "outputs": [
        {
          "output_type": "display_data",
          "data": {
            "text/html": [
              "FALSE"
            ],
            "text/markdown": "FALSE",
            "text/latex": "FALSE",
            "text/plain": [
              "[1] FALSE"
            ]
          },
          "metadata": {}
        }
      ]
    },
    {
      "cell_type": "code",
      "metadata": {
        "id": "1YGnzt1zIgv7",
        "outputId": "1bbc9220-0808-4eb4-ee6b-e419a3c3373f",
        "colab": {
          "base_uri": "https://localhost:8080/",
          "height": 34
        }
      },
      "source": [
        "# aritmética con vectores\n",
        "# operación de vectore de igual largo\n",
        "c(1,2,3) + c(10,20,30)"
      ],
      "execution_count": 47,
      "outputs": [
        {
          "output_type": "display_data",
          "data": {
            "text/html": [
              "<style>\n",
              ".list-inline {list-style: none; margin:0; padding: 0}\n",
              ".list-inline>li {display: inline-block}\n",
              ".list-inline>li:not(:last-child)::after {content: \"\\00b7\"; padding: 0 .5ex}\n",
              "</style>\n",
              "<ol class=list-inline><li>11</li><li>22</li><li>33</li></ol>\n"
            ],
            "text/markdown": "1. 11\n2. 22\n3. 33\n\n\n",
            "text/latex": "\\begin{enumerate*}\n\\item 11\n\\item 22\n\\item 33\n\\end{enumerate*}\n",
            "text/plain": [
              "[1] 11 22 33"
            ]
          },
          "metadata": {}
        }
      ]
    },
    {
      "cell_type": "code",
      "metadata": {
        "id": "Bw8lX76XIgv8",
        "outputId": "8dac90b5-cc7e-4012-e870-19ce1603de5e",
        "colab": {
          "base_uri": "https://localhost:8080/",
          "height": 34
        }
      },
      "source": [
        "# Operaciones con escalares\n",
        "c(10,20,30) + 4"
      ],
      "execution_count": 51,
      "outputs": [
        {
          "output_type": "display_data",
          "data": {
            "text/html": [
              "<style>\n",
              ".list-inline {list-style: none; margin:0; padding: 0}\n",
              ".list-inline>li {display: inline-block}\n",
              ".list-inline>li:not(:last-child)::after {content: \"\\00b7\"; padding: 0 .5ex}\n",
              "</style>\n",
              "<ol class=list-inline><li>14</li><li>24</li><li>34</li></ol>\n"
            ],
            "text/markdown": "1. 14\n2. 24\n3. 34\n\n\n",
            "text/latex": "\\begin{enumerate*}\n\\item 14\n\\item 24\n\\item 34\n\\end{enumerate*}\n",
            "text/plain": [
              "[1] 14 24 34"
            ]
          },
          "metadata": {}
        }
      ]
    },
    {
      "cell_type": "code",
      "metadata": {
        "id": "syufc9_OIgv_",
        "outputId": "f4068138-9b46-4c21-8899-1d41a8917c82",
        "colab": {
          "base_uri": "https://localhost:8080/",
          "height": 69
        }
      },
      "source": [
        "#CUIDADO: Si se operan vectores de dstinto largo se reciclan los valores del vector más pequeño\n",
        "c(10,20,30) + c(100,200,300,400)"
      ],
      "execution_count": 52,
      "outputs": [
        {
          "output_type": "stream",
          "name": "stderr",
          "text": [
            "Warning message in c(10, 20, 30) + c(100, 200, 300, 400):\n",
            "“longer object length is not a multiple of shorter object length”\n"
          ]
        },
        {
          "output_type": "display_data",
          "data": {
            "text/html": [
              "<style>\n",
              ".list-inline {list-style: none; margin:0; padding: 0}\n",
              ".list-inline>li {display: inline-block}\n",
              ".list-inline>li:not(:last-child)::after {content: \"\\00b7\"; padding: 0 .5ex}\n",
              "</style>\n",
              "<ol class=list-inline><li>110</li><li>220</li><li>330</li><li>410</li></ol>\n"
            ],
            "text/markdown": "1. 110\n2. 220\n3. 330\n4. 410\n\n\n",
            "text/latex": "\\begin{enumerate*}\n\\item 110\n\\item 220\n\\item 330\n\\item 410\n\\end{enumerate*}\n",
            "text/plain": [
              "[1] 110 220 330 410"
            ]
          },
          "metadata": {}
        }
      ]
    },
    {
      "cell_type": "code",
      "metadata": {
        "id": "9kfbx6J4IgwC",
        "outputId": "9359055c-371e-4e25-f6df-3d2fd0039d07",
        "colab": {
          "base_uri": "https://localhost:8080/",
          "height": 34
        }
      },
      "source": [
        "# NOTA:\n",
        "# podemos determinar el largo de un vector mediante la función length()\n",
        "length(c(100,200,300,400))"
      ],
      "execution_count": 54,
      "outputs": [
        {
          "output_type": "display_data",
          "data": {
            "text/html": [
              "4"
            ],
            "text/markdown": "4",
            "text/latex": "4",
            "text/plain": [
              "[1] 4"
            ]
          },
          "metadata": {}
        }
      ]
    },
    {
      "cell_type": "markdown",
      "metadata": {
        "id": "LIr-IFowIgwD"
      },
      "source": [
        "**Secuencias**\n",
        "\n",
        "En R es posible generar de manera rápida y sencilla algunas secuencias numéricas y almacenarlas en un vector.\n",
        "\n",
        "Ejemplo de estas funciones son :\n",
        "\n",
        "    rep()\n",
        "    seq()\n",
        "    \n",
        "Más adelante veremos como generar números aleatorios siguiendo alguna función de distribución de interés.\n",
        "\n"
      ]
    },
    {
      "cell_type": "code",
      "metadata": {
        "id": "wk0fB_gWIgwE",
        "outputId": "29809318-6028-4e19-f477-91bd0d2a532b",
        "colab": {
          "base_uri": "https://localhost:8080/",
          "height": 34
        }
      },
      "source": [
        "# a vimos que fácilmente podemos generar vectores de enteros consecutivos vía \":\"\n",
        "-5:6 # Se consideran los extremos"
      ],
      "execution_count": 55,
      "outputs": [
        {
          "output_type": "display_data",
          "data": {
            "text/html": [
              "<style>\n",
              ".list-inline {list-style: none; margin:0; padding: 0}\n",
              ".list-inline>li {display: inline-block}\n",
              ".list-inline>li:not(:last-child)::after {content: \"\\00b7\"; padding: 0 .5ex}\n",
              "</style>\n",
              "<ol class=list-inline><li>-5</li><li>-4</li><li>-3</li><li>-2</li><li>-1</li><li>0</li><li>1</li><li>2</li><li>3</li><li>4</li><li>5</li><li>6</li></ol>\n"
            ],
            "text/markdown": "1. -5\n2. -4\n3. -3\n4. -2\n5. -1\n6. 0\n7. 1\n8. 2\n9. 3\n10. 4\n11. 5\n12. 6\n\n\n",
            "text/latex": "\\begin{enumerate*}\n\\item -5\n\\item -4\n\\item -3\n\\item -2\n\\item -1\n\\item 0\n\\item 1\n\\item 2\n\\item 3\n\\item 4\n\\item 5\n\\item 6\n\\end{enumerate*}\n",
            "text/plain": [
              " [1] -5 -4 -3 -2 -1  0  1  2  3  4  5  6"
            ]
          },
          "metadata": {}
        }
      ]
    },
    {
      "cell_type": "code",
      "metadata": {
        "id": "gGkgGylnIgwK",
        "outputId": "a6bd7789-92b6-4f0c-d9a5-7efef25070c8",
        "colab": {
          "base_uri": "https://localhost:8080/",
          "height": 34
        }
      },
      "source": [
        "# ejemplo de función seq (utilice argumento by, y otro ejemplo con argumento length.out)\n",
        "seq(from = -5, to = 6, by = 1 )\n",
        "\n"
      ],
      "execution_count": 57,
      "outputs": [
        {
          "output_type": "display_data",
          "data": {
            "text/html": [
              "<style>\n",
              ".list-inline {list-style: none; margin:0; padding: 0}\n",
              ".list-inline>li {display: inline-block}\n",
              ".list-inline>li:not(:last-child)::after {content: \"\\00b7\"; padding: 0 .5ex}\n",
              "</style>\n",
              "<ol class=list-inline><li>-5</li><li>-4</li><li>-3</li><li>-2</li><li>-1</li><li>0</li><li>1</li><li>2</li><li>3</li><li>4</li><li>5</li><li>6</li></ol>\n"
            ],
            "text/markdown": "1. -5\n2. -4\n3. -3\n4. -2\n5. -1\n6. 0\n7. 1\n8. 2\n9. 3\n10. 4\n11. 5\n12. 6\n\n\n",
            "text/latex": "\\begin{enumerate*}\n\\item -5\n\\item -4\n\\item -3\n\\item -2\n\\item -1\n\\item 0\n\\item 1\n\\item 2\n\\item 3\n\\item 4\n\\item 5\n\\item 6\n\\end{enumerate*}\n",
            "text/plain": [
              " [1] -5 -4 -3 -2 -1  0  1  2  3  4  5  6"
            ]
          },
          "metadata": {}
        }
      ]
    },
    {
      "cell_type": "code",
      "metadata": {
        "id": "PpEgoWDXIgwI",
        "outputId": "6141fcc1-99ee-45e8-89ed-7b46bed9d154",
        "colab": {
          "base_uri": "https://localhost:8080/",
          "height": 34
        }
      },
      "source": [
        "# podemos controlar el largo del vector resultante con el parámetro length.out\n",
        "seq(from = -5, to = 6, length.out = 12)"
      ],
      "execution_count": 58,
      "outputs": [
        {
          "output_type": "display_data",
          "data": {
            "text/html": [
              "<style>\n",
              ".list-inline {list-style: none; margin:0; padding: 0}\n",
              ".list-inline>li {display: inline-block}\n",
              ".list-inline>li:not(:last-child)::after {content: \"\\00b7\"; padding: 0 .5ex}\n",
              "</style>\n",
              "<ol class=list-inline><li>-5</li><li>-4</li><li>-3</li><li>-2</li><li>-1</li><li>0</li><li>1</li><li>2</li><li>3</li><li>4</li><li>5</li><li>6</li></ol>\n"
            ],
            "text/markdown": "1. -5\n2. -4\n3. -3\n4. -2\n5. -1\n6. 0\n7. 1\n8. 2\n9. 3\n10. 4\n11. 5\n12. 6\n\n\n",
            "text/latex": "\\begin{enumerate*}\n\\item -5\n\\item -4\n\\item -3\n\\item -2\n\\item -1\n\\item 0\n\\item 1\n\\item 2\n\\item 3\n\\item 4\n\\item 5\n\\item 6\n\\end{enumerate*}\n",
            "text/plain": [
              " [1] -5 -4 -3 -2 -1  0  1  2  3  4  5  6"
            ]
          },
          "metadata": {}
        }
      ]
    },
    {
      "cell_type": "code",
      "source": [
        "seq(from = -5, to = 6, length.out = 100)"
      ],
      "metadata": {
        "id": "Tq6lML5xx7B0",
        "outputId": "8eaf07d2-3d42-4e06-a830-7496b8e916fb",
        "colab": {
          "base_uri": "https://localhost:8080/",
          "height": 277
        }
      },
      "execution_count": 63,
      "outputs": [
        {
          "output_type": "display_data",
          "data": {
            "text/html": [
              "<style>\n",
              ".list-inline {list-style: none; margin:0; padding: 0}\n",
              ".list-inline>li {display: inline-block}\n",
              ".list-inline>li:not(:last-child)::after {content: \"\\00b7\"; padding: 0 .5ex}\n",
              "</style>\n",
              "<ol class=list-inline><li>-5</li><li>-4.88888888888889</li><li>-4.77777777777778</li><li>-4.66666666666667</li><li>-4.55555555555556</li><li>-4.44444444444444</li><li>-4.33333333333333</li><li>-4.22222222222222</li><li>-4.11111111111111</li><li>-4</li><li>-3.88888888888889</li><li>-3.77777777777778</li><li>-3.66666666666667</li><li>-3.55555555555556</li><li>-3.44444444444444</li><li>-3.33333333333333</li><li>-3.22222222222222</li><li>-3.11111111111111</li><li>-3</li><li>-2.88888888888889</li><li>-2.77777777777778</li><li>-2.66666666666667</li><li>-2.55555555555556</li><li>-2.44444444444444</li><li>-2.33333333333333</li><li>-2.22222222222222</li><li>-2.11111111111111</li><li>-2</li><li>-1.88888888888889</li><li>-1.77777777777778</li><li>-1.66666666666667</li><li>-1.55555555555556</li><li>-1.44444444444444</li><li>-1.33333333333333</li><li>-1.22222222222222</li><li>-1.11111111111111</li><li>-1</li><li>-0.888888888888889</li><li>-0.777777777777778</li><li>-0.666666666666667</li><li>-0.555555555555555</li><li>-0.444444444444445</li><li>-0.333333333333334</li><li>-0.222222222222222</li><li>-0.111111111111112</li><li>0</li><li>0.111111111111111</li><li>0.222222222222222</li><li>0.333333333333333</li><li>0.444444444444444</li><li>0.555555555555555</li><li>0.666666666666666</li><li>0.777777777777778</li><li>0.888888888888888</li><li>1</li><li>1.11111111111111</li><li>1.22222222222222</li><li>1.33333333333333</li><li>1.44444444444444</li><li>1.55555555555556</li><li>1.66666666666667</li><li>1.77777777777778</li><li>1.88888888888889</li><li>2</li><li>2.11111111111111</li><li>2.22222222222222</li><li>2.33333333333333</li><li>2.44444444444444</li><li>2.55555555555556</li><li>2.66666666666667</li><li>2.77777777777778</li><li>2.88888888888889</li><li>3</li><li>3.11111111111111</li><li>3.22222222222222</li><li>3.33333333333333</li><li>3.44444444444444</li><li>3.55555555555556</li><li>3.66666666666667</li><li>3.77777777777778</li><li>3.88888888888889</li><li>4</li><li>4.11111111111111</li><li>4.22222222222222</li><li>4.33333333333333</li><li>4.44444444444444</li><li>4.55555555555556</li><li>4.66666666666667</li><li>4.77777777777778</li><li>4.88888888888889</li><li>5</li><li>5.11111111111111</li><li>5.22222222222222</li><li>5.33333333333333</li><li>5.44444444444444</li><li>5.55555555555556</li><li>5.66666666666667</li><li>5.77777777777778</li><li>5.88888888888889</li><li>6</li></ol>\n"
            ],
            "text/markdown": "1. -5\n2. -4.88888888888889\n3. -4.77777777777778\n4. -4.66666666666667\n5. -4.55555555555556\n6. -4.44444444444444\n7. -4.33333333333333\n8. -4.22222222222222\n9. -4.11111111111111\n10. -4\n11. -3.88888888888889\n12. -3.77777777777778\n13. -3.66666666666667\n14. -3.55555555555556\n15. -3.44444444444444\n16. -3.33333333333333\n17. -3.22222222222222\n18. -3.11111111111111\n19. -3\n20. -2.88888888888889\n21. -2.77777777777778\n22. -2.66666666666667\n23. -2.55555555555556\n24. -2.44444444444444\n25. -2.33333333333333\n26. -2.22222222222222\n27. -2.11111111111111\n28. -2\n29. -1.88888888888889\n30. -1.77777777777778\n31. -1.66666666666667\n32. -1.55555555555556\n33. -1.44444444444444\n34. -1.33333333333333\n35. -1.22222222222222\n36. -1.11111111111111\n37. -1\n38. -0.888888888888889\n39. -0.777777777777778\n40. -0.666666666666667\n41. -0.555555555555555\n42. -0.444444444444445\n43. -0.333333333333334\n44. -0.222222222222222\n45. -0.111111111111112\n46. 0\n47. 0.111111111111111\n48. 0.222222222222222\n49. 0.333333333333333\n50. 0.444444444444444\n51. 0.555555555555555\n52. 0.666666666666666\n53. 0.777777777777778\n54. 0.888888888888888\n55. 1\n56. 1.11111111111111\n57. 1.22222222222222\n58. 1.33333333333333\n59. 1.44444444444444\n60. 1.55555555555556\n61. 1.66666666666667\n62. 1.77777777777778\n63. 1.88888888888889\n64. 2\n65. 2.11111111111111\n66. 2.22222222222222\n67. 2.33333333333333\n68. 2.44444444444444\n69. 2.55555555555556\n70. 2.66666666666667\n71. 2.77777777777778\n72. 2.88888888888889\n73. 3\n74. 3.11111111111111\n75. 3.22222222222222\n76. 3.33333333333333\n77. 3.44444444444444\n78. 3.55555555555556\n79. 3.66666666666667\n80. 3.77777777777778\n81. 3.88888888888889\n82. 4\n83. 4.11111111111111\n84. 4.22222222222222\n85. 4.33333333333333\n86. 4.44444444444444\n87. 4.55555555555556\n88. 4.66666666666667\n89. 4.77777777777778\n90. 4.88888888888889\n91. 5\n92. 5.11111111111111\n93. 5.22222222222222\n94. 5.33333333333333\n95. 5.44444444444444\n96. 5.55555555555556\n97. 5.66666666666667\n98. 5.77777777777778\n99. 5.88888888888889\n100. 6\n\n\n",
            "text/latex": "\\begin{enumerate*}\n\\item -5\n\\item -4.88888888888889\n\\item -4.77777777777778\n\\item -4.66666666666667\n\\item -4.55555555555556\n\\item -4.44444444444444\n\\item -4.33333333333333\n\\item -4.22222222222222\n\\item -4.11111111111111\n\\item -4\n\\item -3.88888888888889\n\\item -3.77777777777778\n\\item -3.66666666666667\n\\item -3.55555555555556\n\\item -3.44444444444444\n\\item -3.33333333333333\n\\item -3.22222222222222\n\\item -3.11111111111111\n\\item -3\n\\item -2.88888888888889\n\\item -2.77777777777778\n\\item -2.66666666666667\n\\item -2.55555555555556\n\\item -2.44444444444444\n\\item -2.33333333333333\n\\item -2.22222222222222\n\\item -2.11111111111111\n\\item -2\n\\item -1.88888888888889\n\\item -1.77777777777778\n\\item -1.66666666666667\n\\item -1.55555555555556\n\\item -1.44444444444444\n\\item -1.33333333333333\n\\item -1.22222222222222\n\\item -1.11111111111111\n\\item -1\n\\item -0.888888888888889\n\\item -0.777777777777778\n\\item -0.666666666666667\n\\item -0.555555555555555\n\\item -0.444444444444445\n\\item -0.333333333333334\n\\item -0.222222222222222\n\\item -0.111111111111112\n\\item 0\n\\item 0.111111111111111\n\\item 0.222222222222222\n\\item 0.333333333333333\n\\item 0.444444444444444\n\\item 0.555555555555555\n\\item 0.666666666666666\n\\item 0.777777777777778\n\\item 0.888888888888888\n\\item 1\n\\item 1.11111111111111\n\\item 1.22222222222222\n\\item 1.33333333333333\n\\item 1.44444444444444\n\\item 1.55555555555556\n\\item 1.66666666666667\n\\item 1.77777777777778\n\\item 1.88888888888889\n\\item 2\n\\item 2.11111111111111\n\\item 2.22222222222222\n\\item 2.33333333333333\n\\item 2.44444444444444\n\\item 2.55555555555556\n\\item 2.66666666666667\n\\item 2.77777777777778\n\\item 2.88888888888889\n\\item 3\n\\item 3.11111111111111\n\\item 3.22222222222222\n\\item 3.33333333333333\n\\item 3.44444444444444\n\\item 3.55555555555556\n\\item 3.66666666666667\n\\item 3.77777777777778\n\\item 3.88888888888889\n\\item 4\n\\item 4.11111111111111\n\\item 4.22222222222222\n\\item 4.33333333333333\n\\item 4.44444444444444\n\\item 4.55555555555556\n\\item 4.66666666666667\n\\item 4.77777777777778\n\\item 4.88888888888889\n\\item 5\n\\item 5.11111111111111\n\\item 5.22222222222222\n\\item 5.33333333333333\n\\item 5.44444444444444\n\\item 5.55555555555556\n\\item 5.66666666666667\n\\item 5.77777777777778\n\\item 5.88888888888889\n\\item 6\n\\end{enumerate*}\n",
            "text/plain": [
              "  [1] -5.000 -4.889 -4.778 -4.667 -4.556 -4.444 -4.333 -4.222 -4.111 -4.000\n",
              " [11] -3.889 -3.778 -3.667 -3.556 -3.444 -3.333 -3.222 -3.111 -3.000 -2.889\n",
              " [21] -2.778 -2.667 -2.556 -2.444 -2.333 -2.222 -2.111 -2.000 -1.889 -1.778\n",
              " [31] -1.667 -1.556 -1.444 -1.333 -1.222 -1.111 -1.000 -0.889 -0.778 -0.667\n",
              " [41] -0.556 -0.444 -0.333 -0.222 -0.111  0.000  0.111  0.222  0.333  0.444\n",
              " [51]  0.556  0.667  0.778  0.889  1.000  1.111  1.222  1.333  1.444  1.556\n",
              " [61]  1.667  1.778  1.889  2.000  2.111  2.222  2.333  2.444  2.556  2.667\n",
              " [71]  2.778  2.889  3.000  3.111  3.222  3.333  3.444  3.556  3.667  3.778\n",
              " [81]  3.889  4.000  4.111  4.222  4.333  4.444  4.556  4.667  4.778  4.889\n",
              " [91]  5.000  5.111  5.222  5.333  5.444  5.556  5.667  5.778  5.889  6.000"
            ]
          },
          "metadata": {}
        }
      ]
    },
    {
      "cell_type": "code",
      "metadata": {
        "id": "rG-Q3PmhIgwG",
        "outputId": "7496d954-e603-44b8-a62d-754cf56bb0ad",
        "colab": {
          "base_uri": "https://localhost:8080/",
          "height": 34
        }
      },
      "source": [
        "# Ejemplo de secuencia con rep (utilice distintos tipos de datos)\n",
        "rep(x = 5, times = 4)"
      ],
      "execution_count": 61,
      "outputs": [
        {
          "output_type": "display_data",
          "data": {
            "text/html": [
              "<style>\n",
              ".list-inline {list-style: none; margin:0; padding: 0}\n",
              ".list-inline>li {display: inline-block}\n",
              ".list-inline>li:not(:last-child)::after {content: \"\\00b7\"; padding: 0 .5ex}\n",
              "</style>\n",
              "<ol class=list-inline><li>5</li><li>5</li><li>5</li><li>5</li></ol>\n"
            ],
            "text/markdown": "1. 5\n2. 5\n3. 5\n4. 5\n\n\n",
            "text/latex": "\\begin{enumerate*}\n\\item 5\n\\item 5\n\\item 5\n\\item 5\n\\end{enumerate*}\n",
            "text/plain": [
              "[1] 5 5 5 5"
            ]
          },
          "metadata": {}
        }
      ]
    },
    {
      "cell_type": "code",
      "source": [
        "rep(x =1:3, times = 4)"
      ],
      "metadata": {
        "id": "Ug5_hBZeyqjy",
        "outputId": "f46d934d-c962-4b1d-b086-25396ba5cedb",
        "colab": {
          "base_uri": "https://localhost:8080/",
          "height": 34
        }
      },
      "execution_count": 65,
      "outputs": [
        {
          "output_type": "display_data",
          "data": {
            "text/html": [
              "<style>\n",
              ".list-inline {list-style: none; margin:0; padding: 0}\n",
              ".list-inline>li {display: inline-block}\n",
              ".list-inline>li:not(:last-child)::after {content: \"\\00b7\"; padding: 0 .5ex}\n",
              "</style>\n",
              "<ol class=list-inline><li>1</li><li>2</li><li>3</li><li>1</li><li>2</li><li>3</li><li>1</li><li>2</li><li>3</li><li>1</li><li>2</li><li>3</li></ol>\n"
            ],
            "text/markdown": "1. 1\n2. 2\n3. 3\n4. 1\n5. 2\n6. 3\n7. 1\n8. 2\n9. 3\n10. 1\n11. 2\n12. 3\n\n\n",
            "text/latex": "\\begin{enumerate*}\n\\item 1\n\\item 2\n\\item 3\n\\item 1\n\\item 2\n\\item 3\n\\item 1\n\\item 2\n\\item 3\n\\item 1\n\\item 2\n\\item 3\n\\end{enumerate*}\n",
            "text/plain": [
              " [1] 1 2 3 1 2 3 1 2 3 1 2 3"
            ]
          },
          "metadata": {}
        }
      ]
    },
    {
      "cell_type": "code",
      "source": [
        "rep(x =1:3, length.out = 11)"
      ],
      "metadata": {
        "id": "lg3Oy_Uvy5ZY",
        "outputId": "30eacf57-da9e-4ffb-c981-e78dcda86b5a",
        "colab": {
          "base_uri": "https://localhost:8080/",
          "height": 34
        }
      },
      "execution_count": 66,
      "outputs": [
        {
          "output_type": "display_data",
          "data": {
            "text/html": [
              "<style>\n",
              ".list-inline {list-style: none; margin:0; padding: 0}\n",
              ".list-inline>li {display: inline-block}\n",
              ".list-inline>li:not(:last-child)::after {content: \"\\00b7\"; padding: 0 .5ex}\n",
              "</style>\n",
              "<ol class=list-inline><li>1</li><li>2</li><li>3</li><li>1</li><li>2</li><li>3</li><li>1</li><li>2</li><li>3</li><li>1</li><li>2</li></ol>\n"
            ],
            "text/markdown": "1. 1\n2. 2\n3. 3\n4. 1\n5. 2\n6. 3\n7. 1\n8. 2\n9. 3\n10. 1\n11. 2\n\n\n",
            "text/latex": "\\begin{enumerate*}\n\\item 1\n\\item 2\n\\item 3\n\\item 1\n\\item 2\n\\item 3\n\\item 1\n\\item 2\n\\item 3\n\\item 1\n\\item 2\n\\end{enumerate*}\n",
            "text/plain": [
              " [1] 1 2 3 1 2 3 1 2 3 1 2"
            ]
          },
          "metadata": {}
        }
      ]
    },
    {
      "cell_type": "code",
      "metadata": {
        "id": "psRswQHBIgwO",
        "outputId": "19fe5ba3-1dde-42ea-8785-21fe0cb4f9f5",
        "colab": {
          "base_uri": "https://localhost:8080/",
          "height": 312
        }
      },
      "source": [
        "# ejemplo de vector aleatorio siguiendo una determinada distribución\n",
        "\n",
        "# distribución uniforme\n",
        "# distribución normal\n",
        "\n",
        "rnorm(n = 100, mean = 5, sd = 2)\n",
        "\n",
        "\n",
        "\n",
        "\n"
      ],
      "execution_count": 67,
      "outputs": [
        {
          "output_type": "display_data",
          "data": {
            "text/html": [
              "<style>\n",
              ".list-inline {list-style: none; margin:0; padding: 0}\n",
              ".list-inline>li {display: inline-block}\n",
              ".list-inline>li:not(:last-child)::after {content: \"\\00b7\"; padding: 0 .5ex}\n",
              "</style>\n",
              "<ol class=list-inline><li>3.37362660193696</li><li>2.66107278655232</li><li>4.2719285374422</li><li>2.98202795782887</li><li>7.3428524138319</li><li>2.48672098279322</li><li>5.39436422325085</li><li>5.06217787111925</li><li>3.37166960978335</li><li>4.6178117145157</li><li>6.70590253058913</li><li>5.89321873767288</li><li>3.95682117182026</li><li>3.95976054197953</li><li>8.32286586549754</li><li>3.62198166142888</li><li>1.81618236052764</li><li>3.81662459551289</li><li>5.81846808066745</li><li>4.45784924557696</li><li>4.57943906320347</li><li>5.72176655206223</li><li>5.23118714235595</li><li>5.91796712722408</li><li>7.0886407434056</li><li>2.05285263389637</li><li>5.48575977383319</li><li>3.99962299094935</li><li>3.76160081270686</li><li>4.1851368692232</li><li>4.86619075630791</li><li>7.2248917991526</li><li>2.53576875706605</li><li>6.31004019563575</li><li>2.64831442045086</li><li>5.56943375825412</li><li>3.73753129141122</li><li>3.7451497284927</li><li>1.79509791109569</li><li>6.08512609102914</li><li>6.70609506236211</li><li>1.94817145640308</li><li>5.72530439281682</li><li>4.34237254690099</li><li>8.21640254898645</li><li>5.18788903768019</li><li>0.527801293067531</li><li>3.84848887289746</li><li>3.96937176881103</li><li>3.22156794751186</li><li>6.3453501356743</li><li>3.79445629638977</li><li>5.19564236347207</li><li>3.82960378437917</li><li>7.13184890875295</li><li>6.52569744095194</li><li>8.66898083406482</li><li>8.01689183301427</li><li>4.9346294762744</li><li>6.21064613102038</li><li>3.94797434714868</li><li>8.30187807335827</li><li>5.47349730416227</li><li>6.80799349142839</li><li>0.561260854891919</li><li>0.803663007358374</li><li>6.03442340715046</li><li>4.74527681730175</li><li>3.9918767742569</li><li>9.64747829044898</li><li>5.87820880148859</li><li>8.77163677680605</li><li>6.64966816333034</li><li>1.32512318285986</li><li>3.13337245945018</li><li>5.99253521622137</li><li>2.32626957497324</li><li>7.20367666328278</li><li>0.86841630790129</li><li>1.81803880011646</li><li>5.01907771482155</li><li>4.45482276453197</li><li>4.24242497036652</li><li>6.44537064696507</li><li>0.207583838971347</li><li>3.66401927914976</li><li>7.46463675973804</li><li>7.84380681544361</li><li>3.16342956188636</li><li>4.10036490763448</li><li>4.44493341499082</li><li>4.18356361457989</li><li>7.23520375989401</li><li>4.23691818651246</li><li>6.48314824833395</li><li>5.35686013184499</li><li>7.78130945556938</li><li>6.79544607834811</li><li>1.86814038617399</li><li>3.56440483040446</li></ol>\n"
            ],
            "text/markdown": "1. 3.37362660193696\n2. 2.66107278655232\n3. 4.2719285374422\n4. 2.98202795782887\n5. 7.3428524138319\n6. 2.48672098279322\n7. 5.39436422325085\n8. 5.06217787111925\n9. 3.37166960978335\n10. 4.6178117145157\n11. 6.70590253058913\n12. 5.89321873767288\n13. 3.95682117182026\n14. 3.95976054197953\n15. 8.32286586549754\n16. 3.62198166142888\n17. 1.81618236052764\n18. 3.81662459551289\n19. 5.81846808066745\n20. 4.45784924557696\n21. 4.57943906320347\n22. 5.72176655206223\n23. 5.23118714235595\n24. 5.91796712722408\n25. 7.0886407434056\n26. 2.05285263389637\n27. 5.48575977383319\n28. 3.99962299094935\n29. 3.76160081270686\n30. 4.1851368692232\n31. 4.86619075630791\n32. 7.2248917991526\n33. 2.53576875706605\n34. 6.31004019563575\n35. 2.64831442045086\n36. 5.56943375825412\n37. 3.73753129141122\n38. 3.7451497284927\n39. 1.79509791109569\n40. 6.08512609102914\n41. 6.70609506236211\n42. 1.94817145640308\n43. 5.72530439281682\n44. 4.34237254690099\n45. 8.21640254898645\n46. 5.18788903768019\n47. 0.527801293067531\n48. 3.84848887289746\n49. 3.96937176881103\n50. 3.22156794751186\n51. 6.3453501356743\n52. 3.79445629638977\n53. 5.19564236347207\n54. 3.82960378437917\n55. 7.13184890875295\n56. 6.52569744095194\n57. 8.66898083406482\n58. 8.01689183301427\n59. 4.9346294762744\n60. 6.21064613102038\n61. 3.94797434714868\n62. 8.30187807335827\n63. 5.47349730416227\n64. 6.80799349142839\n65. 0.561260854891919\n66. 0.803663007358374\n67. 6.03442340715046\n68. 4.74527681730175\n69. 3.9918767742569\n70. 9.64747829044898\n71. 5.87820880148859\n72. 8.77163677680605\n73. 6.64966816333034\n74. 1.32512318285986\n75. 3.13337245945018\n76. 5.99253521622137\n77. 2.32626957497324\n78. 7.20367666328278\n79. 0.86841630790129\n80. 1.81803880011646\n81. 5.01907771482155\n82. 4.45482276453197\n83. 4.24242497036652\n84. 6.44537064696507\n85. 0.207583838971347\n86. 3.66401927914976\n87. 7.46463675973804\n88. 7.84380681544361\n89. 3.16342956188636\n90. 4.10036490763448\n91. 4.44493341499082\n92. 4.18356361457989\n93. 7.23520375989401\n94. 4.23691818651246\n95. 6.48314824833395\n96. 5.35686013184499\n97. 7.78130945556938\n98. 6.79544607834811\n99. 1.86814038617399\n100. 3.56440483040446\n\n\n",
            "text/latex": "\\begin{enumerate*}\n\\item 3.37362660193696\n\\item 2.66107278655232\n\\item 4.2719285374422\n\\item 2.98202795782887\n\\item 7.3428524138319\n\\item 2.48672098279322\n\\item 5.39436422325085\n\\item 5.06217787111925\n\\item 3.37166960978335\n\\item 4.6178117145157\n\\item 6.70590253058913\n\\item 5.89321873767288\n\\item 3.95682117182026\n\\item 3.95976054197953\n\\item 8.32286586549754\n\\item 3.62198166142888\n\\item 1.81618236052764\n\\item 3.81662459551289\n\\item 5.81846808066745\n\\item 4.45784924557696\n\\item 4.57943906320347\n\\item 5.72176655206223\n\\item 5.23118714235595\n\\item 5.91796712722408\n\\item 7.0886407434056\n\\item 2.05285263389637\n\\item 5.48575977383319\n\\item 3.99962299094935\n\\item 3.76160081270686\n\\item 4.1851368692232\n\\item 4.86619075630791\n\\item 7.2248917991526\n\\item 2.53576875706605\n\\item 6.31004019563575\n\\item 2.64831442045086\n\\item 5.56943375825412\n\\item 3.73753129141122\n\\item 3.7451497284927\n\\item 1.79509791109569\n\\item 6.08512609102914\n\\item 6.70609506236211\n\\item 1.94817145640308\n\\item 5.72530439281682\n\\item 4.34237254690099\n\\item 8.21640254898645\n\\item 5.18788903768019\n\\item 0.527801293067531\n\\item 3.84848887289746\n\\item 3.96937176881103\n\\item 3.22156794751186\n\\item 6.3453501356743\n\\item 3.79445629638977\n\\item 5.19564236347207\n\\item 3.82960378437917\n\\item 7.13184890875295\n\\item 6.52569744095194\n\\item 8.66898083406482\n\\item 8.01689183301427\n\\item 4.9346294762744\n\\item 6.21064613102038\n\\item 3.94797434714868\n\\item 8.30187807335827\n\\item 5.47349730416227\n\\item 6.80799349142839\n\\item 0.561260854891919\n\\item 0.803663007358374\n\\item 6.03442340715046\n\\item 4.74527681730175\n\\item 3.9918767742569\n\\item 9.64747829044898\n\\item 5.87820880148859\n\\item 8.77163677680605\n\\item 6.64966816333034\n\\item 1.32512318285986\n\\item 3.13337245945018\n\\item 5.99253521622137\n\\item 2.32626957497324\n\\item 7.20367666328278\n\\item 0.86841630790129\n\\item 1.81803880011646\n\\item 5.01907771482155\n\\item 4.45482276453197\n\\item 4.24242497036652\n\\item 6.44537064696507\n\\item 0.207583838971347\n\\item 3.66401927914976\n\\item 7.46463675973804\n\\item 7.84380681544361\n\\item 3.16342956188636\n\\item 4.10036490763448\n\\item 4.44493341499082\n\\item 4.18356361457989\n\\item 7.23520375989401\n\\item 4.23691818651246\n\\item 6.48314824833395\n\\item 5.35686013184499\n\\item 7.78130945556938\n\\item 6.79544607834811\n\\item 1.86814038617399\n\\item 3.56440483040446\n\\end{enumerate*}\n",
            "text/plain": [
              "  [1] 3.374 2.661 4.272 2.982 7.343 2.487 5.394 5.062 3.372 4.618 6.706 5.893\n",
              " [13] 3.957 3.960 8.323 3.622 1.816 3.817 5.818 4.458 4.579 5.722 5.231 5.918\n",
              " [25] 7.089 2.053 5.486 4.000 3.762 4.185 4.866 7.225 2.536 6.310 2.648 5.569\n",
              " [37] 3.738 3.745 1.795 6.085 6.706 1.948 5.725 4.342 8.216 5.188 0.528 3.848\n",
              " [49] 3.969 3.222 6.345 3.794 5.196 3.830 7.132 6.526 8.669 8.017 4.935 6.211\n",
              " [61] 3.948 8.302 5.473 6.808 0.561 0.804 6.034 4.745 3.992 9.647 5.878 8.772\n",
              " [73] 6.650 1.325 3.133 5.993 2.326 7.204 0.868 1.818 5.019 4.455 4.242 6.445\n",
              " [85] 0.208 3.664 7.465 7.844 3.163 4.100 4.445 4.184 7.235 4.237 6.483 5.357\n",
              " [97] 7.781 6.795 1.868 3.564"
            ]
          },
          "metadata": {}
        }
      ]
    },
    {
      "cell_type": "markdown",
      "metadata": {
        "id": "TlnEINwUIgwP"
      },
      "source": [
        "### 3.2 Funciones (primera parte) \n",
        "\n",
        "#### 3.2.1 Funciones vectorizadas y operaciones con vectores\n",
        "\n",
        "R es un lenguaje funcional, en el sentido de que prácticamente cada llamada a R corresponde a una función que puede (o no) recibir argumentos de entrada.\n",
        "Una de las ventajas es que existe una amplia, muy amplia,... verdaderamente amplia!, variedad de funciones disponibles, tanto en las librerías que vienen con la instalación por defecto como las librerías disponibles en CRAN o en toda la comunidad R.\n",
        "\n",
        "En R, una función $f$ se dice vectorizada si dado un vector $\\mathbf{x}=(x_1,x_2,\\dots,x_n)$, se tiene que $f(\\mathbf{x})=(f(x_1),f(x_2),\\dots,f(x_n))$.\n",
        "Esto hace que, por ejemplo, la aritmética de vectores se más sencilla de implentar y con un menor tiempo de cómputo . Gran parte de las funciones disponibles en la librerías (bibliotecas o *packages*) de R corresponden a funciones vectorizadas.\n",
        "A modo de ejemplo, a cotinuación se muestran algunas funciones (de las más básicas) aritméticas, y funciones para trabajar con texto:\n",
        "    \n",
        "    +,-,*,/\n",
        "    abs()\n",
        "    sqrt()\n",
        "    cos()\n",
        "    sin()\n",
        "    tan()\n",
        "    nchar()\n",
        "    susbtr()\n",
        "    grepl()\n",
        "    gsub()\n",
        "    \n",
        "   \n",
        "   \n",
        "   "
      ]
    },
    {
      "cell_type": "code",
      "metadata": {
        "id": "tO3oB1bnIgwP",
        "outputId": "8dc0e99e-75e4-40a8-9b7c-245383f65801",
        "colab": {
          "base_uri": "https://localhost:8080/",
          "height": 34
        }
      },
      "source": [
        "# 3.2. Funciones (primera parte) ------------\n",
        "# 3.2.1 Funciones vectorizadas \n",
        "# Ejemplos básicos de funciones(vectorizadas)\n",
        "sqrt(c(4,9,16,25))"
      ],
      "execution_count": 68,
      "outputs": [
        {
          "output_type": "display_data",
          "data": {
            "text/html": [
              "<style>\n",
              ".list-inline {list-style: none; margin:0; padding: 0}\n",
              ".list-inline>li {display: inline-block}\n",
              ".list-inline>li:not(:last-child)::after {content: \"\\00b7\"; padding: 0 .5ex}\n",
              "</style>\n",
              "<ol class=list-inline><li>2</li><li>3</li><li>4</li><li>5</li></ol>\n"
            ],
            "text/markdown": "1. 2\n2. 3\n3. 4\n4. 5\n\n\n",
            "text/latex": "\\begin{enumerate*}\n\\item 2\n\\item 3\n\\item 4\n\\item 5\n\\end{enumerate*}\n",
            "text/plain": [
              "[1] 2 3 4 5"
            ]
          },
          "metadata": {}
        }
      ]
    },
    {
      "cell_type": "code",
      "metadata": {
        "id": "Z8L-KeGnIgwS"
      },
      "source": [],
      "execution_count": null,
      "outputs": []
    },
    {
      "cell_type": "code",
      "metadata": {
        "id": "NivskO3jIgwT",
        "outputId": "ad63596e-5ca2-4f68-c56b-fe7e150e0356",
        "colab": {
          "base_uri": "https://localhost:8080/",
          "height": 52
        }
      },
      "source": [
        "# funciones para manipular texto\n",
        "#cantidad de caracteres\n",
        "nchar(\"hola\")\n",
        "nchar(c(\"hola\", \"soy\", \"miguel\"))\n",
        "\n"
      ],
      "execution_count": 70,
      "outputs": [
        {
          "output_type": "display_data",
          "data": {
            "text/html": [
              "4"
            ],
            "text/markdown": "4",
            "text/latex": "4",
            "text/plain": [
              "[1] 4"
            ]
          },
          "metadata": {}
        },
        {
          "output_type": "display_data",
          "data": {
            "text/html": [
              "<style>\n",
              ".list-inline {list-style: none; margin:0; padding: 0}\n",
              ".list-inline>li {display: inline-block}\n",
              ".list-inline>li:not(:last-child)::after {content: \"\\00b7\"; padding: 0 .5ex}\n",
              "</style>\n",
              "<ol class=list-inline><li>4</li><li>3</li><li>6</li></ol>\n"
            ],
            "text/markdown": "1. 4\n2. 3\n3. 6\n\n\n",
            "text/latex": "\\begin{enumerate*}\n\\item 4\n\\item 3\n\\item 6\n\\end{enumerate*}\n",
            "text/plain": [
              "[1] 4 3 6"
            ]
          },
          "metadata": {}
        }
      ]
    },
    {
      "cell_type": "code",
      "metadata": {
        "id": "tA55foL1IgwX",
        "outputId": "d24a688b-5df2-4e01-c9a7-410c137c5bfc",
        "colab": {
          "base_uri": "https://localhost:8080/",
          "height": 34
        }
      },
      "source": [
        "# substring substr()\n",
        "substring(text = \"Nublado\", first = 2, last = 5)\n",
        "substring(\"Nublado\", 2, 5)"
      ],
      "execution_count": 73,
      "outputs": [
        {
          "output_type": "display_data",
          "data": {
            "text/html": [
              "'ubla'"
            ],
            "text/markdown": "'ubla'",
            "text/latex": "'ubla'",
            "text/plain": [
              "[1] \"ubla\""
            ]
          },
          "metadata": {}
        }
      ]
    },
    {
      "cell_type": "code",
      "source": [
        "?substring"
      ],
      "metadata": {
        "id": "fQI03a_h0XWo"
      },
      "execution_count": 72,
      "outputs": []
    },
    {
      "cell_type": "code",
      "metadata": {
        "id": "vjRwdUbiIgwY",
        "outputId": "c89dff77-041f-46fe-e66a-74ce65a10885",
        "colab": {
          "base_uri": "https://localhost:8080/",
          "height": 69
        }
      },
      "source": [
        "# grepl() evlaúa si un  caracter está contenido en otro. (LIKE)\n",
        "#?grepl()\n",
        "grepl(\"ala\", \"palabra\")\n",
        "grepl(\"alo\", \"palabra\")\n",
        "\n",
        "\n",
        "#gsub() reemblaza un substring por otro\n",
        "#?gsub\n",
        "\n",
        "# si reemplazamos en un vector de palabras\n",
        "\n",
        "grepl(\"ala\", c(\"palabra\",\"sala\", \"solo\", \"lala\") )"
      ],
      "execution_count": 75,
      "outputs": [
        {
          "output_type": "display_data",
          "data": {
            "text/html": [
              "TRUE"
            ],
            "text/markdown": "TRUE",
            "text/latex": "TRUE",
            "text/plain": [
              "[1] TRUE"
            ]
          },
          "metadata": {}
        },
        {
          "output_type": "display_data",
          "data": {
            "text/html": [
              "FALSE"
            ],
            "text/markdown": "FALSE",
            "text/latex": "FALSE",
            "text/plain": [
              "[1] FALSE"
            ]
          },
          "metadata": {}
        },
        {
          "output_type": "display_data",
          "data": {
            "text/html": [
              "<style>\n",
              ".list-inline {list-style: none; margin:0; padding: 0}\n",
              ".list-inline>li {display: inline-block}\n",
              ".list-inline>li:not(:last-child)::after {content: \"\\00b7\"; padding: 0 .5ex}\n",
              "</style>\n",
              "<ol class=list-inline><li>TRUE</li><li>TRUE</li><li>FALSE</li><li>TRUE</li></ol>\n"
            ],
            "text/markdown": "1. TRUE\n2. TRUE\n3. FALSE\n4. TRUE\n\n\n",
            "text/latex": "\\begin{enumerate*}\n\\item TRUE\n\\item TRUE\n\\item FALSE\n\\item TRUE\n\\end{enumerate*}\n",
            "text/plain": [
              "[1]  TRUE  TRUE FALSE  TRUE"
            ]
          },
          "metadata": {}
        }
      ]
    },
    {
      "cell_type": "code",
      "metadata": {
        "id": "0j9kKUbzIgwZ"
      },
      "source": [
        "#gsub() reemplaza caracteres dentro de un texto\n",
        "#https://www.tidytextmining.com/\n"
      ],
      "execution_count": null,
      "outputs": []
    }
  ]
}