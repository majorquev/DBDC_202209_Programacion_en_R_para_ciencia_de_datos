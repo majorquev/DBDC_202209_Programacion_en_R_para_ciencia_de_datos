{
  "nbformat": 4,
  "nbformat_minor": 0,
  "metadata": {
    "colab": {
      "provenance": [],
      "collapsed_sections": [],
      "include_colab_link": true
    },
    "kernelspec": {
      "name": "ir",
      "display_name": "R"
    }
  },
  "cells": [
    {
      "cell_type": "markdown",
      "metadata": {
        "id": "view-in-github",
        "colab_type": "text"
      },
      "source": [
        "<a href=\"https://colab.research.google.com/github/majorquev/DBDC_202209_Programacion_en_R_para_ciencia_de_datos/blob/main/Clases/Clase2/Clase_2_02_listas_y_dataframes_desarrollo.ipynb\" target=\"_parent\"><img src=\"https://colab.research.google.com/assets/colab-badge.svg\" alt=\"Open In Colab\"/></a>"
      ]
    },
    {
      "cell_type": "markdown",
      "metadata": {
        "collapsed": true,
        "id": "fgQ2azLwTpRn"
      },
      "source": [
        "# Parte 1: Introducción a R (continuación)\n",
        "\n",
        "**Autor:** Miguel Jorquera Viguera<br>\n",
        "**E-mail:** majorquev@gmail.com<br>\n",
        "**Ayudante:** Rodrigo Morales <br>\n",
        "**E-mail ayudante:** rumorale1@gmail.com\n",
        "\n",
        "\n",
        "## 5. Listas y Dataframes\n",
        "\n",
        "### 5.1 Listas\n",
        "\n",
        "Hasta aquí contamos con dos tipos de objetos para almacenar datos; vectores y matrices. Sin embargo, en ambos casos se tiene la limitante de que no es posible combinar distintos tipos de datos en diferentes entradas. Un objeto que permite una mayor flexibilidad son las listas. En R, una lista es básicamente un arreglo unidimensional, donde en cada entrada es posible almacenar distintos **objetos** (los cuales a su vez pueden almacenar distintos tipos de datos (u otros objetos).\n",
        "En resumen,\n",
        "\n",
        "   * ¿Qué son?<br>\n",
        "    Arreglos unidimensionales que guardan distintos tipos de datos u objetos.<br>\n",
        "\n",
        "   * ¿Cómo se declaran?<br>\n",
        "    Se pueden declarar mediante el comando list() o combinando listas existentes. <br>\n",
        "    \n",
        "   * ¿Cómo se accede a sus elementos?<br>\n",
        "    Usando [ ] (retorna lista), o bien usando [ [ ] ] (retorna el objeto). \n",
        "    En cada caso se puede indicar la posición o nombre del objeto que se quiere rescatar.<br>\n",
        "    Otra manera es mediante el símbolo $ seguido del nombre del objeto.\n",
        "\n"
      ]
    },
    {
      "cell_type": "code",
      "metadata": {
        "trusted": true,
        "id": "zZHpLzzRTpRp"
      },
      "source": [
        "# 5. Listas y dataframes ------------\n",
        "# 5.1 Listas  ------------\n",
        "# Cómo declarar una lista (comando list() )\n",
        "#num,letra, pl, mat, lista\n",
        "l1 <- list(num = 3,\n",
        "           letra = c(\"A\",\"Z\",\"X\"),\n",
        "           mat = diag(1:3),\n",
        "           sub_lista = list(otro_num = 8:11, fechas = seq(as.Date(\"2022-09-26\"),as.Date(\"2022-12-26\"), by =1) )\n",
        "           )"
      ],
      "execution_count": 5,
      "outputs": []
    },
    {
      "cell_type": "code",
      "source": [
        "l1"
      ],
      "metadata": {
        "id": "4WY6O41vAmxq",
        "outputId": "db9713e7-c064-44e2-9999-33c0825cd4d1",
        "colab": {
          "base_uri": "https://localhost:8080/",
          "height": 465
        }
      },
      "execution_count": 6,
      "outputs": [
        {
          "output_type": "display_data",
          "data": {
            "text/html": [
              "<dl>\n",
              "\t<dt>$num</dt>\n",
              "\t\t<dd>3</dd>\n",
              "\t<dt>$letra</dt>\n",
              "\t\t<dd><style>\n",
              ".list-inline {list-style: none; margin:0; padding: 0}\n",
              ".list-inline>li {display: inline-block}\n",
              ".list-inline>li:not(:last-child)::after {content: \"\\00b7\"; padding: 0 .5ex}\n",
              "</style>\n",
              "<ol class=list-inline><li>'A'</li><li>'Z'</li><li>'X'</li></ol>\n",
              "</dd>\n",
              "\t<dt>$mat</dt>\n",
              "\t\t<dd><table class=\"dataframe\">\n",
              "<caption>A matrix: 3 × 3 of type int</caption>\n",
              "<tbody>\n",
              "\t<tr><td>1</td><td>0</td><td>0</td></tr>\n",
              "\t<tr><td>0</td><td>2</td><td>0</td></tr>\n",
              "\t<tr><td>0</td><td>0</td><td>3</td></tr>\n",
              "</tbody>\n",
              "</table>\n",
              "</dd>\n",
              "\t<dt>$sub_lista</dt>\n",
              "\t\t<dd><dl>\n",
              "\t<dt>$otro_num</dt>\n",
              "\t\t<dd><style>\n",
              ".list-inline {list-style: none; margin:0; padding: 0}\n",
              ".list-inline>li {display: inline-block}\n",
              ".list-inline>li:not(:last-child)::after {content: \"\\00b7\"; padding: 0 .5ex}\n",
              "</style>\n",
              "<ol class=list-inline><li>8</li><li>9</li><li>10</li><li>11</li></ol>\n",
              "</dd>\n",
              "\t<dt>$fechas</dt>\n",
              "\t\t<dd><style>\n",
              ".list-inline {list-style: none; margin:0; padding: 0}\n",
              ".list-inline>li {display: inline-block}\n",
              ".list-inline>li:not(:last-child)::after {content: \"\\00b7\"; padding: 0 .5ex}\n",
              "</style>\n",
              "<ol class=list-inline><li><time datetime=\"2022-09-26\">2022-09-26</time></li><li><time datetime=\"2022-09-27\">2022-09-27</time></li><li><time datetime=\"2022-09-28\">2022-09-28</time></li><li><time datetime=\"2022-09-29\">2022-09-29</time></li><li><time datetime=\"2022-09-30\">2022-09-30</time></li><li><time datetime=\"2022-10-01\">2022-10-01</time></li><li><time datetime=\"2022-10-02\">2022-10-02</time></li><li><time datetime=\"2022-10-03\">2022-10-03</time></li><li><time datetime=\"2022-10-04\">2022-10-04</time></li><li><time datetime=\"2022-10-05\">2022-10-05</time></li><li><time datetime=\"2022-10-06\">2022-10-06</time></li><li><time datetime=\"2022-10-07\">2022-10-07</time></li><li><time datetime=\"2022-10-08\">2022-10-08</time></li><li><time datetime=\"2022-10-09\">2022-10-09</time></li><li><time datetime=\"2022-10-10\">2022-10-10</time></li><li><time datetime=\"2022-10-11\">2022-10-11</time></li><li><time datetime=\"2022-10-12\">2022-10-12</time></li><li><time datetime=\"2022-10-13\">2022-10-13</time></li><li><time datetime=\"2022-10-14\">2022-10-14</time></li><li><time datetime=\"2022-10-15\">2022-10-15</time></li><li><time datetime=\"2022-10-16\">2022-10-16</time></li><li><time datetime=\"2022-10-17\">2022-10-17</time></li><li><time datetime=\"2022-10-18\">2022-10-18</time></li><li><time datetime=\"2022-10-19\">2022-10-19</time></li><li><time datetime=\"2022-10-20\">2022-10-20</time></li><li><time datetime=\"2022-10-21\">2022-10-21</time></li><li><time datetime=\"2022-10-22\">2022-10-22</time></li><li><time datetime=\"2022-10-23\">2022-10-23</time></li><li><time datetime=\"2022-10-24\">2022-10-24</time></li><li><time datetime=\"2022-10-25\">2022-10-25</time></li><li><time datetime=\"2022-10-26\">2022-10-26</time></li><li><time datetime=\"2022-10-27\">2022-10-27</time></li><li><time datetime=\"2022-10-28\">2022-10-28</time></li><li><time datetime=\"2022-10-29\">2022-10-29</time></li><li><time datetime=\"2022-10-30\">2022-10-30</time></li><li><time datetime=\"2022-10-31\">2022-10-31</time></li><li><time datetime=\"2022-11-01\">2022-11-01</time></li><li><time datetime=\"2022-11-02\">2022-11-02</time></li><li><time datetime=\"2022-11-03\">2022-11-03</time></li><li><time datetime=\"2022-11-04\">2022-11-04</time></li><li><time datetime=\"2022-11-05\">2022-11-05</time></li><li><time datetime=\"2022-11-06\">2022-11-06</time></li><li><time datetime=\"2022-11-07\">2022-11-07</time></li><li><time datetime=\"2022-11-08\">2022-11-08</time></li><li><time datetime=\"2022-11-09\">2022-11-09</time></li><li><time datetime=\"2022-11-10\">2022-11-10</time></li><li><time datetime=\"2022-11-11\">2022-11-11</time></li><li><time datetime=\"2022-11-12\">2022-11-12</time></li><li><time datetime=\"2022-11-13\">2022-11-13</time></li><li><time datetime=\"2022-11-14\">2022-11-14</time></li><li><time datetime=\"2022-11-15\">2022-11-15</time></li><li><time datetime=\"2022-11-16\">2022-11-16</time></li><li><time datetime=\"2022-11-17\">2022-11-17</time></li><li><time datetime=\"2022-11-18\">2022-11-18</time></li><li><time datetime=\"2022-11-19\">2022-11-19</time></li><li><time datetime=\"2022-11-20\">2022-11-20</time></li><li><time datetime=\"2022-11-21\">2022-11-21</time></li><li><time datetime=\"2022-11-22\">2022-11-22</time></li><li><time datetime=\"2022-11-23\">2022-11-23</time></li><li><time datetime=\"2022-11-24\">2022-11-24</time></li><li><time datetime=\"2022-11-25\">2022-11-25</time></li><li><time datetime=\"2022-11-26\">2022-11-26</time></li><li><time datetime=\"2022-11-27\">2022-11-27</time></li><li><time datetime=\"2022-11-28\">2022-11-28</time></li><li><time datetime=\"2022-11-29\">2022-11-29</time></li><li><time datetime=\"2022-11-30\">2022-11-30</time></li><li><time datetime=\"2022-12-01\">2022-12-01</time></li><li><time datetime=\"2022-12-02\">2022-12-02</time></li><li><time datetime=\"2022-12-03\">2022-12-03</time></li><li><time datetime=\"2022-12-04\">2022-12-04</time></li><li><time datetime=\"2022-12-05\">2022-12-05</time></li><li><time datetime=\"2022-12-06\">2022-12-06</time></li><li><time datetime=\"2022-12-07\">2022-12-07</time></li><li><time datetime=\"2022-12-08\">2022-12-08</time></li><li><time datetime=\"2022-12-09\">2022-12-09</time></li><li><time datetime=\"2022-12-10\">2022-12-10</time></li><li><time datetime=\"2022-12-11\">2022-12-11</time></li><li><time datetime=\"2022-12-12\">2022-12-12</time></li><li><time datetime=\"2022-12-13\">2022-12-13</time></li><li><time datetime=\"2022-12-14\">2022-12-14</time></li><li><time datetime=\"2022-12-15\">2022-12-15</time></li><li><time datetime=\"2022-12-16\">2022-12-16</time></li><li><time datetime=\"2022-12-17\">2022-12-17</time></li><li><time datetime=\"2022-12-18\">2022-12-18</time></li><li><time datetime=\"2022-12-19\">2022-12-19</time></li><li><time datetime=\"2022-12-20\">2022-12-20</time></li><li><time datetime=\"2022-12-21\">2022-12-21</time></li><li><time datetime=\"2022-12-22\">2022-12-22</time></li><li><time datetime=\"2022-12-23\">2022-12-23</time></li><li><time datetime=\"2022-12-24\">2022-12-24</time></li><li><time datetime=\"2022-12-25\">2022-12-25</time></li><li><time datetime=\"2022-12-26\">2022-12-26</time></li></ol>\n",
              "</dd>\n",
              "</dl>\n",
              "</dd>\n",
              "</dl>\n"
            ],
            "text/markdown": "$num\n:   3\n$letra\n:   1. 'A'\n2. 'Z'\n3. 'X'\n\n\n\n$mat\n:   \nA matrix: 3 × 3 of type int\n\n| 1 | 0 | 0 |\n| 0 | 2 | 0 |\n| 0 | 0 | 3 |\n\n\n$sub_lista\n:   $otro_num\n:   1. 8\n2. 9\n3. 10\n4. 11\n\n\n\n$fechas\n:   1. 2022-09-26\n2. 2022-09-27\n3. 2022-09-28\n4. 2022-09-29\n5. 2022-09-30\n6. 2022-10-01\n7. 2022-10-02\n8. 2022-10-03\n9. 2022-10-04\n10. 2022-10-05\n11. 2022-10-06\n12. 2022-10-07\n13. 2022-10-08\n14. 2022-10-09\n15. 2022-10-10\n16. 2022-10-11\n17. 2022-10-12\n18. 2022-10-13\n19. 2022-10-14\n20. 2022-10-15\n21. 2022-10-16\n22. 2022-10-17\n23. 2022-10-18\n24. 2022-10-19\n25. 2022-10-20\n26. 2022-10-21\n27. 2022-10-22\n28. 2022-10-23\n29. 2022-10-24\n30. 2022-10-25\n31. 2022-10-26\n32. 2022-10-27\n33. 2022-10-28\n34. 2022-10-29\n35. 2022-10-30\n36. 2022-10-31\n37. 2022-11-01\n38. 2022-11-02\n39. 2022-11-03\n40. 2022-11-04\n41. 2022-11-05\n42. 2022-11-06\n43. 2022-11-07\n44. 2022-11-08\n45. 2022-11-09\n46. 2022-11-10\n47. 2022-11-11\n48. 2022-11-12\n49. 2022-11-13\n50. 2022-11-14\n51. 2022-11-15\n52. 2022-11-16\n53. 2022-11-17\n54. 2022-11-18\n55. 2022-11-19\n56. 2022-11-20\n57. 2022-11-21\n58. 2022-11-22\n59. 2022-11-23\n60. 2022-11-24\n61. 2022-11-25\n62. 2022-11-26\n63. 2022-11-27\n64. 2022-11-28\n65. 2022-11-29\n66. 2022-11-30\n67. 2022-12-01\n68. 2022-12-02\n69. 2022-12-03\n70. 2022-12-04\n71. 2022-12-05\n72. 2022-12-06\n73. 2022-12-07\n74. 2022-12-08\n75. 2022-12-09\n76. 2022-12-10\n77. 2022-12-11\n78. 2022-12-12\n79. 2022-12-13\n80. 2022-12-14\n81. 2022-12-15\n82. 2022-12-16\n83. 2022-12-17\n84. 2022-12-18\n85. 2022-12-19\n86. 2022-12-20\n87. 2022-12-21\n88. 2022-12-22\n89. 2022-12-23\n90. 2022-12-24\n91. 2022-12-25\n92. 2022-12-26\n\n\n\n\n\n\n\n\n",
            "text/latex": "\\begin{description}\n\\item[\\$num] 3\n\\item[\\$letra] \\begin{enumerate*}\n\\item 'A'\n\\item 'Z'\n\\item 'X'\n\\end{enumerate*}\n\n\\item[\\$mat] A matrix: 3 × 3 of type int\n\\begin{tabular}{lll}\n\t 1 & 0 & 0\\\\\n\t 0 & 2 & 0\\\\\n\t 0 & 0 & 3\\\\\n\\end{tabular}\n\n\\item[\\$sub\\_lista] \\begin{description}\n\\item[\\$otro\\_num] \\begin{enumerate*}\n\\item 8\n\\item 9\n\\item 10\n\\item 11\n\\end{enumerate*}\n\n\\item[\\$fechas] \\begin{enumerate*}\n\\item 2022-09-26\n\\item 2022-09-27\n\\item 2022-09-28\n\\item 2022-09-29\n\\item 2022-09-30\n\\item 2022-10-01\n\\item 2022-10-02\n\\item 2022-10-03\n\\item 2022-10-04\n\\item 2022-10-05\n\\item 2022-10-06\n\\item 2022-10-07\n\\item 2022-10-08\n\\item 2022-10-09\n\\item 2022-10-10\n\\item 2022-10-11\n\\item 2022-10-12\n\\item 2022-10-13\n\\item 2022-10-14\n\\item 2022-10-15\n\\item 2022-10-16\n\\item 2022-10-17\n\\item 2022-10-18\n\\item 2022-10-19\n\\item 2022-10-20\n\\item 2022-10-21\n\\item 2022-10-22\n\\item 2022-10-23\n\\item 2022-10-24\n\\item 2022-10-25\n\\item 2022-10-26\n\\item 2022-10-27\n\\item 2022-10-28\n\\item 2022-10-29\n\\item 2022-10-30\n\\item 2022-10-31\n\\item 2022-11-01\n\\item 2022-11-02\n\\item 2022-11-03\n\\item 2022-11-04\n\\item 2022-11-05\n\\item 2022-11-06\n\\item 2022-11-07\n\\item 2022-11-08\n\\item 2022-11-09\n\\item 2022-11-10\n\\item 2022-11-11\n\\item 2022-11-12\n\\item 2022-11-13\n\\item 2022-11-14\n\\item 2022-11-15\n\\item 2022-11-16\n\\item 2022-11-17\n\\item 2022-11-18\n\\item 2022-11-19\n\\item 2022-11-20\n\\item 2022-11-21\n\\item 2022-11-22\n\\item 2022-11-23\n\\item 2022-11-24\n\\item 2022-11-25\n\\item 2022-11-26\n\\item 2022-11-27\n\\item 2022-11-28\n\\item 2022-11-29\n\\item 2022-11-30\n\\item 2022-12-01\n\\item 2022-12-02\n\\item 2022-12-03\n\\item 2022-12-04\n\\item 2022-12-05\n\\item 2022-12-06\n\\item 2022-12-07\n\\item 2022-12-08\n\\item 2022-12-09\n\\item 2022-12-10\n\\item 2022-12-11\n\\item 2022-12-12\n\\item 2022-12-13\n\\item 2022-12-14\n\\item 2022-12-15\n\\item 2022-12-16\n\\item 2022-12-17\n\\item 2022-12-18\n\\item 2022-12-19\n\\item 2022-12-20\n\\item 2022-12-21\n\\item 2022-12-22\n\\item 2022-12-23\n\\item 2022-12-24\n\\item 2022-12-25\n\\item 2022-12-26\n\\end{enumerate*}\n\n\\end{description}\n\n\\end{description}\n",
            "text/plain": [
              "$num\n",
              "[1] 3\n",
              "\n",
              "$letra\n",
              "[1] \"A\" \"Z\" \"X\"\n",
              "\n",
              "$mat\n",
              "     [,1] [,2] [,3]\n",
              "[1,]    1    0    0\n",
              "[2,]    0    2    0\n",
              "[3,]    0    0    3\n",
              "\n",
              "$sub_lista\n",
              "$sub_lista$otro_num\n",
              "[1]  8  9 10 11\n",
              "\n",
              "$sub_lista$fechas\n",
              " [1] \"2022-09-26\" \"2022-09-27\" \"2022-09-28\" \"2022-09-29\" \"2022-09-30\"\n",
              " [6] \"2022-10-01\" \"2022-10-02\" \"2022-10-03\" \"2022-10-04\" \"2022-10-05\"\n",
              "[11] \"2022-10-06\" \"2022-10-07\" \"2022-10-08\" \"2022-10-09\" \"2022-10-10\"\n",
              "[16] \"2022-10-11\" \"2022-10-12\" \"2022-10-13\" \"2022-10-14\" \"2022-10-15\"\n",
              "[21] \"2022-10-16\" \"2022-10-17\" \"2022-10-18\" \"2022-10-19\" \"2022-10-20\"\n",
              "[26] \"2022-10-21\" \"2022-10-22\" \"2022-10-23\" \"2022-10-24\" \"2022-10-25\"\n",
              "[31] \"2022-10-26\" \"2022-10-27\" \"2022-10-28\" \"2022-10-29\" \"2022-10-30\"\n",
              "[36] \"2022-10-31\" \"2022-11-01\" \"2022-11-02\" \"2022-11-03\" \"2022-11-04\"\n",
              "[41] \"2022-11-05\" \"2022-11-06\" \"2022-11-07\" \"2022-11-08\" \"2022-11-09\"\n",
              "[46] \"2022-11-10\" \"2022-11-11\" \"2022-11-12\" \"2022-11-13\" \"2022-11-14\"\n",
              "[51] \"2022-11-15\" \"2022-11-16\" \"2022-11-17\" \"2022-11-18\" \"2022-11-19\"\n",
              "[56] \"2022-11-20\" \"2022-11-21\" \"2022-11-22\" \"2022-11-23\" \"2022-11-24\"\n",
              "[61] \"2022-11-25\" \"2022-11-26\" \"2022-11-27\" \"2022-11-28\" \"2022-11-29\"\n",
              "[66] \"2022-11-30\" \"2022-12-01\" \"2022-12-02\" \"2022-12-03\" \"2022-12-04\"\n",
              "[71] \"2022-12-05\" \"2022-12-06\" \"2022-12-07\" \"2022-12-08\" \"2022-12-09\"\n",
              "[76] \"2022-12-10\" \"2022-12-11\" \"2022-12-12\" \"2022-12-13\" \"2022-12-14\"\n",
              "[81] \"2022-12-15\" \"2022-12-16\" \"2022-12-17\" \"2022-12-18\" \"2022-12-19\"\n",
              "[86] \"2022-12-20\" \"2022-12-21\" \"2022-12-22\" \"2022-12-23\" \"2022-12-24\"\n",
              "[91] \"2022-12-25\" \"2022-12-26\"\n",
              "\n"
            ]
          },
          "metadata": {}
        }
      ]
    },
    {
      "cell_type": "code",
      "metadata": {
        "id": "_iwOQA-xTzww",
        "outputId": "00a0b809-d2fc-4563-c2d6-73c4755b988d",
        "colab": {
          "base_uri": "https://localhost:8080/"
        }
      },
      "source": [
        "# estructura\n",
        "str(l1)"
      ],
      "execution_count": 7,
      "outputs": [
        {
          "output_type": "stream",
          "name": "stdout",
          "text": [
            "List of 4\n",
            " $ num      : num 3\n",
            " $ letra    : chr [1:3] \"A\" \"Z\" \"X\"\n",
            " $ mat      : int [1:3, 1:3] 1 0 0 0 2 0 0 0 3\n",
            " $ sub_lista:List of 2\n",
            "  ..$ otro_num: int [1:4] 8 9 10 11\n",
            "  ..$ fechas  : Date[1:92], format: \"2022-09-26\" \"2022-09-27\" ...\n"
          ]
        }
      ]
    },
    {
      "cell_type": "code",
      "source": [
        "length(l1)\n",
        "names(l1)"
      ],
      "metadata": {
        "id": "QkxzYC6jA884",
        "outputId": "8907c99a-b54a-41dd-c13f-53a3ef29df06",
        "colab": {
          "base_uri": "https://localhost:8080/",
          "height": 52
        }
      },
      "execution_count": 9,
      "outputs": [
        {
          "output_type": "display_data",
          "data": {
            "text/html": [
              "4"
            ],
            "text/markdown": "4",
            "text/latex": "4",
            "text/plain": [
              "[1] 4"
            ]
          },
          "metadata": {}
        },
        {
          "output_type": "display_data",
          "data": {
            "text/html": [
              "<style>\n",
              ".list-inline {list-style: none; margin:0; padding: 0}\n",
              ".list-inline>li {display: inline-block}\n",
              ".list-inline>li:not(:last-child)::after {content: \"\\00b7\"; padding: 0 .5ex}\n",
              "</style>\n",
              "<ol class=list-inline><li>'num'</li><li>'letra'</li><li>'mat'</li><li>'sub_lista'</li></ol>\n"
            ],
            "text/markdown": "1. 'num'\n2. 'letra'\n3. 'mat'\n4. 'sub_lista'\n\n\n",
            "text/latex": "\\begin{enumerate*}\n\\item 'num'\n\\item 'letra'\n\\item 'mat'\n\\item 'sub\\_lista'\n\\end{enumerate*}\n",
            "text/plain": [
              "[1] \"num\"       \"letra\"     \"mat\"       \"sub_lista\""
            ]
          },
          "metadata": {}
        }
      ]
    },
    {
      "cell_type": "code",
      "metadata": {
        "trusted": true,
        "id": "Ao1wFCByTpRx",
        "outputId": "6f25ab5c-7c9c-4217-eb23-d0292cc20bbd",
        "colab": {
          "base_uri": "https://localhost:8080/",
          "height": 80
        }
      },
      "source": [
        "# Podemos guardar los objetos en slots con nombres como en l1, o bien sin nomrbes\n",
        "\n",
        "l2 <- list(2, c(T,F,T))\n",
        "l2"
      ],
      "execution_count": 11,
      "outputs": [
        {
          "output_type": "display_data",
          "data": {
            "text/html": [
              "<ol>\n",
              "\t<li>2</li>\n",
              "\t<li><style>\n",
              ".list-inline {list-style: none; margin:0; padding: 0}\n",
              ".list-inline>li {display: inline-block}\n",
              ".list-inline>li:not(:last-child)::after {content: \"\\00b7\"; padding: 0 .5ex}\n",
              "</style>\n",
              "<ol class=list-inline><li>TRUE</li><li>FALSE</li><li>TRUE</li></ol>\n",
              "</li>\n",
              "</ol>\n"
            ],
            "text/markdown": "1. 2\n2. 1. TRUE\n2. FALSE\n3. TRUE\n\n\n\n\n\n",
            "text/latex": "\\begin{enumerate}\n\\item 2\n\\item \\begin{enumerate*}\n\\item TRUE\n\\item FALSE\n\\item TRUE\n\\end{enumerate*}\n\n\\end{enumerate}\n",
            "text/plain": [
              "[[1]]\n",
              "[1] 2\n",
              "\n",
              "[[2]]\n",
              "[1]  TRUE FALSE  TRUE\n"
            ]
          },
          "metadata": {}
        }
      ]
    },
    {
      "cell_type": "code",
      "source": [
        "names(l2) <- c(\"nuevo_num\", \"otro_vect\")"
      ],
      "metadata": {
        "id": "FgLhAaKEBRJz"
      },
      "execution_count": 13,
      "outputs": []
    },
    {
      "cell_type": "code",
      "source": [
        "str(l2)"
      ],
      "metadata": {
        "id": "g6e3Edm4BNG8",
        "outputId": "096728ab-7493-4451-c00f-3d2e7754ef41",
        "colab": {
          "base_uri": "https://localhost:8080/"
        }
      },
      "execution_count": 14,
      "outputs": [
        {
          "output_type": "stream",
          "name": "stdout",
          "text": [
            "List of 2\n",
            " $ nuevo_num: num 2\n",
            " $ otro_vect: logi [1:3] TRUE FALSE TRUE\n"
          ]
        }
      ]
    },
    {
      "cell_type": "code",
      "metadata": {
        "trusted": true,
        "id": "GBuxGL4cTpR0",
        "outputId": "2ac25c34-ad2a-47f5-b013-248ff7ae7f9d",
        "colab": {
          "base_uri": "https://localhost:8080/"
        }
      },
      "source": [
        "# Podemos combinar listas\n",
        "l3 <- c(l1,l2)\n",
        "str(l3)"
      ],
      "execution_count": 16,
      "outputs": [
        {
          "output_type": "stream",
          "name": "stdout",
          "text": [
            "List of 6\n",
            " $ num      : num 3\n",
            " $ letra    : chr [1:3] \"A\" \"Z\" \"X\"\n",
            " $ mat      : int [1:3, 1:3] 1 0 0 0 2 0 0 0 3\n",
            " $ sub_lista:List of 2\n",
            "  ..$ otro_num: int [1:4] 8 9 10 11\n",
            "  ..$ fechas  : Date[1:92], format: \"2022-09-26\" \"2022-09-27\" ...\n",
            " $ nuevo_num: num 2\n",
            " $ otro_vect: logi [1:3] TRUE FALSE TRUE\n"
          ]
        }
      ]
    },
    {
      "cell_type": "code",
      "metadata": {
        "trusted": true,
        "id": "uUv7BQfnTpR3",
        "outputId": "1101c9e3-f7e7-43f2-c88e-c3cc5290935a",
        "colab": {
          "base_uri": "https://localhost:8080/",
          "height": 52
        }
      },
      "source": [
        "# Acceso mediante posición\n",
        "l3[2]"
      ],
      "execution_count": 21,
      "outputs": [
        {
          "output_type": "display_data",
          "data": {
            "text/html": [
              "<strong>$letra</strong> = <style>\n",
              ".list-inline {list-style: none; margin:0; padding: 0}\n",
              ".list-inline>li {display: inline-block}\n",
              ".list-inline>li:not(:last-child)::after {content: \"\\00b7\"; padding: 0 .5ex}\n",
              "</style>\n",
              "<ol class=list-inline><li>'A'</li><li>'Z'</li><li>'X'</li></ol>\n"
            ],
            "text/markdown": "**$letra** = 1. 'A'\n2. 'Z'\n3. 'X'\n\n\n",
            "text/latex": "\\textbf{\\$letra} = \\begin{enumerate*}\n\\item 'A'\n\\item 'Z'\n\\item 'X'\n\\end{enumerate*}\n",
            "text/plain": [
              "$letra\n",
              "[1] \"A\" \"Z\" \"X\"\n"
            ]
          },
          "metadata": {}
        }
      ]
    },
    {
      "cell_type": "code",
      "source": [
        "class(l3[2])"
      ],
      "metadata": {
        "id": "w-JPofTBBxoF",
        "outputId": "0300a2e0-7386-44ea-9818-e0b0994cfe71",
        "colab": {
          "base_uri": "https://localhost:8080/",
          "height": 34
        }
      },
      "execution_count": 19,
      "outputs": [
        {
          "output_type": "display_data",
          "data": {
            "text/html": [
              "'list'"
            ],
            "text/markdown": "'list'",
            "text/latex": "'list'",
            "text/plain": [
              "[1] \"list\""
            ]
          },
          "metadata": {}
        }
      ]
    },
    {
      "cell_type": "code",
      "metadata": {
        "trusted": true,
        "id": "L3RDKUqOTpR5",
        "outputId": "7e6a60cd-2f3f-4132-d07b-12df5768eb48",
        "colab": {
          "base_uri": "https://localhost:8080/",
          "height": 34
        }
      },
      "source": [
        "class(c(\"f\",\"g\"))"
      ],
      "execution_count": 18,
      "outputs": [
        {
          "output_type": "display_data",
          "data": {
            "text/html": [
              "'character'"
            ],
            "text/markdown": "'character'",
            "text/latex": "'character'",
            "text/plain": [
              "[1] \"character\""
            ]
          },
          "metadata": {}
        }
      ]
    },
    {
      "cell_type": "code",
      "metadata": {
        "trusted": true,
        "id": "QbQ8QHARTpR7",
        "outputId": "b566704b-ebbe-44fe-bebb-4b30a4a8fdc6",
        "colab": {
          "base_uri": "https://localhost:8080/",
          "height": 52
        }
      },
      "source": [
        "# NOTA lista[.] retorna un lista con un elemento,\n",
        "# lista[[.]] retorna el elmento de la lista lista[.]\n",
        "\n",
        "l3[[2]]\n",
        "class(l3[[2]])"
      ],
      "execution_count": 23,
      "outputs": [
        {
          "output_type": "display_data",
          "data": {
            "text/html": [
              "<style>\n",
              ".list-inline {list-style: none; margin:0; padding: 0}\n",
              ".list-inline>li {display: inline-block}\n",
              ".list-inline>li:not(:last-child)::after {content: \"\\00b7\"; padding: 0 .5ex}\n",
              "</style>\n",
              "<ol class=list-inline><li>'A'</li><li>'Z'</li><li>'X'</li></ol>\n"
            ],
            "text/markdown": "1. 'A'\n2. 'Z'\n3. 'X'\n\n\n",
            "text/latex": "\\begin{enumerate*}\n\\item 'A'\n\\item 'Z'\n\\item 'X'\n\\end{enumerate*}\n",
            "text/plain": [
              "[1] \"A\" \"Z\" \"X\""
            ]
          },
          "metadata": {}
        },
        {
          "output_type": "display_data",
          "data": {
            "text/html": [
              "'character'"
            ],
            "text/markdown": "'character'",
            "text/latex": "'character'",
            "text/plain": [
              "[1] \"character\""
            ]
          },
          "metadata": {}
        }
      ]
    },
    {
      "cell_type": "code",
      "source": [
        "str(l3)"
      ],
      "metadata": {
        "id": "qSNwpGY3DBfA",
        "outputId": "c5792677-47fb-443b-ff36-65ce950ac1d1",
        "colab": {
          "base_uri": "https://localhost:8080/"
        }
      },
      "execution_count": 27,
      "outputs": [
        {
          "output_type": "stream",
          "name": "stdout",
          "text": [
            "List of 6\n",
            " $ num      : num 3\n",
            " $ letra    : chr [1:3] \"A\" \"Z\" \"X\"\n",
            " $ mat      : int [1:3, 1:3] 1 0 0 0 2 0 0 0 3\n",
            " $ sub_lista:List of 2\n",
            "  ..$ otro_num: int [1:4] 8 9 10 11\n",
            "  ..$ fechas  : Date[1:92], format: \"2022-09-26\" \"2022-09-27\" ...\n",
            " $ nuevo_num: num 2\n",
            " $ otro_vect: logi [1:3] TRUE FALSE TRUE\n"
          ]
        }
      ]
    },
    {
      "cell_type": "code",
      "source": [
        "# del vector que está en la pos 2 de la lista l3, quiero el tercer elemento (\"X\")\n",
        "l3[[2]][3]\n",
        "\n",
        "vector_de_l3 <- l3[[2]]\n",
        "\n",
        "vector_de_l3[3]\n"
      ],
      "metadata": {
        "id": "g129wmIxCTaX",
        "outputId": "875c1668-bdda-4587-cb8a-77906fffa1ec",
        "colab": {
          "base_uri": "https://localhost:8080/",
          "height": 52
        }
      },
      "execution_count": 26,
      "outputs": [
        {
          "output_type": "display_data",
          "data": {
            "text/html": [
              "'X'"
            ],
            "text/markdown": "'X'",
            "text/latex": "'X'",
            "text/plain": [
              "[1] \"X\""
            ]
          },
          "metadata": {}
        },
        {
          "output_type": "display_data",
          "data": {
            "text/html": [
              "'X'"
            ],
            "text/markdown": "'X'",
            "text/latex": "'X'",
            "text/plain": [
              "[1] \"X\""
            ]
          },
          "metadata": {}
        }
      ]
    },
    {
      "cell_type": "code",
      "metadata": {
        "trusted": true,
        "id": "kaOJqYJETpSC",
        "outputId": "d15a9f56-6df9-491a-83f5-9c7fbf7f3670",
        "colab": {
          "base_uri": "https://localhost:8080/",
          "height": 34
        }
      },
      "source": [
        "# de la lista l3[[4]], quiero el vector (no la lista con el vector) que está en el slot llamado \"otro_num\" (primer elemento)\n",
        "l3[[4]][[1]]"
      ],
      "execution_count": 31,
      "outputs": [
        {
          "output_type": "display_data",
          "data": {
            "text/html": [
              "<style>\n",
              ".list-inline {list-style: none; margin:0; padding: 0}\n",
              ".list-inline>li {display: inline-block}\n",
              ".list-inline>li:not(:last-child)::after {content: \"\\00b7\"; padding: 0 .5ex}\n",
              "</style>\n",
              "<ol class=list-inline><li>8</li><li>9</li><li>10</li><li>11</li></ol>\n"
            ],
            "text/markdown": "1. 8\n2. 9\n3. 10\n4. 11\n\n\n",
            "text/latex": "\\begin{enumerate*}\n\\item 8\n\\item 9\n\\item 10\n\\item 11\n\\end{enumerate*}\n",
            "text/plain": [
              "[1]  8  9 10 11"
            ]
          },
          "metadata": {}
        }
      ]
    },
    {
      "cell_type": "code",
      "metadata": {
        "trusted": true,
        "id": "UZ4k5DQ9TpSE",
        "outputId": "d5049443-888d-4998-c176-6eaf18463040",
        "colab": {
          "base_uri": "https://localhost:8080/",
          "height": 34
        }
      },
      "source": [
        "# Y si de lo anterior queremos el tercer elmento\n",
        "l3[[4]][[1]][3]"
      ],
      "execution_count": 32,
      "outputs": [
        {
          "output_type": "display_data",
          "data": {
            "text/html": [
              "10"
            ],
            "text/markdown": "10",
            "text/latex": "10",
            "text/plain": [
              "[1] 10"
            ]
          },
          "metadata": {}
        }
      ]
    },
    {
      "cell_type": "code",
      "metadata": {
        "trusted": true,
        "id": "jYFKb27-TpSG",
        "outputId": "5beabb5e-4063-44d3-d06d-430c8df99ccc",
        "colab": {
          "base_uri": "https://localhost:8080/",
          "height": 34
        }
      },
      "source": [
        "# Acceso mediante nombre\n",
        "l3[[\"sub_lista\"]][[\"otro_num\"]][3]\n"
      ],
      "execution_count": 35,
      "outputs": [
        {
          "output_type": "display_data",
          "data": {
            "text/html": [
              "10"
            ],
            "text/markdown": "10",
            "text/latex": "10",
            "text/plain": [
              "[1] 10"
            ]
          },
          "metadata": {}
        }
      ]
    },
    {
      "cell_type": "code",
      "metadata": {
        "trusted": true,
        "id": "a9UBaNOuTpSI",
        "outputId": "cbdfd297-71f1-4ecb-c14a-86d8ca67733a",
        "colab": {
          "base_uri": "https://localhost:8080/",
          "height": 52
        }
      },
      "source": [
        "# acceso vía \"$\" para acceder directamente al elemento sin pasar por la lista que lo contiene\n",
        "\n",
        "l3$otro_vect\n",
        "\n",
        "# es equivalente a l3[[\"otro_vect\"]]\n",
        "\n",
        "\n",
        "\n"
      ],
      "execution_count": 39,
      "outputs": [
        {
          "output_type": "display_data",
          "data": {
            "text/html": [
              "<style>\n",
              ".list-inline {list-style: none; margin:0; padding: 0}\n",
              ".list-inline>li {display: inline-block}\n",
              ".list-inline>li:not(:last-child)::after {content: \"\\00b7\"; padding: 0 .5ex}\n",
              "</style>\n",
              "<ol class=list-inline><li>TRUE</li><li>FALSE</li><li>TRUE</li></ol>\n"
            ],
            "text/markdown": "1. TRUE\n2. FALSE\n3. TRUE\n\n\n",
            "text/latex": "\\begin{enumerate*}\n\\item TRUE\n\\item FALSE\n\\item TRUE\n\\end{enumerate*}\n",
            "text/plain": [
              "[1]  TRUE FALSE  TRUE"
            ]
          },
          "metadata": {}
        },
        {
          "output_type": "display_data",
          "data": {
            "text/html": [
              "<style>\n",
              ".list-inline {list-style: none; margin:0; padding: 0}\n",
              ".list-inline>li {display: inline-block}\n",
              ".list-inline>li:not(:last-child)::after {content: \"\\00b7\"; padding: 0 .5ex}\n",
              "</style>\n",
              "<ol class=list-inline><li>TRUE</li><li>FALSE</li><li>TRUE</li></ol>\n"
            ],
            "text/markdown": "1. TRUE\n2. FALSE\n3. TRUE\n\n\n",
            "text/latex": "\\begin{enumerate*}\n\\item TRUE\n\\item FALSE\n\\item TRUE\n\\end{enumerate*}\n",
            "text/plain": [
              "[1]  TRUE FALSE  TRUE"
            ]
          },
          "metadata": {}
        }
      ]
    },
    {
      "cell_type": "code",
      "source": [
        "l3$sub_lista$otro_num[3]"
      ],
      "metadata": {
        "id": "LFduvO7dEGXV",
        "outputId": "943312e1-db02-438c-d4ec-48314ac82d1d",
        "colab": {
          "base_uri": "https://localhost:8080/",
          "height": 34
        }
      },
      "execution_count": 41,
      "outputs": [
        {
          "output_type": "display_data",
          "data": {
            "text/html": [
              "10"
            ],
            "text/markdown": "10",
            "text/latex": "10",
            "text/plain": [
              "[1] 10"
            ]
          },
          "metadata": {}
        }
      ]
    },
    {
      "cell_type": "code",
      "metadata": {
        "trusted": true,
        "id": "Dumeo0-NTpSM",
        "outputId": "92011cf5-47cd-404e-b5c9-af0b120776de",
        "colab": {
          "base_uri": "https://localhost:8080/",
          "height": 52
        }
      },
      "source": [
        "# para saber el largo de la lista/vector\n",
        "length(l3)\n",
        "# Para obtener los nombres de la lista\n",
        "names(l3)\n",
        "# si quisiéramos renombrar los slots:\n",
        "names(l3)[3] <- \"matriz\""
      ],
      "execution_count": 45,
      "outputs": [
        {
          "output_type": "display_data",
          "data": {
            "text/html": [
              "6"
            ],
            "text/markdown": "6",
            "text/latex": "6",
            "text/plain": [
              "[1] 6"
            ]
          },
          "metadata": {}
        },
        {
          "output_type": "display_data",
          "data": {
            "text/html": [
              "<style>\n",
              ".list-inline {list-style: none; margin:0; padding: 0}\n",
              ".list-inline>li {display: inline-block}\n",
              ".list-inline>li:not(:last-child)::after {content: \"\\00b7\"; padding: 0 .5ex}\n",
              "</style>\n",
              "<ol class=list-inline><li>'num'</li><li>'letra'</li><li>'mat'</li><li>'sub_lista'</li><li>'nuevo_num'</li><li>'otro_vect'</li></ol>\n"
            ],
            "text/markdown": "1. 'num'\n2. 'letra'\n3. 'mat'\n4. 'sub_lista'\n5. 'nuevo_num'\n6. 'otro_vect'\n\n\n",
            "text/latex": "\\begin{enumerate*}\n\\item 'num'\n\\item 'letra'\n\\item 'mat'\n\\item 'sub\\_lista'\n\\item 'nuevo\\_num'\n\\item 'otro\\_vect'\n\\end{enumerate*}\n",
            "text/plain": [
              "[1] \"num\"       \"letra\"     \"mat\"       \"sub_lista\" \"nuevo_num\" \"otro_vect\""
            ]
          },
          "metadata": {}
        }
      ]
    },
    {
      "cell_type": "code",
      "source": [
        "str(l3)"
      ],
      "metadata": {
        "id": "hdIT2ytGE0U2",
        "outputId": "783d699a-e243-480c-b43e-e7a4432688b4",
        "colab": {
          "base_uri": "https://localhost:8080/"
        }
      },
      "execution_count": 46,
      "outputs": [
        {
          "output_type": "stream",
          "name": "stdout",
          "text": [
            "List of 6\n",
            " $ num      : num 3\n",
            " $ letra    : chr [1:3] \"A\" \"Z\" \"X\"\n",
            " $ matriz   : int [1:3, 1:3] 1 0 0 0 2 0 0 0 3\n",
            " $ sub_lista:List of 2\n",
            "  ..$ otro_num: int [1:4] 8 9 10 11\n",
            "  ..$ fechas  : Date[1:92], format: \"2022-09-26\" \"2022-09-27\" ...\n",
            " $ nuevo_num: num 2\n",
            " $ otro_vect: logi [1:3] TRUE FALSE TRUE\n"
          ]
        }
      ]
    },
    {
      "cell_type": "code",
      "metadata": {
        "trusted": true,
        "id": "Uij1PdVrTpSO"
      },
      "source": [
        "# También podemos crear nuevos \"slots\"\n",
        "## Indicando nombre en [[]] y luego asignando\n",
        "l3[[\"nombres\"]] <- c(\"miguel\", \"Ale\")"
      ],
      "execution_count": 48,
      "outputs": []
    },
    {
      "cell_type": "code",
      "source": [],
      "metadata": {
        "id": "p9lDew_sFPLG"
      },
      "execution_count": null,
      "outputs": []
    },
    {
      "cell_type": "code",
      "source": [
        "l3"
      ],
      "metadata": {
        "id": "ZuFODjWEFLvK",
        "outputId": "f4e7209d-e6c4-46d7-e8c4-602a846c9eb8",
        "colab": {
          "base_uri": "https://localhost:8080/",
          "height": 583
        }
      },
      "execution_count": 49,
      "outputs": [
        {
          "output_type": "display_data",
          "data": {
            "text/html": [
              "<dl>\n",
              "\t<dt>$num</dt>\n",
              "\t\t<dd>3</dd>\n",
              "\t<dt>$letra</dt>\n",
              "\t\t<dd><style>\n",
              ".list-inline {list-style: none; margin:0; padding: 0}\n",
              ".list-inline>li {display: inline-block}\n",
              ".list-inline>li:not(:last-child)::after {content: \"\\00b7\"; padding: 0 .5ex}\n",
              "</style>\n",
              "<ol class=list-inline><li>'A'</li><li>'Z'</li><li>'X'</li></ol>\n",
              "</dd>\n",
              "\t<dt>$matriz</dt>\n",
              "\t\t<dd><table class=\"dataframe\">\n",
              "<caption>A matrix: 3 × 3 of type int</caption>\n",
              "<tbody>\n",
              "\t<tr><td>1</td><td>0</td><td>0</td></tr>\n",
              "\t<tr><td>0</td><td>2</td><td>0</td></tr>\n",
              "\t<tr><td>0</td><td>0</td><td>3</td></tr>\n",
              "</tbody>\n",
              "</table>\n",
              "</dd>\n",
              "\t<dt>$sub_lista</dt>\n",
              "\t\t<dd><dl>\n",
              "\t<dt>$otro_num</dt>\n",
              "\t\t<dd><style>\n",
              ".list-inline {list-style: none; margin:0; padding: 0}\n",
              ".list-inline>li {display: inline-block}\n",
              ".list-inline>li:not(:last-child)::after {content: \"\\00b7\"; padding: 0 .5ex}\n",
              "</style>\n",
              "<ol class=list-inline><li>8</li><li>9</li><li>10</li><li>11</li></ol>\n",
              "</dd>\n",
              "\t<dt>$fechas</dt>\n",
              "\t\t<dd><style>\n",
              ".list-inline {list-style: none; margin:0; padding: 0}\n",
              ".list-inline>li {display: inline-block}\n",
              ".list-inline>li:not(:last-child)::after {content: \"\\00b7\"; padding: 0 .5ex}\n",
              "</style>\n",
              "<ol class=list-inline><li><time datetime=\"2022-09-26\">2022-09-26</time></li><li><time datetime=\"2022-09-27\">2022-09-27</time></li><li><time datetime=\"2022-09-28\">2022-09-28</time></li><li><time datetime=\"2022-09-29\">2022-09-29</time></li><li><time datetime=\"2022-09-30\">2022-09-30</time></li><li><time datetime=\"2022-10-01\">2022-10-01</time></li><li><time datetime=\"2022-10-02\">2022-10-02</time></li><li><time datetime=\"2022-10-03\">2022-10-03</time></li><li><time datetime=\"2022-10-04\">2022-10-04</time></li><li><time datetime=\"2022-10-05\">2022-10-05</time></li><li><time datetime=\"2022-10-06\">2022-10-06</time></li><li><time datetime=\"2022-10-07\">2022-10-07</time></li><li><time datetime=\"2022-10-08\">2022-10-08</time></li><li><time datetime=\"2022-10-09\">2022-10-09</time></li><li><time datetime=\"2022-10-10\">2022-10-10</time></li><li><time datetime=\"2022-10-11\">2022-10-11</time></li><li><time datetime=\"2022-10-12\">2022-10-12</time></li><li><time datetime=\"2022-10-13\">2022-10-13</time></li><li><time datetime=\"2022-10-14\">2022-10-14</time></li><li><time datetime=\"2022-10-15\">2022-10-15</time></li><li><time datetime=\"2022-10-16\">2022-10-16</time></li><li><time datetime=\"2022-10-17\">2022-10-17</time></li><li><time datetime=\"2022-10-18\">2022-10-18</time></li><li><time datetime=\"2022-10-19\">2022-10-19</time></li><li><time datetime=\"2022-10-20\">2022-10-20</time></li><li><time datetime=\"2022-10-21\">2022-10-21</time></li><li><time datetime=\"2022-10-22\">2022-10-22</time></li><li><time datetime=\"2022-10-23\">2022-10-23</time></li><li><time datetime=\"2022-10-24\">2022-10-24</time></li><li><time datetime=\"2022-10-25\">2022-10-25</time></li><li><time datetime=\"2022-10-26\">2022-10-26</time></li><li><time datetime=\"2022-10-27\">2022-10-27</time></li><li><time datetime=\"2022-10-28\">2022-10-28</time></li><li><time datetime=\"2022-10-29\">2022-10-29</time></li><li><time datetime=\"2022-10-30\">2022-10-30</time></li><li><time datetime=\"2022-10-31\">2022-10-31</time></li><li><time datetime=\"2022-11-01\">2022-11-01</time></li><li><time datetime=\"2022-11-02\">2022-11-02</time></li><li><time datetime=\"2022-11-03\">2022-11-03</time></li><li><time datetime=\"2022-11-04\">2022-11-04</time></li><li><time datetime=\"2022-11-05\">2022-11-05</time></li><li><time datetime=\"2022-11-06\">2022-11-06</time></li><li><time datetime=\"2022-11-07\">2022-11-07</time></li><li><time datetime=\"2022-11-08\">2022-11-08</time></li><li><time datetime=\"2022-11-09\">2022-11-09</time></li><li><time datetime=\"2022-11-10\">2022-11-10</time></li><li><time datetime=\"2022-11-11\">2022-11-11</time></li><li><time datetime=\"2022-11-12\">2022-11-12</time></li><li><time datetime=\"2022-11-13\">2022-11-13</time></li><li><time datetime=\"2022-11-14\">2022-11-14</time></li><li><time datetime=\"2022-11-15\">2022-11-15</time></li><li><time datetime=\"2022-11-16\">2022-11-16</time></li><li><time datetime=\"2022-11-17\">2022-11-17</time></li><li><time datetime=\"2022-11-18\">2022-11-18</time></li><li><time datetime=\"2022-11-19\">2022-11-19</time></li><li><time datetime=\"2022-11-20\">2022-11-20</time></li><li><time datetime=\"2022-11-21\">2022-11-21</time></li><li><time datetime=\"2022-11-22\">2022-11-22</time></li><li><time datetime=\"2022-11-23\">2022-11-23</time></li><li><time datetime=\"2022-11-24\">2022-11-24</time></li><li><time datetime=\"2022-11-25\">2022-11-25</time></li><li><time datetime=\"2022-11-26\">2022-11-26</time></li><li><time datetime=\"2022-11-27\">2022-11-27</time></li><li><time datetime=\"2022-11-28\">2022-11-28</time></li><li><time datetime=\"2022-11-29\">2022-11-29</time></li><li><time datetime=\"2022-11-30\">2022-11-30</time></li><li><time datetime=\"2022-12-01\">2022-12-01</time></li><li><time datetime=\"2022-12-02\">2022-12-02</time></li><li><time datetime=\"2022-12-03\">2022-12-03</time></li><li><time datetime=\"2022-12-04\">2022-12-04</time></li><li><time datetime=\"2022-12-05\">2022-12-05</time></li><li><time datetime=\"2022-12-06\">2022-12-06</time></li><li><time datetime=\"2022-12-07\">2022-12-07</time></li><li><time datetime=\"2022-12-08\">2022-12-08</time></li><li><time datetime=\"2022-12-09\">2022-12-09</time></li><li><time datetime=\"2022-12-10\">2022-12-10</time></li><li><time datetime=\"2022-12-11\">2022-12-11</time></li><li><time datetime=\"2022-12-12\">2022-12-12</time></li><li><time datetime=\"2022-12-13\">2022-12-13</time></li><li><time datetime=\"2022-12-14\">2022-12-14</time></li><li><time datetime=\"2022-12-15\">2022-12-15</time></li><li><time datetime=\"2022-12-16\">2022-12-16</time></li><li><time datetime=\"2022-12-17\">2022-12-17</time></li><li><time datetime=\"2022-12-18\">2022-12-18</time></li><li><time datetime=\"2022-12-19\">2022-12-19</time></li><li><time datetime=\"2022-12-20\">2022-12-20</time></li><li><time datetime=\"2022-12-21\">2022-12-21</time></li><li><time datetime=\"2022-12-22\">2022-12-22</time></li><li><time datetime=\"2022-12-23\">2022-12-23</time></li><li><time datetime=\"2022-12-24\">2022-12-24</time></li><li><time datetime=\"2022-12-25\">2022-12-25</time></li><li><time datetime=\"2022-12-26\">2022-12-26</time></li></ol>\n",
              "</dd>\n",
              "</dl>\n",
              "</dd>\n",
              "\t<dt>$nuevo_num</dt>\n",
              "\t\t<dd>2</dd>\n",
              "\t<dt>$otro_vect</dt>\n",
              "\t\t<dd><style>\n",
              ".list-inline {list-style: none; margin:0; padding: 0}\n",
              ".list-inline>li {display: inline-block}\n",
              ".list-inline>li:not(:last-child)::after {content: \"\\00b7\"; padding: 0 .5ex}\n",
              "</style>\n",
              "<ol class=list-inline><li>TRUE</li><li>FALSE</li><li>TRUE</li></ol>\n",
              "</dd>\n",
              "\t<dt>$nombres</dt>\n",
              "\t\t<dd><style>\n",
              ".list-inline {list-style: none; margin:0; padding: 0}\n",
              ".list-inline>li {display: inline-block}\n",
              ".list-inline>li:not(:last-child)::after {content: \"\\00b7\"; padding: 0 .5ex}\n",
              "</style>\n",
              "<ol class=list-inline><li>'miguel'</li><li>'Ale'</li></ol>\n",
              "</dd>\n",
              "</dl>\n"
            ],
            "text/markdown": "$num\n:   3\n$letra\n:   1. 'A'\n2. 'Z'\n3. 'X'\n\n\n\n$matriz\n:   \nA matrix: 3 × 3 of type int\n\n| 1 | 0 | 0 |\n| 0 | 2 | 0 |\n| 0 | 0 | 3 |\n\n\n$sub_lista\n:   $otro_num\n:   1. 8\n2. 9\n3. 10\n4. 11\n\n\n\n$fechas\n:   1. 2022-09-26\n2. 2022-09-27\n3. 2022-09-28\n4. 2022-09-29\n5. 2022-09-30\n6. 2022-10-01\n7. 2022-10-02\n8. 2022-10-03\n9. 2022-10-04\n10. 2022-10-05\n11. 2022-10-06\n12. 2022-10-07\n13. 2022-10-08\n14. 2022-10-09\n15. 2022-10-10\n16. 2022-10-11\n17. 2022-10-12\n18. 2022-10-13\n19. 2022-10-14\n20. 2022-10-15\n21. 2022-10-16\n22. 2022-10-17\n23. 2022-10-18\n24. 2022-10-19\n25. 2022-10-20\n26. 2022-10-21\n27. 2022-10-22\n28. 2022-10-23\n29. 2022-10-24\n30. 2022-10-25\n31. 2022-10-26\n32. 2022-10-27\n33. 2022-10-28\n34. 2022-10-29\n35. 2022-10-30\n36. 2022-10-31\n37. 2022-11-01\n38. 2022-11-02\n39. 2022-11-03\n40. 2022-11-04\n41. 2022-11-05\n42. 2022-11-06\n43. 2022-11-07\n44. 2022-11-08\n45. 2022-11-09\n46. 2022-11-10\n47. 2022-11-11\n48. 2022-11-12\n49. 2022-11-13\n50. 2022-11-14\n51. 2022-11-15\n52. 2022-11-16\n53. 2022-11-17\n54. 2022-11-18\n55. 2022-11-19\n56. 2022-11-20\n57. 2022-11-21\n58. 2022-11-22\n59. 2022-11-23\n60. 2022-11-24\n61. 2022-11-25\n62. 2022-11-26\n63. 2022-11-27\n64. 2022-11-28\n65. 2022-11-29\n66. 2022-11-30\n67. 2022-12-01\n68. 2022-12-02\n69. 2022-12-03\n70. 2022-12-04\n71. 2022-12-05\n72. 2022-12-06\n73. 2022-12-07\n74. 2022-12-08\n75. 2022-12-09\n76. 2022-12-10\n77. 2022-12-11\n78. 2022-12-12\n79. 2022-12-13\n80. 2022-12-14\n81. 2022-12-15\n82. 2022-12-16\n83. 2022-12-17\n84. 2022-12-18\n85. 2022-12-19\n86. 2022-12-20\n87. 2022-12-21\n88. 2022-12-22\n89. 2022-12-23\n90. 2022-12-24\n91. 2022-12-25\n92. 2022-12-26\n\n\n\n\n\n\n$nuevo_num\n:   2\n$otro_vect\n:   1. TRUE\n2. FALSE\n3. TRUE\n\n\n\n$nombres\n:   1. 'miguel'\n2. 'Ale'\n\n\n\n\n\n",
            "text/latex": "\\begin{description}\n\\item[\\$num] 3\n\\item[\\$letra] \\begin{enumerate*}\n\\item 'A'\n\\item 'Z'\n\\item 'X'\n\\end{enumerate*}\n\n\\item[\\$matriz] A matrix: 3 × 3 of type int\n\\begin{tabular}{lll}\n\t 1 & 0 & 0\\\\\n\t 0 & 2 & 0\\\\\n\t 0 & 0 & 3\\\\\n\\end{tabular}\n\n\\item[\\$sub\\_lista] \\begin{description}\n\\item[\\$otro\\_num] \\begin{enumerate*}\n\\item 8\n\\item 9\n\\item 10\n\\item 11\n\\end{enumerate*}\n\n\\item[\\$fechas] \\begin{enumerate*}\n\\item 2022-09-26\n\\item 2022-09-27\n\\item 2022-09-28\n\\item 2022-09-29\n\\item 2022-09-30\n\\item 2022-10-01\n\\item 2022-10-02\n\\item 2022-10-03\n\\item 2022-10-04\n\\item 2022-10-05\n\\item 2022-10-06\n\\item 2022-10-07\n\\item 2022-10-08\n\\item 2022-10-09\n\\item 2022-10-10\n\\item 2022-10-11\n\\item 2022-10-12\n\\item 2022-10-13\n\\item 2022-10-14\n\\item 2022-10-15\n\\item 2022-10-16\n\\item 2022-10-17\n\\item 2022-10-18\n\\item 2022-10-19\n\\item 2022-10-20\n\\item 2022-10-21\n\\item 2022-10-22\n\\item 2022-10-23\n\\item 2022-10-24\n\\item 2022-10-25\n\\item 2022-10-26\n\\item 2022-10-27\n\\item 2022-10-28\n\\item 2022-10-29\n\\item 2022-10-30\n\\item 2022-10-31\n\\item 2022-11-01\n\\item 2022-11-02\n\\item 2022-11-03\n\\item 2022-11-04\n\\item 2022-11-05\n\\item 2022-11-06\n\\item 2022-11-07\n\\item 2022-11-08\n\\item 2022-11-09\n\\item 2022-11-10\n\\item 2022-11-11\n\\item 2022-11-12\n\\item 2022-11-13\n\\item 2022-11-14\n\\item 2022-11-15\n\\item 2022-11-16\n\\item 2022-11-17\n\\item 2022-11-18\n\\item 2022-11-19\n\\item 2022-11-20\n\\item 2022-11-21\n\\item 2022-11-22\n\\item 2022-11-23\n\\item 2022-11-24\n\\item 2022-11-25\n\\item 2022-11-26\n\\item 2022-11-27\n\\item 2022-11-28\n\\item 2022-11-29\n\\item 2022-11-30\n\\item 2022-12-01\n\\item 2022-12-02\n\\item 2022-12-03\n\\item 2022-12-04\n\\item 2022-12-05\n\\item 2022-12-06\n\\item 2022-12-07\n\\item 2022-12-08\n\\item 2022-12-09\n\\item 2022-12-10\n\\item 2022-12-11\n\\item 2022-12-12\n\\item 2022-12-13\n\\item 2022-12-14\n\\item 2022-12-15\n\\item 2022-12-16\n\\item 2022-12-17\n\\item 2022-12-18\n\\item 2022-12-19\n\\item 2022-12-20\n\\item 2022-12-21\n\\item 2022-12-22\n\\item 2022-12-23\n\\item 2022-12-24\n\\item 2022-12-25\n\\item 2022-12-26\n\\end{enumerate*}\n\n\\end{description}\n\n\\item[\\$nuevo\\_num] 2\n\\item[\\$otro\\_vect] \\begin{enumerate*}\n\\item TRUE\n\\item FALSE\n\\item TRUE\n\\end{enumerate*}\n\n\\item[\\$nombres] \\begin{enumerate*}\n\\item 'miguel'\n\\item 'Ale'\n\\end{enumerate*}\n\n\\end{description}\n",
            "text/plain": [
              "$num\n",
              "[1] 3\n",
              "\n",
              "$letra\n",
              "[1] \"A\" \"Z\" \"X\"\n",
              "\n",
              "$matriz\n",
              "     [,1] [,2] [,3]\n",
              "[1,]    1    0    0\n",
              "[2,]    0    2    0\n",
              "[3,]    0    0    3\n",
              "\n",
              "$sub_lista\n",
              "$sub_lista$otro_num\n",
              "[1]  8  9 10 11\n",
              "\n",
              "$sub_lista$fechas\n",
              " [1] \"2022-09-26\" \"2022-09-27\" \"2022-09-28\" \"2022-09-29\" \"2022-09-30\"\n",
              " [6] \"2022-10-01\" \"2022-10-02\" \"2022-10-03\" \"2022-10-04\" \"2022-10-05\"\n",
              "[11] \"2022-10-06\" \"2022-10-07\" \"2022-10-08\" \"2022-10-09\" \"2022-10-10\"\n",
              "[16] \"2022-10-11\" \"2022-10-12\" \"2022-10-13\" \"2022-10-14\" \"2022-10-15\"\n",
              "[21] \"2022-10-16\" \"2022-10-17\" \"2022-10-18\" \"2022-10-19\" \"2022-10-20\"\n",
              "[26] \"2022-10-21\" \"2022-10-22\" \"2022-10-23\" \"2022-10-24\" \"2022-10-25\"\n",
              "[31] \"2022-10-26\" \"2022-10-27\" \"2022-10-28\" \"2022-10-29\" \"2022-10-30\"\n",
              "[36] \"2022-10-31\" \"2022-11-01\" \"2022-11-02\" \"2022-11-03\" \"2022-11-04\"\n",
              "[41] \"2022-11-05\" \"2022-11-06\" \"2022-11-07\" \"2022-11-08\" \"2022-11-09\"\n",
              "[46] \"2022-11-10\" \"2022-11-11\" \"2022-11-12\" \"2022-11-13\" \"2022-11-14\"\n",
              "[51] \"2022-11-15\" \"2022-11-16\" \"2022-11-17\" \"2022-11-18\" \"2022-11-19\"\n",
              "[56] \"2022-11-20\" \"2022-11-21\" \"2022-11-22\" \"2022-11-23\" \"2022-11-24\"\n",
              "[61] \"2022-11-25\" \"2022-11-26\" \"2022-11-27\" \"2022-11-28\" \"2022-11-29\"\n",
              "[66] \"2022-11-30\" \"2022-12-01\" \"2022-12-02\" \"2022-12-03\" \"2022-12-04\"\n",
              "[71] \"2022-12-05\" \"2022-12-06\" \"2022-12-07\" \"2022-12-08\" \"2022-12-09\"\n",
              "[76] \"2022-12-10\" \"2022-12-11\" \"2022-12-12\" \"2022-12-13\" \"2022-12-14\"\n",
              "[81] \"2022-12-15\" \"2022-12-16\" \"2022-12-17\" \"2022-12-18\" \"2022-12-19\"\n",
              "[86] \"2022-12-20\" \"2022-12-21\" \"2022-12-22\" \"2022-12-23\" \"2022-12-24\"\n",
              "[91] \"2022-12-25\" \"2022-12-26\"\n",
              "\n",
              "\n",
              "$nuevo_num\n",
              "[1] 2\n",
              "\n",
              "$otro_vect\n",
              "[1]  TRUE FALSE  TRUE\n",
              "\n",
              "$nombres\n",
              "[1] \"miguel\" \"Ale\"   \n"
            ]
          },
          "metadata": {}
        }
      ]
    },
    {
      "cell_type": "code",
      "source": [
        "l3$otros_nombres <- c(\"Jorge\", \"Rodrigo\",\"Àngel\")"
      ],
      "metadata": {
        "id": "PQ7_TM9JFQX_"
      },
      "execution_count": 51,
      "outputs": []
    },
    {
      "cell_type": "code",
      "source": [
        "c(l3[1:3], list(otra_cosa = 1000), l3[4:8])"
      ],
      "metadata": {
        "id": "76XdlzXsFiQh",
        "outputId": "14ace6b4-2d07-4742-fe66-29065befbcca",
        "colab": {
          "base_uri": "https://localhost:8080/",
          "height": 653
        }
      },
      "execution_count": 54,
      "outputs": [
        {
          "output_type": "display_data",
          "data": {
            "text/html": [
              "<dl>\n",
              "\t<dt>$num</dt>\n",
              "\t\t<dd>3</dd>\n",
              "\t<dt>$letra</dt>\n",
              "\t\t<dd><style>\n",
              ".list-inline {list-style: none; margin:0; padding: 0}\n",
              ".list-inline>li {display: inline-block}\n",
              ".list-inline>li:not(:last-child)::after {content: \"\\00b7\"; padding: 0 .5ex}\n",
              "</style>\n",
              "<ol class=list-inline><li>'A'</li><li>'Z'</li><li>'X'</li></ol>\n",
              "</dd>\n",
              "\t<dt>$matriz</dt>\n",
              "\t\t<dd><table class=\"dataframe\">\n",
              "<caption>A matrix: 3 × 3 of type int</caption>\n",
              "<tbody>\n",
              "\t<tr><td>1</td><td>0</td><td>0</td></tr>\n",
              "\t<tr><td>0</td><td>2</td><td>0</td></tr>\n",
              "\t<tr><td>0</td><td>0</td><td>3</td></tr>\n",
              "</tbody>\n",
              "</table>\n",
              "</dd>\n",
              "\t<dt>$otra_cosa</dt>\n",
              "\t\t<dd>1000</dd>\n",
              "\t<dt>$sub_lista</dt>\n",
              "\t\t<dd><dl>\n",
              "\t<dt>$otro_num</dt>\n",
              "\t\t<dd><style>\n",
              ".list-inline {list-style: none; margin:0; padding: 0}\n",
              ".list-inline>li {display: inline-block}\n",
              ".list-inline>li:not(:last-child)::after {content: \"\\00b7\"; padding: 0 .5ex}\n",
              "</style>\n",
              "<ol class=list-inline><li>8</li><li>9</li><li>10</li><li>11</li></ol>\n",
              "</dd>\n",
              "\t<dt>$fechas</dt>\n",
              "\t\t<dd><style>\n",
              ".list-inline {list-style: none; margin:0; padding: 0}\n",
              ".list-inline>li {display: inline-block}\n",
              ".list-inline>li:not(:last-child)::after {content: \"\\00b7\"; padding: 0 .5ex}\n",
              "</style>\n",
              "<ol class=list-inline><li><time datetime=\"2022-09-26\">2022-09-26</time></li><li><time datetime=\"2022-09-27\">2022-09-27</time></li><li><time datetime=\"2022-09-28\">2022-09-28</time></li><li><time datetime=\"2022-09-29\">2022-09-29</time></li><li><time datetime=\"2022-09-30\">2022-09-30</time></li><li><time datetime=\"2022-10-01\">2022-10-01</time></li><li><time datetime=\"2022-10-02\">2022-10-02</time></li><li><time datetime=\"2022-10-03\">2022-10-03</time></li><li><time datetime=\"2022-10-04\">2022-10-04</time></li><li><time datetime=\"2022-10-05\">2022-10-05</time></li><li><time datetime=\"2022-10-06\">2022-10-06</time></li><li><time datetime=\"2022-10-07\">2022-10-07</time></li><li><time datetime=\"2022-10-08\">2022-10-08</time></li><li><time datetime=\"2022-10-09\">2022-10-09</time></li><li><time datetime=\"2022-10-10\">2022-10-10</time></li><li><time datetime=\"2022-10-11\">2022-10-11</time></li><li><time datetime=\"2022-10-12\">2022-10-12</time></li><li><time datetime=\"2022-10-13\">2022-10-13</time></li><li><time datetime=\"2022-10-14\">2022-10-14</time></li><li><time datetime=\"2022-10-15\">2022-10-15</time></li><li><time datetime=\"2022-10-16\">2022-10-16</time></li><li><time datetime=\"2022-10-17\">2022-10-17</time></li><li><time datetime=\"2022-10-18\">2022-10-18</time></li><li><time datetime=\"2022-10-19\">2022-10-19</time></li><li><time datetime=\"2022-10-20\">2022-10-20</time></li><li><time datetime=\"2022-10-21\">2022-10-21</time></li><li><time datetime=\"2022-10-22\">2022-10-22</time></li><li><time datetime=\"2022-10-23\">2022-10-23</time></li><li><time datetime=\"2022-10-24\">2022-10-24</time></li><li><time datetime=\"2022-10-25\">2022-10-25</time></li><li><time datetime=\"2022-10-26\">2022-10-26</time></li><li><time datetime=\"2022-10-27\">2022-10-27</time></li><li><time datetime=\"2022-10-28\">2022-10-28</time></li><li><time datetime=\"2022-10-29\">2022-10-29</time></li><li><time datetime=\"2022-10-30\">2022-10-30</time></li><li><time datetime=\"2022-10-31\">2022-10-31</time></li><li><time datetime=\"2022-11-01\">2022-11-01</time></li><li><time datetime=\"2022-11-02\">2022-11-02</time></li><li><time datetime=\"2022-11-03\">2022-11-03</time></li><li><time datetime=\"2022-11-04\">2022-11-04</time></li><li><time datetime=\"2022-11-05\">2022-11-05</time></li><li><time datetime=\"2022-11-06\">2022-11-06</time></li><li><time datetime=\"2022-11-07\">2022-11-07</time></li><li><time datetime=\"2022-11-08\">2022-11-08</time></li><li><time datetime=\"2022-11-09\">2022-11-09</time></li><li><time datetime=\"2022-11-10\">2022-11-10</time></li><li><time datetime=\"2022-11-11\">2022-11-11</time></li><li><time datetime=\"2022-11-12\">2022-11-12</time></li><li><time datetime=\"2022-11-13\">2022-11-13</time></li><li><time datetime=\"2022-11-14\">2022-11-14</time></li><li><time datetime=\"2022-11-15\">2022-11-15</time></li><li><time datetime=\"2022-11-16\">2022-11-16</time></li><li><time datetime=\"2022-11-17\">2022-11-17</time></li><li><time datetime=\"2022-11-18\">2022-11-18</time></li><li><time datetime=\"2022-11-19\">2022-11-19</time></li><li><time datetime=\"2022-11-20\">2022-11-20</time></li><li><time datetime=\"2022-11-21\">2022-11-21</time></li><li><time datetime=\"2022-11-22\">2022-11-22</time></li><li><time datetime=\"2022-11-23\">2022-11-23</time></li><li><time datetime=\"2022-11-24\">2022-11-24</time></li><li><time datetime=\"2022-11-25\">2022-11-25</time></li><li><time datetime=\"2022-11-26\">2022-11-26</time></li><li><time datetime=\"2022-11-27\">2022-11-27</time></li><li><time datetime=\"2022-11-28\">2022-11-28</time></li><li><time datetime=\"2022-11-29\">2022-11-29</time></li><li><time datetime=\"2022-11-30\">2022-11-30</time></li><li><time datetime=\"2022-12-01\">2022-12-01</time></li><li><time datetime=\"2022-12-02\">2022-12-02</time></li><li><time datetime=\"2022-12-03\">2022-12-03</time></li><li><time datetime=\"2022-12-04\">2022-12-04</time></li><li><time datetime=\"2022-12-05\">2022-12-05</time></li><li><time datetime=\"2022-12-06\">2022-12-06</time></li><li><time datetime=\"2022-12-07\">2022-12-07</time></li><li><time datetime=\"2022-12-08\">2022-12-08</time></li><li><time datetime=\"2022-12-09\">2022-12-09</time></li><li><time datetime=\"2022-12-10\">2022-12-10</time></li><li><time datetime=\"2022-12-11\">2022-12-11</time></li><li><time datetime=\"2022-12-12\">2022-12-12</time></li><li><time datetime=\"2022-12-13\">2022-12-13</time></li><li><time datetime=\"2022-12-14\">2022-12-14</time></li><li><time datetime=\"2022-12-15\">2022-12-15</time></li><li><time datetime=\"2022-12-16\">2022-12-16</time></li><li><time datetime=\"2022-12-17\">2022-12-17</time></li><li><time datetime=\"2022-12-18\">2022-12-18</time></li><li><time datetime=\"2022-12-19\">2022-12-19</time></li><li><time datetime=\"2022-12-20\">2022-12-20</time></li><li><time datetime=\"2022-12-21\">2022-12-21</time></li><li><time datetime=\"2022-12-22\">2022-12-22</time></li><li><time datetime=\"2022-12-23\">2022-12-23</time></li><li><time datetime=\"2022-12-24\">2022-12-24</time></li><li><time datetime=\"2022-12-25\">2022-12-25</time></li><li><time datetime=\"2022-12-26\">2022-12-26</time></li></ol>\n",
              "</dd>\n",
              "</dl>\n",
              "</dd>\n",
              "\t<dt>$nuevo_num</dt>\n",
              "\t\t<dd>2</dd>\n",
              "\t<dt>$otro_vect</dt>\n",
              "\t\t<dd><style>\n",
              ".list-inline {list-style: none; margin:0; padding: 0}\n",
              ".list-inline>li {display: inline-block}\n",
              ".list-inline>li:not(:last-child)::after {content: \"\\00b7\"; padding: 0 .5ex}\n",
              "</style>\n",
              "<ol class=list-inline><li>TRUE</li><li>FALSE</li><li>TRUE</li></ol>\n",
              "</dd>\n",
              "\t<dt>$nombres</dt>\n",
              "\t\t<dd><style>\n",
              ".list-inline {list-style: none; margin:0; padding: 0}\n",
              ".list-inline>li {display: inline-block}\n",
              ".list-inline>li:not(:last-child)::after {content: \"\\00b7\"; padding: 0 .5ex}\n",
              "</style>\n",
              "<ol class=list-inline><li>'miguel'</li><li>'Ale'</li></ol>\n",
              "</dd>\n",
              "\t<dt>$otros_nombres</dt>\n",
              "\t\t<dd><style>\n",
              ".list-inline {list-style: none; margin:0; padding: 0}\n",
              ".list-inline>li {display: inline-block}\n",
              ".list-inline>li:not(:last-child)::after {content: \"\\00b7\"; padding: 0 .5ex}\n",
              "</style>\n",
              "<ol class=list-inline><li>'Jorge'</li><li>'Rodrigo'</li><li>'Àngel'</li></ol>\n",
              "</dd>\n",
              "</dl>\n"
            ],
            "text/markdown": "$num\n:   3\n$letra\n:   1. 'A'\n2. 'Z'\n3. 'X'\n\n\n\n$matriz\n:   \nA matrix: 3 × 3 of type int\n\n| 1 | 0 | 0 |\n| 0 | 2 | 0 |\n| 0 | 0 | 3 |\n\n\n$otra_cosa\n:   1000\n$sub_lista\n:   $otro_num\n:   1. 8\n2. 9\n3. 10\n4. 11\n\n\n\n$fechas\n:   1. 2022-09-26\n2. 2022-09-27\n3. 2022-09-28\n4. 2022-09-29\n5. 2022-09-30\n6. 2022-10-01\n7. 2022-10-02\n8. 2022-10-03\n9. 2022-10-04\n10. 2022-10-05\n11. 2022-10-06\n12. 2022-10-07\n13. 2022-10-08\n14. 2022-10-09\n15. 2022-10-10\n16. 2022-10-11\n17. 2022-10-12\n18. 2022-10-13\n19. 2022-10-14\n20. 2022-10-15\n21. 2022-10-16\n22. 2022-10-17\n23. 2022-10-18\n24. 2022-10-19\n25. 2022-10-20\n26. 2022-10-21\n27. 2022-10-22\n28. 2022-10-23\n29. 2022-10-24\n30. 2022-10-25\n31. 2022-10-26\n32. 2022-10-27\n33. 2022-10-28\n34. 2022-10-29\n35. 2022-10-30\n36. 2022-10-31\n37. 2022-11-01\n38. 2022-11-02\n39. 2022-11-03\n40. 2022-11-04\n41. 2022-11-05\n42. 2022-11-06\n43. 2022-11-07\n44. 2022-11-08\n45. 2022-11-09\n46. 2022-11-10\n47. 2022-11-11\n48. 2022-11-12\n49. 2022-11-13\n50. 2022-11-14\n51. 2022-11-15\n52. 2022-11-16\n53. 2022-11-17\n54. 2022-11-18\n55. 2022-11-19\n56. 2022-11-20\n57. 2022-11-21\n58. 2022-11-22\n59. 2022-11-23\n60. 2022-11-24\n61. 2022-11-25\n62. 2022-11-26\n63. 2022-11-27\n64. 2022-11-28\n65. 2022-11-29\n66. 2022-11-30\n67. 2022-12-01\n68. 2022-12-02\n69. 2022-12-03\n70. 2022-12-04\n71. 2022-12-05\n72. 2022-12-06\n73. 2022-12-07\n74. 2022-12-08\n75. 2022-12-09\n76. 2022-12-10\n77. 2022-12-11\n78. 2022-12-12\n79. 2022-12-13\n80. 2022-12-14\n81. 2022-12-15\n82. 2022-12-16\n83. 2022-12-17\n84. 2022-12-18\n85. 2022-12-19\n86. 2022-12-20\n87. 2022-12-21\n88. 2022-12-22\n89. 2022-12-23\n90. 2022-12-24\n91. 2022-12-25\n92. 2022-12-26\n\n\n\n\n\n\n$nuevo_num\n:   2\n$otro_vect\n:   1. TRUE\n2. FALSE\n3. TRUE\n\n\n\n$nombres\n:   1. 'miguel'\n2. 'Ale'\n\n\n\n$otros_nombres\n:   1. 'Jorge'\n2. 'Rodrigo'\n3. 'Àngel'\n\n\n\n\n\n",
            "text/latex": "\\begin{description}\n\\item[\\$num] 3\n\\item[\\$letra] \\begin{enumerate*}\n\\item 'A'\n\\item 'Z'\n\\item 'X'\n\\end{enumerate*}\n\n\\item[\\$matriz] A matrix: 3 × 3 of type int\n\\begin{tabular}{lll}\n\t 1 & 0 & 0\\\\\n\t 0 & 2 & 0\\\\\n\t 0 & 0 & 3\\\\\n\\end{tabular}\n\n\\item[\\$otra\\_cosa] 1000\n\\item[\\$sub\\_lista] \\begin{description}\n\\item[\\$otro\\_num] \\begin{enumerate*}\n\\item 8\n\\item 9\n\\item 10\n\\item 11\n\\end{enumerate*}\n\n\\item[\\$fechas] \\begin{enumerate*}\n\\item 2022-09-26\n\\item 2022-09-27\n\\item 2022-09-28\n\\item 2022-09-29\n\\item 2022-09-30\n\\item 2022-10-01\n\\item 2022-10-02\n\\item 2022-10-03\n\\item 2022-10-04\n\\item 2022-10-05\n\\item 2022-10-06\n\\item 2022-10-07\n\\item 2022-10-08\n\\item 2022-10-09\n\\item 2022-10-10\n\\item 2022-10-11\n\\item 2022-10-12\n\\item 2022-10-13\n\\item 2022-10-14\n\\item 2022-10-15\n\\item 2022-10-16\n\\item 2022-10-17\n\\item 2022-10-18\n\\item 2022-10-19\n\\item 2022-10-20\n\\item 2022-10-21\n\\item 2022-10-22\n\\item 2022-10-23\n\\item 2022-10-24\n\\item 2022-10-25\n\\item 2022-10-26\n\\item 2022-10-27\n\\item 2022-10-28\n\\item 2022-10-29\n\\item 2022-10-30\n\\item 2022-10-31\n\\item 2022-11-01\n\\item 2022-11-02\n\\item 2022-11-03\n\\item 2022-11-04\n\\item 2022-11-05\n\\item 2022-11-06\n\\item 2022-11-07\n\\item 2022-11-08\n\\item 2022-11-09\n\\item 2022-11-10\n\\item 2022-11-11\n\\item 2022-11-12\n\\item 2022-11-13\n\\item 2022-11-14\n\\item 2022-11-15\n\\item 2022-11-16\n\\item 2022-11-17\n\\item 2022-11-18\n\\item 2022-11-19\n\\item 2022-11-20\n\\item 2022-11-21\n\\item 2022-11-22\n\\item 2022-11-23\n\\item 2022-11-24\n\\item 2022-11-25\n\\item 2022-11-26\n\\item 2022-11-27\n\\item 2022-11-28\n\\item 2022-11-29\n\\item 2022-11-30\n\\item 2022-12-01\n\\item 2022-12-02\n\\item 2022-12-03\n\\item 2022-12-04\n\\item 2022-12-05\n\\item 2022-12-06\n\\item 2022-12-07\n\\item 2022-12-08\n\\item 2022-12-09\n\\item 2022-12-10\n\\item 2022-12-11\n\\item 2022-12-12\n\\item 2022-12-13\n\\item 2022-12-14\n\\item 2022-12-15\n\\item 2022-12-16\n\\item 2022-12-17\n\\item 2022-12-18\n\\item 2022-12-19\n\\item 2022-12-20\n\\item 2022-12-21\n\\item 2022-12-22\n\\item 2022-12-23\n\\item 2022-12-24\n\\item 2022-12-25\n\\item 2022-12-26\n\\end{enumerate*}\n\n\\end{description}\n\n\\item[\\$nuevo\\_num] 2\n\\item[\\$otro\\_vect] \\begin{enumerate*}\n\\item TRUE\n\\item FALSE\n\\item TRUE\n\\end{enumerate*}\n\n\\item[\\$nombres] \\begin{enumerate*}\n\\item 'miguel'\n\\item 'Ale'\n\\end{enumerate*}\n\n\\item[\\$otros\\_nombres] \\begin{enumerate*}\n\\item 'Jorge'\n\\item 'Rodrigo'\n\\item 'Àngel'\n\\end{enumerate*}\n\n\\end{description}\n",
            "text/plain": [
              "$num\n",
              "[1] 3\n",
              "\n",
              "$letra\n",
              "[1] \"A\" \"Z\" \"X\"\n",
              "\n",
              "$matriz\n",
              "     [,1] [,2] [,3]\n",
              "[1,]    1    0    0\n",
              "[2,]    0    2    0\n",
              "[3,]    0    0    3\n",
              "\n",
              "$otra_cosa\n",
              "[1] 1000\n",
              "\n",
              "$sub_lista\n",
              "$sub_lista$otro_num\n",
              "[1]  8  9 10 11\n",
              "\n",
              "$sub_lista$fechas\n",
              " [1] \"2022-09-26\" \"2022-09-27\" \"2022-09-28\" \"2022-09-29\" \"2022-09-30\"\n",
              " [6] \"2022-10-01\" \"2022-10-02\" \"2022-10-03\" \"2022-10-04\" \"2022-10-05\"\n",
              "[11] \"2022-10-06\" \"2022-10-07\" \"2022-10-08\" \"2022-10-09\" \"2022-10-10\"\n",
              "[16] \"2022-10-11\" \"2022-10-12\" \"2022-10-13\" \"2022-10-14\" \"2022-10-15\"\n",
              "[21] \"2022-10-16\" \"2022-10-17\" \"2022-10-18\" \"2022-10-19\" \"2022-10-20\"\n",
              "[26] \"2022-10-21\" \"2022-10-22\" \"2022-10-23\" \"2022-10-24\" \"2022-10-25\"\n",
              "[31] \"2022-10-26\" \"2022-10-27\" \"2022-10-28\" \"2022-10-29\" \"2022-10-30\"\n",
              "[36] \"2022-10-31\" \"2022-11-01\" \"2022-11-02\" \"2022-11-03\" \"2022-11-04\"\n",
              "[41] \"2022-11-05\" \"2022-11-06\" \"2022-11-07\" \"2022-11-08\" \"2022-11-09\"\n",
              "[46] \"2022-11-10\" \"2022-11-11\" \"2022-11-12\" \"2022-11-13\" \"2022-11-14\"\n",
              "[51] \"2022-11-15\" \"2022-11-16\" \"2022-11-17\" \"2022-11-18\" \"2022-11-19\"\n",
              "[56] \"2022-11-20\" \"2022-11-21\" \"2022-11-22\" \"2022-11-23\" \"2022-11-24\"\n",
              "[61] \"2022-11-25\" \"2022-11-26\" \"2022-11-27\" \"2022-11-28\" \"2022-11-29\"\n",
              "[66] \"2022-11-30\" \"2022-12-01\" \"2022-12-02\" \"2022-12-03\" \"2022-12-04\"\n",
              "[71] \"2022-12-05\" \"2022-12-06\" \"2022-12-07\" \"2022-12-08\" \"2022-12-09\"\n",
              "[76] \"2022-12-10\" \"2022-12-11\" \"2022-12-12\" \"2022-12-13\" \"2022-12-14\"\n",
              "[81] \"2022-12-15\" \"2022-12-16\" \"2022-12-17\" \"2022-12-18\" \"2022-12-19\"\n",
              "[86] \"2022-12-20\" \"2022-12-21\" \"2022-12-22\" \"2022-12-23\" \"2022-12-24\"\n",
              "[91] \"2022-12-25\" \"2022-12-26\"\n",
              "\n",
              "\n",
              "$nuevo_num\n",
              "[1] 2\n",
              "\n",
              "$otro_vect\n",
              "[1]  TRUE FALSE  TRUE\n",
              "\n",
              "$nombres\n",
              "[1] \"miguel\" \"Ale\"   \n",
              "\n",
              "$otros_nombres\n",
              "[1] \"Jorge\"   \"Rodrigo\" \"Àngel\"  \n"
            ]
          },
          "metadata": {}
        }
      ]
    },
    {
      "cell_type": "code",
      "source": [
        "str(l3)"
      ],
      "metadata": {
        "id": "zERX6ocWFZCC",
        "outputId": "294c9b79-72b6-468a-dd42-cc65ef88291c",
        "colab": {
          "base_uri": "https://localhost:8080/"
        }
      },
      "execution_count": 52,
      "outputs": [
        {
          "output_type": "stream",
          "name": "stdout",
          "text": [
            "List of 8\n",
            " $ num          : num 3\n",
            " $ letra        : chr [1:3] \"A\" \"Z\" \"X\"\n",
            " $ matriz       : int [1:3, 1:3] 1 0 0 0 2 0 0 0 3\n",
            " $ sub_lista    :List of 2\n",
            "  ..$ otro_num: int [1:4] 8 9 10 11\n",
            "  ..$ fechas  : Date[1:92], format: \"2022-09-26\" \"2022-09-27\" ...\n",
            " $ nuevo_num    : num 2\n",
            " $ otro_vect    : logi [1:3] TRUE FALSE TRUE\n",
            " $ nombres      : chr [1:2] \"miguel\" \"Ale\"\n",
            " $ otros_nombres: chr [1:3] \"Jorge\" \"Rodrigo\" \"Àngel\"\n"
          ]
        }
      ]
    },
    {
      "cell_type": "code",
      "source": [],
      "metadata": {
        "id": "K6aFcSKaGKGe"
      },
      "execution_count": null,
      "outputs": []
    },
    {
      "cell_type": "code",
      "metadata": {
        "trusted": true,
        "id": "rBB4hT9RTpSQ",
        "outputId": "eecc7b4e-bbe7-42f3-e5c7-3574b0f003eb",
        "colab": {
          "base_uri": "https://localhost:8080/"
        }
      },
      "source": [
        "# podemos modificar elementos dentro de un slot\n",
        "# Cmbiar la Z del vector \"letra\", por una \"W\"\n",
        "\n",
        "l3$letra[2] <- \"W\"\n",
        "str(l3)\n",
        "\n"
      ],
      "execution_count": 55,
      "outputs": [
        {
          "output_type": "stream",
          "name": "stdout",
          "text": [
            "List of 8\n",
            " $ num          : num 3\n",
            " $ letra        : chr [1:3] \"A\" \"W\" \"X\"\n",
            " $ matriz       : int [1:3, 1:3] 1 0 0 0 2 0 0 0 3\n",
            " $ sub_lista    :List of 2\n",
            "  ..$ otro_num: int [1:4] 8 9 10 11\n",
            "  ..$ fechas  : Date[1:92], format: \"2022-09-26\" \"2022-09-27\" ...\n",
            " $ nuevo_num    : num 2\n",
            " $ otro_vect    : logi [1:3] TRUE FALSE TRUE\n",
            " $ nombres      : chr [1:2] \"miguel\" \"Ale\"\n",
            " $ otros_nombres: chr [1:3] \"Jorge\" \"Rodrigo\" \"Àngel\"\n"
          ]
        }
      ]
    },
    {
      "cell_type": "code",
      "source": [
        "l3$sub_lista$otros_nombres"
      ],
      "metadata": {
        "id": "QSf3zzWBG1Rs",
        "outputId": "02e02410-d541-467b-8714-637d231ccc2e",
        "colab": {
          "base_uri": "https://localhost:8080/",
          "height": 34
        }
      },
      "execution_count": 56,
      "outputs": [
        {
          "output_type": "display_data",
          "data": {
            "text/plain": [
              "NULL"
            ]
          },
          "metadata": {}
        }
      ]
    },
    {
      "cell_type": "code",
      "source": [
        "l3$sub_lista$otros_nombres <- c(\"Jorge\", \"Rodrigo\",\"Àngel\")"
      ],
      "metadata": {
        "id": "Jf5MDrPPGngf"
      },
      "execution_count": 57,
      "outputs": []
    },
    {
      "cell_type": "code",
      "source": [
        "str(l3)"
      ],
      "metadata": {
        "id": "9ccGHySXG3ZJ",
        "outputId": "d64e17e6-a93a-4a8a-a39c-a817ffce2f99",
        "colab": {
          "base_uri": "https://localhost:8080/"
        }
      },
      "execution_count": 58,
      "outputs": [
        {
          "output_type": "stream",
          "name": "stdout",
          "text": [
            "List of 8\n",
            " $ num          : num 3\n",
            " $ letra        : chr [1:3] \"A\" \"W\" \"X\"\n",
            " $ matriz       : int [1:3, 1:3] 1 0 0 0 2 0 0 0 3\n",
            " $ sub_lista    :List of 3\n",
            "  ..$ otro_num     : int [1:4] 8 9 10 11\n",
            "  ..$ fechas       : Date[1:92], format: \"2022-09-26\" \"2022-09-27\" ...\n",
            "  ..$ otros_nombres: chr [1:3] \"Jorge\" \"Rodrigo\" \"Àngel\"\n",
            " $ nuevo_num    : num 2\n",
            " $ otro_vect    : logi [1:3] TRUE FALSE TRUE\n",
            " $ nombres      : chr [1:2] \"miguel\" \"Ale\"\n",
            " $ otros_nombres: chr [1:3] \"Jorge\" \"Rodrigo\" \"Àngel\"\n"
          ]
        }
      ]
    },
    {
      "cell_type": "markdown",
      "metadata": {
        "id": "128wI4ZoTpSS"
      },
      "source": [
        "### 5.2 Dataframes\n",
        "\n",
        "Un dataframe es un caso particular de una lista, donde los objetos de cada entrada corresponden a vectores de datos del mismo largo. E este caso cada vector corresponde a una columna del data.frame, mientras que la cantidad de filas corresponde al largo común de los vectores de cada entrada. El objeto resultante es una *tabla*, de ahora en adelante *data.frame*, cuyas columnas poseen distintos tipos de datos entre sí. \n",
        "\n",
        " * ¿Cómo se declara un dataframe?<br>\n",
        "     Mediante la función data.frame(), indicando los vectores que conformarán las columnas.\n",
        " \n",
        " * ¿Cómo se accede a los datos de un data.frame?<br>\n",
        "    Al ser una lista, se puede acceder de la misma manera. Sin embargo también es posible acceder del modo en que se accede a los elementos de una matriz."
      ]
    },
    {
      "cell_type": "code",
      "metadata": {
        "trusted": true,
        "id": "qJ-2zVWVTpST"
      },
      "source": [
        "# 5.2 Dataframes ----------\n",
        "# Ejemplo sencillo de definición de un data.frame\n",
        "# recordar que 1:3 es lo mismo que c(1,2,3)\n",
        "\n",
        "df <- data.frame(nombre = c(\"Miguel\", \"Ale\", \"Israel\"),\n",
        "                 edad = c(33,29,28),\n",
        "                 id = 1:3)\n",
        "                 \n"
      ],
      "execution_count": 82,
      "outputs": []
    },
    {
      "cell_type": "code",
      "source": [
        "df"
      ],
      "metadata": {
        "id": "mEhCwJpLILNd",
        "outputId": "b89cb89e-8851-425f-ec4b-809e866ca790",
        "colab": {
          "base_uri": "https://localhost:8080/",
          "height": 192
        }
      },
      "execution_count": 83,
      "outputs": [
        {
          "output_type": "display_data",
          "data": {
            "text/html": [
              "<table class=\"dataframe\">\n",
              "<caption>A data.frame: 3 × 3</caption>\n",
              "<thead>\n",
              "\t<tr><th scope=col>nombre</th><th scope=col>edad</th><th scope=col>id</th></tr>\n",
              "\t<tr><th scope=col>&lt;chr&gt;</th><th scope=col>&lt;dbl&gt;</th><th scope=col>&lt;int&gt;</th></tr>\n",
              "</thead>\n",
              "<tbody>\n",
              "\t<tr><td>Miguel</td><td>33</td><td>1</td></tr>\n",
              "\t<tr><td>Ale   </td><td>29</td><td>2</td></tr>\n",
              "\t<tr><td>Israel</td><td>28</td><td>3</td></tr>\n",
              "</tbody>\n",
              "</table>\n"
            ],
            "text/markdown": "\nA data.frame: 3 × 3\n\n| nombre &lt;chr&gt; | edad &lt;dbl&gt; | id &lt;int&gt; |\n|---|---|---|\n| Miguel | 33 | 1 |\n| Ale    | 29 | 2 |\n| Israel | 28 | 3 |\n\n",
            "text/latex": "A data.frame: 3 × 3\n\\begin{tabular}{lll}\n nombre & edad & id\\\\\n <chr> & <dbl> & <int>\\\\\n\\hline\n\t Miguel & 33 & 1\\\\\n\t Ale    & 29 & 2\\\\\n\t Israel & 28 & 3\\\\\n\\end{tabular}\n",
            "text/plain": [
              "  nombre edad id\n",
              "1 Miguel 33   1 \n",
              "2 Ale    29   2 \n",
              "3 Israel 28   3 "
            ]
          },
          "metadata": {}
        }
      ]
    },
    {
      "cell_type": "code",
      "source": [
        "class(df)"
      ],
      "metadata": {
        "id": "c3lGnanyINaq",
        "outputId": "1c66316d-4ee2-4c6d-baec-38756db766b2",
        "colab": {
          "base_uri": "https://localhost:8080/",
          "height": 34
        }
      },
      "execution_count": 84,
      "outputs": [
        {
          "output_type": "display_data",
          "data": {
            "text/html": [
              "'data.frame'"
            ],
            "text/markdown": "'data.frame'",
            "text/latex": "'data.frame'",
            "text/plain": [
              "[1] \"data.frame\""
            ]
          },
          "metadata": {}
        }
      ]
    },
    {
      "cell_type": "code",
      "source": [
        "str(df)"
      ],
      "metadata": {
        "id": "_eHpBg9yIPuw",
        "outputId": "77b88c19-4ab6-403a-aac1-b45a7db8c3f5",
        "colab": {
          "base_uri": "https://localhost:8080/"
        }
      },
      "execution_count": 85,
      "outputs": [
        {
          "output_type": "stream",
          "name": "stdout",
          "text": [
            "'data.frame':\t3 obs. of  3 variables:\n",
            " $ nombre: chr  \"Miguel\" \"Ale\" \"Israel\"\n",
            " $ edad  : num  33 29 28\n",
            " $ id    : int  1 2 3\n"
          ]
        }
      ]
    },
    {
      "cell_type": "code",
      "metadata": {
        "trusted": true,
        "id": "nv7stC8ITpSY",
        "outputId": "9c296df3-b2f7-473f-b619-a7b7850c212b",
        "colab": {
          "base_uri": "https://localhost:8080/",
          "height": 244
        }
      },
      "source": [
        "# Acceso a columnas de un data.frame\n",
        "## Igual que en una lista\n",
        "df[[1]] # Vector con los elementos de nombre\n",
        "df[1] # dataframe (antes lista) con el vector de nombres\n"
      ],
      "execution_count": 86,
      "outputs": [
        {
          "output_type": "display_data",
          "data": {
            "text/html": [
              "<style>\n",
              ".list-inline {list-style: none; margin:0; padding: 0}\n",
              ".list-inline>li {display: inline-block}\n",
              ".list-inline>li:not(:last-child)::after {content: \"\\00b7\"; padding: 0 .5ex}\n",
              "</style>\n",
              "<ol class=list-inline><li>'Miguel'</li><li>'Ale'</li><li>'Israel'</li></ol>\n"
            ],
            "text/markdown": "1. 'Miguel'\n2. 'Ale'\n3. 'Israel'\n\n\n",
            "text/latex": "\\begin{enumerate*}\n\\item 'Miguel'\n\\item 'Ale'\n\\item 'Israel'\n\\end{enumerate*}\n",
            "text/plain": [
              "[1] \"Miguel\" \"Ale\"    \"Israel\""
            ]
          },
          "metadata": {}
        },
        {
          "output_type": "display_data",
          "data": {
            "text/html": [
              "<table class=\"dataframe\">\n",
              "<caption>A data.frame: 3 × 1</caption>\n",
              "<thead>\n",
              "\t<tr><th scope=col>nombre</th></tr>\n",
              "\t<tr><th scope=col>&lt;chr&gt;</th></tr>\n",
              "</thead>\n",
              "<tbody>\n",
              "\t<tr><td>Miguel</td></tr>\n",
              "\t<tr><td>Ale   </td></tr>\n",
              "\t<tr><td>Israel</td></tr>\n",
              "</tbody>\n",
              "</table>\n"
            ],
            "text/markdown": "\nA data.frame: 3 × 1\n\n| nombre &lt;chr&gt; |\n|---|\n| Miguel |\n| Ale    |\n| Israel |\n\n",
            "text/latex": "A data.frame: 3 × 1\n\\begin{tabular}{l}\n nombre\\\\\n <chr>\\\\\n\\hline\n\t Miguel\\\\\n\t Ale   \\\\\n\t Israel\\\\\n\\end{tabular}\n",
            "text/plain": [
              "  nombre\n",
              "1 Miguel\n",
              "2 Ale   \n",
              "3 Israel"
            ]
          },
          "metadata": {}
        }
      ]
    },
    {
      "cell_type": "code",
      "metadata": {
        "trusted": true,
        "id": "3t6_J3BHTpSb",
        "outputId": "ccaa94ef-84cc-49d7-db9c-738e62bc1175",
        "colab": {
          "base_uri": "https://localhost:8080/",
          "height": 69
        }
      },
      "source": [
        "df[[\"nombre\"]]\n",
        "df[[1]]\n",
        "df$nombre"
      ],
      "execution_count": 87,
      "outputs": [
        {
          "output_type": "display_data",
          "data": {
            "text/html": [
              "<style>\n",
              ".list-inline {list-style: none; margin:0; padding: 0}\n",
              ".list-inline>li {display: inline-block}\n",
              ".list-inline>li:not(:last-child)::after {content: \"\\00b7\"; padding: 0 .5ex}\n",
              "</style>\n",
              "<ol class=list-inline><li>'Miguel'</li><li>'Ale'</li><li>'Israel'</li></ol>\n"
            ],
            "text/markdown": "1. 'Miguel'\n2. 'Ale'\n3. 'Israel'\n\n\n",
            "text/latex": "\\begin{enumerate*}\n\\item 'Miguel'\n\\item 'Ale'\n\\item 'Israel'\n\\end{enumerate*}\n",
            "text/plain": [
              "[1] \"Miguel\" \"Ale\"    \"Israel\""
            ]
          },
          "metadata": {}
        },
        {
          "output_type": "display_data",
          "data": {
            "text/html": [
              "<style>\n",
              ".list-inline {list-style: none; margin:0; padding: 0}\n",
              ".list-inline>li {display: inline-block}\n",
              ".list-inline>li:not(:last-child)::after {content: \"\\00b7\"; padding: 0 .5ex}\n",
              "</style>\n",
              "<ol class=list-inline><li>'Miguel'</li><li>'Ale'</li><li>'Israel'</li></ol>\n"
            ],
            "text/markdown": "1. 'Miguel'\n2. 'Ale'\n3. 'Israel'\n\n\n",
            "text/latex": "\\begin{enumerate*}\n\\item 'Miguel'\n\\item 'Ale'\n\\item 'Israel'\n\\end{enumerate*}\n",
            "text/plain": [
              "[1] \"Miguel\" \"Ale\"    \"Israel\""
            ]
          },
          "metadata": {}
        },
        {
          "output_type": "display_data",
          "data": {
            "text/html": [
              "<style>\n",
              ".list-inline {list-style: none; margin:0; padding: 0}\n",
              ".list-inline>li {display: inline-block}\n",
              ".list-inline>li:not(:last-child)::after {content: \"\\00b7\"; padding: 0 .5ex}\n",
              "</style>\n",
              "<ol class=list-inline><li>'Miguel'</li><li>'Ale'</li><li>'Israel'</li></ol>\n"
            ],
            "text/markdown": "1. 'Miguel'\n2. 'Ale'\n3. 'Israel'\n\n\n",
            "text/latex": "\\begin{enumerate*}\n\\item 'Miguel'\n\\item 'Ale'\n\\item 'Israel'\n\\end{enumerate*}\n",
            "text/plain": [
              "[1] \"Miguel\" \"Ale\"    \"Israel\""
            ]
          },
          "metadata": {}
        }
      ]
    },
    {
      "cell_type": "code",
      "metadata": {
        "trusted": true,
        "id": "CojdmEs9TpSd",
        "outputId": "2c36d212-3813-4294-b714-687dc506ec2c",
        "colab": {
          "base_uri": "https://localhost:8080/",
          "height": 147
        }
      },
      "source": [
        "##  Ganamos acceso como matriz\n",
        "# segunda fila de df\n",
        "df[2,]\n",
        "\n",
        "# segunda columna y segunda fila\n",
        "\n",
        "df[2,2]\n"
      ],
      "execution_count": 88,
      "outputs": [
        {
          "output_type": "display_data",
          "data": {
            "text/html": [
              "<table class=\"dataframe\">\n",
              "<caption>A data.frame: 1 × 3</caption>\n",
              "<thead>\n",
              "\t<tr><th></th><th scope=col>nombre</th><th scope=col>edad</th><th scope=col>id</th></tr>\n",
              "\t<tr><th></th><th scope=col>&lt;chr&gt;</th><th scope=col>&lt;dbl&gt;</th><th scope=col>&lt;int&gt;</th></tr>\n",
              "</thead>\n",
              "<tbody>\n",
              "\t<tr><th scope=row>2</th><td>Ale</td><td>29</td><td>2</td></tr>\n",
              "</tbody>\n",
              "</table>\n"
            ],
            "text/markdown": "\nA data.frame: 1 × 3\n\n| <!--/--> | nombre &lt;chr&gt; | edad &lt;dbl&gt; | id &lt;int&gt; |\n|---|---|---|---|\n| 2 | Ale | 29 | 2 |\n\n",
            "text/latex": "A data.frame: 1 × 3\n\\begin{tabular}{r|lll}\n  & nombre & edad & id\\\\\n  & <chr> & <dbl> & <int>\\\\\n\\hline\n\t2 & Ale & 29 & 2\\\\\n\\end{tabular}\n",
            "text/plain": [
              "  nombre edad id\n",
              "2 Ale    29   2 "
            ]
          },
          "metadata": {}
        },
        {
          "output_type": "display_data",
          "data": {
            "text/html": [
              "29"
            ],
            "text/markdown": "29",
            "text/latex": "29",
            "text/plain": [
              "[1] 29"
            ]
          },
          "metadata": {}
        }
      ]
    },
    {
      "cell_type": "code",
      "metadata": {
        "trusted": true,
        "id": "FgD5Q8hFTpSf"
      },
      "source": [
        "#Podemos crear nuevas columnas , del mismmo modo que creamos \"slots\" en una lista\n",
        "df$tiene_mascota <- c(F,F,T)"
      ],
      "execution_count": 89,
      "outputs": []
    },
    {
      "cell_type": "code",
      "source": [
        "df"
      ],
      "metadata": {
        "id": "A55LyAcfJPhk",
        "outputId": "079becda-ac54-4770-d7c7-4e575d2ee8b1",
        "colab": {
          "base_uri": "https://localhost:8080/",
          "height": 192
        }
      },
      "execution_count": 90,
      "outputs": [
        {
          "output_type": "display_data",
          "data": {
            "text/html": [
              "<table class=\"dataframe\">\n",
              "<caption>A data.frame: 3 × 4</caption>\n",
              "<thead>\n",
              "\t<tr><th scope=col>nombre</th><th scope=col>edad</th><th scope=col>id</th><th scope=col>tiene_mascota</th></tr>\n",
              "\t<tr><th scope=col>&lt;chr&gt;</th><th scope=col>&lt;dbl&gt;</th><th scope=col>&lt;int&gt;</th><th scope=col>&lt;lgl&gt;</th></tr>\n",
              "</thead>\n",
              "<tbody>\n",
              "\t<tr><td>Miguel</td><td>33</td><td>1</td><td>FALSE</td></tr>\n",
              "\t<tr><td>Ale   </td><td>29</td><td>2</td><td>FALSE</td></tr>\n",
              "\t<tr><td>Israel</td><td>28</td><td>3</td><td> TRUE</td></tr>\n",
              "</tbody>\n",
              "</table>\n"
            ],
            "text/markdown": "\nA data.frame: 3 × 4\n\n| nombre &lt;chr&gt; | edad &lt;dbl&gt; | id &lt;int&gt; | tiene_mascota &lt;lgl&gt; |\n|---|---|---|---|\n| Miguel | 33 | 1 | FALSE |\n| Ale    | 29 | 2 | FALSE |\n| Israel | 28 | 3 |  TRUE |\n\n",
            "text/latex": "A data.frame: 3 × 4\n\\begin{tabular}{llll}\n nombre & edad & id & tiene\\_mascota\\\\\n <chr> & <dbl> & <int> & <lgl>\\\\\n\\hline\n\t Miguel & 33 & 1 & FALSE\\\\\n\t Ale    & 29 & 2 & FALSE\\\\\n\t Israel & 28 & 3 &  TRUE\\\\\n\\end{tabular}\n",
            "text/plain": [
              "  nombre edad id tiene_mascota\n",
              "1 Miguel 33   1  FALSE        \n",
              "2 Ale    29   2  FALSE        \n",
              "3 Israel 28   3   TRUE        "
            ]
          },
          "metadata": {}
        }
      ]
    },
    {
      "cell_type": "code",
      "metadata": {
        "trusted": true,
        "id": "LcNQ5JHVTpSh",
        "outputId": "614f003c-5720-431f-bb8a-f752d22bb8e6",
        "colab": {
          "base_uri": "https://localhost:8080/",
          "height": 209
        }
      },
      "source": [
        "# podemos seleccionar más de una columna a la vez. Ej: seleccionar col1y col3\n",
        "\n",
        "# Referenciando el nombre de las columnas\n",
        "df[,c(\"nombre\",\"id\")]"
      ],
      "execution_count": 91,
      "outputs": [
        {
          "output_type": "display_data",
          "data": {
            "text/html": [
              "<table class=\"dataframe\">\n",
              "<caption>A data.frame: 3 × 2</caption>\n",
              "<thead>\n",
              "\t<tr><th scope=col>nombre</th><th scope=col>id</th></tr>\n",
              "\t<tr><th scope=col>&lt;chr&gt;</th><th scope=col>&lt;int&gt;</th></tr>\n",
              "</thead>\n",
              "<tbody>\n",
              "\t<tr><td>Miguel</td><td>1</td></tr>\n",
              "\t<tr><td>Ale   </td><td>2</td></tr>\n",
              "\t<tr><td>Israel</td><td>3</td></tr>\n",
              "</tbody>\n",
              "</table>\n"
            ],
            "text/markdown": "\nA data.frame: 3 × 2\n\n| nombre &lt;chr&gt; | id &lt;int&gt; |\n|---|---|\n| Miguel | 1 |\n| Ale    | 2 |\n| Israel | 3 |\n\n",
            "text/latex": "A data.frame: 3 × 2\n\\begin{tabular}{ll}\n nombre & id\\\\\n <chr> & <int>\\\\\n\\hline\n\t Miguel & 1\\\\\n\t Ale    & 2\\\\\n\t Israel & 3\\\\\n\\end{tabular}\n",
            "text/plain": [
              "  nombre id\n",
              "1 Miguel 1 \n",
              "2 Ale    2 \n",
              "3 Israel 3 "
            ]
          },
          "metadata": {}
        }
      ]
    },
    {
      "cell_type": "code",
      "metadata": {
        "trusted": true,
        "id": "NHtO3MHwTpSj",
        "outputId": "820ebfee-89b3-483f-db68-2ac84391a732",
        "colab": {
          "base_uri": "https://localhost:8080/",
          "height": 209
        }
      },
      "source": [
        "# Referenciando las posiciones de las columnas\n",
        "df[,c(1,3)]"
      ],
      "execution_count": 92,
      "outputs": [
        {
          "output_type": "display_data",
          "data": {
            "text/html": [
              "<table class=\"dataframe\">\n",
              "<caption>A data.frame: 3 × 2</caption>\n",
              "<thead>\n",
              "\t<tr><th scope=col>nombre</th><th scope=col>id</th></tr>\n",
              "\t<tr><th scope=col>&lt;chr&gt;</th><th scope=col>&lt;int&gt;</th></tr>\n",
              "</thead>\n",
              "<tbody>\n",
              "\t<tr><td>Miguel</td><td>1</td></tr>\n",
              "\t<tr><td>Ale   </td><td>2</td></tr>\n",
              "\t<tr><td>Israel</td><td>3</td></tr>\n",
              "</tbody>\n",
              "</table>\n"
            ],
            "text/markdown": "\nA data.frame: 3 × 2\n\n| nombre &lt;chr&gt; | id &lt;int&gt; |\n|---|---|\n| Miguel | 1 |\n| Ale    | 2 |\n| Israel | 3 |\n\n",
            "text/latex": "A data.frame: 3 × 2\n\\begin{tabular}{ll}\n nombre & id\\\\\n <chr> & <int>\\\\\n\\hline\n\t Miguel & 1\\\\\n\t Ale    & 2\\\\\n\t Israel & 3\\\\\n\\end{tabular}\n",
            "text/plain": [
              "  nombre id\n",
              "1 Miguel 1 \n",
              "2 Ale    2 \n",
              "3 Israel 3 "
            ]
          },
          "metadata": {}
        }
      ]
    },
    {
      "cell_type": "code",
      "metadata": {
        "trusted": true,
        "id": "RmsAhhsWTpSm",
        "outputId": "4dd3fe86-5dc3-4844-f6ce-b73b50d1c4cd",
        "colab": {
          "base_uri": "https://localhost:8080/",
          "height": 34
        }
      },
      "source": [
        "# Se mantiene la lógica de acceso a los sots de una lista.\n",
        "df$nombre[2]"
      ],
      "execution_count": 93,
      "outputs": [
        {
          "output_type": "display_data",
          "data": {
            "text/html": [
              "'Ale'"
            ],
            "text/markdown": "'Ale'",
            "text/latex": "'Ale'",
            "text/plain": [
              "[1] \"Ale\""
            ]
          },
          "metadata": {}
        }
      ]
    },
    {
      "cell_type": "code",
      "source": [
        "# Podemos generar nuestras primeras consultas combinando todo lo que hemos visto\n",
        "df[df$edad >= 29,]"
      ],
      "metadata": {
        "id": "T4bcEH3EJrks",
        "outputId": "37a9c7de-1750-441a-9a5c-72ea756b83fe",
        "colab": {
          "base_uri": "https://localhost:8080/",
          "height": 161
        }
      },
      "execution_count": 94,
      "outputs": [
        {
          "output_type": "display_data",
          "data": {
            "text/html": [
              "<table class=\"dataframe\">\n",
              "<caption>A data.frame: 2 × 4</caption>\n",
              "<thead>\n",
              "\t<tr><th></th><th scope=col>nombre</th><th scope=col>edad</th><th scope=col>id</th><th scope=col>tiene_mascota</th></tr>\n",
              "\t<tr><th></th><th scope=col>&lt;chr&gt;</th><th scope=col>&lt;dbl&gt;</th><th scope=col>&lt;int&gt;</th><th scope=col>&lt;lgl&gt;</th></tr>\n",
              "</thead>\n",
              "<tbody>\n",
              "\t<tr><th scope=row>1</th><td>Miguel</td><td>33</td><td>1</td><td>FALSE</td></tr>\n",
              "\t<tr><th scope=row>2</th><td>Ale   </td><td>29</td><td>2</td><td>FALSE</td></tr>\n",
              "</tbody>\n",
              "</table>\n"
            ],
            "text/markdown": "\nA data.frame: 2 × 4\n\n| <!--/--> | nombre &lt;chr&gt; | edad &lt;dbl&gt; | id &lt;int&gt; | tiene_mascota &lt;lgl&gt; |\n|---|---|---|---|---|\n| 1 | Miguel | 33 | 1 | FALSE |\n| 2 | Ale    | 29 | 2 | FALSE |\n\n",
            "text/latex": "A data.frame: 2 × 4\n\\begin{tabular}{r|llll}\n  & nombre & edad & id & tiene\\_mascota\\\\\n  & <chr> & <dbl> & <int> & <lgl>\\\\\n\\hline\n\t1 & Miguel & 33 & 1 & FALSE\\\\\n\t2 & Ale    & 29 & 2 & FALSE\\\\\n\\end{tabular}\n",
            "text/plain": [
              "  nombre edad id tiene_mascota\n",
              "1 Miguel 33   1  FALSE        \n",
              "2 Ale    29   2  FALSE        "
            ]
          },
          "metadata": {}
        }
      ]
    },
    {
      "cell_type": "code",
      "source": [
        "df$apellido <- c(\"jorquera\", \"benavides\", \"mata\")"
      ],
      "metadata": {
        "id": "jVY6GK9CKXQi"
      },
      "execution_count": 95,
      "outputs": []
    },
    {
      "cell_type": "code",
      "source": [
        "df"
      ],
      "metadata": {
        "id": "lnHYeTDKKhLL",
        "outputId": "110a9820-c21f-4c49-c098-a7efcf38d08e",
        "colab": {
          "base_uri": "https://localhost:8080/",
          "height": 192
        }
      },
      "execution_count": 79,
      "outputs": [
        {
          "output_type": "display_data",
          "data": {
            "text/html": [
              "<table class=\"dataframe\">\n",
              "<caption>A data.frame: 3 × 5</caption>\n",
              "<thead>\n",
              "\t<tr><th scope=col>nombre</th><th scope=col>edad</th><th scope=col>id</th><th scope=col>tiene_mascota</th><th scope=col>apellido</th></tr>\n",
              "\t<tr><th scope=col>&lt;chr&gt;</th><th scope=col>&lt;dbl&gt;</th><th scope=col>&lt;int&gt;</th><th scope=col>&lt;lgl&gt;</th><th scope=col>&lt;chr&gt;</th></tr>\n",
              "</thead>\n",
              "<tbody>\n",
              "\t<tr><td>Miguel</td><td>33</td><td>1</td><td>FALSE</td><td>jorquera </td></tr>\n",
              "\t<tr><td>Ale   </td><td>29</td><td>2</td><td>FALSE</td><td>benavides</td></tr>\n",
              "\t<tr><td>Israel</td><td>28</td><td>3</td><td> TRUE</td><td>mata     </td></tr>\n",
              "</tbody>\n",
              "</table>\n"
            ],
            "text/markdown": "\nA data.frame: 3 × 5\n\n| nombre &lt;chr&gt; | edad &lt;dbl&gt; | id &lt;int&gt; | tiene_mascota &lt;lgl&gt; | apellido &lt;chr&gt; |\n|---|---|---|---|---|\n| Miguel | 33 | 1 | FALSE | jorquera  |\n| Ale    | 29 | 2 | FALSE | benavides |\n| Israel | 28 | 3 |  TRUE | mata      |\n\n",
            "text/latex": "A data.frame: 3 × 5\n\\begin{tabular}{lllll}\n nombre & edad & id & tiene\\_mascota & apellido\\\\\n <chr> & <dbl> & <int> & <lgl> & <chr>\\\\\n\\hline\n\t Miguel & 33 & 1 & FALSE & jorquera \\\\\n\t Ale    & 29 & 2 & FALSE & benavides\\\\\n\t Israel & 28 & 3 &  TRUE & mata     \\\\\n\\end{tabular}\n",
            "text/plain": [
              "  nombre edad id tiene_mascota apellido \n",
              "1 Miguel 33   1  FALSE         jorquera \n",
              "2 Ale    29   2  FALSE         benavides\n",
              "3 Israel 28   3   TRUE         mata     "
            ]
          },
          "metadata": {}
        }
      ]
    },
    {
      "cell_type": "code",
      "source": [
        "df <- df[,c(\"id\", \"nombre\", \"apellido\",\"edad\", \"tiene_mascota\")]"
      ],
      "metadata": {
        "id": "PLVhV-lmKjni"
      },
      "execution_count": 96,
      "outputs": []
    },
    {
      "cell_type": "code",
      "source": [
        "df[,3:5]"
      ],
      "metadata": {
        "id": "V7myPfR5KtE7",
        "outputId": "7295c81a-46b4-48d6-8451-6b46e16276c8",
        "colab": {
          "base_uri": "https://localhost:8080/",
          "height": 192
        }
      },
      "execution_count": 100,
      "outputs": [
        {
          "output_type": "display_data",
          "data": {
            "text/html": [
              "<table class=\"dataframe\">\n",
              "<caption>A data.frame: 3 × 3</caption>\n",
              "<thead>\n",
              "\t<tr><th scope=col>apellido</th><th scope=col>edad</th><th scope=col>tiene_mascota</th></tr>\n",
              "\t<tr><th scope=col>&lt;chr&gt;</th><th scope=col>&lt;dbl&gt;</th><th scope=col>&lt;lgl&gt;</th></tr>\n",
              "</thead>\n",
              "<tbody>\n",
              "\t<tr><td>jorquera </td><td>33</td><td>FALSE</td></tr>\n",
              "\t<tr><td>benavides</td><td>29</td><td>FALSE</td></tr>\n",
              "\t<tr><td>mata     </td><td>28</td><td> TRUE</td></tr>\n",
              "</tbody>\n",
              "</table>\n"
            ],
            "text/markdown": "\nA data.frame: 3 × 3\n\n| apellido &lt;chr&gt; | edad &lt;dbl&gt; | tiene_mascota &lt;lgl&gt; |\n|---|---|---|\n| jorquera  | 33 | FALSE |\n| benavides | 29 | FALSE |\n| mata      | 28 |  TRUE |\n\n",
            "text/latex": "A data.frame: 3 × 3\n\\begin{tabular}{lll}\n apellido & edad & tiene\\_mascota\\\\\n <chr> & <dbl> & <lgl>\\\\\n\\hline\n\t jorquera  & 33 & FALSE\\\\\n\t benavides & 29 & FALSE\\\\\n\t mata      & 28 &  TRUE\\\\\n\\end{tabular}\n",
            "text/plain": [
              "  apellido  edad tiene_mascota\n",
              "1 jorquera  33   FALSE        \n",
              "2 benavides 29   FALSE        \n",
              "3 mata      28    TRUE        "
            ]
          },
          "metadata": {}
        }
      ]
    }
  ]
}