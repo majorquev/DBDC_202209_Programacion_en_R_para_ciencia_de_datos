{
  "nbformat": 4,
  "nbformat_minor": 0,
  "metadata": {
    "colab": {
      "provenance": [],
      "collapsed_sections": [],
      "include_colab_link": true
    },
    "kernelspec": {
      "name": "ir",
      "display_name": "R"
    }
  },
  "cells": [
    {
      "cell_type": "markdown",
      "metadata": {
        "id": "view-in-github",
        "colab_type": "text"
      },
      "source": [
        "<a href=\"https://colab.research.google.com/github/majorquev/DBDC_202209_Programacion_en_R_para_ciencia_de_datos/blob/main/Clases/Clase2/Clase_2_03_mini_taller.ipynb\" target=\"_parent\"><img src=\"https://colab.research.google.com/assets/colab-badge.svg\" alt=\"Open In Colab\"/></a>"
      ]
    },
    {
      "cell_type": "markdown",
      "metadata": {
        "id": "x-GJ_euMr-qr"
      },
      "source": [
        "#**Mini taller 1**\n",
        "**Autor:** Miguel Jorquera Viguera <br>\n",
        "**E-mail:** majorquev@gmail.com<br>\n",
        "**Ayudante:** Rodrigo Morales<br>\n",
        "**E-mail ayudante:**  rumorale1@gmail.com<br>"
      ]
    },
    {
      "cell_type": "markdown",
      "metadata": {
        "collapsed": true,
        "id": "EZ0yOlnfm5Zb"
      },
      "source": [
        "\n",
        "Los dataframes corresponden a uno de los objetos más utilizados en R para analizar datos tabulares,\n",
        "por lo que se hace necesario en muchos casos realizar consultas a los datos que contiene un dataframe,\n",
        "(filtros, cruces de tablas, creación de columnas, etc). Por ahora veremos una de las formas más \"primitivas\" para la manipulación de un data.frame.\n",
        "\n",
        "Para ello consideremos el siguiente ejercicio.\n",
        "\n",
        "**Paso 1**\n",
        "Mediante la función rnorm(), genere una muestra aleatoria de 100 datos , con media 21 y desviación estándar 8 (más adelante veremos esto con un poco más de detalle), y guárdela en una variable llamada temp.\n",
        "\n"
      ]
    },
    {
      "cell_type": "code",
      "metadata": {
        "trusted": true,
        "id": "9f6cXmN3m5Zc",
        "outputId": "f348187b-cb80-4045-af63-b0631d4bf329",
        "colab": {
          "base_uri": "https://localhost:8080/",
          "height": 243
        }
      },
      "source": [
        "# 5.3 Mini taller --------\n",
        "# Paso 1\n",
        "temp <- rnorm(n = 100, mean = 21, sd = 8)\n",
        "temp\n"
      ],
      "execution_count": 1,
      "outputs": [
        {
          "output_type": "display_data",
          "data": {
            "text/html": [
              "<style>\n",
              ".list-inline {list-style: none; margin:0; padding: 0}\n",
              ".list-inline>li {display: inline-block}\n",
              ".list-inline>li:not(:last-child)::after {content: \"\\00b7\"; padding: 0 .5ex}\n",
              "</style>\n",
              "<ol class=list-inline><li>17.2855378858914</li><li>19.2250000596015</li><li>28.3843412428358</li><li>21.6783508213445</li><li>6.29489263464616</li><li>17.561017286302</li><li>25.2089503897711</li><li>30.3748747963516</li><li>32.8048627169328</li><li>22.2429711840597</li><li>30.2381577796171</li><li>26.739658841918</li><li>25.4795684803465</li><li>18.4224163280939</li><li>28.891522698132</li><li>27.3046157054583</li><li>21.659832321701</li><li>28.9539397908248</li><li>12.4242708229582</li><li>18.4769817822977</li><li>10.7592354914802</li><li>5.07279697632332</li><li>22.4052099460642</li><li>24.1704806441842</li><li>20.9864970052446</li><li>31.9912728852231</li><li>19.3020812721632</li><li>16.3421421403073</li><li>9.54058506087222</li><li>21.9335735639232</li><li>28.2643411709579</li><li>16.2586132304696</li><li>26.2331920098915</li><li>15.9303347807144</li><li>20.2568287666524</li><li>3.43155259314965</li><li>24.7983896950697</li><li>24.4185285401072</li><li>33.1252276031679</li><li>34.0409440886174</li><li>7.82169719151075</li><li>26.1218405614403</li><li>18.616650347565</li><li>32.9498771098501</li><li>23.240212014631</li><li>14.6642601230879</li><li>33.6993302968114</li><li>19.7353379848711</li><li>17.4686215404435</li><li>9.55192753301315</li><li>27.2994275678205</li><li>24.8441357580003</li><li>10.571471599914</li><li>22.6141299831831</li><li>25.9541488472735</li><li>11.9101360611182</li><li>18.8480103860169</li><li>22.156255367066</li><li>16.0765379806383</li><li>18.4944023547476</li><li>21.7746073931469</li><li>15.4185034934261</li><li>31.9884801310939</li><li>16.6319855558015</li><li>28.9978324676211</li><li>19.7240402117254</li><li>30.4798465978134</li><li>25.1714701599129</li><li>7.5104197606277</li><li>19.7339175232488</li><li>27.9675272008862</li><li>22.0632599820783</li><li>16.3686151582091</li><li>11.2760600242138</li><li>16.5334930063411</li><li>12.1295298208521</li><li>28.5973954155122</li><li>23.1780598749959</li><li>21.5790112617025</li><li>26.4233225533031</li><li>12.8014729325029</li><li>9.39797480913438</li><li>16.3328537329186</li><li>12.6012038838174</li><li>23.1781866023427</li><li>16.563641404553</li><li>29.8823205185611</li><li>20.4985935749101</li><li>27.1218446107115</li><li>21.2114757427146</li><li>17.938603728447</li><li>14.8888382612895</li><li>21.7920310001244</li><li>22.1209197785799</li><li>31.1735222549799</li><li>32.8516832889968</li><li>21.8192707428709</li><li>19.9540563315425</li><li>26.7057120540999</li><li>11.5890251193892</li></ol>\n"
            ],
            "text/markdown": "1. 17.2855378858914\n2. 19.2250000596015\n3. 28.3843412428358\n4. 21.6783508213445\n5. 6.29489263464616\n6. 17.561017286302\n7. 25.2089503897711\n8. 30.3748747963516\n9. 32.8048627169328\n10. 22.2429711840597\n11. 30.2381577796171\n12. 26.739658841918\n13. 25.4795684803465\n14. 18.4224163280939\n15. 28.891522698132\n16. 27.3046157054583\n17. 21.659832321701\n18. 28.9539397908248\n19. 12.4242708229582\n20. 18.4769817822977\n21. 10.7592354914802\n22. 5.07279697632332\n23. 22.4052099460642\n24. 24.1704806441842\n25. 20.9864970052446\n26. 31.9912728852231\n27. 19.3020812721632\n28. 16.3421421403073\n29. 9.54058506087222\n30. 21.9335735639232\n31. 28.2643411709579\n32. 16.2586132304696\n33. 26.2331920098915\n34. 15.9303347807144\n35. 20.2568287666524\n36. 3.43155259314965\n37. 24.7983896950697\n38. 24.4185285401072\n39. 33.1252276031679\n40. 34.0409440886174\n41. 7.82169719151075\n42. 26.1218405614403\n43. 18.616650347565\n44. 32.9498771098501\n45. 23.240212014631\n46. 14.6642601230879\n47. 33.6993302968114\n48. 19.7353379848711\n49. 17.4686215404435\n50. 9.55192753301315\n51. 27.2994275678205\n52. 24.8441357580003\n53. 10.571471599914\n54. 22.6141299831831\n55. 25.9541488472735\n56. 11.9101360611182\n57. 18.8480103860169\n58. 22.156255367066\n59. 16.0765379806383\n60. 18.4944023547476\n61. 21.7746073931469\n62. 15.4185034934261\n63. 31.9884801310939\n64. 16.6319855558015\n65. 28.9978324676211\n66. 19.7240402117254\n67. 30.4798465978134\n68. 25.1714701599129\n69. 7.5104197606277\n70. 19.7339175232488\n71. 27.9675272008862\n72. 22.0632599820783\n73. 16.3686151582091\n74. 11.2760600242138\n75. 16.5334930063411\n76. 12.1295298208521\n77. 28.5973954155122\n78. 23.1780598749959\n79. 21.5790112617025\n80. 26.4233225533031\n81. 12.8014729325029\n82. 9.39797480913438\n83. 16.3328537329186\n84. 12.6012038838174\n85. 23.1781866023427\n86. 16.563641404553\n87. 29.8823205185611\n88. 20.4985935749101\n89. 27.1218446107115\n90. 21.2114757427146\n91. 17.938603728447\n92. 14.8888382612895\n93. 21.7920310001244\n94. 22.1209197785799\n95. 31.1735222549799\n96. 32.8516832889968\n97. 21.8192707428709\n98. 19.9540563315425\n99. 26.7057120540999\n100. 11.5890251193892\n\n\n",
            "text/latex": "\\begin{enumerate*}\n\\item 17.2855378858914\n\\item 19.2250000596015\n\\item 28.3843412428358\n\\item 21.6783508213445\n\\item 6.29489263464616\n\\item 17.561017286302\n\\item 25.2089503897711\n\\item 30.3748747963516\n\\item 32.8048627169328\n\\item 22.2429711840597\n\\item 30.2381577796171\n\\item 26.739658841918\n\\item 25.4795684803465\n\\item 18.4224163280939\n\\item 28.891522698132\n\\item 27.3046157054583\n\\item 21.659832321701\n\\item 28.9539397908248\n\\item 12.4242708229582\n\\item 18.4769817822977\n\\item 10.7592354914802\n\\item 5.07279697632332\n\\item 22.4052099460642\n\\item 24.1704806441842\n\\item 20.9864970052446\n\\item 31.9912728852231\n\\item 19.3020812721632\n\\item 16.3421421403073\n\\item 9.54058506087222\n\\item 21.9335735639232\n\\item 28.2643411709579\n\\item 16.2586132304696\n\\item 26.2331920098915\n\\item 15.9303347807144\n\\item 20.2568287666524\n\\item 3.43155259314965\n\\item 24.7983896950697\n\\item 24.4185285401072\n\\item 33.1252276031679\n\\item 34.0409440886174\n\\item 7.82169719151075\n\\item 26.1218405614403\n\\item 18.616650347565\n\\item 32.9498771098501\n\\item 23.240212014631\n\\item 14.6642601230879\n\\item 33.6993302968114\n\\item 19.7353379848711\n\\item 17.4686215404435\n\\item 9.55192753301315\n\\item 27.2994275678205\n\\item 24.8441357580003\n\\item 10.571471599914\n\\item 22.6141299831831\n\\item 25.9541488472735\n\\item 11.9101360611182\n\\item 18.8480103860169\n\\item 22.156255367066\n\\item 16.0765379806383\n\\item 18.4944023547476\n\\item 21.7746073931469\n\\item 15.4185034934261\n\\item 31.9884801310939\n\\item 16.6319855558015\n\\item 28.9978324676211\n\\item 19.7240402117254\n\\item 30.4798465978134\n\\item 25.1714701599129\n\\item 7.5104197606277\n\\item 19.7339175232488\n\\item 27.9675272008862\n\\item 22.0632599820783\n\\item 16.3686151582091\n\\item 11.2760600242138\n\\item 16.5334930063411\n\\item 12.1295298208521\n\\item 28.5973954155122\n\\item 23.1780598749959\n\\item 21.5790112617025\n\\item 26.4233225533031\n\\item 12.8014729325029\n\\item 9.39797480913438\n\\item 16.3328537329186\n\\item 12.6012038838174\n\\item 23.1781866023427\n\\item 16.563641404553\n\\item 29.8823205185611\n\\item 20.4985935749101\n\\item 27.1218446107115\n\\item 21.2114757427146\n\\item 17.938603728447\n\\item 14.8888382612895\n\\item 21.7920310001244\n\\item 22.1209197785799\n\\item 31.1735222549799\n\\item 32.8516832889968\n\\item 21.8192707428709\n\\item 19.9540563315425\n\\item 26.7057120540999\n\\item 11.5890251193892\n\\end{enumerate*}\n",
            "text/plain": [
              "  [1] 17.285538 19.225000 28.384341 21.678351  6.294893 17.561017 25.208950\n",
              "  [8] 30.374875 32.804863 22.242971 30.238158 26.739659 25.479568 18.422416\n",
              " [15] 28.891523 27.304616 21.659832 28.953940 12.424271 18.476982 10.759235\n",
              " [22]  5.072797 22.405210 24.170481 20.986497 31.991273 19.302081 16.342142\n",
              " [29]  9.540585 21.933574 28.264341 16.258613 26.233192 15.930335 20.256829\n",
              " [36]  3.431553 24.798390 24.418529 33.125228 34.040944  7.821697 26.121841\n",
              " [43] 18.616650 32.949877 23.240212 14.664260 33.699330 19.735338 17.468622\n",
              " [50]  9.551928 27.299428 24.844136 10.571472 22.614130 25.954149 11.910136\n",
              " [57] 18.848010 22.156255 16.076538 18.494402 21.774607 15.418503 31.988480\n",
              " [64] 16.631986 28.997832 19.724040 30.479847 25.171470  7.510420 19.733918\n",
              " [71] 27.967527 22.063260 16.368615 11.276060 16.533493 12.129530 28.597395\n",
              " [78] 23.178060 21.579011 26.423323 12.801473  9.397975 16.332854 12.601204\n",
              " [85] 23.178187 16.563641 29.882321 20.498594 27.121845 21.211476 17.938604\n",
              " [92] 14.888838 21.792031 22.120920 31.173522 32.851683 21.819271 19.954056\n",
              " [99] 26.705712 11.589025"
            ]
          },
          "metadata": {}
        }
      ]
    },
    {
      "cell_type": "code",
      "metadata": {
        "trusted": true,
        "id": "Y6ILF-Szm5Zg"
      },
      "source": [
        "# Dejar como parámetro el largo del vector temp\n",
        "N <- length(temp)"
      ],
      "execution_count": 4,
      "outputs": []
    },
    {
      "cell_type": "markdown",
      "metadata": {
        "id": "C4MEJWjBm5Zi"
      },
      "source": [
        "**Paso 2**\n",
        "\n",
        "Genere un vector llamado _dia_ del mismo largo que que *temp*, que contenga los días consecutivos de la semana, partiendo del lunes. (utilice la función _rep()_ )"
      ]
    },
    {
      "cell_type": "code",
      "metadata": {
        "trusted": true,
        "id": "1PWK1DPXm5Zj",
        "outputId": "361090f4-5f05-41b6-8225-5b9bf50062e0",
        "colab": {
          "base_uri": "https://localhost:8080/",
          "height": 34
        }
      },
      "source": [
        "# Paso 2\n",
        "\n",
        "dia <- rep(c(\"L\",\"M\",\"W\",\"J\",\"V\",\"S\",\"D\"), length.out = N)\n",
        "length(dia)\n",
        "\n",
        "#dia <- rep(c(\"L\",\"M\",\"W\",\"J\",\"V\",\"S\",\"D\"), 100 ) repite el vector de largo7, 100 veces. Genera un vector resultante de largo 700\n"
      ],
      "execution_count": 8,
      "outputs": [
        {
          "output_type": "display_data",
          "data": {
            "text/html": [
              "100"
            ],
            "text/markdown": "100",
            "text/latex": "100",
            "text/plain": [
              "[1] 100"
            ]
          },
          "metadata": {}
        }
      ]
    },
    {
      "cell_type": "markdown",
      "metadata": {
        "id": "n1n3ptOIm5Zm"
      },
      "source": [
        "**Paso 3**\n",
        "\n",
        "Genere un vector llamado _est_, del mismo largo que _temp_, que en el primer tercio contenga el valor \"E1\", en el segundo tercio \"E2\", y en el tercer tercio \"E3\". Por ejemplo, si _temp_ tuviese 10 datos, el vector _est_ se vería como \n",
        "\n",
        "\n",
        "<center> _est_ = (E1,E1,E1,E2,E2,E2,E3,E3,E3,E3) </center>"
      ]
    },
    {
      "cell_type": "code",
      "source": [
        "rep(\"LALA\", 3.6)"
      ],
      "metadata": {
        "id": "8pIMmhrdPjqg",
        "outputId": "242a42a2-9e05-466b-a47e-913ac9a5240b",
        "colab": {
          "base_uri": "https://localhost:8080/",
          "height": 34
        }
      },
      "execution_count": 9,
      "outputs": [
        {
          "output_type": "display_data",
          "data": {
            "text/html": [
              "<style>\n",
              ".list-inline {list-style: none; margin:0; padding: 0}\n",
              ".list-inline>li {display: inline-block}\n",
              ".list-inline>li:not(:last-child)::after {content: \"\\00b7\"; padding: 0 .5ex}\n",
              "</style>\n",
              "<ol class=list-inline><li>'LALA'</li><li>'LALA'</li><li>'LALA'</li></ol>\n"
            ],
            "text/markdown": "1. 'LALA'\n2. 'LALA'\n3. 'LALA'\n\n\n",
            "text/latex": "\\begin{enumerate*}\n\\item 'LALA'\n\\item 'LALA'\n\\item 'LALA'\n\\end{enumerate*}\n",
            "text/plain": [
              "[1] \"LALA\" \"LALA\" \"LALA\""
            ]
          },
          "metadata": {}
        }
      ]
    },
    {
      "cell_type": "code",
      "source": [
        "N%%3"
      ],
      "metadata": {
        "id": "iCW0yKWfP3U6",
        "outputId": "978713fe-056b-421c-ab19-3d00824a4b80",
        "colab": {
          "base_uri": "https://localhost:8080/",
          "height": 34
        }
      },
      "execution_count": 12,
      "outputs": [
        {
          "output_type": "display_data",
          "data": {
            "text/html": [
              "1"
            ],
            "text/markdown": "1",
            "text/latex": "1",
            "text/plain": [
              "[1] 1"
            ]
          },
          "metadata": {}
        }
      ]
    },
    {
      "cell_type": "code",
      "metadata": {
        "trusted": true,
        "id": "eobMVmXxm5Zn"
      },
      "source": [
        "# Paso 3\n",
        "est <- c(rep(\"E1\",N/3),rep(\"E2\",N/3),rep(\"E3\", N/3 + N%%3))"
      ],
      "execution_count": 13,
      "outputs": []
    },
    {
      "cell_type": "markdown",
      "metadata": {
        "id": "bZZScNwUm5Zp"
      },
      "source": [
        "**Paso 4**\n",
        "\n",
        "Genere un vector llamado _lluvia_ del mismo largo que _temp_, que sea TRUE en las posiciones en que _temp_ sea menor que 20, y FALSE en caso contrario. "
      ]
    },
    {
      "cell_type": "code",
      "metadata": {
        "trusted": true,
        "id": "AbtOs123m5Zq",
        "outputId": "757afee3-d317-4f6b-cf90-413664921998",
        "colab": {
          "base_uri": "https://localhost:8080/",
          "height": 104
        }
      },
      "source": [
        "# Paso 4\n",
        "lluvia <- temp < 20 \n",
        "lluvia"
      ],
      "execution_count": 21,
      "outputs": [
        {
          "output_type": "display_data",
          "data": {
            "text/html": [
              "<style>\n",
              ".list-inline {list-style: none; margin:0; padding: 0}\n",
              ".list-inline>li {display: inline-block}\n",
              ".list-inline>li:not(:last-child)::after {content: \"\\00b7\"; padding: 0 .5ex}\n",
              "</style>\n",
              "<ol class=list-inline><li>TRUE</li><li>TRUE</li><li>FALSE</li><li>FALSE</li><li>TRUE</li><li>TRUE</li><li>FALSE</li><li>FALSE</li><li>FALSE</li><li>FALSE</li><li>FALSE</li><li>FALSE</li><li>FALSE</li><li>TRUE</li><li>FALSE</li><li>FALSE</li><li>FALSE</li><li>FALSE</li><li>TRUE</li><li>TRUE</li><li>TRUE</li><li>TRUE</li><li>FALSE</li><li>FALSE</li><li>FALSE</li><li>FALSE</li><li>TRUE</li><li>TRUE</li><li>TRUE</li><li>FALSE</li><li>FALSE</li><li>TRUE</li><li>FALSE</li><li>TRUE</li><li>FALSE</li><li>TRUE</li><li>FALSE</li><li>FALSE</li><li>FALSE</li><li>FALSE</li><li>TRUE</li><li>FALSE</li><li>TRUE</li><li>FALSE</li><li>FALSE</li><li>TRUE</li><li>FALSE</li><li>TRUE</li><li>TRUE</li><li>TRUE</li><li>FALSE</li><li>FALSE</li><li>TRUE</li><li>FALSE</li><li>FALSE</li><li>TRUE</li><li>TRUE</li><li>FALSE</li><li>TRUE</li><li>TRUE</li><li>FALSE</li><li>TRUE</li><li>FALSE</li><li>TRUE</li><li>FALSE</li><li>TRUE</li><li>FALSE</li><li>FALSE</li><li>TRUE</li><li>TRUE</li><li>FALSE</li><li>FALSE</li><li>TRUE</li><li>TRUE</li><li>TRUE</li><li>TRUE</li><li>FALSE</li><li>FALSE</li><li>FALSE</li><li>FALSE</li><li>TRUE</li><li>TRUE</li><li>TRUE</li><li>TRUE</li><li>FALSE</li><li>TRUE</li><li>FALSE</li><li>FALSE</li><li>FALSE</li><li>FALSE</li><li>TRUE</li><li>TRUE</li><li>FALSE</li><li>FALSE</li><li>FALSE</li><li>FALSE</li><li>FALSE</li><li>TRUE</li><li>FALSE</li><li>TRUE</li></ol>\n"
            ],
            "text/markdown": "1. TRUE\n2. TRUE\n3. FALSE\n4. FALSE\n5. TRUE\n6. TRUE\n7. FALSE\n8. FALSE\n9. FALSE\n10. FALSE\n11. FALSE\n12. FALSE\n13. FALSE\n14. TRUE\n15. FALSE\n16. FALSE\n17. FALSE\n18. FALSE\n19. TRUE\n20. TRUE\n21. TRUE\n22. TRUE\n23. FALSE\n24. FALSE\n25. FALSE\n26. FALSE\n27. TRUE\n28. TRUE\n29. TRUE\n30. FALSE\n31. FALSE\n32. TRUE\n33. FALSE\n34. TRUE\n35. FALSE\n36. TRUE\n37. FALSE\n38. FALSE\n39. FALSE\n40. FALSE\n41. TRUE\n42. FALSE\n43. TRUE\n44. FALSE\n45. FALSE\n46. TRUE\n47. FALSE\n48. TRUE\n49. TRUE\n50. TRUE\n51. FALSE\n52. FALSE\n53. TRUE\n54. FALSE\n55. FALSE\n56. TRUE\n57. TRUE\n58. FALSE\n59. TRUE\n60. TRUE\n61. FALSE\n62. TRUE\n63. FALSE\n64. TRUE\n65. FALSE\n66. TRUE\n67. FALSE\n68. FALSE\n69. TRUE\n70. TRUE\n71. FALSE\n72. FALSE\n73. TRUE\n74. TRUE\n75. TRUE\n76. TRUE\n77. FALSE\n78. FALSE\n79. FALSE\n80. FALSE\n81. TRUE\n82. TRUE\n83. TRUE\n84. TRUE\n85. FALSE\n86. TRUE\n87. FALSE\n88. FALSE\n89. FALSE\n90. FALSE\n91. TRUE\n92. TRUE\n93. FALSE\n94. FALSE\n95. FALSE\n96. FALSE\n97. FALSE\n98. TRUE\n99. FALSE\n100. TRUE\n\n\n",
            "text/latex": "\\begin{enumerate*}\n\\item TRUE\n\\item TRUE\n\\item FALSE\n\\item FALSE\n\\item TRUE\n\\item TRUE\n\\item FALSE\n\\item FALSE\n\\item FALSE\n\\item FALSE\n\\item FALSE\n\\item FALSE\n\\item FALSE\n\\item TRUE\n\\item FALSE\n\\item FALSE\n\\item FALSE\n\\item FALSE\n\\item TRUE\n\\item TRUE\n\\item TRUE\n\\item TRUE\n\\item FALSE\n\\item FALSE\n\\item FALSE\n\\item FALSE\n\\item TRUE\n\\item TRUE\n\\item TRUE\n\\item FALSE\n\\item FALSE\n\\item TRUE\n\\item FALSE\n\\item TRUE\n\\item FALSE\n\\item TRUE\n\\item FALSE\n\\item FALSE\n\\item FALSE\n\\item FALSE\n\\item TRUE\n\\item FALSE\n\\item TRUE\n\\item FALSE\n\\item FALSE\n\\item TRUE\n\\item FALSE\n\\item TRUE\n\\item TRUE\n\\item TRUE\n\\item FALSE\n\\item FALSE\n\\item TRUE\n\\item FALSE\n\\item FALSE\n\\item TRUE\n\\item TRUE\n\\item FALSE\n\\item TRUE\n\\item TRUE\n\\item FALSE\n\\item TRUE\n\\item FALSE\n\\item TRUE\n\\item FALSE\n\\item TRUE\n\\item FALSE\n\\item FALSE\n\\item TRUE\n\\item TRUE\n\\item FALSE\n\\item FALSE\n\\item TRUE\n\\item TRUE\n\\item TRUE\n\\item TRUE\n\\item FALSE\n\\item FALSE\n\\item FALSE\n\\item FALSE\n\\item TRUE\n\\item TRUE\n\\item TRUE\n\\item TRUE\n\\item FALSE\n\\item TRUE\n\\item FALSE\n\\item FALSE\n\\item FALSE\n\\item FALSE\n\\item TRUE\n\\item TRUE\n\\item FALSE\n\\item FALSE\n\\item FALSE\n\\item FALSE\n\\item FALSE\n\\item TRUE\n\\item FALSE\n\\item TRUE\n\\end{enumerate*}\n",
            "text/plain": [
              "  [1]  TRUE  TRUE FALSE FALSE  TRUE  TRUE FALSE FALSE FALSE FALSE FALSE FALSE\n",
              " [13] FALSE  TRUE FALSE FALSE FALSE FALSE  TRUE  TRUE  TRUE  TRUE FALSE FALSE\n",
              " [25] FALSE FALSE  TRUE  TRUE  TRUE FALSE FALSE  TRUE FALSE  TRUE FALSE  TRUE\n",
              " [37] FALSE FALSE FALSE FALSE  TRUE FALSE  TRUE FALSE FALSE  TRUE FALSE  TRUE\n",
              " [49]  TRUE  TRUE FALSE FALSE  TRUE FALSE FALSE  TRUE  TRUE FALSE  TRUE  TRUE\n",
              " [61] FALSE  TRUE FALSE  TRUE FALSE  TRUE FALSE FALSE  TRUE  TRUE FALSE FALSE\n",
              " [73]  TRUE  TRUE  TRUE  TRUE FALSE FALSE FALSE FALSE  TRUE  TRUE  TRUE  TRUE\n",
              " [85] FALSE  TRUE FALSE FALSE FALSE FALSE  TRUE  TRUE FALSE FALSE FALSE FALSE\n",
              " [97] FALSE  TRUE FALSE  TRUE"
            ]
          },
          "metadata": {}
        }
      ]
    },
    {
      "cell_type": "markdown",
      "metadata": {
        "id": "i7p8FIdtm5Zs"
      },
      "source": [
        "**Paso 5**\n",
        "\n",
        "Finalmente cree un data frame llamado _precipitaciones_ con las siguientes columnas:<br>\n",
        "\n",
        "*Dia_semana* (con los valores del vector _dia_)<br>\n",
        "*Temperatura* (con los valores del vector _temp_)<br>\n",
        "*Llueve* (con los valores del vector _lluvia_)<br>\n",
        "*Estacion* (con los valores del vector _est_)<br>"
      ]
    },
    {
      "cell_type": "code",
      "metadata": {
        "trusted": true,
        "id": "o-TVm7uum5Zs",
        "outputId": "46b3dbd6-7d07-46b9-f98e-ffbebe67daa2",
        "colab": {
          "base_uri": "https://localhost:8080/",
          "height": 1000
        }
      },
      "source": [
        "# Paso 5\n",
        "precipitaciones <- data.frame(Dia_semana = dia,\n",
        "                              Temperatura = temp,\n",
        "                              Llueve = lluvia,\n",
        "                              Estacion = est\n",
        "                              )\n",
        "\n",
        "precipitaciones"
      ],
      "execution_count": 24,
      "outputs": [
        {
          "output_type": "display_data",
          "data": {
            "text/html": [
              "<table class=\"dataframe\">\n",
              "<caption>A data.frame: 100 × 4</caption>\n",
              "<thead>\n",
              "\t<tr><th scope=col>Dia_semana</th><th scope=col>Temperatura</th><th scope=col>Llueve</th><th scope=col>Estacion</th></tr>\n",
              "\t<tr><th scope=col>&lt;chr&gt;</th><th scope=col>&lt;dbl&gt;</th><th scope=col>&lt;lgl&gt;</th><th scope=col>&lt;chr&gt;</th></tr>\n",
              "</thead>\n",
              "<tbody>\n",
              "\t<tr><td>L</td><td>17.285538</td><td> TRUE</td><td>E1</td></tr>\n",
              "\t<tr><td>M</td><td>19.225000</td><td> TRUE</td><td>E1</td></tr>\n",
              "\t<tr><td>W</td><td>28.384341</td><td>FALSE</td><td>E1</td></tr>\n",
              "\t<tr><td>J</td><td>21.678351</td><td>FALSE</td><td>E1</td></tr>\n",
              "\t<tr><td>V</td><td> 6.294893</td><td> TRUE</td><td>E1</td></tr>\n",
              "\t<tr><td>S</td><td>17.561017</td><td> TRUE</td><td>E1</td></tr>\n",
              "\t<tr><td>D</td><td>25.208950</td><td>FALSE</td><td>E1</td></tr>\n",
              "\t<tr><td>L</td><td>30.374875</td><td>FALSE</td><td>E1</td></tr>\n",
              "\t<tr><td>M</td><td>32.804863</td><td>FALSE</td><td>E1</td></tr>\n",
              "\t<tr><td>W</td><td>22.242971</td><td>FALSE</td><td>E1</td></tr>\n",
              "\t<tr><td>J</td><td>30.238158</td><td>FALSE</td><td>E1</td></tr>\n",
              "\t<tr><td>V</td><td>26.739659</td><td>FALSE</td><td>E1</td></tr>\n",
              "\t<tr><td>S</td><td>25.479568</td><td>FALSE</td><td>E1</td></tr>\n",
              "\t<tr><td>D</td><td>18.422416</td><td> TRUE</td><td>E1</td></tr>\n",
              "\t<tr><td>L</td><td>28.891523</td><td>FALSE</td><td>E1</td></tr>\n",
              "\t<tr><td>M</td><td>27.304616</td><td>FALSE</td><td>E1</td></tr>\n",
              "\t<tr><td>W</td><td>21.659832</td><td>FALSE</td><td>E1</td></tr>\n",
              "\t<tr><td>J</td><td>28.953940</td><td>FALSE</td><td>E1</td></tr>\n",
              "\t<tr><td>V</td><td>12.424271</td><td> TRUE</td><td>E1</td></tr>\n",
              "\t<tr><td>S</td><td>18.476982</td><td> TRUE</td><td>E1</td></tr>\n",
              "\t<tr><td>D</td><td>10.759235</td><td> TRUE</td><td>E1</td></tr>\n",
              "\t<tr><td>L</td><td> 5.072797</td><td> TRUE</td><td>E1</td></tr>\n",
              "\t<tr><td>M</td><td>22.405210</td><td>FALSE</td><td>E1</td></tr>\n",
              "\t<tr><td>W</td><td>24.170481</td><td>FALSE</td><td>E1</td></tr>\n",
              "\t<tr><td>J</td><td>20.986497</td><td>FALSE</td><td>E1</td></tr>\n",
              "\t<tr><td>V</td><td>31.991273</td><td>FALSE</td><td>E1</td></tr>\n",
              "\t<tr><td>S</td><td>19.302081</td><td> TRUE</td><td>E1</td></tr>\n",
              "\t<tr><td>D</td><td>16.342142</td><td> TRUE</td><td>E1</td></tr>\n",
              "\t<tr><td>L</td><td> 9.540585</td><td> TRUE</td><td>E1</td></tr>\n",
              "\t<tr><td>M</td><td>21.933574</td><td>FALSE</td><td>E1</td></tr>\n",
              "\t<tr><td>⋮</td><td>⋮</td><td>⋮</td><td>⋮</td></tr>\n",
              "\t<tr><td>L</td><td>27.967527</td><td>FALSE</td><td>E3</td></tr>\n",
              "\t<tr><td>M</td><td>22.063260</td><td>FALSE</td><td>E3</td></tr>\n",
              "\t<tr><td>W</td><td>16.368615</td><td> TRUE</td><td>E3</td></tr>\n",
              "\t<tr><td>J</td><td>11.276060</td><td> TRUE</td><td>E3</td></tr>\n",
              "\t<tr><td>V</td><td>16.533493</td><td> TRUE</td><td>E3</td></tr>\n",
              "\t<tr><td>S</td><td>12.129530</td><td> TRUE</td><td>E3</td></tr>\n",
              "\t<tr><td>D</td><td>28.597395</td><td>FALSE</td><td>E3</td></tr>\n",
              "\t<tr><td>L</td><td>23.178060</td><td>FALSE</td><td>E3</td></tr>\n",
              "\t<tr><td>M</td><td>21.579011</td><td>FALSE</td><td>E3</td></tr>\n",
              "\t<tr><td>W</td><td>26.423323</td><td>FALSE</td><td>E3</td></tr>\n",
              "\t<tr><td>J</td><td>12.801473</td><td> TRUE</td><td>E3</td></tr>\n",
              "\t<tr><td>V</td><td> 9.397975</td><td> TRUE</td><td>E3</td></tr>\n",
              "\t<tr><td>S</td><td>16.332854</td><td> TRUE</td><td>E3</td></tr>\n",
              "\t<tr><td>D</td><td>12.601204</td><td> TRUE</td><td>E3</td></tr>\n",
              "\t<tr><td>L</td><td>23.178187</td><td>FALSE</td><td>E3</td></tr>\n",
              "\t<tr><td>M</td><td>16.563641</td><td> TRUE</td><td>E3</td></tr>\n",
              "\t<tr><td>W</td><td>29.882321</td><td>FALSE</td><td>E3</td></tr>\n",
              "\t<tr><td>J</td><td>20.498594</td><td>FALSE</td><td>E3</td></tr>\n",
              "\t<tr><td>V</td><td>27.121845</td><td>FALSE</td><td>E3</td></tr>\n",
              "\t<tr><td>S</td><td>21.211476</td><td>FALSE</td><td>E3</td></tr>\n",
              "\t<tr><td>D</td><td>17.938604</td><td> TRUE</td><td>E3</td></tr>\n",
              "\t<tr><td>L</td><td>14.888838</td><td> TRUE</td><td>E3</td></tr>\n",
              "\t<tr><td>M</td><td>21.792031</td><td>FALSE</td><td>E3</td></tr>\n",
              "\t<tr><td>W</td><td>22.120920</td><td>FALSE</td><td>E3</td></tr>\n",
              "\t<tr><td>J</td><td>31.173522</td><td>FALSE</td><td>E3</td></tr>\n",
              "\t<tr><td>V</td><td>32.851683</td><td>FALSE</td><td>E3</td></tr>\n",
              "\t<tr><td>S</td><td>21.819271</td><td>FALSE</td><td>E3</td></tr>\n",
              "\t<tr><td>D</td><td>19.954056</td><td> TRUE</td><td>E3</td></tr>\n",
              "\t<tr><td>L</td><td>26.705712</td><td>FALSE</td><td>E3</td></tr>\n",
              "\t<tr><td>M</td><td>11.589025</td><td> TRUE</td><td>E3</td></tr>\n",
              "</tbody>\n",
              "</table>\n"
            ],
            "text/markdown": "\nA data.frame: 100 × 4\n\n| Dia_semana &lt;chr&gt; | Temperatura &lt;dbl&gt; | Llueve &lt;lgl&gt; | Estacion &lt;chr&gt; |\n|---|---|---|---|\n| L | 17.285538 |  TRUE | E1 |\n| M | 19.225000 |  TRUE | E1 |\n| W | 28.384341 | FALSE | E1 |\n| J | 21.678351 | FALSE | E1 |\n| V |  6.294893 |  TRUE | E1 |\n| S | 17.561017 |  TRUE | E1 |\n| D | 25.208950 | FALSE | E1 |\n| L | 30.374875 | FALSE | E1 |\n| M | 32.804863 | FALSE | E1 |\n| W | 22.242971 | FALSE | E1 |\n| J | 30.238158 | FALSE | E1 |\n| V | 26.739659 | FALSE | E1 |\n| S | 25.479568 | FALSE | E1 |\n| D | 18.422416 |  TRUE | E1 |\n| L | 28.891523 | FALSE | E1 |\n| M | 27.304616 | FALSE | E1 |\n| W | 21.659832 | FALSE | E1 |\n| J | 28.953940 | FALSE | E1 |\n| V | 12.424271 |  TRUE | E1 |\n| S | 18.476982 |  TRUE | E1 |\n| D | 10.759235 |  TRUE | E1 |\n| L |  5.072797 |  TRUE | E1 |\n| M | 22.405210 | FALSE | E1 |\n| W | 24.170481 | FALSE | E1 |\n| J | 20.986497 | FALSE | E1 |\n| V | 31.991273 | FALSE | E1 |\n| S | 19.302081 |  TRUE | E1 |\n| D | 16.342142 |  TRUE | E1 |\n| L |  9.540585 |  TRUE | E1 |\n| M | 21.933574 | FALSE | E1 |\n| ⋮ | ⋮ | ⋮ | ⋮ |\n| L | 27.967527 | FALSE | E3 |\n| M | 22.063260 | FALSE | E3 |\n| W | 16.368615 |  TRUE | E3 |\n| J | 11.276060 |  TRUE | E3 |\n| V | 16.533493 |  TRUE | E3 |\n| S | 12.129530 |  TRUE | E3 |\n| D | 28.597395 | FALSE | E3 |\n| L | 23.178060 | FALSE | E3 |\n| M | 21.579011 | FALSE | E3 |\n| W | 26.423323 | FALSE | E3 |\n| J | 12.801473 |  TRUE | E3 |\n| V |  9.397975 |  TRUE | E3 |\n| S | 16.332854 |  TRUE | E3 |\n| D | 12.601204 |  TRUE | E3 |\n| L | 23.178187 | FALSE | E3 |\n| M | 16.563641 |  TRUE | E3 |\n| W | 29.882321 | FALSE | E3 |\n| J | 20.498594 | FALSE | E3 |\n| V | 27.121845 | FALSE | E3 |\n| S | 21.211476 | FALSE | E3 |\n| D | 17.938604 |  TRUE | E3 |\n| L | 14.888838 |  TRUE | E3 |\n| M | 21.792031 | FALSE | E3 |\n| W | 22.120920 | FALSE | E3 |\n| J | 31.173522 | FALSE | E3 |\n| V | 32.851683 | FALSE | E3 |\n| S | 21.819271 | FALSE | E3 |\n| D | 19.954056 |  TRUE | E3 |\n| L | 26.705712 | FALSE | E3 |\n| M | 11.589025 |  TRUE | E3 |\n\n",
            "text/latex": "A data.frame: 100 × 4\n\\begin{tabular}{llll}\n Dia\\_semana & Temperatura & Llueve & Estacion\\\\\n <chr> & <dbl> & <lgl> & <chr>\\\\\n\\hline\n\t L & 17.285538 &  TRUE & E1\\\\\n\t M & 19.225000 &  TRUE & E1\\\\\n\t W & 28.384341 & FALSE & E1\\\\\n\t J & 21.678351 & FALSE & E1\\\\\n\t V &  6.294893 &  TRUE & E1\\\\\n\t S & 17.561017 &  TRUE & E1\\\\\n\t D & 25.208950 & FALSE & E1\\\\\n\t L & 30.374875 & FALSE & E1\\\\\n\t M & 32.804863 & FALSE & E1\\\\\n\t W & 22.242971 & FALSE & E1\\\\\n\t J & 30.238158 & FALSE & E1\\\\\n\t V & 26.739659 & FALSE & E1\\\\\n\t S & 25.479568 & FALSE & E1\\\\\n\t D & 18.422416 &  TRUE & E1\\\\\n\t L & 28.891523 & FALSE & E1\\\\\n\t M & 27.304616 & FALSE & E1\\\\\n\t W & 21.659832 & FALSE & E1\\\\\n\t J & 28.953940 & FALSE & E1\\\\\n\t V & 12.424271 &  TRUE & E1\\\\\n\t S & 18.476982 &  TRUE & E1\\\\\n\t D & 10.759235 &  TRUE & E1\\\\\n\t L &  5.072797 &  TRUE & E1\\\\\n\t M & 22.405210 & FALSE & E1\\\\\n\t W & 24.170481 & FALSE & E1\\\\\n\t J & 20.986497 & FALSE & E1\\\\\n\t V & 31.991273 & FALSE & E1\\\\\n\t S & 19.302081 &  TRUE & E1\\\\\n\t D & 16.342142 &  TRUE & E1\\\\\n\t L &  9.540585 &  TRUE & E1\\\\\n\t M & 21.933574 & FALSE & E1\\\\\n\t ⋮ & ⋮ & ⋮ & ⋮\\\\\n\t L & 27.967527 & FALSE & E3\\\\\n\t M & 22.063260 & FALSE & E3\\\\\n\t W & 16.368615 &  TRUE & E3\\\\\n\t J & 11.276060 &  TRUE & E3\\\\\n\t V & 16.533493 &  TRUE & E3\\\\\n\t S & 12.129530 &  TRUE & E3\\\\\n\t D & 28.597395 & FALSE & E3\\\\\n\t L & 23.178060 & FALSE & E3\\\\\n\t M & 21.579011 & FALSE & E3\\\\\n\t W & 26.423323 & FALSE & E3\\\\\n\t J & 12.801473 &  TRUE & E3\\\\\n\t V &  9.397975 &  TRUE & E3\\\\\n\t S & 16.332854 &  TRUE & E3\\\\\n\t D & 12.601204 &  TRUE & E3\\\\\n\t L & 23.178187 & FALSE & E3\\\\\n\t M & 16.563641 &  TRUE & E3\\\\\n\t W & 29.882321 & FALSE & E3\\\\\n\t J & 20.498594 & FALSE & E3\\\\\n\t V & 27.121845 & FALSE & E3\\\\\n\t S & 21.211476 & FALSE & E3\\\\\n\t D & 17.938604 &  TRUE & E3\\\\\n\t L & 14.888838 &  TRUE & E3\\\\\n\t M & 21.792031 & FALSE & E3\\\\\n\t W & 22.120920 & FALSE & E3\\\\\n\t J & 31.173522 & FALSE & E3\\\\\n\t V & 32.851683 & FALSE & E3\\\\\n\t S & 21.819271 & FALSE & E3\\\\\n\t D & 19.954056 &  TRUE & E3\\\\\n\t L & 26.705712 & FALSE & E3\\\\\n\t M & 11.589025 &  TRUE & E3\\\\\n\\end{tabular}\n",
            "text/plain": [
              "    Dia_semana Temperatura Llueve Estacion\n",
              "1   L          17.285538    TRUE  E1      \n",
              "2   M          19.225000    TRUE  E1      \n",
              "3   W          28.384341   FALSE  E1      \n",
              "4   J          21.678351   FALSE  E1      \n",
              "5   V           6.294893    TRUE  E1      \n",
              "6   S          17.561017    TRUE  E1      \n",
              "7   D          25.208950   FALSE  E1      \n",
              "8   L          30.374875   FALSE  E1      \n",
              "9   M          32.804863   FALSE  E1      \n",
              "10  W          22.242971   FALSE  E1      \n",
              "11  J          30.238158   FALSE  E1      \n",
              "12  V          26.739659   FALSE  E1      \n",
              "13  S          25.479568   FALSE  E1      \n",
              "14  D          18.422416    TRUE  E1      \n",
              "15  L          28.891523   FALSE  E1      \n",
              "16  M          27.304616   FALSE  E1      \n",
              "17  W          21.659832   FALSE  E1      \n",
              "18  J          28.953940   FALSE  E1      \n",
              "19  V          12.424271    TRUE  E1      \n",
              "20  S          18.476982    TRUE  E1      \n",
              "21  D          10.759235    TRUE  E1      \n",
              "22  L           5.072797    TRUE  E1      \n",
              "23  M          22.405210   FALSE  E1      \n",
              "24  W          24.170481   FALSE  E1      \n",
              "25  J          20.986497   FALSE  E1      \n",
              "26  V          31.991273   FALSE  E1      \n",
              "27  S          19.302081    TRUE  E1      \n",
              "28  D          16.342142    TRUE  E1      \n",
              "29  L           9.540585    TRUE  E1      \n",
              "30  M          21.933574   FALSE  E1      \n",
              "⋮   ⋮          ⋮           ⋮      ⋮       \n",
              "71  L          27.967527   FALSE  E3      \n",
              "72  M          22.063260   FALSE  E3      \n",
              "73  W          16.368615    TRUE  E3      \n",
              "74  J          11.276060    TRUE  E3      \n",
              "75  V          16.533493    TRUE  E3      \n",
              "76  S          12.129530    TRUE  E3      \n",
              "77  D          28.597395   FALSE  E3      \n",
              "78  L          23.178060   FALSE  E3      \n",
              "79  M          21.579011   FALSE  E3      \n",
              "80  W          26.423323   FALSE  E3      \n",
              "81  J          12.801473    TRUE  E3      \n",
              "82  V           9.397975    TRUE  E3      \n",
              "83  S          16.332854    TRUE  E3      \n",
              "84  D          12.601204    TRUE  E3      \n",
              "85  L          23.178187   FALSE  E3      \n",
              "86  M          16.563641    TRUE  E3      \n",
              "87  W          29.882321   FALSE  E3      \n",
              "88  J          20.498594   FALSE  E3      \n",
              "89  V          27.121845   FALSE  E3      \n",
              "90  S          21.211476   FALSE  E3      \n",
              "91  D          17.938604    TRUE  E3      \n",
              "92  L          14.888838    TRUE  E3      \n",
              "93  M          21.792031   FALSE  E3      \n",
              "94  W          22.120920   FALSE  E3      \n",
              "95  J          31.173522   FALSE  E3      \n",
              "96  V          32.851683   FALSE  E3      \n",
              "97  S          21.819271   FALSE  E3      \n",
              "98  D          19.954056    TRUE  E3      \n",
              "99  L          26.705712   FALSE  E3      \n",
              "100 M          11.589025    TRUE  E3      "
            ]
          },
          "metadata": {}
        }
      ]
    },
    {
      "cell_type": "code",
      "source": [
        "summary(precipitaciones)"
      ],
      "metadata": {
        "id": "Z986Nu0CSx3q",
        "outputId": "cb7cbdbd-2e74-4c3c-97b7-da1963aca2d2",
        "colab": {
          "base_uri": "https://localhost:8080/",
          "height": 138
        }
      },
      "execution_count": 25,
      "outputs": [
        {
          "output_type": "display_data",
          "data": {
            "text/plain": [
              "  Dia_semana         Temperatura       Llueve          Estacion        \n",
              " Length:100         Min.   : 3.432   Mode :logical   Length:100        \n",
              " Class :character   1st Qu.:16.362   FALSE:56        Class :character  \n",
              " Mode  :character   Median :21.669   TRUE :44        Mode  :character  \n",
              "                    Mean   :21.055                                     \n",
              "                    3rd Qu.:26.494                                     \n",
              "                    Max.   :34.041                                     "
            ]
          },
          "metadata": {}
        }
      ]
    },
    {
      "cell_type": "markdown",
      "metadata": {
        "id": "kIjelA5sm5Zx"
      },
      "source": [
        "#### Strings como factores\n",
        "Cuando en R se declara una variable como factor, internamente se codifican sus categorías con valores 0 o 1. Por ejemplo, para las variables _Dia_ y _Estacion_ podemos generar sus matriz de diseño, indicando un 1 si el día (o estación) corresponde a la nueva columna generada, 0 si  no:\n",
        "\n",
        " |Dia |Temperatura    |Llueve| Estacion| | Dia.L|Dia.M|Dia.W|Dia.J|Dia.V|Dia.S|Dia.D|Est.1|Est.2|Est.3|\n",
        " |----|------------   |------|---------| |---   |---  |---  |---  |---  |---  |---  |---  |---  |---  |\n",
        " |L\t  |16.300201      |TRUE  |\tE1     | |1     |0    |0    |0    |0    |0    |0    |1    |0    |0    |\n",
        " |M   |21.042854      |FALSE |\tE1     | |0     |1    |0    |0    |0    |0    |0    |1    |0    |0    |\n",
        " |J\t  |31.256043      |FALSE |\tE3     | |0     |0    |0    |1    |0    |0    |0    |0    |0    |1    |\n",
        " |S\t  |40.083514      |FALSE |\tE3     | |0     |0    |0    |0    |0    |1    |0    |0    |0    |1    |\n",
        " \n",
        " Cuando se quiere generar un resumen de una variable categórica, o cuando se quiere incluir una variable de este tipo en el entrenamiento de un modelo será necesario declarar dicha variable como factor."
      ]
    },
    {
      "cell_type": "code",
      "metadata": {
        "trusted": true,
        "id": "UQN71LvGm5Z-"
      },
      "source": [
        "#podemos volver a coercionar las columnas a clase factor,  con la función as.factor\n",
        "precipitaciones$Estacion <- as.factor(precipitaciones$Estacion)"
      ],
      "execution_count": 26,
      "outputs": []
    },
    {
      "cell_type": "code",
      "source": [
        "head(precipitaciones,10)"
      ],
      "metadata": {
        "id": "DpewAmjnTxmp",
        "outputId": "4f03c010-9740-4a16-9931-b41cc21cda9b",
        "colab": {
          "base_uri": "https://localhost:8080/",
          "height": 412
        }
      },
      "execution_count": 27,
      "outputs": [
        {
          "output_type": "display_data",
          "data": {
            "text/html": [
              "<table class=\"dataframe\">\n",
              "<caption>A data.frame: 10 × 4</caption>\n",
              "<thead>\n",
              "\t<tr><th></th><th scope=col>Dia_semana</th><th scope=col>Temperatura</th><th scope=col>Llueve</th><th scope=col>Estacion</th></tr>\n",
              "\t<tr><th></th><th scope=col>&lt;chr&gt;</th><th scope=col>&lt;dbl&gt;</th><th scope=col>&lt;lgl&gt;</th><th scope=col>&lt;fct&gt;</th></tr>\n",
              "</thead>\n",
              "<tbody>\n",
              "\t<tr><th scope=row>1</th><td>L</td><td>17.285538</td><td> TRUE</td><td>E1</td></tr>\n",
              "\t<tr><th scope=row>2</th><td>M</td><td>19.225000</td><td> TRUE</td><td>E1</td></tr>\n",
              "\t<tr><th scope=row>3</th><td>W</td><td>28.384341</td><td>FALSE</td><td>E1</td></tr>\n",
              "\t<tr><th scope=row>4</th><td>J</td><td>21.678351</td><td>FALSE</td><td>E1</td></tr>\n",
              "\t<tr><th scope=row>5</th><td>V</td><td> 6.294893</td><td> TRUE</td><td>E1</td></tr>\n",
              "\t<tr><th scope=row>6</th><td>S</td><td>17.561017</td><td> TRUE</td><td>E1</td></tr>\n",
              "\t<tr><th scope=row>7</th><td>D</td><td>25.208950</td><td>FALSE</td><td>E1</td></tr>\n",
              "\t<tr><th scope=row>8</th><td>L</td><td>30.374875</td><td>FALSE</td><td>E1</td></tr>\n",
              "\t<tr><th scope=row>9</th><td>M</td><td>32.804863</td><td>FALSE</td><td>E1</td></tr>\n",
              "\t<tr><th scope=row>10</th><td>W</td><td>22.242971</td><td>FALSE</td><td>E1</td></tr>\n",
              "</tbody>\n",
              "</table>\n"
            ],
            "text/markdown": "\nA data.frame: 10 × 4\n\n| <!--/--> | Dia_semana &lt;chr&gt; | Temperatura &lt;dbl&gt; | Llueve &lt;lgl&gt; | Estacion &lt;fct&gt; |\n|---|---|---|---|---|\n| 1 | L | 17.285538 |  TRUE | E1 |\n| 2 | M | 19.225000 |  TRUE | E1 |\n| 3 | W | 28.384341 | FALSE | E1 |\n| 4 | J | 21.678351 | FALSE | E1 |\n| 5 | V |  6.294893 |  TRUE | E1 |\n| 6 | S | 17.561017 |  TRUE | E1 |\n| 7 | D | 25.208950 | FALSE | E1 |\n| 8 | L | 30.374875 | FALSE | E1 |\n| 9 | M | 32.804863 | FALSE | E1 |\n| 10 | W | 22.242971 | FALSE | E1 |\n\n",
            "text/latex": "A data.frame: 10 × 4\n\\begin{tabular}{r|llll}\n  & Dia\\_semana & Temperatura & Llueve & Estacion\\\\\n  & <chr> & <dbl> & <lgl> & <fct>\\\\\n\\hline\n\t1 & L & 17.285538 &  TRUE & E1\\\\\n\t2 & M & 19.225000 &  TRUE & E1\\\\\n\t3 & W & 28.384341 & FALSE & E1\\\\\n\t4 & J & 21.678351 & FALSE & E1\\\\\n\t5 & V &  6.294893 &  TRUE & E1\\\\\n\t6 & S & 17.561017 &  TRUE & E1\\\\\n\t7 & D & 25.208950 & FALSE & E1\\\\\n\t8 & L & 30.374875 & FALSE & E1\\\\\n\t9 & M & 32.804863 & FALSE & E1\\\\\n\t10 & W & 22.242971 & FALSE & E1\\\\\n\\end{tabular}\n",
            "text/plain": [
              "   Dia_semana Temperatura Llueve Estacion\n",
              "1  L          17.285538    TRUE  E1      \n",
              "2  M          19.225000    TRUE  E1      \n",
              "3  W          28.384341   FALSE  E1      \n",
              "4  J          21.678351   FALSE  E1      \n",
              "5  V           6.294893    TRUE  E1      \n",
              "6  S          17.561017    TRUE  E1      \n",
              "7  D          25.208950   FALSE  E1      \n",
              "8  L          30.374875   FALSE  E1      \n",
              "9  M          32.804863   FALSE  E1      \n",
              "10 W          22.242971   FALSE  E1      "
            ]
          },
          "metadata": {}
        }
      ]
    },
    {
      "cell_type": "code",
      "source": [
        "summary(precipitaciones)"
      ],
      "metadata": {
        "id": "al0CXzRgT5JF",
        "outputId": "8fa3841e-a5f1-4153-eb6e-ee9911fd0120",
        "colab": {
          "base_uri": "https://localhost:8080/",
          "height": 138
        }
      },
      "execution_count": 28,
      "outputs": [
        {
          "output_type": "display_data",
          "data": {
            "text/plain": [
              "  Dia_semana         Temperatura       Llueve        Estacion\n",
              " Length:100         Min.   : 3.432   Mode :logical   E1:33   \n",
              " Class :character   1st Qu.:16.362   FALSE:56        E2:33   \n",
              " Mode  :character   Median :21.669   TRUE :44        E3:34   \n",
              "                    Mean   :21.055                           \n",
              "                    3rd Qu.:26.494                           \n",
              "                    Max.   :34.041                           "
            ]
          },
          "metadata": {}
        }
      ]
    },
    {
      "cell_type": "code",
      "source": [
        "# volvemos a character\n",
        "precipitaciones$Estacion <- as.character(precipitaciones$Estacion)\n"
      ],
      "metadata": {
        "id": "k1U5vuKlUANb"
      },
      "execution_count": 29,
      "outputs": []
    },
    {
      "cell_type": "code",
      "source": [
        "head(precipitaciones)"
      ],
      "metadata": {
        "id": "KFSuulkdUHpF",
        "outputId": "3388473e-96a7-4346-a14f-53f52b13a09f",
        "colab": {
          "base_uri": "https://localhost:8080/",
          "height": 286
        }
      },
      "execution_count": 30,
      "outputs": [
        {
          "output_type": "display_data",
          "data": {
            "text/html": [
              "<table class=\"dataframe\">\n",
              "<caption>A data.frame: 6 × 4</caption>\n",
              "<thead>\n",
              "\t<tr><th></th><th scope=col>Dia_semana</th><th scope=col>Temperatura</th><th scope=col>Llueve</th><th scope=col>Estacion</th></tr>\n",
              "\t<tr><th></th><th scope=col>&lt;chr&gt;</th><th scope=col>&lt;dbl&gt;</th><th scope=col>&lt;lgl&gt;</th><th scope=col>&lt;chr&gt;</th></tr>\n",
              "</thead>\n",
              "<tbody>\n",
              "\t<tr><th scope=row>1</th><td>L</td><td>17.285538</td><td> TRUE</td><td>E1</td></tr>\n",
              "\t<tr><th scope=row>2</th><td>M</td><td>19.225000</td><td> TRUE</td><td>E1</td></tr>\n",
              "\t<tr><th scope=row>3</th><td>W</td><td>28.384341</td><td>FALSE</td><td>E1</td></tr>\n",
              "\t<tr><th scope=row>4</th><td>J</td><td>21.678351</td><td>FALSE</td><td>E1</td></tr>\n",
              "\t<tr><th scope=row>5</th><td>V</td><td> 6.294893</td><td> TRUE</td><td>E1</td></tr>\n",
              "\t<tr><th scope=row>6</th><td>S</td><td>17.561017</td><td> TRUE</td><td>E1</td></tr>\n",
              "</tbody>\n",
              "</table>\n"
            ],
            "text/markdown": "\nA data.frame: 6 × 4\n\n| <!--/--> | Dia_semana &lt;chr&gt; | Temperatura &lt;dbl&gt; | Llueve &lt;lgl&gt; | Estacion &lt;chr&gt; |\n|---|---|---|---|---|\n| 1 | L | 17.285538 |  TRUE | E1 |\n| 2 | M | 19.225000 |  TRUE | E1 |\n| 3 | W | 28.384341 | FALSE | E1 |\n| 4 | J | 21.678351 | FALSE | E1 |\n| 5 | V |  6.294893 |  TRUE | E1 |\n| 6 | S | 17.561017 |  TRUE | E1 |\n\n",
            "text/latex": "A data.frame: 6 × 4\n\\begin{tabular}{r|llll}\n  & Dia\\_semana & Temperatura & Llueve & Estacion\\\\\n  & <chr> & <dbl> & <lgl> & <chr>\\\\\n\\hline\n\t1 & L & 17.285538 &  TRUE & E1\\\\\n\t2 & M & 19.225000 &  TRUE & E1\\\\\n\t3 & W & 28.384341 & FALSE & E1\\\\\n\t4 & J & 21.678351 & FALSE & E1\\\\\n\t5 & V &  6.294893 &  TRUE & E1\\\\\n\t6 & S & 17.561017 &  TRUE & E1\\\\\n\\end{tabular}\n",
            "text/plain": [
              "  Dia_semana Temperatura Llueve Estacion\n",
              "1 L          17.285538    TRUE  E1      \n",
              "2 M          19.225000    TRUE  E1      \n",
              "3 W          28.384341   FALSE  E1      \n",
              "4 J          21.678351   FALSE  E1      \n",
              "5 V           6.294893    TRUE  E1      \n",
              "6 S          17.561017    TRUE  E1      "
            ]
          },
          "metadata": {}
        }
      ]
    },
    {
      "cell_type": "code",
      "metadata": {
        "trusted": true,
        "id": "5kjmwaOUm5aA",
        "outputId": "bcdf0cd7-c589-4cd3-f54f-c8c4ecf75ace",
        "colab": {
          "base_uri": "https://localhost:8080/",
          "height": 121
        }
      },
      "source": [
        "# Un poco de exploración --------------------------------\n",
        "# ¿Cuál es la temperatura promedio cuando llovió? En este caso dio 14.5\n",
        "# mean(c(1,1,2,4))\n",
        "\n",
        " mean(precipitaciones$Temperatura[precipitaciones$Llueve == T])\n",
        " mean(precipitaciones$Temperatura[precipitaciones$Llueve])\n",
        "\n",
        "# ¿Cuál es la temperatura promedio cuando NO llovió?\n",
        " mean(precipitaciones$Temperatura[!precipitaciones$Llueve == T])\n",
        " mean(precipitaciones$Temperatura[precipitaciones$Llueve == F])\n",
        "  mean(precipitaciones$Temperatura[!precipitaciones$Llueve])\n",
        "\n",
        "#promedio cuando llovió pero sólo de los registros de E1\n",
        " mean(precipitaciones$Temperatura[precipitaciones$Llueve == T & precipitaciones$Estacion == \"E1\"])\n"
      ],
      "execution_count": 37,
      "outputs": [
        {
          "output_type": "display_data",
          "data": {
            "text/html": [
              "14.4881987774145"
            ],
            "text/markdown": "14.4881987774145",
            "text/latex": "14.4881987774145",
            "text/plain": [
              "[1] 14.4882"
            ]
          },
          "metadata": {}
        },
        {
          "output_type": "display_data",
          "data": {
            "text/html": [
              "14.4881987774145"
            ],
            "text/markdown": "14.4881987774145",
            "text/latex": "14.4881987774145",
            "text/plain": [
              "[1] 14.4882"
            ]
          },
          "metadata": {}
        },
        {
          "output_type": "display_data",
          "data": {
            "text/html": [
              "26.2150332750255"
            ],
            "text/markdown": "26.2150332750255",
            "text/latex": "26.2150332750255",
            "text/plain": [
              "[1] 26.21503"
            ]
          },
          "metadata": {}
        },
        {
          "output_type": "display_data",
          "data": {
            "text/html": [
              "26.2150332750255"
            ],
            "text/markdown": "26.2150332750255",
            "text/latex": "26.2150332750255",
            "text/plain": [
              "[1] 26.21503"
            ]
          },
          "metadata": {}
        },
        {
          "output_type": "display_data",
          "data": {
            "text/html": [
              "26.2150332750255"
            ],
            "text/markdown": "26.2150332750255",
            "text/latex": "26.2150332750255",
            "text/plain": [
              "[1] 26.21503"
            ]
          },
          "metadata": {}
        },
        {
          "output_type": "display_data",
          "data": {
            "text/html": [
              "14.3819669978005"
            ],
            "text/markdown": "14.3819669978005",
            "text/latex": "14.3819669978005",
            "text/plain": [
              "[1] 14.38197"
            ]
          },
          "metadata": {}
        }
      ]
    },
    {
      "cell_type": "code",
      "metadata": {
        "trusted": true,
        "id": "TJuAlpPxm5aC",
        "outputId": "dd799214-5f6c-4d26-bf58-fea3e4d6cc9c",
        "colab": {
          "base_uri": "https://localhost:8080/",
          "height": 164
        }
      },
      "source": [
        "# ¿Qué día era cuando se alcanzó la mínima temperatura?¿y la ,máxima?\n",
        "#La función which.min #o .max . retorna la posición donde se alcanza el min/max de un vector.\n",
        "\n",
        "precipitaciones[which.min(precipitaciones$Temperatura),] # La fila completa de la tabla en la que se alcanza el minimo de temperatura\n",
        "\n",
        "# opcion 1\n",
        "precipitaciones$Dia_semana[which.min(precipitaciones$Temperatura)]\n",
        "# opcion 2\n",
        "precipitaciones[which.min(precipitaciones$Temperatura), \"Dia_semana\"]"
      ],
      "execution_count": 42,
      "outputs": [
        {
          "output_type": "display_data",
          "data": {
            "text/html": [
              "<table class=\"dataframe\">\n",
              "<caption>A data.frame: 1 × 4</caption>\n",
              "<thead>\n",
              "\t<tr><th></th><th scope=col>Dia_semana</th><th scope=col>Temperatura</th><th scope=col>Llueve</th><th scope=col>Estacion</th></tr>\n",
              "\t<tr><th></th><th scope=col>&lt;chr&gt;</th><th scope=col>&lt;dbl&gt;</th><th scope=col>&lt;lgl&gt;</th><th scope=col>&lt;chr&gt;</th></tr>\n",
              "</thead>\n",
              "<tbody>\n",
              "\t<tr><th scope=row>36</th><td>L</td><td>3.431553</td><td>TRUE</td><td>E2</td></tr>\n",
              "</tbody>\n",
              "</table>\n"
            ],
            "text/markdown": "\nA data.frame: 1 × 4\n\n| <!--/--> | Dia_semana &lt;chr&gt; | Temperatura &lt;dbl&gt; | Llueve &lt;lgl&gt; | Estacion &lt;chr&gt; |\n|---|---|---|---|---|\n| 36 | L | 3.431553 | TRUE | E2 |\n\n",
            "text/latex": "A data.frame: 1 × 4\n\\begin{tabular}{r|llll}\n  & Dia\\_semana & Temperatura & Llueve & Estacion\\\\\n  & <chr> & <dbl> & <lgl> & <chr>\\\\\n\\hline\n\t36 & L & 3.431553 & TRUE & E2\\\\\n\\end{tabular}\n",
            "text/plain": [
              "   Dia_semana Temperatura Llueve Estacion\n",
              "36 L          3.431553    TRUE   E2      "
            ]
          },
          "metadata": {}
        },
        {
          "output_type": "display_data",
          "data": {
            "text/html": [
              "'L'"
            ],
            "text/markdown": "'L'",
            "text/latex": "'L'",
            "text/plain": [
              "[1] \"L\""
            ]
          },
          "metadata": {}
        },
        {
          "output_type": "display_data",
          "data": {
            "text/html": [
              "'L'"
            ],
            "text/markdown": "'L'",
            "text/latex": "'L'",
            "text/plain": [
              "[1] \"L\""
            ]
          },
          "metadata": {}
        }
      ]
    },
    {
      "cell_type": "code",
      "metadata": {
        "trusted": true,
        "id": "WHf5YnPWm5aF"
      },
      "source": [
        "# Una forma de eliminar registros en vector (NOTA A PARTE)\n",
        "\n",
        "v <- c(10,11,12,13)\n",
        "\n"
      ],
      "execution_count": 43,
      "outputs": []
    },
    {
      "cell_type": "code",
      "metadata": {
        "trusted": true,
        "id": "6Vx1ojnAm5aH",
        "outputId": "789381fd-91ea-4897-a9e6-cc9e21783f24",
        "colab": {
          "base_uri": "https://localhost:8080/",
          "height": 34
        }
      },
      "source": [
        "# POdemos eliminar los registros de posición 3 y 4\n",
        "v[-c(3,4)]"
      ],
      "execution_count": 46,
      "outputs": [
        {
          "output_type": "display_data",
          "data": {
            "text/html": [
              "<style>\n",
              ".list-inline {list-style: none; margin:0; padding: 0}\n",
              ".list-inline>li {display: inline-block}\n",
              ".list-inline>li:not(:last-child)::after {content: \"\\00b7\"; padding: 0 .5ex}\n",
              "</style>\n",
              "<ol class=list-inline><li>10</li><li>11</li></ol>\n"
            ],
            "text/markdown": "1. 10\n2. 11\n\n\n",
            "text/latex": "\\begin{enumerate*}\n\\item 10\n\\item 11\n\\end{enumerate*}\n",
            "text/plain": [
              "[1] 10 11"
            ]
          },
          "metadata": {}
        }
      ]
    },
    {
      "cell_type": "code",
      "source": [
        "v"
      ],
      "metadata": {
        "id": "p1xv-lbVXmM6",
        "outputId": "2b3eab4b-8efe-4ee2-f105-5de14304774d",
        "colab": {
          "base_uri": "https://localhost:8080/",
          "height": 34
        }
      },
      "execution_count": 47,
      "outputs": [
        {
          "output_type": "display_data",
          "data": {
            "text/html": [
              "<style>\n",
              ".list-inline {list-style: none; margin:0; padding: 0}\n",
              ".list-inline>li {display: inline-block}\n",
              ".list-inline>li:not(:last-child)::after {content: \"\\00b7\"; padding: 0 .5ex}\n",
              "</style>\n",
              "<ol class=list-inline><li>10</li><li>11</li><li>12</li><li>13</li></ol>\n"
            ],
            "text/markdown": "1. 10\n2. 11\n3. 12\n4. 13\n\n\n",
            "text/latex": "\\begin{enumerate*}\n\\item 10\n\\item 11\n\\item 12\n\\item 13\n\\end{enumerate*}\n",
            "text/plain": [
              "[1] 10 11 12 13"
            ]
          },
          "metadata": {}
        }
      ]
    },
    {
      "cell_type": "code",
      "source": [
        "v <- v[-c(3,4)]"
      ],
      "metadata": {
        "id": "5cmnTNijXpAA"
      },
      "execution_count": 48,
      "outputs": []
    },
    {
      "cell_type": "code",
      "source": [
        "v"
      ],
      "metadata": {
        "id": "32ZTangQXuwM",
        "outputId": "d09eaee4-b81c-4f24-c49e-ccc9afdebe90",
        "colab": {
          "base_uri": "https://localhost:8080/",
          "height": 34
        }
      },
      "execution_count": 49,
      "outputs": [
        {
          "output_type": "display_data",
          "data": {
            "text/html": [
              "<style>\n",
              ".list-inline {list-style: none; margin:0; padding: 0}\n",
              ".list-inline>li {display: inline-block}\n",
              ".list-inline>li:not(:last-child)::after {content: \"\\00b7\"; padding: 0 .5ex}\n",
              "</style>\n",
              "<ol class=list-inline><li>10</li><li>11</li></ol>\n"
            ],
            "text/markdown": "1. 10\n2. 11\n\n\n",
            "text/latex": "\\begin{enumerate*}\n\\item 10\n\\item 11\n\\end{enumerate*}\n",
            "text/plain": [
              "[1] 10 11"
            ]
          },
          "metadata": {}
        }
      ]
    },
    {
      "cell_type": "code",
      "metadata": {
        "trusted": true,
        "id": "K9Qv9n_nm5aJ",
        "outputId": "e90de640-d028-4205-ade2-13f2b11afe0f",
        "colab": {
          "base_uri": "https://localhost:8080/",
          "height": 1000
        }
      },
      "source": [
        "# Se sabe que la Estación E3 falla todos los días domingo, por lo que se quiere eliminar tales registros de la tabla. Elimínelos!\n",
        "\n",
        "precipitaciones[!(precipitaciones$Estacion == \"E3\" & precipitaciones$Dia_semana == \"D\"),]\n"
      ],
      "execution_count": 51,
      "outputs": [
        {
          "output_type": "display_data",
          "data": {
            "text/html": [
              "<table class=\"dataframe\">\n",
              "<caption>A data.frame: 95 × 4</caption>\n",
              "<thead>\n",
              "\t<tr><th></th><th scope=col>Dia_semana</th><th scope=col>Temperatura</th><th scope=col>Llueve</th><th scope=col>Estacion</th></tr>\n",
              "\t<tr><th></th><th scope=col>&lt;chr&gt;</th><th scope=col>&lt;dbl&gt;</th><th scope=col>&lt;lgl&gt;</th><th scope=col>&lt;chr&gt;</th></tr>\n",
              "</thead>\n",
              "<tbody>\n",
              "\t<tr><th scope=row>1</th><td>L</td><td>17.285538</td><td> TRUE</td><td>E1</td></tr>\n",
              "\t<tr><th scope=row>2</th><td>M</td><td>19.225000</td><td> TRUE</td><td>E1</td></tr>\n",
              "\t<tr><th scope=row>3</th><td>W</td><td>28.384341</td><td>FALSE</td><td>E1</td></tr>\n",
              "\t<tr><th scope=row>4</th><td>J</td><td>21.678351</td><td>FALSE</td><td>E1</td></tr>\n",
              "\t<tr><th scope=row>5</th><td>V</td><td> 6.294893</td><td> TRUE</td><td>E1</td></tr>\n",
              "\t<tr><th scope=row>6</th><td>S</td><td>17.561017</td><td> TRUE</td><td>E1</td></tr>\n",
              "\t<tr><th scope=row>7</th><td>D</td><td>25.208950</td><td>FALSE</td><td>E1</td></tr>\n",
              "\t<tr><th scope=row>8</th><td>L</td><td>30.374875</td><td>FALSE</td><td>E1</td></tr>\n",
              "\t<tr><th scope=row>9</th><td>M</td><td>32.804863</td><td>FALSE</td><td>E1</td></tr>\n",
              "\t<tr><th scope=row>10</th><td>W</td><td>22.242971</td><td>FALSE</td><td>E1</td></tr>\n",
              "\t<tr><th scope=row>11</th><td>J</td><td>30.238158</td><td>FALSE</td><td>E1</td></tr>\n",
              "\t<tr><th scope=row>12</th><td>V</td><td>26.739659</td><td>FALSE</td><td>E1</td></tr>\n",
              "\t<tr><th scope=row>13</th><td>S</td><td>25.479568</td><td>FALSE</td><td>E1</td></tr>\n",
              "\t<tr><th scope=row>14</th><td>D</td><td>18.422416</td><td> TRUE</td><td>E1</td></tr>\n",
              "\t<tr><th scope=row>15</th><td>L</td><td>28.891523</td><td>FALSE</td><td>E1</td></tr>\n",
              "\t<tr><th scope=row>16</th><td>M</td><td>27.304616</td><td>FALSE</td><td>E1</td></tr>\n",
              "\t<tr><th scope=row>17</th><td>W</td><td>21.659832</td><td>FALSE</td><td>E1</td></tr>\n",
              "\t<tr><th scope=row>18</th><td>J</td><td>28.953940</td><td>FALSE</td><td>E1</td></tr>\n",
              "\t<tr><th scope=row>19</th><td>V</td><td>12.424271</td><td> TRUE</td><td>E1</td></tr>\n",
              "\t<tr><th scope=row>20</th><td>S</td><td>18.476982</td><td> TRUE</td><td>E1</td></tr>\n",
              "\t<tr><th scope=row>21</th><td>D</td><td>10.759235</td><td> TRUE</td><td>E1</td></tr>\n",
              "\t<tr><th scope=row>22</th><td>L</td><td> 5.072797</td><td> TRUE</td><td>E1</td></tr>\n",
              "\t<tr><th scope=row>23</th><td>M</td><td>22.405210</td><td>FALSE</td><td>E1</td></tr>\n",
              "\t<tr><th scope=row>24</th><td>W</td><td>24.170481</td><td>FALSE</td><td>E1</td></tr>\n",
              "\t<tr><th scope=row>25</th><td>J</td><td>20.986497</td><td>FALSE</td><td>E1</td></tr>\n",
              "\t<tr><th scope=row>26</th><td>V</td><td>31.991273</td><td>FALSE</td><td>E1</td></tr>\n",
              "\t<tr><th scope=row>27</th><td>S</td><td>19.302081</td><td> TRUE</td><td>E1</td></tr>\n",
              "\t<tr><th scope=row>28</th><td>D</td><td>16.342142</td><td> TRUE</td><td>E1</td></tr>\n",
              "\t<tr><th scope=row>29</th><td>L</td><td> 9.540585</td><td> TRUE</td><td>E1</td></tr>\n",
              "\t<tr><th scope=row>30</th><td>M</td><td>21.933574</td><td>FALSE</td><td>E1</td></tr>\n",
              "\t<tr><th scope=row>⋮</th><td>⋮</td><td>⋮</td><td>⋮</td><td>⋮</td></tr>\n",
              "\t<tr><th scope=row>66</th><td>W</td><td>19.724040</td><td> TRUE</td><td>E2</td></tr>\n",
              "\t<tr><th scope=row>67</th><td>J</td><td>30.479847</td><td>FALSE</td><td>E3</td></tr>\n",
              "\t<tr><th scope=row>68</th><td>V</td><td>25.171470</td><td>FALSE</td><td>E3</td></tr>\n",
              "\t<tr><th scope=row>69</th><td>S</td><td> 7.510420</td><td> TRUE</td><td>E3</td></tr>\n",
              "\t<tr><th scope=row>71</th><td>L</td><td>27.967527</td><td>FALSE</td><td>E3</td></tr>\n",
              "\t<tr><th scope=row>72</th><td>M</td><td>22.063260</td><td>FALSE</td><td>E3</td></tr>\n",
              "\t<tr><th scope=row>73</th><td>W</td><td>16.368615</td><td> TRUE</td><td>E3</td></tr>\n",
              "\t<tr><th scope=row>74</th><td>J</td><td>11.276060</td><td> TRUE</td><td>E3</td></tr>\n",
              "\t<tr><th scope=row>75</th><td>V</td><td>16.533493</td><td> TRUE</td><td>E3</td></tr>\n",
              "\t<tr><th scope=row>76</th><td>S</td><td>12.129530</td><td> TRUE</td><td>E3</td></tr>\n",
              "\t<tr><th scope=row>78</th><td>L</td><td>23.178060</td><td>FALSE</td><td>E3</td></tr>\n",
              "\t<tr><th scope=row>79</th><td>M</td><td>21.579011</td><td>FALSE</td><td>E3</td></tr>\n",
              "\t<tr><th scope=row>80</th><td>W</td><td>26.423323</td><td>FALSE</td><td>E3</td></tr>\n",
              "\t<tr><th scope=row>81</th><td>J</td><td>12.801473</td><td> TRUE</td><td>E3</td></tr>\n",
              "\t<tr><th scope=row>82</th><td>V</td><td> 9.397975</td><td> TRUE</td><td>E3</td></tr>\n",
              "\t<tr><th scope=row>83</th><td>S</td><td>16.332854</td><td> TRUE</td><td>E3</td></tr>\n",
              "\t<tr><th scope=row>85</th><td>L</td><td>23.178187</td><td>FALSE</td><td>E3</td></tr>\n",
              "\t<tr><th scope=row>86</th><td>M</td><td>16.563641</td><td> TRUE</td><td>E3</td></tr>\n",
              "\t<tr><th scope=row>87</th><td>W</td><td>29.882321</td><td>FALSE</td><td>E3</td></tr>\n",
              "\t<tr><th scope=row>88</th><td>J</td><td>20.498594</td><td>FALSE</td><td>E3</td></tr>\n",
              "\t<tr><th scope=row>89</th><td>V</td><td>27.121845</td><td>FALSE</td><td>E3</td></tr>\n",
              "\t<tr><th scope=row>90</th><td>S</td><td>21.211476</td><td>FALSE</td><td>E3</td></tr>\n",
              "\t<tr><th scope=row>92</th><td>L</td><td>14.888838</td><td> TRUE</td><td>E3</td></tr>\n",
              "\t<tr><th scope=row>93</th><td>M</td><td>21.792031</td><td>FALSE</td><td>E3</td></tr>\n",
              "\t<tr><th scope=row>94</th><td>W</td><td>22.120920</td><td>FALSE</td><td>E3</td></tr>\n",
              "\t<tr><th scope=row>95</th><td>J</td><td>31.173522</td><td>FALSE</td><td>E3</td></tr>\n",
              "\t<tr><th scope=row>96</th><td>V</td><td>32.851683</td><td>FALSE</td><td>E3</td></tr>\n",
              "\t<tr><th scope=row>97</th><td>S</td><td>21.819271</td><td>FALSE</td><td>E3</td></tr>\n",
              "\t<tr><th scope=row>99</th><td>L</td><td>26.705712</td><td>FALSE</td><td>E3</td></tr>\n",
              "\t<tr><th scope=row>100</th><td>M</td><td>11.589025</td><td> TRUE</td><td>E3</td></tr>\n",
              "</tbody>\n",
              "</table>\n"
            ],
            "text/markdown": "\nA data.frame: 95 × 4\n\n| <!--/--> | Dia_semana &lt;chr&gt; | Temperatura &lt;dbl&gt; | Llueve &lt;lgl&gt; | Estacion &lt;chr&gt; |\n|---|---|---|---|---|\n| 1 | L | 17.285538 |  TRUE | E1 |\n| 2 | M | 19.225000 |  TRUE | E1 |\n| 3 | W | 28.384341 | FALSE | E1 |\n| 4 | J | 21.678351 | FALSE | E1 |\n| 5 | V |  6.294893 |  TRUE | E1 |\n| 6 | S | 17.561017 |  TRUE | E1 |\n| 7 | D | 25.208950 | FALSE | E1 |\n| 8 | L | 30.374875 | FALSE | E1 |\n| 9 | M | 32.804863 | FALSE | E1 |\n| 10 | W | 22.242971 | FALSE | E1 |\n| 11 | J | 30.238158 | FALSE | E1 |\n| 12 | V | 26.739659 | FALSE | E1 |\n| 13 | S | 25.479568 | FALSE | E1 |\n| 14 | D | 18.422416 |  TRUE | E1 |\n| 15 | L | 28.891523 | FALSE | E1 |\n| 16 | M | 27.304616 | FALSE | E1 |\n| 17 | W | 21.659832 | FALSE | E1 |\n| 18 | J | 28.953940 | FALSE | E1 |\n| 19 | V | 12.424271 |  TRUE | E1 |\n| 20 | S | 18.476982 |  TRUE | E1 |\n| 21 | D | 10.759235 |  TRUE | E1 |\n| 22 | L |  5.072797 |  TRUE | E1 |\n| 23 | M | 22.405210 | FALSE | E1 |\n| 24 | W | 24.170481 | FALSE | E1 |\n| 25 | J | 20.986497 | FALSE | E1 |\n| 26 | V | 31.991273 | FALSE | E1 |\n| 27 | S | 19.302081 |  TRUE | E1 |\n| 28 | D | 16.342142 |  TRUE | E1 |\n| 29 | L |  9.540585 |  TRUE | E1 |\n| 30 | M | 21.933574 | FALSE | E1 |\n| ⋮ | ⋮ | ⋮ | ⋮ | ⋮ |\n| 66 | W | 19.724040 |  TRUE | E2 |\n| 67 | J | 30.479847 | FALSE | E3 |\n| 68 | V | 25.171470 | FALSE | E3 |\n| 69 | S |  7.510420 |  TRUE | E3 |\n| 71 | L | 27.967527 | FALSE | E3 |\n| 72 | M | 22.063260 | FALSE | E3 |\n| 73 | W | 16.368615 |  TRUE | E3 |\n| 74 | J | 11.276060 |  TRUE | E3 |\n| 75 | V | 16.533493 |  TRUE | E3 |\n| 76 | S | 12.129530 |  TRUE | E3 |\n| 78 | L | 23.178060 | FALSE | E3 |\n| 79 | M | 21.579011 | FALSE | E3 |\n| 80 | W | 26.423323 | FALSE | E3 |\n| 81 | J | 12.801473 |  TRUE | E3 |\n| 82 | V |  9.397975 |  TRUE | E3 |\n| 83 | S | 16.332854 |  TRUE | E3 |\n| 85 | L | 23.178187 | FALSE | E3 |\n| 86 | M | 16.563641 |  TRUE | E3 |\n| 87 | W | 29.882321 | FALSE | E3 |\n| 88 | J | 20.498594 | FALSE | E3 |\n| 89 | V | 27.121845 | FALSE | E3 |\n| 90 | S | 21.211476 | FALSE | E3 |\n| 92 | L | 14.888838 |  TRUE | E3 |\n| 93 | M | 21.792031 | FALSE | E3 |\n| 94 | W | 22.120920 | FALSE | E3 |\n| 95 | J | 31.173522 | FALSE | E3 |\n| 96 | V | 32.851683 | FALSE | E3 |\n| 97 | S | 21.819271 | FALSE | E3 |\n| 99 | L | 26.705712 | FALSE | E3 |\n| 100 | M | 11.589025 |  TRUE | E3 |\n\n",
            "text/latex": "A data.frame: 95 × 4\n\\begin{tabular}{r|llll}\n  & Dia\\_semana & Temperatura & Llueve & Estacion\\\\\n  & <chr> & <dbl> & <lgl> & <chr>\\\\\n\\hline\n\t1 & L & 17.285538 &  TRUE & E1\\\\\n\t2 & M & 19.225000 &  TRUE & E1\\\\\n\t3 & W & 28.384341 & FALSE & E1\\\\\n\t4 & J & 21.678351 & FALSE & E1\\\\\n\t5 & V &  6.294893 &  TRUE & E1\\\\\n\t6 & S & 17.561017 &  TRUE & E1\\\\\n\t7 & D & 25.208950 & FALSE & E1\\\\\n\t8 & L & 30.374875 & FALSE & E1\\\\\n\t9 & M & 32.804863 & FALSE & E1\\\\\n\t10 & W & 22.242971 & FALSE & E1\\\\\n\t11 & J & 30.238158 & FALSE & E1\\\\\n\t12 & V & 26.739659 & FALSE & E1\\\\\n\t13 & S & 25.479568 & FALSE & E1\\\\\n\t14 & D & 18.422416 &  TRUE & E1\\\\\n\t15 & L & 28.891523 & FALSE & E1\\\\\n\t16 & M & 27.304616 & FALSE & E1\\\\\n\t17 & W & 21.659832 & FALSE & E1\\\\\n\t18 & J & 28.953940 & FALSE & E1\\\\\n\t19 & V & 12.424271 &  TRUE & E1\\\\\n\t20 & S & 18.476982 &  TRUE & E1\\\\\n\t21 & D & 10.759235 &  TRUE & E1\\\\\n\t22 & L &  5.072797 &  TRUE & E1\\\\\n\t23 & M & 22.405210 & FALSE & E1\\\\\n\t24 & W & 24.170481 & FALSE & E1\\\\\n\t25 & J & 20.986497 & FALSE & E1\\\\\n\t26 & V & 31.991273 & FALSE & E1\\\\\n\t27 & S & 19.302081 &  TRUE & E1\\\\\n\t28 & D & 16.342142 &  TRUE & E1\\\\\n\t29 & L &  9.540585 &  TRUE & E1\\\\\n\t30 & M & 21.933574 & FALSE & E1\\\\\n\t⋮ & ⋮ & ⋮ & ⋮ & ⋮\\\\\n\t66 & W & 19.724040 &  TRUE & E2\\\\\n\t67 & J & 30.479847 & FALSE & E3\\\\\n\t68 & V & 25.171470 & FALSE & E3\\\\\n\t69 & S &  7.510420 &  TRUE & E3\\\\\n\t71 & L & 27.967527 & FALSE & E3\\\\\n\t72 & M & 22.063260 & FALSE & E3\\\\\n\t73 & W & 16.368615 &  TRUE & E3\\\\\n\t74 & J & 11.276060 &  TRUE & E3\\\\\n\t75 & V & 16.533493 &  TRUE & E3\\\\\n\t76 & S & 12.129530 &  TRUE & E3\\\\\n\t78 & L & 23.178060 & FALSE & E3\\\\\n\t79 & M & 21.579011 & FALSE & E3\\\\\n\t80 & W & 26.423323 & FALSE & E3\\\\\n\t81 & J & 12.801473 &  TRUE & E3\\\\\n\t82 & V &  9.397975 &  TRUE & E3\\\\\n\t83 & S & 16.332854 &  TRUE & E3\\\\\n\t85 & L & 23.178187 & FALSE & E3\\\\\n\t86 & M & 16.563641 &  TRUE & E3\\\\\n\t87 & W & 29.882321 & FALSE & E3\\\\\n\t88 & J & 20.498594 & FALSE & E3\\\\\n\t89 & V & 27.121845 & FALSE & E3\\\\\n\t90 & S & 21.211476 & FALSE & E3\\\\\n\t92 & L & 14.888838 &  TRUE & E3\\\\\n\t93 & M & 21.792031 & FALSE & E3\\\\\n\t94 & W & 22.120920 & FALSE & E3\\\\\n\t95 & J & 31.173522 & FALSE & E3\\\\\n\t96 & V & 32.851683 & FALSE & E3\\\\\n\t97 & S & 21.819271 & FALSE & E3\\\\\n\t99 & L & 26.705712 & FALSE & E3\\\\\n\t100 & M & 11.589025 &  TRUE & E3\\\\\n\\end{tabular}\n",
            "text/plain": [
              "    Dia_semana Temperatura Llueve Estacion\n",
              "1   L          17.285538    TRUE  E1      \n",
              "2   M          19.225000    TRUE  E1      \n",
              "3   W          28.384341   FALSE  E1      \n",
              "4   J          21.678351   FALSE  E1      \n",
              "5   V           6.294893    TRUE  E1      \n",
              "6   S          17.561017    TRUE  E1      \n",
              "7   D          25.208950   FALSE  E1      \n",
              "8   L          30.374875   FALSE  E1      \n",
              "9   M          32.804863   FALSE  E1      \n",
              "10  W          22.242971   FALSE  E1      \n",
              "11  J          30.238158   FALSE  E1      \n",
              "12  V          26.739659   FALSE  E1      \n",
              "13  S          25.479568   FALSE  E1      \n",
              "14  D          18.422416    TRUE  E1      \n",
              "15  L          28.891523   FALSE  E1      \n",
              "16  M          27.304616   FALSE  E1      \n",
              "17  W          21.659832   FALSE  E1      \n",
              "18  J          28.953940   FALSE  E1      \n",
              "19  V          12.424271    TRUE  E1      \n",
              "20  S          18.476982    TRUE  E1      \n",
              "21  D          10.759235    TRUE  E1      \n",
              "22  L           5.072797    TRUE  E1      \n",
              "23  M          22.405210   FALSE  E1      \n",
              "24  W          24.170481   FALSE  E1      \n",
              "25  J          20.986497   FALSE  E1      \n",
              "26  V          31.991273   FALSE  E1      \n",
              "27  S          19.302081    TRUE  E1      \n",
              "28  D          16.342142    TRUE  E1      \n",
              "29  L           9.540585    TRUE  E1      \n",
              "30  M          21.933574   FALSE  E1      \n",
              "⋮   ⋮          ⋮           ⋮      ⋮       \n",
              "66  W          19.724040    TRUE  E2      \n",
              "67  J          30.479847   FALSE  E3      \n",
              "68  V          25.171470   FALSE  E3      \n",
              "69  S           7.510420    TRUE  E3      \n",
              "71  L          27.967527   FALSE  E3      \n",
              "72  M          22.063260   FALSE  E3      \n",
              "73  W          16.368615    TRUE  E3      \n",
              "74  J          11.276060    TRUE  E3      \n",
              "75  V          16.533493    TRUE  E3      \n",
              "76  S          12.129530    TRUE  E3      \n",
              "78  L          23.178060   FALSE  E3      \n",
              "79  M          21.579011   FALSE  E3      \n",
              "80  W          26.423323   FALSE  E3      \n",
              "81  J          12.801473    TRUE  E3      \n",
              "82  V           9.397975    TRUE  E3      \n",
              "83  S          16.332854    TRUE  E3      \n",
              "85  L          23.178187   FALSE  E3      \n",
              "86  M          16.563641    TRUE  E3      \n",
              "87  W          29.882321   FALSE  E3      \n",
              "88  J          20.498594   FALSE  E3      \n",
              "89  V          27.121845   FALSE  E3      \n",
              "90  S          21.211476   FALSE  E3      \n",
              "92  L          14.888838    TRUE  E3      \n",
              "93  M          21.792031   FALSE  E3      \n",
              "94  W          22.120920   FALSE  E3      \n",
              "95  J          31.173522   FALSE  E3      \n",
              "96  V          32.851683   FALSE  E3      \n",
              "97  S          21.819271   FALSE  E3      \n",
              "99  L          26.705712   FALSE  E3      \n",
              "100 M          11.589025    TRUE  E3      "
            ]
          },
          "metadata": {}
        }
      ]
    },
    {
      "cell_type": "code",
      "source": [
        "precipitaciones[-which(precipitaciones$Estacion == \"E3\" & precipitaciones$Dia_semana == \"D\"),]"
      ],
      "metadata": {
        "id": "9XRqqlRMYUq6",
        "outputId": "e28ed5af-29d7-4eff-fa65-a62013fa9be1",
        "colab": {
          "base_uri": "https://localhost:8080/",
          "height": 1000
        }
      },
      "execution_count": 53,
      "outputs": [
        {
          "output_type": "display_data",
          "data": {
            "text/html": [
              "<table class=\"dataframe\">\n",
              "<caption>A data.frame: 95 × 4</caption>\n",
              "<thead>\n",
              "\t<tr><th></th><th scope=col>Dia_semana</th><th scope=col>Temperatura</th><th scope=col>Llueve</th><th scope=col>Estacion</th></tr>\n",
              "\t<tr><th></th><th scope=col>&lt;chr&gt;</th><th scope=col>&lt;dbl&gt;</th><th scope=col>&lt;lgl&gt;</th><th scope=col>&lt;chr&gt;</th></tr>\n",
              "</thead>\n",
              "<tbody>\n",
              "\t<tr><th scope=row>1</th><td>L</td><td>17.285538</td><td> TRUE</td><td>E1</td></tr>\n",
              "\t<tr><th scope=row>2</th><td>M</td><td>19.225000</td><td> TRUE</td><td>E1</td></tr>\n",
              "\t<tr><th scope=row>3</th><td>W</td><td>28.384341</td><td>FALSE</td><td>E1</td></tr>\n",
              "\t<tr><th scope=row>4</th><td>J</td><td>21.678351</td><td>FALSE</td><td>E1</td></tr>\n",
              "\t<tr><th scope=row>5</th><td>V</td><td> 6.294893</td><td> TRUE</td><td>E1</td></tr>\n",
              "\t<tr><th scope=row>6</th><td>S</td><td>17.561017</td><td> TRUE</td><td>E1</td></tr>\n",
              "\t<tr><th scope=row>7</th><td>D</td><td>25.208950</td><td>FALSE</td><td>E1</td></tr>\n",
              "\t<tr><th scope=row>8</th><td>L</td><td>30.374875</td><td>FALSE</td><td>E1</td></tr>\n",
              "\t<tr><th scope=row>9</th><td>M</td><td>32.804863</td><td>FALSE</td><td>E1</td></tr>\n",
              "\t<tr><th scope=row>10</th><td>W</td><td>22.242971</td><td>FALSE</td><td>E1</td></tr>\n",
              "\t<tr><th scope=row>11</th><td>J</td><td>30.238158</td><td>FALSE</td><td>E1</td></tr>\n",
              "\t<tr><th scope=row>12</th><td>V</td><td>26.739659</td><td>FALSE</td><td>E1</td></tr>\n",
              "\t<tr><th scope=row>13</th><td>S</td><td>25.479568</td><td>FALSE</td><td>E1</td></tr>\n",
              "\t<tr><th scope=row>14</th><td>D</td><td>18.422416</td><td> TRUE</td><td>E1</td></tr>\n",
              "\t<tr><th scope=row>15</th><td>L</td><td>28.891523</td><td>FALSE</td><td>E1</td></tr>\n",
              "\t<tr><th scope=row>16</th><td>M</td><td>27.304616</td><td>FALSE</td><td>E1</td></tr>\n",
              "\t<tr><th scope=row>17</th><td>W</td><td>21.659832</td><td>FALSE</td><td>E1</td></tr>\n",
              "\t<tr><th scope=row>18</th><td>J</td><td>28.953940</td><td>FALSE</td><td>E1</td></tr>\n",
              "\t<tr><th scope=row>19</th><td>V</td><td>12.424271</td><td> TRUE</td><td>E1</td></tr>\n",
              "\t<tr><th scope=row>20</th><td>S</td><td>18.476982</td><td> TRUE</td><td>E1</td></tr>\n",
              "\t<tr><th scope=row>21</th><td>D</td><td>10.759235</td><td> TRUE</td><td>E1</td></tr>\n",
              "\t<tr><th scope=row>22</th><td>L</td><td> 5.072797</td><td> TRUE</td><td>E1</td></tr>\n",
              "\t<tr><th scope=row>23</th><td>M</td><td>22.405210</td><td>FALSE</td><td>E1</td></tr>\n",
              "\t<tr><th scope=row>24</th><td>W</td><td>24.170481</td><td>FALSE</td><td>E1</td></tr>\n",
              "\t<tr><th scope=row>25</th><td>J</td><td>20.986497</td><td>FALSE</td><td>E1</td></tr>\n",
              "\t<tr><th scope=row>26</th><td>V</td><td>31.991273</td><td>FALSE</td><td>E1</td></tr>\n",
              "\t<tr><th scope=row>27</th><td>S</td><td>19.302081</td><td> TRUE</td><td>E1</td></tr>\n",
              "\t<tr><th scope=row>28</th><td>D</td><td>16.342142</td><td> TRUE</td><td>E1</td></tr>\n",
              "\t<tr><th scope=row>29</th><td>L</td><td> 9.540585</td><td> TRUE</td><td>E1</td></tr>\n",
              "\t<tr><th scope=row>30</th><td>M</td><td>21.933574</td><td>FALSE</td><td>E1</td></tr>\n",
              "\t<tr><th scope=row>⋮</th><td>⋮</td><td>⋮</td><td>⋮</td><td>⋮</td></tr>\n",
              "\t<tr><th scope=row>66</th><td>W</td><td>19.724040</td><td> TRUE</td><td>E2</td></tr>\n",
              "\t<tr><th scope=row>67</th><td>J</td><td>30.479847</td><td>FALSE</td><td>E3</td></tr>\n",
              "\t<tr><th scope=row>68</th><td>V</td><td>25.171470</td><td>FALSE</td><td>E3</td></tr>\n",
              "\t<tr><th scope=row>69</th><td>S</td><td> 7.510420</td><td> TRUE</td><td>E3</td></tr>\n",
              "\t<tr><th scope=row>71</th><td>L</td><td>27.967527</td><td>FALSE</td><td>E3</td></tr>\n",
              "\t<tr><th scope=row>72</th><td>M</td><td>22.063260</td><td>FALSE</td><td>E3</td></tr>\n",
              "\t<tr><th scope=row>73</th><td>W</td><td>16.368615</td><td> TRUE</td><td>E3</td></tr>\n",
              "\t<tr><th scope=row>74</th><td>J</td><td>11.276060</td><td> TRUE</td><td>E3</td></tr>\n",
              "\t<tr><th scope=row>75</th><td>V</td><td>16.533493</td><td> TRUE</td><td>E3</td></tr>\n",
              "\t<tr><th scope=row>76</th><td>S</td><td>12.129530</td><td> TRUE</td><td>E3</td></tr>\n",
              "\t<tr><th scope=row>78</th><td>L</td><td>23.178060</td><td>FALSE</td><td>E3</td></tr>\n",
              "\t<tr><th scope=row>79</th><td>M</td><td>21.579011</td><td>FALSE</td><td>E3</td></tr>\n",
              "\t<tr><th scope=row>80</th><td>W</td><td>26.423323</td><td>FALSE</td><td>E3</td></tr>\n",
              "\t<tr><th scope=row>81</th><td>J</td><td>12.801473</td><td> TRUE</td><td>E3</td></tr>\n",
              "\t<tr><th scope=row>82</th><td>V</td><td> 9.397975</td><td> TRUE</td><td>E3</td></tr>\n",
              "\t<tr><th scope=row>83</th><td>S</td><td>16.332854</td><td> TRUE</td><td>E3</td></tr>\n",
              "\t<tr><th scope=row>85</th><td>L</td><td>23.178187</td><td>FALSE</td><td>E3</td></tr>\n",
              "\t<tr><th scope=row>86</th><td>M</td><td>16.563641</td><td> TRUE</td><td>E3</td></tr>\n",
              "\t<tr><th scope=row>87</th><td>W</td><td>29.882321</td><td>FALSE</td><td>E3</td></tr>\n",
              "\t<tr><th scope=row>88</th><td>J</td><td>20.498594</td><td>FALSE</td><td>E3</td></tr>\n",
              "\t<tr><th scope=row>89</th><td>V</td><td>27.121845</td><td>FALSE</td><td>E3</td></tr>\n",
              "\t<tr><th scope=row>90</th><td>S</td><td>21.211476</td><td>FALSE</td><td>E3</td></tr>\n",
              "\t<tr><th scope=row>92</th><td>L</td><td>14.888838</td><td> TRUE</td><td>E3</td></tr>\n",
              "\t<tr><th scope=row>93</th><td>M</td><td>21.792031</td><td>FALSE</td><td>E3</td></tr>\n",
              "\t<tr><th scope=row>94</th><td>W</td><td>22.120920</td><td>FALSE</td><td>E3</td></tr>\n",
              "\t<tr><th scope=row>95</th><td>J</td><td>31.173522</td><td>FALSE</td><td>E3</td></tr>\n",
              "\t<tr><th scope=row>96</th><td>V</td><td>32.851683</td><td>FALSE</td><td>E3</td></tr>\n",
              "\t<tr><th scope=row>97</th><td>S</td><td>21.819271</td><td>FALSE</td><td>E3</td></tr>\n",
              "\t<tr><th scope=row>99</th><td>L</td><td>26.705712</td><td>FALSE</td><td>E3</td></tr>\n",
              "\t<tr><th scope=row>100</th><td>M</td><td>11.589025</td><td> TRUE</td><td>E3</td></tr>\n",
              "</tbody>\n",
              "</table>\n"
            ],
            "text/markdown": "\nA data.frame: 95 × 4\n\n| <!--/--> | Dia_semana &lt;chr&gt; | Temperatura &lt;dbl&gt; | Llueve &lt;lgl&gt; | Estacion &lt;chr&gt; |\n|---|---|---|---|---|\n| 1 | L | 17.285538 |  TRUE | E1 |\n| 2 | M | 19.225000 |  TRUE | E1 |\n| 3 | W | 28.384341 | FALSE | E1 |\n| 4 | J | 21.678351 | FALSE | E1 |\n| 5 | V |  6.294893 |  TRUE | E1 |\n| 6 | S | 17.561017 |  TRUE | E1 |\n| 7 | D | 25.208950 | FALSE | E1 |\n| 8 | L | 30.374875 | FALSE | E1 |\n| 9 | M | 32.804863 | FALSE | E1 |\n| 10 | W | 22.242971 | FALSE | E1 |\n| 11 | J | 30.238158 | FALSE | E1 |\n| 12 | V | 26.739659 | FALSE | E1 |\n| 13 | S | 25.479568 | FALSE | E1 |\n| 14 | D | 18.422416 |  TRUE | E1 |\n| 15 | L | 28.891523 | FALSE | E1 |\n| 16 | M | 27.304616 | FALSE | E1 |\n| 17 | W | 21.659832 | FALSE | E1 |\n| 18 | J | 28.953940 | FALSE | E1 |\n| 19 | V | 12.424271 |  TRUE | E1 |\n| 20 | S | 18.476982 |  TRUE | E1 |\n| 21 | D | 10.759235 |  TRUE | E1 |\n| 22 | L |  5.072797 |  TRUE | E1 |\n| 23 | M | 22.405210 | FALSE | E1 |\n| 24 | W | 24.170481 | FALSE | E1 |\n| 25 | J | 20.986497 | FALSE | E1 |\n| 26 | V | 31.991273 | FALSE | E1 |\n| 27 | S | 19.302081 |  TRUE | E1 |\n| 28 | D | 16.342142 |  TRUE | E1 |\n| 29 | L |  9.540585 |  TRUE | E1 |\n| 30 | M | 21.933574 | FALSE | E1 |\n| ⋮ | ⋮ | ⋮ | ⋮ | ⋮ |\n| 66 | W | 19.724040 |  TRUE | E2 |\n| 67 | J | 30.479847 | FALSE | E3 |\n| 68 | V | 25.171470 | FALSE | E3 |\n| 69 | S |  7.510420 |  TRUE | E3 |\n| 71 | L | 27.967527 | FALSE | E3 |\n| 72 | M | 22.063260 | FALSE | E3 |\n| 73 | W | 16.368615 |  TRUE | E3 |\n| 74 | J | 11.276060 |  TRUE | E3 |\n| 75 | V | 16.533493 |  TRUE | E3 |\n| 76 | S | 12.129530 |  TRUE | E3 |\n| 78 | L | 23.178060 | FALSE | E3 |\n| 79 | M | 21.579011 | FALSE | E3 |\n| 80 | W | 26.423323 | FALSE | E3 |\n| 81 | J | 12.801473 |  TRUE | E3 |\n| 82 | V |  9.397975 |  TRUE | E3 |\n| 83 | S | 16.332854 |  TRUE | E3 |\n| 85 | L | 23.178187 | FALSE | E3 |\n| 86 | M | 16.563641 |  TRUE | E3 |\n| 87 | W | 29.882321 | FALSE | E3 |\n| 88 | J | 20.498594 | FALSE | E3 |\n| 89 | V | 27.121845 | FALSE | E3 |\n| 90 | S | 21.211476 | FALSE | E3 |\n| 92 | L | 14.888838 |  TRUE | E3 |\n| 93 | M | 21.792031 | FALSE | E3 |\n| 94 | W | 22.120920 | FALSE | E3 |\n| 95 | J | 31.173522 | FALSE | E3 |\n| 96 | V | 32.851683 | FALSE | E3 |\n| 97 | S | 21.819271 | FALSE | E3 |\n| 99 | L | 26.705712 | FALSE | E3 |\n| 100 | M | 11.589025 |  TRUE | E3 |\n\n",
            "text/latex": "A data.frame: 95 × 4\n\\begin{tabular}{r|llll}\n  & Dia\\_semana & Temperatura & Llueve & Estacion\\\\\n  & <chr> & <dbl> & <lgl> & <chr>\\\\\n\\hline\n\t1 & L & 17.285538 &  TRUE & E1\\\\\n\t2 & M & 19.225000 &  TRUE & E1\\\\\n\t3 & W & 28.384341 & FALSE & E1\\\\\n\t4 & J & 21.678351 & FALSE & E1\\\\\n\t5 & V &  6.294893 &  TRUE & E1\\\\\n\t6 & S & 17.561017 &  TRUE & E1\\\\\n\t7 & D & 25.208950 & FALSE & E1\\\\\n\t8 & L & 30.374875 & FALSE & E1\\\\\n\t9 & M & 32.804863 & FALSE & E1\\\\\n\t10 & W & 22.242971 & FALSE & E1\\\\\n\t11 & J & 30.238158 & FALSE & E1\\\\\n\t12 & V & 26.739659 & FALSE & E1\\\\\n\t13 & S & 25.479568 & FALSE & E1\\\\\n\t14 & D & 18.422416 &  TRUE & E1\\\\\n\t15 & L & 28.891523 & FALSE & E1\\\\\n\t16 & M & 27.304616 & FALSE & E1\\\\\n\t17 & W & 21.659832 & FALSE & E1\\\\\n\t18 & J & 28.953940 & FALSE & E1\\\\\n\t19 & V & 12.424271 &  TRUE & E1\\\\\n\t20 & S & 18.476982 &  TRUE & E1\\\\\n\t21 & D & 10.759235 &  TRUE & E1\\\\\n\t22 & L &  5.072797 &  TRUE & E1\\\\\n\t23 & M & 22.405210 & FALSE & E1\\\\\n\t24 & W & 24.170481 & FALSE & E1\\\\\n\t25 & J & 20.986497 & FALSE & E1\\\\\n\t26 & V & 31.991273 & FALSE & E1\\\\\n\t27 & S & 19.302081 &  TRUE & E1\\\\\n\t28 & D & 16.342142 &  TRUE & E1\\\\\n\t29 & L &  9.540585 &  TRUE & E1\\\\\n\t30 & M & 21.933574 & FALSE & E1\\\\\n\t⋮ & ⋮ & ⋮ & ⋮ & ⋮\\\\\n\t66 & W & 19.724040 &  TRUE & E2\\\\\n\t67 & J & 30.479847 & FALSE & E3\\\\\n\t68 & V & 25.171470 & FALSE & E3\\\\\n\t69 & S &  7.510420 &  TRUE & E3\\\\\n\t71 & L & 27.967527 & FALSE & E3\\\\\n\t72 & M & 22.063260 & FALSE & E3\\\\\n\t73 & W & 16.368615 &  TRUE & E3\\\\\n\t74 & J & 11.276060 &  TRUE & E3\\\\\n\t75 & V & 16.533493 &  TRUE & E3\\\\\n\t76 & S & 12.129530 &  TRUE & E3\\\\\n\t78 & L & 23.178060 & FALSE & E3\\\\\n\t79 & M & 21.579011 & FALSE & E3\\\\\n\t80 & W & 26.423323 & FALSE & E3\\\\\n\t81 & J & 12.801473 &  TRUE & E3\\\\\n\t82 & V &  9.397975 &  TRUE & E3\\\\\n\t83 & S & 16.332854 &  TRUE & E3\\\\\n\t85 & L & 23.178187 & FALSE & E3\\\\\n\t86 & M & 16.563641 &  TRUE & E3\\\\\n\t87 & W & 29.882321 & FALSE & E3\\\\\n\t88 & J & 20.498594 & FALSE & E3\\\\\n\t89 & V & 27.121845 & FALSE & E3\\\\\n\t90 & S & 21.211476 & FALSE & E3\\\\\n\t92 & L & 14.888838 &  TRUE & E3\\\\\n\t93 & M & 21.792031 & FALSE & E3\\\\\n\t94 & W & 22.120920 & FALSE & E3\\\\\n\t95 & J & 31.173522 & FALSE & E3\\\\\n\t96 & V & 32.851683 & FALSE & E3\\\\\n\t97 & S & 21.819271 & FALSE & E3\\\\\n\t99 & L & 26.705712 & FALSE & E3\\\\\n\t100 & M & 11.589025 &  TRUE & E3\\\\\n\\end{tabular}\n",
            "text/plain": [
              "    Dia_semana Temperatura Llueve Estacion\n",
              "1   L          17.285538    TRUE  E1      \n",
              "2   M          19.225000    TRUE  E1      \n",
              "3   W          28.384341   FALSE  E1      \n",
              "4   J          21.678351   FALSE  E1      \n",
              "5   V           6.294893    TRUE  E1      \n",
              "6   S          17.561017    TRUE  E1      \n",
              "7   D          25.208950   FALSE  E1      \n",
              "8   L          30.374875   FALSE  E1      \n",
              "9   M          32.804863   FALSE  E1      \n",
              "10  W          22.242971   FALSE  E1      \n",
              "11  J          30.238158   FALSE  E1      \n",
              "12  V          26.739659   FALSE  E1      \n",
              "13  S          25.479568   FALSE  E1      \n",
              "14  D          18.422416    TRUE  E1      \n",
              "15  L          28.891523   FALSE  E1      \n",
              "16  M          27.304616   FALSE  E1      \n",
              "17  W          21.659832   FALSE  E1      \n",
              "18  J          28.953940   FALSE  E1      \n",
              "19  V          12.424271    TRUE  E1      \n",
              "20  S          18.476982    TRUE  E1      \n",
              "21  D          10.759235    TRUE  E1      \n",
              "22  L           5.072797    TRUE  E1      \n",
              "23  M          22.405210   FALSE  E1      \n",
              "24  W          24.170481   FALSE  E1      \n",
              "25  J          20.986497   FALSE  E1      \n",
              "26  V          31.991273   FALSE  E1      \n",
              "27  S          19.302081    TRUE  E1      \n",
              "28  D          16.342142    TRUE  E1      \n",
              "29  L           9.540585    TRUE  E1      \n",
              "30  M          21.933574   FALSE  E1      \n",
              "⋮   ⋮          ⋮           ⋮      ⋮       \n",
              "66  W          19.724040    TRUE  E2      \n",
              "67  J          30.479847   FALSE  E3      \n",
              "68  V          25.171470   FALSE  E3      \n",
              "69  S           7.510420    TRUE  E3      \n",
              "71  L          27.967527   FALSE  E3      \n",
              "72  M          22.063260   FALSE  E3      \n",
              "73  W          16.368615    TRUE  E3      \n",
              "74  J          11.276060    TRUE  E3      \n",
              "75  V          16.533493    TRUE  E3      \n",
              "76  S          12.129530    TRUE  E3      \n",
              "78  L          23.178060   FALSE  E3      \n",
              "79  M          21.579011   FALSE  E3      \n",
              "80  W          26.423323   FALSE  E3      \n",
              "81  J          12.801473    TRUE  E3      \n",
              "82  V           9.397975    TRUE  E3      \n",
              "83  S          16.332854    TRUE  E3      \n",
              "85  L          23.178187   FALSE  E3      \n",
              "86  M          16.563641    TRUE  E3      \n",
              "87  W          29.882321   FALSE  E3      \n",
              "88  J          20.498594   FALSE  E3      \n",
              "89  V          27.121845   FALSE  E3      \n",
              "90  S          21.211476   FALSE  E3      \n",
              "92  L          14.888838    TRUE  E3      \n",
              "93  M          21.792031   FALSE  E3      \n",
              "94  W          22.120920   FALSE  E3      \n",
              "95  J          31.173522   FALSE  E3      \n",
              "96  V          32.851683   FALSE  E3      \n",
              "97  S          21.819271   FALSE  E3      \n",
              "99  L          26.705712   FALSE  E3      \n",
              "100 M          11.589025    TRUE  E3      "
            ]
          },
          "metadata": {}
        }
      ]
    },
    {
      "cell_type": "code",
      "metadata": {
        "trusted": true,
        "id": "nuW7ux65m5aL",
        "outputId": "c8609125-956a-442e-9ee7-ae5e2e17b66e",
        "colab": {
          "base_uri": "https://localhost:8080/",
          "height": 34
        }
      },
      "source": [
        "dim(precipitaciones)"
      ],
      "execution_count": 54,
      "outputs": [
        {
          "output_type": "display_data",
          "data": {
            "text/html": [
              "<style>\n",
              ".list-inline {list-style: none; margin:0; padding: 0}\n",
              ".list-inline>li {display: inline-block}\n",
              ".list-inline>li:not(:last-child)::after {content: \"\\00b7\"; padding: 0 .5ex}\n",
              "</style>\n",
              "<ol class=list-inline><li>100</li><li>4</li></ol>\n"
            ],
            "text/markdown": "1. 100\n2. 4\n\n\n",
            "text/latex": "\\begin{enumerate*}\n\\item 100\n\\item 4\n\\end{enumerate*}\n",
            "text/plain": [
              "[1] 100   4"
            ]
          },
          "metadata": {}
        }
      ]
    },
    {
      "cell_type": "code",
      "source": [
        "precipitaciones <- precipitaciones[!(precipitaciones$Estacion == \"E3\" & precipitaciones$Dia_semana == \"D\"),]"
      ],
      "metadata": {
        "id": "d0ejZAwPY-GV"
      },
      "execution_count": 55,
      "outputs": []
    },
    {
      "cell_type": "code",
      "source": [
        "dim(precipitaciones)"
      ],
      "metadata": {
        "id": "3o6Y50zAZFk0",
        "outputId": "ab97bbd6-301f-44e3-f8f7-3a0b844b7eb9",
        "colab": {
          "base_uri": "https://localhost:8080/",
          "height": 34
        }
      },
      "execution_count": 56,
      "outputs": [
        {
          "output_type": "display_data",
          "data": {
            "text/html": [
              "<style>\n",
              ".list-inline {list-style: none; margin:0; padding: 0}\n",
              ".list-inline>li {display: inline-block}\n",
              ".list-inline>li:not(:last-child)::after {content: \"\\00b7\"; padding: 0 .5ex}\n",
              "</style>\n",
              "<ol class=list-inline><li>95</li><li>4</li></ol>\n"
            ],
            "text/markdown": "1. 95\n2. 4\n\n\n",
            "text/latex": "\\begin{enumerate*}\n\\item 95\n\\item 4\n\\end{enumerate*}\n",
            "text/plain": [
              "[1] 95  4"
            ]
          },
          "metadata": {}
        }
      ]
    },
    {
      "cell_type": "markdown",
      "metadata": {
        "id": "5fmGF0Qam5aN"
      },
      "source": [
        "## 5.4 Cómo guardar ambiente de trabajo o variables definidas en el\n",
        "\n",
        "### Directorio de trabajo\n",
        "\n",
        "El directorio de trabajo corresponde a la ubicación en el sistema de archivos, desde donde la sesión de R podrá acceder directamente para guardar o cargar datos.\n"
      ]
    },
    {
      "cell_type": "code",
      "metadata": {
        "trusted": true,
        "id": "OfyO5MKOm5aO",
        "outputId": "485262de-5175-4640-c1ee-24682af28b11",
        "colab": {
          "base_uri": "https://localhost:8080/",
          "height": 34
        }
      },
      "source": [
        "# para saber en qué directorio se está trabajando\n",
        "getwd()"
      ],
      "execution_count": 57,
      "outputs": [
        {
          "output_type": "display_data",
          "data": {
            "text/html": [
              "'/content'"
            ],
            "text/markdown": "'/content'",
            "text/latex": "'/content'",
            "text/plain": [
              "[1] \"/content\""
            ]
          },
          "metadata": {}
        }
      ]
    },
    {
      "cell_type": "code",
      "metadata": {
        "trusted": true,
        "id": "fHZIjYhRm5aQ"
      },
      "source": [
        "# para cambiar el directorio de trabajo\n",
        "setwd(\"./sample_data\")\n"
      ],
      "execution_count": 58,
      "outputs": []
    },
    {
      "cell_type": "code",
      "source": [
        "getwd()"
      ],
      "metadata": {
        "id": "_29jiIErZeEX",
        "outputId": "6f1021b4-8874-40af-e2b1-71ce018acf23",
        "colab": {
          "base_uri": "https://localhost:8080/",
          "height": 34
        }
      },
      "execution_count": 59,
      "outputs": [
        {
          "output_type": "display_data",
          "data": {
            "text/html": [
              "'/content/sample_data'"
            ],
            "text/markdown": "'/content/sample_data'",
            "text/latex": "'/content/sample\\_data'",
            "text/plain": [
              "[1] \"/content/sample_data\""
            ]
          },
          "metadata": {}
        }
      ]
    },
    {
      "cell_type": "markdown",
      "metadata": {
        "id": "_M-D6sgRm5aU"
      },
      "source": [
        "### Formato rds \n",
        "\n",
        "Una manera de guardar variables creadas en el ambiente de la sessión de R, es mediante la utilización del formato *.rds. Este formato permite guardar los objetos declarados y leerlos rápidamente en cualquier otra sesión que se inicie posteriormente. Es últil por ejemplo para guardar en disco modelos entrenados para ser utilizados para predicciones futuras.\n"
      ]
    },
    {
      "cell_type": "code",
      "metadata": {
        "trusted": true,
        "id": "11jJ5B50m5aV"
      },
      "source": [
        "# Función saveRDS() # Guardar\n",
        "# guarde en el directorio actual el dataframe _precipitaciones_\n",
        "saveRDS(precipitaciones,\"prep1.rds\")"
      ],
      "execution_count": 60,
      "outputs": []
    },
    {
      "cell_type": "code",
      "source": [
        "saveRDS(precipitaciones,\"/home/prep1.rds\")"
      ],
      "metadata": {
        "id": "gS1HBLXZZveD"
      },
      "execution_count": 62,
      "outputs": []
    },
    {
      "cell_type": "code",
      "source": [
        "rm(precipitaciones)"
      ],
      "metadata": {
        "id": "7WpfV2DeZ_jT"
      },
      "execution_count": 63,
      "outputs": []
    },
    {
      "cell_type": "code",
      "source": [
        "precipitaciones"
      ],
      "metadata": {
        "id": "8EkSC6BcaDUY",
        "outputId": "1e3950cf-8f29-4727-bcda-bded6f478ff2",
        "colab": {
          "base_uri": "https://localhost:8080/",
          "height": 96
        }
      },
      "execution_count": 64,
      "outputs": [
        {
          "output_type": "error",
          "ename": "ERROR",
          "evalue": "ignored",
          "traceback": [
            "Error in eval(expr, envir, enclos): object 'precipitaciones' not found\nTraceback:\n"
          ]
        }
      ]
    },
    {
      "cell_type": "code",
      "metadata": {
        "trusted": true,
        "id": "DixES_Kjm5ah"
      },
      "source": [
        "# readRDS()  Leer, pero ojo que es necesario asignar  a una variable\n",
        "precipitaciones <- readRDS(\"prep1.rds\")"
      ],
      "execution_count": 65,
      "outputs": []
    },
    {
      "cell_type": "code",
      "source": [
        "precipitaciones"
      ],
      "metadata": {
        "id": "ITS7AFd-aOO9",
        "outputId": "47b4b540-4229-4443-994b-bf369b930438",
        "colab": {
          "base_uri": "https://localhost:8080/",
          "height": 1000
        }
      },
      "execution_count": 66,
      "outputs": [
        {
          "output_type": "display_data",
          "data": {
            "text/html": [
              "<table class=\"dataframe\">\n",
              "<caption>A data.frame: 95 × 4</caption>\n",
              "<thead>\n",
              "\t<tr><th></th><th scope=col>Dia_semana</th><th scope=col>Temperatura</th><th scope=col>Llueve</th><th scope=col>Estacion</th></tr>\n",
              "\t<tr><th></th><th scope=col>&lt;chr&gt;</th><th scope=col>&lt;dbl&gt;</th><th scope=col>&lt;lgl&gt;</th><th scope=col>&lt;chr&gt;</th></tr>\n",
              "</thead>\n",
              "<tbody>\n",
              "\t<tr><th scope=row>1</th><td>L</td><td>17.285538</td><td> TRUE</td><td>E1</td></tr>\n",
              "\t<tr><th scope=row>2</th><td>M</td><td>19.225000</td><td> TRUE</td><td>E1</td></tr>\n",
              "\t<tr><th scope=row>3</th><td>W</td><td>28.384341</td><td>FALSE</td><td>E1</td></tr>\n",
              "\t<tr><th scope=row>4</th><td>J</td><td>21.678351</td><td>FALSE</td><td>E1</td></tr>\n",
              "\t<tr><th scope=row>5</th><td>V</td><td> 6.294893</td><td> TRUE</td><td>E1</td></tr>\n",
              "\t<tr><th scope=row>6</th><td>S</td><td>17.561017</td><td> TRUE</td><td>E1</td></tr>\n",
              "\t<tr><th scope=row>7</th><td>D</td><td>25.208950</td><td>FALSE</td><td>E1</td></tr>\n",
              "\t<tr><th scope=row>8</th><td>L</td><td>30.374875</td><td>FALSE</td><td>E1</td></tr>\n",
              "\t<tr><th scope=row>9</th><td>M</td><td>32.804863</td><td>FALSE</td><td>E1</td></tr>\n",
              "\t<tr><th scope=row>10</th><td>W</td><td>22.242971</td><td>FALSE</td><td>E1</td></tr>\n",
              "\t<tr><th scope=row>11</th><td>J</td><td>30.238158</td><td>FALSE</td><td>E1</td></tr>\n",
              "\t<tr><th scope=row>12</th><td>V</td><td>26.739659</td><td>FALSE</td><td>E1</td></tr>\n",
              "\t<tr><th scope=row>13</th><td>S</td><td>25.479568</td><td>FALSE</td><td>E1</td></tr>\n",
              "\t<tr><th scope=row>14</th><td>D</td><td>18.422416</td><td> TRUE</td><td>E1</td></tr>\n",
              "\t<tr><th scope=row>15</th><td>L</td><td>28.891523</td><td>FALSE</td><td>E1</td></tr>\n",
              "\t<tr><th scope=row>16</th><td>M</td><td>27.304616</td><td>FALSE</td><td>E1</td></tr>\n",
              "\t<tr><th scope=row>17</th><td>W</td><td>21.659832</td><td>FALSE</td><td>E1</td></tr>\n",
              "\t<tr><th scope=row>18</th><td>J</td><td>28.953940</td><td>FALSE</td><td>E1</td></tr>\n",
              "\t<tr><th scope=row>19</th><td>V</td><td>12.424271</td><td> TRUE</td><td>E1</td></tr>\n",
              "\t<tr><th scope=row>20</th><td>S</td><td>18.476982</td><td> TRUE</td><td>E1</td></tr>\n",
              "\t<tr><th scope=row>21</th><td>D</td><td>10.759235</td><td> TRUE</td><td>E1</td></tr>\n",
              "\t<tr><th scope=row>22</th><td>L</td><td> 5.072797</td><td> TRUE</td><td>E1</td></tr>\n",
              "\t<tr><th scope=row>23</th><td>M</td><td>22.405210</td><td>FALSE</td><td>E1</td></tr>\n",
              "\t<tr><th scope=row>24</th><td>W</td><td>24.170481</td><td>FALSE</td><td>E1</td></tr>\n",
              "\t<tr><th scope=row>25</th><td>J</td><td>20.986497</td><td>FALSE</td><td>E1</td></tr>\n",
              "\t<tr><th scope=row>26</th><td>V</td><td>31.991273</td><td>FALSE</td><td>E1</td></tr>\n",
              "\t<tr><th scope=row>27</th><td>S</td><td>19.302081</td><td> TRUE</td><td>E1</td></tr>\n",
              "\t<tr><th scope=row>28</th><td>D</td><td>16.342142</td><td> TRUE</td><td>E1</td></tr>\n",
              "\t<tr><th scope=row>29</th><td>L</td><td> 9.540585</td><td> TRUE</td><td>E1</td></tr>\n",
              "\t<tr><th scope=row>30</th><td>M</td><td>21.933574</td><td>FALSE</td><td>E1</td></tr>\n",
              "\t<tr><th scope=row>⋮</th><td>⋮</td><td>⋮</td><td>⋮</td><td>⋮</td></tr>\n",
              "\t<tr><th scope=row>66</th><td>W</td><td>19.724040</td><td> TRUE</td><td>E2</td></tr>\n",
              "\t<tr><th scope=row>67</th><td>J</td><td>30.479847</td><td>FALSE</td><td>E3</td></tr>\n",
              "\t<tr><th scope=row>68</th><td>V</td><td>25.171470</td><td>FALSE</td><td>E3</td></tr>\n",
              "\t<tr><th scope=row>69</th><td>S</td><td> 7.510420</td><td> TRUE</td><td>E3</td></tr>\n",
              "\t<tr><th scope=row>71</th><td>L</td><td>27.967527</td><td>FALSE</td><td>E3</td></tr>\n",
              "\t<tr><th scope=row>72</th><td>M</td><td>22.063260</td><td>FALSE</td><td>E3</td></tr>\n",
              "\t<tr><th scope=row>73</th><td>W</td><td>16.368615</td><td> TRUE</td><td>E3</td></tr>\n",
              "\t<tr><th scope=row>74</th><td>J</td><td>11.276060</td><td> TRUE</td><td>E3</td></tr>\n",
              "\t<tr><th scope=row>75</th><td>V</td><td>16.533493</td><td> TRUE</td><td>E3</td></tr>\n",
              "\t<tr><th scope=row>76</th><td>S</td><td>12.129530</td><td> TRUE</td><td>E3</td></tr>\n",
              "\t<tr><th scope=row>78</th><td>L</td><td>23.178060</td><td>FALSE</td><td>E3</td></tr>\n",
              "\t<tr><th scope=row>79</th><td>M</td><td>21.579011</td><td>FALSE</td><td>E3</td></tr>\n",
              "\t<tr><th scope=row>80</th><td>W</td><td>26.423323</td><td>FALSE</td><td>E3</td></tr>\n",
              "\t<tr><th scope=row>81</th><td>J</td><td>12.801473</td><td> TRUE</td><td>E3</td></tr>\n",
              "\t<tr><th scope=row>82</th><td>V</td><td> 9.397975</td><td> TRUE</td><td>E3</td></tr>\n",
              "\t<tr><th scope=row>83</th><td>S</td><td>16.332854</td><td> TRUE</td><td>E3</td></tr>\n",
              "\t<tr><th scope=row>85</th><td>L</td><td>23.178187</td><td>FALSE</td><td>E3</td></tr>\n",
              "\t<tr><th scope=row>86</th><td>M</td><td>16.563641</td><td> TRUE</td><td>E3</td></tr>\n",
              "\t<tr><th scope=row>87</th><td>W</td><td>29.882321</td><td>FALSE</td><td>E3</td></tr>\n",
              "\t<tr><th scope=row>88</th><td>J</td><td>20.498594</td><td>FALSE</td><td>E3</td></tr>\n",
              "\t<tr><th scope=row>89</th><td>V</td><td>27.121845</td><td>FALSE</td><td>E3</td></tr>\n",
              "\t<tr><th scope=row>90</th><td>S</td><td>21.211476</td><td>FALSE</td><td>E3</td></tr>\n",
              "\t<tr><th scope=row>92</th><td>L</td><td>14.888838</td><td> TRUE</td><td>E3</td></tr>\n",
              "\t<tr><th scope=row>93</th><td>M</td><td>21.792031</td><td>FALSE</td><td>E3</td></tr>\n",
              "\t<tr><th scope=row>94</th><td>W</td><td>22.120920</td><td>FALSE</td><td>E3</td></tr>\n",
              "\t<tr><th scope=row>95</th><td>J</td><td>31.173522</td><td>FALSE</td><td>E3</td></tr>\n",
              "\t<tr><th scope=row>96</th><td>V</td><td>32.851683</td><td>FALSE</td><td>E3</td></tr>\n",
              "\t<tr><th scope=row>97</th><td>S</td><td>21.819271</td><td>FALSE</td><td>E3</td></tr>\n",
              "\t<tr><th scope=row>99</th><td>L</td><td>26.705712</td><td>FALSE</td><td>E3</td></tr>\n",
              "\t<tr><th scope=row>100</th><td>M</td><td>11.589025</td><td> TRUE</td><td>E3</td></tr>\n",
              "</tbody>\n",
              "</table>\n"
            ],
            "text/markdown": "\nA data.frame: 95 × 4\n\n| <!--/--> | Dia_semana &lt;chr&gt; | Temperatura &lt;dbl&gt; | Llueve &lt;lgl&gt; | Estacion &lt;chr&gt; |\n|---|---|---|---|---|\n| 1 | L | 17.285538 |  TRUE | E1 |\n| 2 | M | 19.225000 |  TRUE | E1 |\n| 3 | W | 28.384341 | FALSE | E1 |\n| 4 | J | 21.678351 | FALSE | E1 |\n| 5 | V |  6.294893 |  TRUE | E1 |\n| 6 | S | 17.561017 |  TRUE | E1 |\n| 7 | D | 25.208950 | FALSE | E1 |\n| 8 | L | 30.374875 | FALSE | E1 |\n| 9 | M | 32.804863 | FALSE | E1 |\n| 10 | W | 22.242971 | FALSE | E1 |\n| 11 | J | 30.238158 | FALSE | E1 |\n| 12 | V | 26.739659 | FALSE | E1 |\n| 13 | S | 25.479568 | FALSE | E1 |\n| 14 | D | 18.422416 |  TRUE | E1 |\n| 15 | L | 28.891523 | FALSE | E1 |\n| 16 | M | 27.304616 | FALSE | E1 |\n| 17 | W | 21.659832 | FALSE | E1 |\n| 18 | J | 28.953940 | FALSE | E1 |\n| 19 | V | 12.424271 |  TRUE | E1 |\n| 20 | S | 18.476982 |  TRUE | E1 |\n| 21 | D | 10.759235 |  TRUE | E1 |\n| 22 | L |  5.072797 |  TRUE | E1 |\n| 23 | M | 22.405210 | FALSE | E1 |\n| 24 | W | 24.170481 | FALSE | E1 |\n| 25 | J | 20.986497 | FALSE | E1 |\n| 26 | V | 31.991273 | FALSE | E1 |\n| 27 | S | 19.302081 |  TRUE | E1 |\n| 28 | D | 16.342142 |  TRUE | E1 |\n| 29 | L |  9.540585 |  TRUE | E1 |\n| 30 | M | 21.933574 | FALSE | E1 |\n| ⋮ | ⋮ | ⋮ | ⋮ | ⋮ |\n| 66 | W | 19.724040 |  TRUE | E2 |\n| 67 | J | 30.479847 | FALSE | E3 |\n| 68 | V | 25.171470 | FALSE | E3 |\n| 69 | S |  7.510420 |  TRUE | E3 |\n| 71 | L | 27.967527 | FALSE | E3 |\n| 72 | M | 22.063260 | FALSE | E3 |\n| 73 | W | 16.368615 |  TRUE | E3 |\n| 74 | J | 11.276060 |  TRUE | E3 |\n| 75 | V | 16.533493 |  TRUE | E3 |\n| 76 | S | 12.129530 |  TRUE | E3 |\n| 78 | L | 23.178060 | FALSE | E3 |\n| 79 | M | 21.579011 | FALSE | E3 |\n| 80 | W | 26.423323 | FALSE | E3 |\n| 81 | J | 12.801473 |  TRUE | E3 |\n| 82 | V |  9.397975 |  TRUE | E3 |\n| 83 | S | 16.332854 |  TRUE | E3 |\n| 85 | L | 23.178187 | FALSE | E3 |\n| 86 | M | 16.563641 |  TRUE | E3 |\n| 87 | W | 29.882321 | FALSE | E3 |\n| 88 | J | 20.498594 | FALSE | E3 |\n| 89 | V | 27.121845 | FALSE | E3 |\n| 90 | S | 21.211476 | FALSE | E3 |\n| 92 | L | 14.888838 |  TRUE | E3 |\n| 93 | M | 21.792031 | FALSE | E3 |\n| 94 | W | 22.120920 | FALSE | E3 |\n| 95 | J | 31.173522 | FALSE | E3 |\n| 96 | V | 32.851683 | FALSE | E3 |\n| 97 | S | 21.819271 | FALSE | E3 |\n| 99 | L | 26.705712 | FALSE | E3 |\n| 100 | M | 11.589025 |  TRUE | E3 |\n\n",
            "text/latex": "A data.frame: 95 × 4\n\\begin{tabular}{r|llll}\n  & Dia\\_semana & Temperatura & Llueve & Estacion\\\\\n  & <chr> & <dbl> & <lgl> & <chr>\\\\\n\\hline\n\t1 & L & 17.285538 &  TRUE & E1\\\\\n\t2 & M & 19.225000 &  TRUE & E1\\\\\n\t3 & W & 28.384341 & FALSE & E1\\\\\n\t4 & J & 21.678351 & FALSE & E1\\\\\n\t5 & V &  6.294893 &  TRUE & E1\\\\\n\t6 & S & 17.561017 &  TRUE & E1\\\\\n\t7 & D & 25.208950 & FALSE & E1\\\\\n\t8 & L & 30.374875 & FALSE & E1\\\\\n\t9 & M & 32.804863 & FALSE & E1\\\\\n\t10 & W & 22.242971 & FALSE & E1\\\\\n\t11 & J & 30.238158 & FALSE & E1\\\\\n\t12 & V & 26.739659 & FALSE & E1\\\\\n\t13 & S & 25.479568 & FALSE & E1\\\\\n\t14 & D & 18.422416 &  TRUE & E1\\\\\n\t15 & L & 28.891523 & FALSE & E1\\\\\n\t16 & M & 27.304616 & FALSE & E1\\\\\n\t17 & W & 21.659832 & FALSE & E1\\\\\n\t18 & J & 28.953940 & FALSE & E1\\\\\n\t19 & V & 12.424271 &  TRUE & E1\\\\\n\t20 & S & 18.476982 &  TRUE & E1\\\\\n\t21 & D & 10.759235 &  TRUE & E1\\\\\n\t22 & L &  5.072797 &  TRUE & E1\\\\\n\t23 & M & 22.405210 & FALSE & E1\\\\\n\t24 & W & 24.170481 & FALSE & E1\\\\\n\t25 & J & 20.986497 & FALSE & E1\\\\\n\t26 & V & 31.991273 & FALSE & E1\\\\\n\t27 & S & 19.302081 &  TRUE & E1\\\\\n\t28 & D & 16.342142 &  TRUE & E1\\\\\n\t29 & L &  9.540585 &  TRUE & E1\\\\\n\t30 & M & 21.933574 & FALSE & E1\\\\\n\t⋮ & ⋮ & ⋮ & ⋮ & ⋮\\\\\n\t66 & W & 19.724040 &  TRUE & E2\\\\\n\t67 & J & 30.479847 & FALSE & E3\\\\\n\t68 & V & 25.171470 & FALSE & E3\\\\\n\t69 & S &  7.510420 &  TRUE & E3\\\\\n\t71 & L & 27.967527 & FALSE & E3\\\\\n\t72 & M & 22.063260 & FALSE & E3\\\\\n\t73 & W & 16.368615 &  TRUE & E3\\\\\n\t74 & J & 11.276060 &  TRUE & E3\\\\\n\t75 & V & 16.533493 &  TRUE & E3\\\\\n\t76 & S & 12.129530 &  TRUE & E3\\\\\n\t78 & L & 23.178060 & FALSE & E3\\\\\n\t79 & M & 21.579011 & FALSE & E3\\\\\n\t80 & W & 26.423323 & FALSE & E3\\\\\n\t81 & J & 12.801473 &  TRUE & E3\\\\\n\t82 & V &  9.397975 &  TRUE & E3\\\\\n\t83 & S & 16.332854 &  TRUE & E3\\\\\n\t85 & L & 23.178187 & FALSE & E3\\\\\n\t86 & M & 16.563641 &  TRUE & E3\\\\\n\t87 & W & 29.882321 & FALSE & E3\\\\\n\t88 & J & 20.498594 & FALSE & E3\\\\\n\t89 & V & 27.121845 & FALSE & E3\\\\\n\t90 & S & 21.211476 & FALSE & E3\\\\\n\t92 & L & 14.888838 &  TRUE & E3\\\\\n\t93 & M & 21.792031 & FALSE & E3\\\\\n\t94 & W & 22.120920 & FALSE & E3\\\\\n\t95 & J & 31.173522 & FALSE & E3\\\\\n\t96 & V & 32.851683 & FALSE & E3\\\\\n\t97 & S & 21.819271 & FALSE & E3\\\\\n\t99 & L & 26.705712 & FALSE & E3\\\\\n\t100 & M & 11.589025 &  TRUE & E3\\\\\n\\end{tabular}\n",
            "text/plain": [
              "    Dia_semana Temperatura Llueve Estacion\n",
              "1   L          17.285538    TRUE  E1      \n",
              "2   M          19.225000    TRUE  E1      \n",
              "3   W          28.384341   FALSE  E1      \n",
              "4   J          21.678351   FALSE  E1      \n",
              "5   V           6.294893    TRUE  E1      \n",
              "6   S          17.561017    TRUE  E1      \n",
              "7   D          25.208950   FALSE  E1      \n",
              "8   L          30.374875   FALSE  E1      \n",
              "9   M          32.804863   FALSE  E1      \n",
              "10  W          22.242971   FALSE  E1      \n",
              "11  J          30.238158   FALSE  E1      \n",
              "12  V          26.739659   FALSE  E1      \n",
              "13  S          25.479568   FALSE  E1      \n",
              "14  D          18.422416    TRUE  E1      \n",
              "15  L          28.891523   FALSE  E1      \n",
              "16  M          27.304616   FALSE  E1      \n",
              "17  W          21.659832   FALSE  E1      \n",
              "18  J          28.953940   FALSE  E1      \n",
              "19  V          12.424271    TRUE  E1      \n",
              "20  S          18.476982    TRUE  E1      \n",
              "21  D          10.759235    TRUE  E1      \n",
              "22  L           5.072797    TRUE  E1      \n",
              "23  M          22.405210   FALSE  E1      \n",
              "24  W          24.170481   FALSE  E1      \n",
              "25  J          20.986497   FALSE  E1      \n",
              "26  V          31.991273   FALSE  E1      \n",
              "27  S          19.302081    TRUE  E1      \n",
              "28  D          16.342142    TRUE  E1      \n",
              "29  L           9.540585    TRUE  E1      \n",
              "30  M          21.933574   FALSE  E1      \n",
              "⋮   ⋮          ⋮           ⋮      ⋮       \n",
              "66  W          19.724040    TRUE  E2      \n",
              "67  J          30.479847   FALSE  E3      \n",
              "68  V          25.171470   FALSE  E3      \n",
              "69  S           7.510420    TRUE  E3      \n",
              "71  L          27.967527   FALSE  E3      \n",
              "72  M          22.063260   FALSE  E3      \n",
              "73  W          16.368615    TRUE  E3      \n",
              "74  J          11.276060    TRUE  E3      \n",
              "75  V          16.533493    TRUE  E3      \n",
              "76  S          12.129530    TRUE  E3      \n",
              "78  L          23.178060   FALSE  E3      \n",
              "79  M          21.579011   FALSE  E3      \n",
              "80  W          26.423323   FALSE  E3      \n",
              "81  J          12.801473    TRUE  E3      \n",
              "82  V           9.397975    TRUE  E3      \n",
              "83  S          16.332854    TRUE  E3      \n",
              "85  L          23.178187   FALSE  E3      \n",
              "86  M          16.563641    TRUE  E3      \n",
              "87  W          29.882321   FALSE  E3      \n",
              "88  J          20.498594   FALSE  E3      \n",
              "89  V          27.121845   FALSE  E3      \n",
              "90  S          21.211476   FALSE  E3      \n",
              "92  L          14.888838    TRUE  E3      \n",
              "93  M          21.792031   FALSE  E3      \n",
              "94  W          22.120920   FALSE  E3      \n",
              "95  J          31.173522   FALSE  E3      \n",
              "96  V          32.851683   FALSE  E3      \n",
              "97  S          21.819271   FALSE  E3      \n",
              "99  L          26.705712   FALSE  E3      \n",
              "100 M          11.589025    TRUE  E3      "
            ]
          },
          "metadata": {}
        }
      ]
    },
    {
      "cell_type": "markdown",
      "metadata": {
        "id": "_4pmC4cBm5as"
      },
      "source": [
        "### Formato RData\n",
        "\n",
        "Cuando se quiere guardar el ambiente de trabajo completo, o bien un mayor número de objetos ya creados, se puede utilizar la función _save_\n"
      ]
    },
    {
      "cell_type": "code",
      "metadata": {
        "trusted": true,
        "id": "M5yFyJ27m5at"
      },
      "source": [
        "# Función save para guardar uno o más objetos del ambiente.\n",
        "save(precipitaciones, lluvia,temp,est,dia, file = \"/home/ambiente.RData\")\n"
      ],
      "execution_count": 68,
      "outputs": []
    },
    {
      "cell_type": "code",
      "source": [
        "rm(list = ls())"
      ],
      "metadata": {
        "id": "Wz_hAxQNaitS"
      },
      "execution_count": 69,
      "outputs": []
    },
    {
      "cell_type": "code",
      "source": [
        "dia\n",
        " est"
      ],
      "metadata": {
        "id": "xsoZvSWTak93",
        "outputId": "5a8b74b7-0d9f-4c4f-e497-17c3505a6430",
        "colab": {
          "base_uri": "https://localhost:8080/",
          "height": 96
        }
      },
      "execution_count": 70,
      "outputs": [
        {
          "output_type": "error",
          "ename": "ERROR",
          "evalue": "ignored",
          "traceback": [
            "Error in eval(expr, envir, enclos): object 'dia' not found\nTraceback:\n"
          ]
        }
      ]
    },
    {
      "cell_type": "code",
      "metadata": {
        "trusted": true,
        "id": "YDmd1Npmm5ay"
      },
      "source": [
        "# Eventualmente podemos \"cargar \" a sesión, con la función load()\n",
        "load( \"/home/ambiente.RData\")"
      ],
      "execution_count": 71,
      "outputs": []
    },
    {
      "cell_type": "code",
      "source": [
        "ls()"
      ],
      "metadata": {
        "id": "UU52FIYnasfq",
        "outputId": "5b121e6e-e62c-4118-eb78-7d240dc45876",
        "colab": {
          "base_uri": "https://localhost:8080/",
          "height": 34
        }
      },
      "execution_count": 72,
      "outputs": [
        {
          "output_type": "display_data",
          "data": {
            "text/html": [
              "<style>\n",
              ".list-inline {list-style: none; margin:0; padding: 0}\n",
              ".list-inline>li {display: inline-block}\n",
              ".list-inline>li:not(:last-child)::after {content: \"\\00b7\"; padding: 0 .5ex}\n",
              "</style>\n",
              "<ol class=list-inline><li>'dia'</li><li>'est'</li><li>'lluvia'</li><li>'precipitaciones'</li><li>'temp'</li></ol>\n"
            ],
            "text/markdown": "1. 'dia'\n2. 'est'\n3. 'lluvia'\n4. 'precipitaciones'\n5. 'temp'\n\n\n",
            "text/latex": "\\begin{enumerate*}\n\\item 'dia'\n\\item 'est'\n\\item 'lluvia'\n\\item 'precipitaciones'\n\\item 'temp'\n\\end{enumerate*}\n",
            "text/plain": [
              "[1] \"dia\"             \"est\"             \"lluvia\"          \"precipitaciones\"\n",
              "[5] \"temp\"           "
            ]
          },
          "metadata": {}
        }
      ]
    },
    {
      "cell_type": "code",
      "source": [
        "dia\n",
        "est\n",
        "precipitaciones"
      ],
      "metadata": {
        "id": "E_nWQgZ8avES",
        "outputId": "a13e8bbb-628d-4091-abf1-08a379ce8875",
        "colab": {
          "base_uri": "https://localhost:8080/",
          "height": 1000
        }
      },
      "execution_count": 74,
      "outputs": [
        {
          "output_type": "display_data",
          "data": {
            "text/html": [
              "<style>\n",
              ".list-inline {list-style: none; margin:0; padding: 0}\n",
              ".list-inline>li {display: inline-block}\n",
              ".list-inline>li:not(:last-child)::after {content: \"\\00b7\"; padding: 0 .5ex}\n",
              "</style>\n",
              "<ol class=list-inline><li>'L'</li><li>'M'</li><li>'W'</li><li>'J'</li><li>'V'</li><li>'S'</li><li>'D'</li><li>'L'</li><li>'M'</li><li>'W'</li><li>'J'</li><li>'V'</li><li>'S'</li><li>'D'</li><li>'L'</li><li>'M'</li><li>'W'</li><li>'J'</li><li>'V'</li><li>'S'</li><li>'D'</li><li>'L'</li><li>'M'</li><li>'W'</li><li>'J'</li><li>'V'</li><li>'S'</li><li>'D'</li><li>'L'</li><li>'M'</li><li>'W'</li><li>'J'</li><li>'V'</li><li>'S'</li><li>'D'</li><li>'L'</li><li>'M'</li><li>'W'</li><li>'J'</li><li>'V'</li><li>'S'</li><li>'D'</li><li>'L'</li><li>'M'</li><li>'W'</li><li>'J'</li><li>'V'</li><li>'S'</li><li>'D'</li><li>'L'</li><li>'M'</li><li>'W'</li><li>'J'</li><li>'V'</li><li>'S'</li><li>'D'</li><li>'L'</li><li>'M'</li><li>'W'</li><li>'J'</li><li>'V'</li><li>'S'</li><li>'D'</li><li>'L'</li><li>'M'</li><li>'W'</li><li>'J'</li><li>'V'</li><li>'S'</li><li>'D'</li><li>'L'</li><li>'M'</li><li>'W'</li><li>'J'</li><li>'V'</li><li>'S'</li><li>'D'</li><li>'L'</li><li>'M'</li><li>'W'</li><li>'J'</li><li>'V'</li><li>'S'</li><li>'D'</li><li>'L'</li><li>'M'</li><li>'W'</li><li>'J'</li><li>'V'</li><li>'S'</li><li>'D'</li><li>'L'</li><li>'M'</li><li>'W'</li><li>'J'</li><li>'V'</li><li>'S'</li><li>'D'</li><li>'L'</li><li>'M'</li></ol>\n"
            ],
            "text/markdown": "1. 'L'\n2. 'M'\n3. 'W'\n4. 'J'\n5. 'V'\n6. 'S'\n7. 'D'\n8. 'L'\n9. 'M'\n10. 'W'\n11. 'J'\n12. 'V'\n13. 'S'\n14. 'D'\n15. 'L'\n16. 'M'\n17. 'W'\n18. 'J'\n19. 'V'\n20. 'S'\n21. 'D'\n22. 'L'\n23. 'M'\n24. 'W'\n25. 'J'\n26. 'V'\n27. 'S'\n28. 'D'\n29. 'L'\n30. 'M'\n31. 'W'\n32. 'J'\n33. 'V'\n34. 'S'\n35. 'D'\n36. 'L'\n37. 'M'\n38. 'W'\n39. 'J'\n40. 'V'\n41. 'S'\n42. 'D'\n43. 'L'\n44. 'M'\n45. 'W'\n46. 'J'\n47. 'V'\n48. 'S'\n49. 'D'\n50. 'L'\n51. 'M'\n52. 'W'\n53. 'J'\n54. 'V'\n55. 'S'\n56. 'D'\n57. 'L'\n58. 'M'\n59. 'W'\n60. 'J'\n61. 'V'\n62. 'S'\n63. 'D'\n64. 'L'\n65. 'M'\n66. 'W'\n67. 'J'\n68. 'V'\n69. 'S'\n70. 'D'\n71. 'L'\n72. 'M'\n73. 'W'\n74. 'J'\n75. 'V'\n76. 'S'\n77. 'D'\n78. 'L'\n79. 'M'\n80. 'W'\n81. 'J'\n82. 'V'\n83. 'S'\n84. 'D'\n85. 'L'\n86. 'M'\n87. 'W'\n88. 'J'\n89. 'V'\n90. 'S'\n91. 'D'\n92. 'L'\n93. 'M'\n94. 'W'\n95. 'J'\n96. 'V'\n97. 'S'\n98. 'D'\n99. 'L'\n100. 'M'\n\n\n",
            "text/latex": "\\begin{enumerate*}\n\\item 'L'\n\\item 'M'\n\\item 'W'\n\\item 'J'\n\\item 'V'\n\\item 'S'\n\\item 'D'\n\\item 'L'\n\\item 'M'\n\\item 'W'\n\\item 'J'\n\\item 'V'\n\\item 'S'\n\\item 'D'\n\\item 'L'\n\\item 'M'\n\\item 'W'\n\\item 'J'\n\\item 'V'\n\\item 'S'\n\\item 'D'\n\\item 'L'\n\\item 'M'\n\\item 'W'\n\\item 'J'\n\\item 'V'\n\\item 'S'\n\\item 'D'\n\\item 'L'\n\\item 'M'\n\\item 'W'\n\\item 'J'\n\\item 'V'\n\\item 'S'\n\\item 'D'\n\\item 'L'\n\\item 'M'\n\\item 'W'\n\\item 'J'\n\\item 'V'\n\\item 'S'\n\\item 'D'\n\\item 'L'\n\\item 'M'\n\\item 'W'\n\\item 'J'\n\\item 'V'\n\\item 'S'\n\\item 'D'\n\\item 'L'\n\\item 'M'\n\\item 'W'\n\\item 'J'\n\\item 'V'\n\\item 'S'\n\\item 'D'\n\\item 'L'\n\\item 'M'\n\\item 'W'\n\\item 'J'\n\\item 'V'\n\\item 'S'\n\\item 'D'\n\\item 'L'\n\\item 'M'\n\\item 'W'\n\\item 'J'\n\\item 'V'\n\\item 'S'\n\\item 'D'\n\\item 'L'\n\\item 'M'\n\\item 'W'\n\\item 'J'\n\\item 'V'\n\\item 'S'\n\\item 'D'\n\\item 'L'\n\\item 'M'\n\\item 'W'\n\\item 'J'\n\\item 'V'\n\\item 'S'\n\\item 'D'\n\\item 'L'\n\\item 'M'\n\\item 'W'\n\\item 'J'\n\\item 'V'\n\\item 'S'\n\\item 'D'\n\\item 'L'\n\\item 'M'\n\\item 'W'\n\\item 'J'\n\\item 'V'\n\\item 'S'\n\\item 'D'\n\\item 'L'\n\\item 'M'\n\\end{enumerate*}\n",
            "text/plain": [
              "  [1] \"L\" \"M\" \"W\" \"J\" \"V\" \"S\" \"D\" \"L\" \"M\" \"W\" \"J\" \"V\" \"S\" \"D\" \"L\" \"M\" \"W\" \"J\"\n",
              " [19] \"V\" \"S\" \"D\" \"L\" \"M\" \"W\" \"J\" \"V\" \"S\" \"D\" \"L\" \"M\" \"W\" \"J\" \"V\" \"S\" \"D\" \"L\"\n",
              " [37] \"M\" \"W\" \"J\" \"V\" \"S\" \"D\" \"L\" \"M\" \"W\" \"J\" \"V\" \"S\" \"D\" \"L\" \"M\" \"W\" \"J\" \"V\"\n",
              " [55] \"S\" \"D\" \"L\" \"M\" \"W\" \"J\" \"V\" \"S\" \"D\" \"L\" \"M\" \"W\" \"J\" \"V\" \"S\" \"D\" \"L\" \"M\"\n",
              " [73] \"W\" \"J\" \"V\" \"S\" \"D\" \"L\" \"M\" \"W\" \"J\" \"V\" \"S\" \"D\" \"L\" \"M\" \"W\" \"J\" \"V\" \"S\"\n",
              " [91] \"D\" \"L\" \"M\" \"W\" \"J\" \"V\" \"S\" \"D\" \"L\" \"M\""
            ]
          },
          "metadata": {}
        },
        {
          "output_type": "display_data",
          "data": {
            "text/html": [
              "<style>\n",
              ".list-inline {list-style: none; margin:0; padding: 0}\n",
              ".list-inline>li {display: inline-block}\n",
              ".list-inline>li:not(:last-child)::after {content: \"\\00b7\"; padding: 0 .5ex}\n",
              "</style>\n",
              "<ol class=list-inline><li>'E1'</li><li>'E1'</li><li>'E1'</li><li>'E1'</li><li>'E1'</li><li>'E1'</li><li>'E1'</li><li>'E1'</li><li>'E1'</li><li>'E1'</li><li>'E1'</li><li>'E1'</li><li>'E1'</li><li>'E1'</li><li>'E1'</li><li>'E1'</li><li>'E1'</li><li>'E1'</li><li>'E1'</li><li>'E1'</li><li>'E1'</li><li>'E1'</li><li>'E1'</li><li>'E1'</li><li>'E1'</li><li>'E1'</li><li>'E1'</li><li>'E1'</li><li>'E1'</li><li>'E1'</li><li>'E1'</li><li>'E1'</li><li>'E1'</li><li>'E2'</li><li>'E2'</li><li>'E2'</li><li>'E2'</li><li>'E2'</li><li>'E2'</li><li>'E2'</li><li>'E2'</li><li>'E2'</li><li>'E2'</li><li>'E2'</li><li>'E2'</li><li>'E2'</li><li>'E2'</li><li>'E2'</li><li>'E2'</li><li>'E2'</li><li>'E2'</li><li>'E2'</li><li>'E2'</li><li>'E2'</li><li>'E2'</li><li>'E2'</li><li>'E2'</li><li>'E2'</li><li>'E2'</li><li>'E2'</li><li>'E2'</li><li>'E2'</li><li>'E2'</li><li>'E2'</li><li>'E2'</li><li>'E2'</li><li>'E3'</li><li>'E3'</li><li>'E3'</li><li>'E3'</li><li>'E3'</li><li>'E3'</li><li>'E3'</li><li>'E3'</li><li>'E3'</li><li>'E3'</li><li>'E3'</li><li>'E3'</li><li>'E3'</li><li>'E3'</li><li>'E3'</li><li>'E3'</li><li>'E3'</li><li>'E3'</li><li>'E3'</li><li>'E3'</li><li>'E3'</li><li>'E3'</li><li>'E3'</li><li>'E3'</li><li>'E3'</li><li>'E3'</li><li>'E3'</li><li>'E3'</li><li>'E3'</li><li>'E3'</li><li>'E3'</li><li>'E3'</li><li>'E3'</li><li>'E3'</li></ol>\n"
            ],
            "text/markdown": "1. 'E1'\n2. 'E1'\n3. 'E1'\n4. 'E1'\n5. 'E1'\n6. 'E1'\n7. 'E1'\n8. 'E1'\n9. 'E1'\n10. 'E1'\n11. 'E1'\n12. 'E1'\n13. 'E1'\n14. 'E1'\n15. 'E1'\n16. 'E1'\n17. 'E1'\n18. 'E1'\n19. 'E1'\n20. 'E1'\n21. 'E1'\n22. 'E1'\n23. 'E1'\n24. 'E1'\n25. 'E1'\n26. 'E1'\n27. 'E1'\n28. 'E1'\n29. 'E1'\n30. 'E1'\n31. 'E1'\n32. 'E1'\n33. 'E1'\n34. 'E2'\n35. 'E2'\n36. 'E2'\n37. 'E2'\n38. 'E2'\n39. 'E2'\n40. 'E2'\n41. 'E2'\n42. 'E2'\n43. 'E2'\n44. 'E2'\n45. 'E2'\n46. 'E2'\n47. 'E2'\n48. 'E2'\n49. 'E2'\n50. 'E2'\n51. 'E2'\n52. 'E2'\n53. 'E2'\n54. 'E2'\n55. 'E2'\n56. 'E2'\n57. 'E2'\n58. 'E2'\n59. 'E2'\n60. 'E2'\n61. 'E2'\n62. 'E2'\n63. 'E2'\n64. 'E2'\n65. 'E2'\n66. 'E2'\n67. 'E3'\n68. 'E3'\n69. 'E3'\n70. 'E3'\n71. 'E3'\n72. 'E3'\n73. 'E3'\n74. 'E3'\n75. 'E3'\n76. 'E3'\n77. 'E3'\n78. 'E3'\n79. 'E3'\n80. 'E3'\n81. 'E3'\n82. 'E3'\n83. 'E3'\n84. 'E3'\n85. 'E3'\n86. 'E3'\n87. 'E3'\n88. 'E3'\n89. 'E3'\n90. 'E3'\n91. 'E3'\n92. 'E3'\n93. 'E3'\n94. 'E3'\n95. 'E3'\n96. 'E3'\n97. 'E3'\n98. 'E3'\n99. 'E3'\n100. 'E3'\n\n\n",
            "text/latex": "\\begin{enumerate*}\n\\item 'E1'\n\\item 'E1'\n\\item 'E1'\n\\item 'E1'\n\\item 'E1'\n\\item 'E1'\n\\item 'E1'\n\\item 'E1'\n\\item 'E1'\n\\item 'E1'\n\\item 'E1'\n\\item 'E1'\n\\item 'E1'\n\\item 'E1'\n\\item 'E1'\n\\item 'E1'\n\\item 'E1'\n\\item 'E1'\n\\item 'E1'\n\\item 'E1'\n\\item 'E1'\n\\item 'E1'\n\\item 'E1'\n\\item 'E1'\n\\item 'E1'\n\\item 'E1'\n\\item 'E1'\n\\item 'E1'\n\\item 'E1'\n\\item 'E1'\n\\item 'E1'\n\\item 'E1'\n\\item 'E1'\n\\item 'E2'\n\\item 'E2'\n\\item 'E2'\n\\item 'E2'\n\\item 'E2'\n\\item 'E2'\n\\item 'E2'\n\\item 'E2'\n\\item 'E2'\n\\item 'E2'\n\\item 'E2'\n\\item 'E2'\n\\item 'E2'\n\\item 'E2'\n\\item 'E2'\n\\item 'E2'\n\\item 'E2'\n\\item 'E2'\n\\item 'E2'\n\\item 'E2'\n\\item 'E2'\n\\item 'E2'\n\\item 'E2'\n\\item 'E2'\n\\item 'E2'\n\\item 'E2'\n\\item 'E2'\n\\item 'E2'\n\\item 'E2'\n\\item 'E2'\n\\item 'E2'\n\\item 'E2'\n\\item 'E2'\n\\item 'E3'\n\\item 'E3'\n\\item 'E3'\n\\item 'E3'\n\\item 'E3'\n\\item 'E3'\n\\item 'E3'\n\\item 'E3'\n\\item 'E3'\n\\item 'E3'\n\\item 'E3'\n\\item 'E3'\n\\item 'E3'\n\\item 'E3'\n\\item 'E3'\n\\item 'E3'\n\\item 'E3'\n\\item 'E3'\n\\item 'E3'\n\\item 'E3'\n\\item 'E3'\n\\item 'E3'\n\\item 'E3'\n\\item 'E3'\n\\item 'E3'\n\\item 'E3'\n\\item 'E3'\n\\item 'E3'\n\\item 'E3'\n\\item 'E3'\n\\item 'E3'\n\\item 'E3'\n\\item 'E3'\n\\item 'E3'\n\\end{enumerate*}\n",
            "text/plain": [
              "  [1] \"E1\" \"E1\" \"E1\" \"E1\" \"E1\" \"E1\" \"E1\" \"E1\" \"E1\" \"E1\" \"E1\" \"E1\" \"E1\" \"E1\" \"E1\"\n",
              " [16] \"E1\" \"E1\" \"E1\" \"E1\" \"E1\" \"E1\" \"E1\" \"E1\" \"E1\" \"E1\" \"E1\" \"E1\" \"E1\" \"E1\" \"E1\"\n",
              " [31] \"E1\" \"E1\" \"E1\" \"E2\" \"E2\" \"E2\" \"E2\" \"E2\" \"E2\" \"E2\" \"E2\" \"E2\" \"E2\" \"E2\" \"E2\"\n",
              " [46] \"E2\" \"E2\" \"E2\" \"E2\" \"E2\" \"E2\" \"E2\" \"E2\" \"E2\" \"E2\" \"E2\" \"E2\" \"E2\" \"E2\" \"E2\"\n",
              " [61] \"E2\" \"E2\" \"E2\" \"E2\" \"E2\" \"E2\" \"E3\" \"E3\" \"E3\" \"E3\" \"E3\" \"E3\" \"E3\" \"E3\" \"E3\"\n",
              " [76] \"E3\" \"E3\" \"E3\" \"E3\" \"E3\" \"E3\" \"E3\" \"E3\" \"E3\" \"E3\" \"E3\" \"E3\" \"E3\" \"E3\" \"E3\"\n",
              " [91] \"E3\" \"E3\" \"E3\" \"E3\" \"E3\" \"E3\" \"E3\" \"E3\" \"E3\" \"E3\""
            ]
          },
          "metadata": {}
        },
        {
          "output_type": "display_data",
          "data": {
            "text/html": [
              "<table class=\"dataframe\">\n",
              "<caption>A data.frame: 95 × 4</caption>\n",
              "<thead>\n",
              "\t<tr><th></th><th scope=col>Dia_semana</th><th scope=col>Temperatura</th><th scope=col>Llueve</th><th scope=col>Estacion</th></tr>\n",
              "\t<tr><th></th><th scope=col>&lt;chr&gt;</th><th scope=col>&lt;dbl&gt;</th><th scope=col>&lt;lgl&gt;</th><th scope=col>&lt;chr&gt;</th></tr>\n",
              "</thead>\n",
              "<tbody>\n",
              "\t<tr><th scope=row>1</th><td>L</td><td>17.285538</td><td> TRUE</td><td>E1</td></tr>\n",
              "\t<tr><th scope=row>2</th><td>M</td><td>19.225000</td><td> TRUE</td><td>E1</td></tr>\n",
              "\t<tr><th scope=row>3</th><td>W</td><td>28.384341</td><td>FALSE</td><td>E1</td></tr>\n",
              "\t<tr><th scope=row>4</th><td>J</td><td>21.678351</td><td>FALSE</td><td>E1</td></tr>\n",
              "\t<tr><th scope=row>5</th><td>V</td><td> 6.294893</td><td> TRUE</td><td>E1</td></tr>\n",
              "\t<tr><th scope=row>6</th><td>S</td><td>17.561017</td><td> TRUE</td><td>E1</td></tr>\n",
              "\t<tr><th scope=row>7</th><td>D</td><td>25.208950</td><td>FALSE</td><td>E1</td></tr>\n",
              "\t<tr><th scope=row>8</th><td>L</td><td>30.374875</td><td>FALSE</td><td>E1</td></tr>\n",
              "\t<tr><th scope=row>9</th><td>M</td><td>32.804863</td><td>FALSE</td><td>E1</td></tr>\n",
              "\t<tr><th scope=row>10</th><td>W</td><td>22.242971</td><td>FALSE</td><td>E1</td></tr>\n",
              "\t<tr><th scope=row>11</th><td>J</td><td>30.238158</td><td>FALSE</td><td>E1</td></tr>\n",
              "\t<tr><th scope=row>12</th><td>V</td><td>26.739659</td><td>FALSE</td><td>E1</td></tr>\n",
              "\t<tr><th scope=row>13</th><td>S</td><td>25.479568</td><td>FALSE</td><td>E1</td></tr>\n",
              "\t<tr><th scope=row>14</th><td>D</td><td>18.422416</td><td> TRUE</td><td>E1</td></tr>\n",
              "\t<tr><th scope=row>15</th><td>L</td><td>28.891523</td><td>FALSE</td><td>E1</td></tr>\n",
              "\t<tr><th scope=row>16</th><td>M</td><td>27.304616</td><td>FALSE</td><td>E1</td></tr>\n",
              "\t<tr><th scope=row>17</th><td>W</td><td>21.659832</td><td>FALSE</td><td>E1</td></tr>\n",
              "\t<tr><th scope=row>18</th><td>J</td><td>28.953940</td><td>FALSE</td><td>E1</td></tr>\n",
              "\t<tr><th scope=row>19</th><td>V</td><td>12.424271</td><td> TRUE</td><td>E1</td></tr>\n",
              "\t<tr><th scope=row>20</th><td>S</td><td>18.476982</td><td> TRUE</td><td>E1</td></tr>\n",
              "\t<tr><th scope=row>21</th><td>D</td><td>10.759235</td><td> TRUE</td><td>E1</td></tr>\n",
              "\t<tr><th scope=row>22</th><td>L</td><td> 5.072797</td><td> TRUE</td><td>E1</td></tr>\n",
              "\t<tr><th scope=row>23</th><td>M</td><td>22.405210</td><td>FALSE</td><td>E1</td></tr>\n",
              "\t<tr><th scope=row>24</th><td>W</td><td>24.170481</td><td>FALSE</td><td>E1</td></tr>\n",
              "\t<tr><th scope=row>25</th><td>J</td><td>20.986497</td><td>FALSE</td><td>E1</td></tr>\n",
              "\t<tr><th scope=row>26</th><td>V</td><td>31.991273</td><td>FALSE</td><td>E1</td></tr>\n",
              "\t<tr><th scope=row>27</th><td>S</td><td>19.302081</td><td> TRUE</td><td>E1</td></tr>\n",
              "\t<tr><th scope=row>28</th><td>D</td><td>16.342142</td><td> TRUE</td><td>E1</td></tr>\n",
              "\t<tr><th scope=row>29</th><td>L</td><td> 9.540585</td><td> TRUE</td><td>E1</td></tr>\n",
              "\t<tr><th scope=row>30</th><td>M</td><td>21.933574</td><td>FALSE</td><td>E1</td></tr>\n",
              "\t<tr><th scope=row>⋮</th><td>⋮</td><td>⋮</td><td>⋮</td><td>⋮</td></tr>\n",
              "\t<tr><th scope=row>66</th><td>W</td><td>19.724040</td><td> TRUE</td><td>E2</td></tr>\n",
              "\t<tr><th scope=row>67</th><td>J</td><td>30.479847</td><td>FALSE</td><td>E3</td></tr>\n",
              "\t<tr><th scope=row>68</th><td>V</td><td>25.171470</td><td>FALSE</td><td>E3</td></tr>\n",
              "\t<tr><th scope=row>69</th><td>S</td><td> 7.510420</td><td> TRUE</td><td>E3</td></tr>\n",
              "\t<tr><th scope=row>71</th><td>L</td><td>27.967527</td><td>FALSE</td><td>E3</td></tr>\n",
              "\t<tr><th scope=row>72</th><td>M</td><td>22.063260</td><td>FALSE</td><td>E3</td></tr>\n",
              "\t<tr><th scope=row>73</th><td>W</td><td>16.368615</td><td> TRUE</td><td>E3</td></tr>\n",
              "\t<tr><th scope=row>74</th><td>J</td><td>11.276060</td><td> TRUE</td><td>E3</td></tr>\n",
              "\t<tr><th scope=row>75</th><td>V</td><td>16.533493</td><td> TRUE</td><td>E3</td></tr>\n",
              "\t<tr><th scope=row>76</th><td>S</td><td>12.129530</td><td> TRUE</td><td>E3</td></tr>\n",
              "\t<tr><th scope=row>78</th><td>L</td><td>23.178060</td><td>FALSE</td><td>E3</td></tr>\n",
              "\t<tr><th scope=row>79</th><td>M</td><td>21.579011</td><td>FALSE</td><td>E3</td></tr>\n",
              "\t<tr><th scope=row>80</th><td>W</td><td>26.423323</td><td>FALSE</td><td>E3</td></tr>\n",
              "\t<tr><th scope=row>81</th><td>J</td><td>12.801473</td><td> TRUE</td><td>E3</td></tr>\n",
              "\t<tr><th scope=row>82</th><td>V</td><td> 9.397975</td><td> TRUE</td><td>E3</td></tr>\n",
              "\t<tr><th scope=row>83</th><td>S</td><td>16.332854</td><td> TRUE</td><td>E3</td></tr>\n",
              "\t<tr><th scope=row>85</th><td>L</td><td>23.178187</td><td>FALSE</td><td>E3</td></tr>\n",
              "\t<tr><th scope=row>86</th><td>M</td><td>16.563641</td><td> TRUE</td><td>E3</td></tr>\n",
              "\t<tr><th scope=row>87</th><td>W</td><td>29.882321</td><td>FALSE</td><td>E3</td></tr>\n",
              "\t<tr><th scope=row>88</th><td>J</td><td>20.498594</td><td>FALSE</td><td>E3</td></tr>\n",
              "\t<tr><th scope=row>89</th><td>V</td><td>27.121845</td><td>FALSE</td><td>E3</td></tr>\n",
              "\t<tr><th scope=row>90</th><td>S</td><td>21.211476</td><td>FALSE</td><td>E3</td></tr>\n",
              "\t<tr><th scope=row>92</th><td>L</td><td>14.888838</td><td> TRUE</td><td>E3</td></tr>\n",
              "\t<tr><th scope=row>93</th><td>M</td><td>21.792031</td><td>FALSE</td><td>E3</td></tr>\n",
              "\t<tr><th scope=row>94</th><td>W</td><td>22.120920</td><td>FALSE</td><td>E3</td></tr>\n",
              "\t<tr><th scope=row>95</th><td>J</td><td>31.173522</td><td>FALSE</td><td>E3</td></tr>\n",
              "\t<tr><th scope=row>96</th><td>V</td><td>32.851683</td><td>FALSE</td><td>E3</td></tr>\n",
              "\t<tr><th scope=row>97</th><td>S</td><td>21.819271</td><td>FALSE</td><td>E3</td></tr>\n",
              "\t<tr><th scope=row>99</th><td>L</td><td>26.705712</td><td>FALSE</td><td>E3</td></tr>\n",
              "\t<tr><th scope=row>100</th><td>M</td><td>11.589025</td><td> TRUE</td><td>E3</td></tr>\n",
              "</tbody>\n",
              "</table>\n"
            ],
            "text/markdown": "\nA data.frame: 95 × 4\n\n| <!--/--> | Dia_semana &lt;chr&gt; | Temperatura &lt;dbl&gt; | Llueve &lt;lgl&gt; | Estacion &lt;chr&gt; |\n|---|---|---|---|---|\n| 1 | L | 17.285538 |  TRUE | E1 |\n| 2 | M | 19.225000 |  TRUE | E1 |\n| 3 | W | 28.384341 | FALSE | E1 |\n| 4 | J | 21.678351 | FALSE | E1 |\n| 5 | V |  6.294893 |  TRUE | E1 |\n| 6 | S | 17.561017 |  TRUE | E1 |\n| 7 | D | 25.208950 | FALSE | E1 |\n| 8 | L | 30.374875 | FALSE | E1 |\n| 9 | M | 32.804863 | FALSE | E1 |\n| 10 | W | 22.242971 | FALSE | E1 |\n| 11 | J | 30.238158 | FALSE | E1 |\n| 12 | V | 26.739659 | FALSE | E1 |\n| 13 | S | 25.479568 | FALSE | E1 |\n| 14 | D | 18.422416 |  TRUE | E1 |\n| 15 | L | 28.891523 | FALSE | E1 |\n| 16 | M | 27.304616 | FALSE | E1 |\n| 17 | W | 21.659832 | FALSE | E1 |\n| 18 | J | 28.953940 | FALSE | E1 |\n| 19 | V | 12.424271 |  TRUE | E1 |\n| 20 | S | 18.476982 |  TRUE | E1 |\n| 21 | D | 10.759235 |  TRUE | E1 |\n| 22 | L |  5.072797 |  TRUE | E1 |\n| 23 | M | 22.405210 | FALSE | E1 |\n| 24 | W | 24.170481 | FALSE | E1 |\n| 25 | J | 20.986497 | FALSE | E1 |\n| 26 | V | 31.991273 | FALSE | E1 |\n| 27 | S | 19.302081 |  TRUE | E1 |\n| 28 | D | 16.342142 |  TRUE | E1 |\n| 29 | L |  9.540585 |  TRUE | E1 |\n| 30 | M | 21.933574 | FALSE | E1 |\n| ⋮ | ⋮ | ⋮ | ⋮ | ⋮ |\n| 66 | W | 19.724040 |  TRUE | E2 |\n| 67 | J | 30.479847 | FALSE | E3 |\n| 68 | V | 25.171470 | FALSE | E3 |\n| 69 | S |  7.510420 |  TRUE | E3 |\n| 71 | L | 27.967527 | FALSE | E3 |\n| 72 | M | 22.063260 | FALSE | E3 |\n| 73 | W | 16.368615 |  TRUE | E3 |\n| 74 | J | 11.276060 |  TRUE | E3 |\n| 75 | V | 16.533493 |  TRUE | E3 |\n| 76 | S | 12.129530 |  TRUE | E3 |\n| 78 | L | 23.178060 | FALSE | E3 |\n| 79 | M | 21.579011 | FALSE | E3 |\n| 80 | W | 26.423323 | FALSE | E3 |\n| 81 | J | 12.801473 |  TRUE | E3 |\n| 82 | V |  9.397975 |  TRUE | E3 |\n| 83 | S | 16.332854 |  TRUE | E3 |\n| 85 | L | 23.178187 | FALSE | E3 |\n| 86 | M | 16.563641 |  TRUE | E3 |\n| 87 | W | 29.882321 | FALSE | E3 |\n| 88 | J | 20.498594 | FALSE | E3 |\n| 89 | V | 27.121845 | FALSE | E3 |\n| 90 | S | 21.211476 | FALSE | E3 |\n| 92 | L | 14.888838 |  TRUE | E3 |\n| 93 | M | 21.792031 | FALSE | E3 |\n| 94 | W | 22.120920 | FALSE | E3 |\n| 95 | J | 31.173522 | FALSE | E3 |\n| 96 | V | 32.851683 | FALSE | E3 |\n| 97 | S | 21.819271 | FALSE | E3 |\n| 99 | L | 26.705712 | FALSE | E3 |\n| 100 | M | 11.589025 |  TRUE | E3 |\n\n",
            "text/latex": "A data.frame: 95 × 4\n\\begin{tabular}{r|llll}\n  & Dia\\_semana & Temperatura & Llueve & Estacion\\\\\n  & <chr> & <dbl> & <lgl> & <chr>\\\\\n\\hline\n\t1 & L & 17.285538 &  TRUE & E1\\\\\n\t2 & M & 19.225000 &  TRUE & E1\\\\\n\t3 & W & 28.384341 & FALSE & E1\\\\\n\t4 & J & 21.678351 & FALSE & E1\\\\\n\t5 & V &  6.294893 &  TRUE & E1\\\\\n\t6 & S & 17.561017 &  TRUE & E1\\\\\n\t7 & D & 25.208950 & FALSE & E1\\\\\n\t8 & L & 30.374875 & FALSE & E1\\\\\n\t9 & M & 32.804863 & FALSE & E1\\\\\n\t10 & W & 22.242971 & FALSE & E1\\\\\n\t11 & J & 30.238158 & FALSE & E1\\\\\n\t12 & V & 26.739659 & FALSE & E1\\\\\n\t13 & S & 25.479568 & FALSE & E1\\\\\n\t14 & D & 18.422416 &  TRUE & E1\\\\\n\t15 & L & 28.891523 & FALSE & E1\\\\\n\t16 & M & 27.304616 & FALSE & E1\\\\\n\t17 & W & 21.659832 & FALSE & E1\\\\\n\t18 & J & 28.953940 & FALSE & E1\\\\\n\t19 & V & 12.424271 &  TRUE & E1\\\\\n\t20 & S & 18.476982 &  TRUE & E1\\\\\n\t21 & D & 10.759235 &  TRUE & E1\\\\\n\t22 & L &  5.072797 &  TRUE & E1\\\\\n\t23 & M & 22.405210 & FALSE & E1\\\\\n\t24 & W & 24.170481 & FALSE & E1\\\\\n\t25 & J & 20.986497 & FALSE & E1\\\\\n\t26 & V & 31.991273 & FALSE & E1\\\\\n\t27 & S & 19.302081 &  TRUE & E1\\\\\n\t28 & D & 16.342142 &  TRUE & E1\\\\\n\t29 & L &  9.540585 &  TRUE & E1\\\\\n\t30 & M & 21.933574 & FALSE & E1\\\\\n\t⋮ & ⋮ & ⋮ & ⋮ & ⋮\\\\\n\t66 & W & 19.724040 &  TRUE & E2\\\\\n\t67 & J & 30.479847 & FALSE & E3\\\\\n\t68 & V & 25.171470 & FALSE & E3\\\\\n\t69 & S &  7.510420 &  TRUE & E3\\\\\n\t71 & L & 27.967527 & FALSE & E3\\\\\n\t72 & M & 22.063260 & FALSE & E3\\\\\n\t73 & W & 16.368615 &  TRUE & E3\\\\\n\t74 & J & 11.276060 &  TRUE & E3\\\\\n\t75 & V & 16.533493 &  TRUE & E3\\\\\n\t76 & S & 12.129530 &  TRUE & E3\\\\\n\t78 & L & 23.178060 & FALSE & E3\\\\\n\t79 & M & 21.579011 & FALSE & E3\\\\\n\t80 & W & 26.423323 & FALSE & E3\\\\\n\t81 & J & 12.801473 &  TRUE & E3\\\\\n\t82 & V &  9.397975 &  TRUE & E3\\\\\n\t83 & S & 16.332854 &  TRUE & E3\\\\\n\t85 & L & 23.178187 & FALSE & E3\\\\\n\t86 & M & 16.563641 &  TRUE & E3\\\\\n\t87 & W & 29.882321 & FALSE & E3\\\\\n\t88 & J & 20.498594 & FALSE & E3\\\\\n\t89 & V & 27.121845 & FALSE & E3\\\\\n\t90 & S & 21.211476 & FALSE & E3\\\\\n\t92 & L & 14.888838 &  TRUE & E3\\\\\n\t93 & M & 21.792031 & FALSE & E3\\\\\n\t94 & W & 22.120920 & FALSE & E3\\\\\n\t95 & J & 31.173522 & FALSE & E3\\\\\n\t96 & V & 32.851683 & FALSE & E3\\\\\n\t97 & S & 21.819271 & FALSE & E3\\\\\n\t99 & L & 26.705712 & FALSE & E3\\\\\n\t100 & M & 11.589025 &  TRUE & E3\\\\\n\\end{tabular}\n",
            "text/plain": [
              "    Dia_semana Temperatura Llueve Estacion\n",
              "1   L          17.285538    TRUE  E1      \n",
              "2   M          19.225000    TRUE  E1      \n",
              "3   W          28.384341   FALSE  E1      \n",
              "4   J          21.678351   FALSE  E1      \n",
              "5   V           6.294893    TRUE  E1      \n",
              "6   S          17.561017    TRUE  E1      \n",
              "7   D          25.208950   FALSE  E1      \n",
              "8   L          30.374875   FALSE  E1      \n",
              "9   M          32.804863   FALSE  E1      \n",
              "10  W          22.242971   FALSE  E1      \n",
              "11  J          30.238158   FALSE  E1      \n",
              "12  V          26.739659   FALSE  E1      \n",
              "13  S          25.479568   FALSE  E1      \n",
              "14  D          18.422416    TRUE  E1      \n",
              "15  L          28.891523   FALSE  E1      \n",
              "16  M          27.304616   FALSE  E1      \n",
              "17  W          21.659832   FALSE  E1      \n",
              "18  J          28.953940   FALSE  E1      \n",
              "19  V          12.424271    TRUE  E1      \n",
              "20  S          18.476982    TRUE  E1      \n",
              "21  D          10.759235    TRUE  E1      \n",
              "22  L           5.072797    TRUE  E1      \n",
              "23  M          22.405210   FALSE  E1      \n",
              "24  W          24.170481   FALSE  E1      \n",
              "25  J          20.986497   FALSE  E1      \n",
              "26  V          31.991273   FALSE  E1      \n",
              "27  S          19.302081    TRUE  E1      \n",
              "28  D          16.342142    TRUE  E1      \n",
              "29  L           9.540585    TRUE  E1      \n",
              "30  M          21.933574   FALSE  E1      \n",
              "⋮   ⋮          ⋮           ⋮      ⋮       \n",
              "66  W          19.724040    TRUE  E2      \n",
              "67  J          30.479847   FALSE  E3      \n",
              "68  V          25.171470   FALSE  E3      \n",
              "69  S           7.510420    TRUE  E3      \n",
              "71  L          27.967527   FALSE  E3      \n",
              "72  M          22.063260   FALSE  E3      \n",
              "73  W          16.368615    TRUE  E3      \n",
              "74  J          11.276060    TRUE  E3      \n",
              "75  V          16.533493    TRUE  E3      \n",
              "76  S          12.129530    TRUE  E3      \n",
              "78  L          23.178060   FALSE  E3      \n",
              "79  M          21.579011   FALSE  E3      \n",
              "80  W          26.423323   FALSE  E3      \n",
              "81  J          12.801473    TRUE  E3      \n",
              "82  V           9.397975    TRUE  E3      \n",
              "83  S          16.332854    TRUE  E3      \n",
              "85  L          23.178187   FALSE  E3      \n",
              "86  M          16.563641    TRUE  E3      \n",
              "87  W          29.882321   FALSE  E3      \n",
              "88  J          20.498594   FALSE  E3      \n",
              "89  V          27.121845   FALSE  E3      \n",
              "90  S          21.211476   FALSE  E3      \n",
              "92  L          14.888838    TRUE  E3      \n",
              "93  M          21.792031   FALSE  E3      \n",
              "94  W          22.120920   FALSE  E3      \n",
              "95  J          31.173522   FALSE  E3      \n",
              "96  V          32.851683   FALSE  E3      \n",
              "97  S          21.819271   FALSE  E3      \n",
              "99  L          26.705712   FALSE  E3      \n",
              "100 M          11.589025    TRUE  E3      "
            ]
          },
          "metadata": {}
        }
      ]
    }
  ]
}