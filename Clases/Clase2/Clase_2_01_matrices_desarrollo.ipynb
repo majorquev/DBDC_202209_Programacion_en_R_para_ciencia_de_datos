{
  "nbformat": 4,
  "nbformat_minor": 0,
  "metadata": {
    "colab": {
      "provenance": [],
      "collapsed_sections": [],
      "include_colab_link": true
    },
    "kernelspec": {
      "name": "ir",
      "display_name": "R"
    }
  },
  "cells": [
    {
      "cell_type": "markdown",
      "metadata": {
        "id": "view-in-github",
        "colab_type": "text"
      },
      "source": [
        "<a href=\"https://colab.research.google.com/github/majorquev/DBDC_202209_Programacion_en_R_para_ciencia_de_datos/blob/main/Clases/Clase2/Clase_2_01_matrices_desarrollo.ipynb\" target=\"_parent\"><img src=\"https://colab.research.google.com/assets/colab-badge.svg\" alt=\"Open In Colab\"/></a>"
      ]
    },
    {
      "cell_type": "markdown",
      "metadata": {
        "collapsed": true,
        "id": "qGvtNqVzSqoX"
      },
      "source": [
        "# Parte 1: Introducción a R (continuación)\n",
        "\n",
        "**Autor:** Miguel Jorquera Viguera<br>\n",
        "**E-mail:** majorquev@gmail.com<br>\n",
        "**Ayudante:** Rodrigo Morales <br>\n",
        "**E-mail ayudante:** rumorale1@gmail.com\n",
        "\n",
        "\n",
        "\n",
        "### 3.2 Matrices\n",
        "\n",
        "En R, así como en otros lenguajes de programación, una matriz es básicamente un arreglo bi-dimensional, donde las entradas horizontales se entienden como filas y las verticales como columnas. Es posible imaginar una matriz como un arreglo de vectores como columnas (o filas) del mismo largo.\n",
        "\n",
        " * ¿Qué se guarda en una matriz?<br>\n",
        "    Sólo datos de un mismo tipo. \n",
        "     \n",
        " * ¿Cómo se declara una matriz?<br>\n",
        "    Se puede definir de varias maneras, indicando los elementos que la componen, o combinando vectores como filas o columnas.\n",
        " \n",
        " * ¿Cómo se accede a sus elementos?<br>\n",
        "    Indicando la posición del vector fila, seguido de la posición del vector columna (como es usual)."
      ]
    },
    {
      "cell_type": "code",
      "metadata": {
        "trusted": true,
        "id": "TKVO3cuZSqoY",
        "colab": {
          "base_uri": "https://localhost:8080/",
          "height": 247
        },
        "outputId": "8a86810f-f4fa-46f0-93ac-d0b10f404c8c"
      },
      "source": [
        "# 3.2 Matrices ------------\n",
        "#?matrix de dos filas y 3 columnas, parametros ncol, nrow y byrow\n",
        "# recibe un vector de elementos\n",
        "A <- matrix(c(1,1,2,3,5,8), ncol = 3, nrow = 2)\n",
        "A\n",
        "\n",
        "B <- matrix(c(1,1,2,3,5,8), ncol = 3, nrow = 2, byrow = T)\n",
        "B"
      ],
      "execution_count": 2,
      "outputs": [
        {
          "output_type": "display_data",
          "data": {
            "text/html": [
              "<table class=\"dataframe\">\n",
              "<caption>A matrix: 2 × 3 of type dbl</caption>\n",
              "<tbody>\n",
              "\t<tr><td>1</td><td>2</td><td>5</td></tr>\n",
              "\t<tr><td>1</td><td>3</td><td>8</td></tr>\n",
              "</tbody>\n",
              "</table>\n"
            ],
            "text/markdown": "\nA matrix: 2 × 3 of type dbl\n\n| 1 | 2 | 5 |\n| 1 | 3 | 8 |\n\n",
            "text/latex": "A matrix: 2 × 3 of type dbl\n\\begin{tabular}{lll}\n\t 1 & 2 & 5\\\\\n\t 1 & 3 & 8\\\\\n\\end{tabular}\n",
            "text/plain": [
              "     [,1] [,2] [,3]\n",
              "[1,] 1    2    5   \n",
              "[2,] 1    3    8   "
            ]
          },
          "metadata": {}
        },
        {
          "output_type": "display_data",
          "data": {
            "text/html": [
              "<table class=\"dataframe\">\n",
              "<caption>A matrix: 2 × 3 of type dbl</caption>\n",
              "<tbody>\n",
              "\t<tr><td>1</td><td>1</td><td>2</td></tr>\n",
              "\t<tr><td>3</td><td>5</td><td>8</td></tr>\n",
              "</tbody>\n",
              "</table>\n"
            ],
            "text/markdown": "\nA matrix: 2 × 3 of type dbl\n\n| 1 | 1 | 2 |\n| 3 | 5 | 8 |\n\n",
            "text/latex": "A matrix: 2 × 3 of type dbl\n\\begin{tabular}{lll}\n\t 1 & 1 & 2\\\\\n\t 3 & 5 & 8\\\\\n\\end{tabular}\n",
            "text/plain": [
              "     [,1] [,2] [,3]\n",
              "[1,] 1    1    2   \n",
              "[2,] 3    5    8   "
            ]
          },
          "metadata": {}
        }
      ]
    },
    {
      "cell_type": "code",
      "metadata": {
        "trusted": true,
        "id": "Gm3PDTciSqof",
        "colab": {
          "base_uri": "https://localhost:8080/",
          "height": 52
        },
        "outputId": "e23b685a-b14e-437a-d047-1a6db42f06b0"
      },
      "source": [
        "# clase y atributo dim\n",
        "class(A)\n",
        "dim(A)"
      ],
      "execution_count": 4,
      "outputs": [
        {
          "output_type": "display_data",
          "data": {
            "text/html": [
              "<style>\n",
              ".list-inline {list-style: none; margin:0; padding: 0}\n",
              ".list-inline>li {display: inline-block}\n",
              ".list-inline>li:not(:last-child)::after {content: \"\\00b7\"; padding: 0 .5ex}\n",
              "</style>\n",
              "<ol class=list-inline><li>'matrix'</li><li>'array'</li></ol>\n"
            ],
            "text/markdown": "1. 'matrix'\n2. 'array'\n\n\n",
            "text/latex": "\\begin{enumerate*}\n\\item 'matrix'\n\\item 'array'\n\\end{enumerate*}\n",
            "text/plain": [
              "[1] \"matrix\" \"array\" "
            ]
          },
          "metadata": {}
        },
        {
          "output_type": "display_data",
          "data": {
            "text/html": [
              "<style>\n",
              ".list-inline {list-style: none; margin:0; padding: 0}\n",
              ".list-inline>li {display: inline-block}\n",
              ".list-inline>li:not(:last-child)::after {content: \"\\00b7\"; padding: 0 .5ex}\n",
              "</style>\n",
              "<ol class=list-inline><li>2</li><li>3</li></ol>\n"
            ],
            "text/markdown": "1. 2\n2. 3\n\n\n",
            "text/latex": "\\begin{enumerate*}\n\\item 2\n\\item 3\n\\end{enumerate*}\n",
            "text/plain": [
              "[1] 2 3"
            ]
          },
          "metadata": {}
        }
      ]
    },
    {
      "cell_type": "code",
      "metadata": {
        "trusted": true,
        "id": "2TXNSoedSqoh"
      },
      "source": [
        "# Genere dos vectores del mismo largo y forme una matriz.\n",
        "f1 <- c(10,20,30,40)\n",
        "f2 <- c(-1,-2,-3,-4)\n",
        "\n",
        "\n"
      ],
      "execution_count": 5,
      "outputs": []
    },
    {
      "cell_type": "code",
      "metadata": {
        "trusted": true,
        "id": "W3g76XEkSqok",
        "colab": {
          "base_uri": "https://localhost:8080/",
          "height": 324
        },
        "outputId": "fdb9c204-f0e1-4543-c95e-126fdf57a512"
      },
      "source": [
        "# funciones cbind() [une vectores como columnas]\n",
        "# y rbind() [une vectores como filas] (pensadas para matrices)\n",
        "#?cbind\n",
        "\n",
        "M <- rbind(f1,f2)\n",
        "M\n",
        "M2 <- cbind(f1,f2)\n",
        "M2"
      ],
      "execution_count": 9,
      "outputs": [
        {
          "output_type": "display_data",
          "data": {
            "text/html": [
              "<table class=\"dataframe\">\n",
              "<caption>A matrix: 2 × 4 of type dbl</caption>\n",
              "<tbody>\n",
              "\t<tr><th scope=row>f1</th><td>10</td><td>20</td><td>30</td><td>40</td></tr>\n",
              "\t<tr><th scope=row>f2</th><td>-1</td><td>-2</td><td>-3</td><td>-4</td></tr>\n",
              "</tbody>\n",
              "</table>\n"
            ],
            "text/markdown": "\nA matrix: 2 × 4 of type dbl\n\n| f1 | 10 | 20 | 30 | 40 |\n| f2 | -1 | -2 | -3 | -4 |\n\n",
            "text/latex": "A matrix: 2 × 4 of type dbl\n\\begin{tabular}{r|llll}\n\tf1 & 10 & 20 & 30 & 40\\\\\n\tf2 & -1 & -2 & -3 & -4\\\\\n\\end{tabular}\n",
            "text/plain": [
              "   [,1] [,2] [,3] [,4]\n",
              "f1 10   20   30   40  \n",
              "f2 -1   -2   -3   -4  "
            ]
          },
          "metadata": {}
        },
        {
          "output_type": "display_data",
          "data": {
            "text/html": [
              "<table class=\"dataframe\">\n",
              "<caption>A matrix: 4 × 2 of type dbl</caption>\n",
              "<thead>\n",
              "\t<tr><th scope=col>f1</th><th scope=col>f2</th></tr>\n",
              "</thead>\n",
              "<tbody>\n",
              "\t<tr><td>10</td><td>-1</td></tr>\n",
              "\t<tr><td>20</td><td>-2</td></tr>\n",
              "\t<tr><td>30</td><td>-3</td></tr>\n",
              "\t<tr><td>40</td><td>-4</td></tr>\n",
              "</tbody>\n",
              "</table>\n"
            ],
            "text/markdown": "\nA matrix: 4 × 2 of type dbl\n\n| f1 | f2 |\n|---|---|\n| 10 | -1 |\n| 20 | -2 |\n| 30 | -3 |\n| 40 | -4 |\n\n",
            "text/latex": "A matrix: 4 × 2 of type dbl\n\\begin{tabular}{ll}\n f1 & f2\\\\\n\\hline\n\t 10 & -1\\\\\n\t 20 & -2\\\\\n\t 30 & -3\\\\\n\t 40 & -4\\\\\n\\end{tabular}\n",
            "text/plain": [
              "     f1 f2\n",
              "[1,] 10 -1\n",
              "[2,] 20 -2\n",
              "[3,] 30 -3\n",
              "[4,] 40 -4"
            ]
          },
          "metadata": {}
        }
      ]
    },
    {
      "cell_type": "code",
      "source": [
        "# NOTA: Podemos añadir una fila/columna a una matriz existente\n",
        "f3 <- c(100,200,300,400)\n",
        "M3 <- rbind(M,f3)\n",
        "M3"
      ],
      "metadata": {
        "colab": {
          "base_uri": "https://localhost:8080/",
          "height": 128
        },
        "id": "ds9erwbP3sMG",
        "outputId": "385cced3-3267-4dbe-e7d9-16cba5b5275d"
      },
      "execution_count": 12,
      "outputs": [
        {
          "output_type": "display_data",
          "data": {
            "text/html": [
              "<table class=\"dataframe\">\n",
              "<caption>A matrix: 3 × 4 of type dbl</caption>\n",
              "<tbody>\n",
              "\t<tr><th scope=row>f1</th><td> 10</td><td> 20</td><td> 30</td><td> 40</td></tr>\n",
              "\t<tr><th scope=row>f2</th><td> -1</td><td> -2</td><td> -3</td><td> -4</td></tr>\n",
              "\t<tr><th scope=row>f3</th><td>100</td><td>200</td><td>300</td><td>400</td></tr>\n",
              "</tbody>\n",
              "</table>\n"
            ],
            "text/markdown": "\nA matrix: 3 × 4 of type dbl\n\n| f1 |  10 |  20 |  30 |  40 |\n| f2 |  -1 |  -2 |  -3 |  -4 |\n| f3 | 100 | 200 | 300 | 400 |\n\n",
            "text/latex": "A matrix: 3 × 4 of type dbl\n\\begin{tabular}{r|llll}\n\tf1 &  10 &  20 &  30 &  40\\\\\n\tf2 &  -1 &  -2 &  -3 &  -4\\\\\n\tf3 & 100 & 200 & 300 & 400\\\\\n\\end{tabular}\n",
            "text/plain": [
              "   [,1] [,2] [,3] [,4]\n",
              "f1  10   20   30   40 \n",
              "f2  -1   -2   -3   -4 \n",
              "f3 100  200  300  400 "
            ]
          },
          "metadata": {}
        }
      ]
    },
    {
      "cell_type": "code",
      "metadata": {
        "trusted": true,
        "id": "gDzbcsNVSqom",
        "colab": {
          "base_uri": "https://localhost:8080/",
          "height": 403
        },
        "outputId": "fa7004b4-c2e5-4afc-e0f5-70d187bc916d"
      },
      "source": [
        "# si combinamos vectores de distinto largo?\n",
        "# R recicla valores (recordar explicación)\n",
        "\n",
        "cbind(1:4, 10:18)\n",
        "\n"
      ],
      "execution_count": 18,
      "outputs": [
        {
          "output_type": "stream",
          "name": "stderr",
          "text": [
            "Warning message in cbind(1:4, 10:18):\n",
            "“number of rows of result is not a multiple of vector length (arg 1)”\n"
          ]
        },
        {
          "output_type": "display_data",
          "data": {
            "text/html": [
              "<table class=\"dataframe\">\n",
              "<caption>A matrix: 9 × 2 of type int</caption>\n",
              "<tbody>\n",
              "\t<tr><td>1</td><td>10</td></tr>\n",
              "\t<tr><td>2</td><td>11</td></tr>\n",
              "\t<tr><td>3</td><td>12</td></tr>\n",
              "\t<tr><td>4</td><td>13</td></tr>\n",
              "\t<tr><td>1</td><td>14</td></tr>\n",
              "\t<tr><td>2</td><td>15</td></tr>\n",
              "\t<tr><td>3</td><td>16</td></tr>\n",
              "\t<tr><td>4</td><td>17</td></tr>\n",
              "\t<tr><td>1</td><td>18</td></tr>\n",
              "</tbody>\n",
              "</table>\n"
            ],
            "text/markdown": "\nA matrix: 9 × 2 of type int\n\n| 1 | 10 |\n| 2 | 11 |\n| 3 | 12 |\n| 4 | 13 |\n| 1 | 14 |\n| 2 | 15 |\n| 3 | 16 |\n| 4 | 17 |\n| 1 | 18 |\n\n",
            "text/latex": "A matrix: 9 × 2 of type int\n\\begin{tabular}{ll}\n\t 1 & 10\\\\\n\t 2 & 11\\\\\n\t 3 & 12\\\\\n\t 4 & 13\\\\\n\t 1 & 14\\\\\n\t 2 & 15\\\\\n\t 3 & 16\\\\\n\t 4 & 17\\\\\n\t 1 & 18\\\\\n\\end{tabular}\n",
            "text/plain": [
              "      [,1] [,2]\n",
              " [1,] 1    10  \n",
              " [2,] 2    11  \n",
              " [3,] 3    12  \n",
              " [4,] 4    13  \n",
              " [5,] 1    14  \n",
              " [6,] 2    15  \n",
              " [7,] 3    16  \n",
              " [8,] 4    17  \n",
              " [9,] 1    18  "
            ]
          },
          "metadata": {}
        }
      ]
    },
    {
      "cell_type": "code",
      "metadata": {
        "trusted": true,
        "id": "QLOH0514Sqoo",
        "colab": {
          "base_uri": "https://localhost:8080/",
          "height": 177
        },
        "outputId": "83ecef88-31c3-4276-f569-2da78f745344"
      },
      "source": [
        "# función diag para la definición de matrices diagonales\n",
        "#?diag \n",
        "\n",
        "diag(f1)\n",
        "\n"
      ],
      "execution_count": 19,
      "outputs": [
        {
          "output_type": "display_data",
          "data": {
            "text/html": [
              "<table class=\"dataframe\">\n",
              "<caption>A matrix: 4 × 4 of type dbl</caption>\n",
              "<tbody>\n",
              "\t<tr><td>10</td><td> 0</td><td> 0</td><td> 0</td></tr>\n",
              "\t<tr><td> 0</td><td>20</td><td> 0</td><td> 0</td></tr>\n",
              "\t<tr><td> 0</td><td> 0</td><td>30</td><td> 0</td></tr>\n",
              "\t<tr><td> 0</td><td> 0</td><td> 0</td><td>40</td></tr>\n",
              "</tbody>\n",
              "</table>\n"
            ],
            "text/markdown": "\nA matrix: 4 × 4 of type dbl\n\n| 10 |  0 |  0 |  0 |\n|  0 | 20 |  0 |  0 |\n|  0 |  0 | 30 |  0 |\n|  0 |  0 |  0 | 40 |\n\n",
            "text/latex": "A matrix: 4 × 4 of type dbl\n\\begin{tabular}{llll}\n\t 10 &  0 &  0 &  0\\\\\n\t  0 & 20 &  0 &  0\\\\\n\t  0 &  0 & 30 &  0\\\\\n\t  0 &  0 &  0 & 40\\\\\n\\end{tabular}\n",
            "text/plain": [
              "     [,1] [,2] [,3] [,4]\n",
              "[1,] 10    0    0    0  \n",
              "[2,]  0   20    0    0  \n",
              "[3,]  0    0   30    0  \n",
              "[4,]  0    0    0   40  "
            ]
          },
          "metadata": {}
        }
      ]
    },
    {
      "cell_type": "code",
      "metadata": {
        "trusted": true,
        "id": "xIfUV82ASqot",
        "colab": {
          "base_uri": "https://localhost:8080/",
          "height": 163
        },
        "outputId": "891b10b5-bc2e-4564-eba2-597f3a974500"
      },
      "source": [
        "# Podemos acceder a los elementos de una matriz\n",
        "# indicando la posición de la fila y la columna de la casilla correspondiente.\n",
        "# Ejemplo:\n",
        "M3\n"
      ],
      "execution_count": 21,
      "outputs": [
        {
          "output_type": "display_data",
          "data": {
            "text/html": [
              "<table class=\"dataframe\">\n",
              "<caption>A matrix: 3 × 4 of type dbl</caption>\n",
              "<tbody>\n",
              "\t<tr><th scope=row>f1</th><td> 10</td><td> 20</td><td> 30</td><td> 40</td></tr>\n",
              "\t<tr><th scope=row>f2</th><td> -1</td><td> -2</td><td> -3</td><td> -4</td></tr>\n",
              "\t<tr><th scope=row>f3</th><td>100</td><td>200</td><td>300</td><td>400</td></tr>\n",
              "</tbody>\n",
              "</table>\n"
            ],
            "text/markdown": "\nA matrix: 3 × 4 of type dbl\n\n| f1 |  10 |  20 |  30 |  40 |\n| f2 |  -1 |  -2 |  -3 |  -4 |\n| f3 | 100 | 200 | 300 | 400 |\n\n",
            "text/latex": "A matrix: 3 × 4 of type dbl\n\\begin{tabular}{r|llll}\n\tf1 &  10 &  20 &  30 &  40\\\\\n\tf2 &  -1 &  -2 &  -3 &  -4\\\\\n\tf3 & 100 & 200 & 300 & 400\\\\\n\\end{tabular}\n",
            "text/plain": [
              "   [,1] [,2] [,3] [,4]\n",
              "f1  10   20   30   40 \n",
              "f2  -1   -2   -3   -4 \n",
              "f3 100  200  300  400 "
            ]
          },
          "metadata": {}
        },
        {
          "output_type": "display_data",
          "data": {
            "text/html": [
              "<strong>f2:</strong> -1"
            ],
            "text/markdown": "**f2:** -1",
            "text/latex": "\\textbf{f2:} -1",
            "text/plain": [
              "f2 \n",
              "-1 "
            ]
          },
          "metadata": {}
        },
        {
          "output_type": "display_data",
          "data": {
            "text/html": [
              "<style>\n",
              ".list-inline {list-style: none; margin:0; padding: 0}\n",
              ".list-inline>li {display: inline-block}\n",
              ".list-inline>li:not(:last-child)::after {content: \"\\00b7\"; padding: 0 .5ex}\n",
              "</style>\n",
              "<ol class=list-inline><li>-1</li><li>10</li></ol>\n"
            ],
            "text/markdown": "1. -1\n2. 10\n\n\n",
            "text/latex": "\\begin{enumerate*}\n\\item -1\n\\item 10\n\\end{enumerate*}\n",
            "text/plain": [
              "[1] -1 10"
            ]
          },
          "metadata": {}
        }
      ]
    },
    {
      "cell_type": "code",
      "source": [
        "# quiero rescatar el elemento \"(2,1)\"\n",
        "M3[2,1]\n"
      ],
      "metadata": {
        "colab": {
          "base_uri": "https://localhost:8080/",
          "height": 34
        },
        "id": "xpChz7f25BTv",
        "outputId": "0b1176b0-9946-4533-f643-9bf34fb590a3"
      },
      "execution_count": 22,
      "outputs": [
        {
          "output_type": "display_data",
          "data": {
            "text/html": [
              "<strong>f2:</strong> -1"
            ],
            "text/markdown": "**f2:** -1",
            "text/latex": "\\textbf{f2:} -1",
            "text/plain": [
              "f2 \n",
              "-1 "
            ]
          },
          "metadata": {}
        }
      ]
    },
    {
      "cell_type": "code",
      "source": [
        "\n",
        "# CUIDADO:No es lo mismo que \n",
        "M3[c(2,1)] # R entiende también la matriz como un gran vector (por columnas) y lo anterior retorna los elmentos 2 y 1 de dicho vector"
      ],
      "metadata": {
        "colab": {
          "base_uri": "https://localhost:8080/",
          "height": 34
        },
        "id": "XZ9li5x25CT5",
        "outputId": "f0fbaeba-1779-4a97-c2f9-b3f881ced210"
      },
      "execution_count": 23,
      "outputs": [
        {
          "output_type": "display_data",
          "data": {
            "text/html": [
              "<style>\n",
              ".list-inline {list-style: none; margin:0; padding: 0}\n",
              ".list-inline>li {display: inline-block}\n",
              ".list-inline>li:not(:last-child)::after {content: \"\\00b7\"; padding: 0 .5ex}\n",
              "</style>\n",
              "<ol class=list-inline><li>-1</li><li>10</li></ol>\n"
            ],
            "text/markdown": "1. -1\n2. 10\n\n\n",
            "text/latex": "\\begin{enumerate*}\n\\item -1\n\\item 10\n\\end{enumerate*}\n",
            "text/plain": [
              "[1] -1 10"
            ]
          },
          "metadata": {}
        }
      ]
    },
    {
      "cell_type": "code",
      "metadata": {
        "trusted": true,
        "id": "0irI-CBJSqou",
        "colab": {
          "base_uri": "https://localhost:8080/",
          "height": 52
        },
        "outputId": "28636ed3-0727-4416-a91a-70a927f94287"
      },
      "source": [
        "# Para acceder a una fila completa\n",
        "M3[2,]\n",
        "\n",
        "\n",
        "# Para acceder a una columna completa\n",
        "M3[,3]\n"
      ],
      "execution_count": 26,
      "outputs": [
        {
          "output_type": "display_data",
          "data": {
            "text/html": [
              "<style>\n",
              ".list-inline {list-style: none; margin:0; padding: 0}\n",
              ".list-inline>li {display: inline-block}\n",
              ".list-inline>li:not(:last-child)::after {content: \"\\00b7\"; padding: 0 .5ex}\n",
              "</style>\n",
              "<ol class=list-inline><li>-1</li><li>-2</li><li>-3</li><li>-4</li></ol>\n"
            ],
            "text/markdown": "1. -1\n2. -2\n3. -3\n4. -4\n\n\n",
            "text/latex": "\\begin{enumerate*}\n\\item -1\n\\item -2\n\\item -3\n\\item -4\n\\end{enumerate*}\n",
            "text/plain": [
              "[1] -1 -2 -3 -4"
            ]
          },
          "metadata": {}
        },
        {
          "output_type": "display_data",
          "data": {
            "text/html": [
              "<style>\n",
              ".dl-inline {width: auto; margin:0; padding: 0}\n",
              ".dl-inline>dt, .dl-inline>dd {float: none; width: auto; display: inline-block}\n",
              ".dl-inline>dt::after {content: \":\\0020\"; padding-right: .5ex}\n",
              ".dl-inline>dt:not(:first-of-type) {padding-left: .5ex}\n",
              "</style><dl class=dl-inline><dt>f1</dt><dd>30</dd><dt>f2</dt><dd>-3</dd><dt>f3</dt><dd>300</dd></dl>\n"
            ],
            "text/markdown": "f1\n:   30f2\n:   -3f3\n:   300\n\n",
            "text/latex": "\\begin{description*}\n\\item[f1] 30\n\\item[f2] -3\n\\item[f3] 300\n\\end{description*}\n",
            "text/plain": [
              " f1  f2  f3 \n",
              " 30  -3 300 "
            ]
          },
          "metadata": {}
        }
      ]
    },
    {
      "cell_type": "code",
      "metadata": {
        "trusted": true,
        "id": "rkq7J4nLSqow"
      },
      "source": [
        "#Recordemos que podemos actualizar elementos de un vector como:\n",
        "\n",
        "# quiero cambiar el -2 por un -99 (el 5 de la pos 2,2)\n",
        "\n",
        "M3[2,2] <- -99"
      ],
      "execution_count": 27,
      "outputs": []
    },
    {
      "cell_type": "code",
      "source": [
        "M3"
      ],
      "metadata": {
        "colab": {
          "base_uri": "https://localhost:8080/",
          "height": 128
        },
        "id": "yb2dYBtk6QT8",
        "outputId": "701fadaa-ca51-4ba0-92a8-8602212ecf7b"
      },
      "execution_count": 28,
      "outputs": [
        {
          "output_type": "display_data",
          "data": {
            "text/html": [
              "<table class=\"dataframe\">\n",
              "<caption>A matrix: 3 × 4 of type dbl</caption>\n",
              "<tbody>\n",
              "\t<tr><th scope=row>f1</th><td> 10</td><td> 20</td><td> 30</td><td> 40</td></tr>\n",
              "\t<tr><th scope=row>f2</th><td> -1</td><td>-99</td><td> -3</td><td> -4</td></tr>\n",
              "\t<tr><th scope=row>f3</th><td>100</td><td>200</td><td>300</td><td>400</td></tr>\n",
              "</tbody>\n",
              "</table>\n"
            ],
            "text/markdown": "\nA matrix: 3 × 4 of type dbl\n\n| f1 |  10 |  20 |  30 |  40 |\n| f2 |  -1 | -99 |  -3 |  -4 |\n| f3 | 100 | 200 | 300 | 400 |\n\n",
            "text/latex": "A matrix: 3 × 4 of type dbl\n\\begin{tabular}{r|llll}\n\tf1 &  10 &  20 &  30 &  40\\\\\n\tf2 &  -1 & -99 &  -3 &  -4\\\\\n\tf3 & 100 & 200 & 300 & 400\\\\\n\\end{tabular}\n",
            "text/plain": [
              "   [,1] [,2] [,3] [,4]\n",
              "f1  10   20   30   40 \n",
              "f2  -1  -99   -3   -4 \n",
              "f3 100  200  300  400 "
            ]
          },
          "metadata": {}
        }
      ]
    },
    {
      "cell_type": "code",
      "metadata": {
        "id": "KstW38ylSkSV",
        "colab": {
          "base_uri": "https://localhost:8080/",
          "height": 52
        },
        "outputId": "51f00726-5ceb-46fb-c153-c7268881f042"
      },
      "source": [
        "# Acceso mediante nombres\n",
        "rownames(M3)\n",
        "colnames(M3)"
      ],
      "execution_count": 30,
      "outputs": [
        {
          "output_type": "display_data",
          "data": {
            "text/html": [
              "<style>\n",
              ".list-inline {list-style: none; margin:0; padding: 0}\n",
              ".list-inline>li {display: inline-block}\n",
              ".list-inline>li:not(:last-child)::after {content: \"\\00b7\"; padding: 0 .5ex}\n",
              "</style>\n",
              "<ol class=list-inline><li>'f1'</li><li>'f2'</li><li>'f3'</li></ol>\n"
            ],
            "text/markdown": "1. 'f1'\n2. 'f2'\n3. 'f3'\n\n\n",
            "text/latex": "\\begin{enumerate*}\n\\item 'f1'\n\\item 'f2'\n\\item 'f3'\n\\end{enumerate*}\n",
            "text/plain": [
              "[1] \"f1\" \"f2\" \"f3\""
            ]
          },
          "metadata": {}
        },
        {
          "output_type": "display_data",
          "data": {
            "text/plain": [
              "NULL"
            ]
          },
          "metadata": {}
        }
      ]
    },
    {
      "cell_type": "code",
      "source": [
        "colnames(M3) <- c(\"c1\",\"c2\",\"c3\",\"c4\")"
      ],
      "metadata": {
        "id": "K4CBEvo86cwc"
      },
      "execution_count": 31,
      "outputs": []
    },
    {
      "cell_type": "code",
      "metadata": {
        "id": "Q924mp4_SyAN",
        "colab": {
          "base_uri": "https://localhost:8080/",
          "height": 161
        },
        "outputId": "8a893193-c3db-4566-ea3b-466fb4b011c0"
      },
      "source": [
        "M3"
      ],
      "execution_count": 32,
      "outputs": [
        {
          "output_type": "display_data",
          "data": {
            "text/html": [
              "<table class=\"dataframe\">\n",
              "<caption>A matrix: 3 × 4 of type dbl</caption>\n",
              "<thead>\n",
              "\t<tr><th></th><th scope=col>c1</th><th scope=col>c2</th><th scope=col>c3</th><th scope=col>c4</th></tr>\n",
              "</thead>\n",
              "<tbody>\n",
              "\t<tr><th scope=row>f1</th><td> 10</td><td> 20</td><td> 30</td><td> 40</td></tr>\n",
              "\t<tr><th scope=row>f2</th><td> -1</td><td>-99</td><td> -3</td><td> -4</td></tr>\n",
              "\t<tr><th scope=row>f3</th><td>100</td><td>200</td><td>300</td><td>400</td></tr>\n",
              "</tbody>\n",
              "</table>\n"
            ],
            "text/markdown": "\nA matrix: 3 × 4 of type dbl\n\n| <!--/--> | c1 | c2 | c3 | c4 |\n|---|---|---|---|---|\n| f1 |  10 |  20 |  30 |  40 |\n| f2 |  -1 | -99 |  -3 |  -4 |\n| f3 | 100 | 200 | 300 | 400 |\n\n",
            "text/latex": "A matrix: 3 × 4 of type dbl\n\\begin{tabular}{r|llll}\n  & c1 & c2 & c3 & c4\\\\\n\\hline\n\tf1 &  10 &  20 &  30 &  40\\\\\n\tf2 &  -1 & -99 &  -3 &  -4\\\\\n\tf3 & 100 & 200 & 300 & 400\\\\\n\\end{tabular}\n",
            "text/plain": [
              "   c1  c2  c3  c4 \n",
              "f1  10  20  30  40\n",
              "f2  -1 -99  -3  -4\n",
              "f3 100 200 300 400"
            ]
          },
          "metadata": {}
        }
      ]
    },
    {
      "cell_type": "code",
      "metadata": {
        "id": "0mKL1vhcSkVc",
        "colab": {
          "base_uri": "https://localhost:8080/",
          "height": 34
        },
        "outputId": "61ecb7c9-fd2d-45b5-eb0e-7650ecdf736e"
      },
      "source": [
        "# Acceso mediante nomnbres\n",
        "# Elemento de la segunda fila tercera columna (2,3)\n",
        "\n",
        "M3[\"f2\",\"c3\"]"
      ],
      "execution_count": 33,
      "outputs": [
        {
          "output_type": "display_data",
          "data": {
            "text/html": [
              "-3"
            ],
            "text/markdown": "-3",
            "text/latex": "-3",
            "text/plain": [
              "[1] -3"
            ]
          },
          "metadata": {}
        }
      ]
    },
    {
      "cell_type": "code",
      "metadata": {
        "trusted": true,
        "id": "qt9bcwQgSqo0",
        "colab": {
          "base_uri": "https://localhost:8080/",
          "height": 128
        },
        "outputId": "24ea78ce-2557-4de8-d6bc-50633a0ce4d5"
      },
      "source": [
        "# Acceso mediante \"indicatrices\" lógicas \n",
        "#Quiero obtener los elementos (1,1) y (2,3) de M3\n",
        "# 1: Crear una matriz de 3x4 con TRUE en dichas posiciones y FALSE en las restantes.\n",
        "\n",
        "ind <- matrix(c(T,F,F,F,F,F,T,F,F,F,F,F), ncol = 4, nrow = 3, byrow = T)\n",
        "ind\n"
      ],
      "execution_count": 34,
      "outputs": [
        {
          "output_type": "display_data",
          "data": {
            "text/html": [
              "<table class=\"dataframe\">\n",
              "<caption>A matrix: 3 × 4 of type lgl</caption>\n",
              "<tbody>\n",
              "\t<tr><td> TRUE</td><td>FALSE</td><td>FALSE</td><td>FALSE</td></tr>\n",
              "\t<tr><td>FALSE</td><td>FALSE</td><td> TRUE</td><td>FALSE</td></tr>\n",
              "\t<tr><td>FALSE</td><td>FALSE</td><td>FALSE</td><td>FALSE</td></tr>\n",
              "</tbody>\n",
              "</table>\n"
            ],
            "text/markdown": "\nA matrix: 3 × 4 of type lgl\n\n|  TRUE | FALSE | FALSE | FALSE |\n| FALSE | FALSE |  TRUE | FALSE |\n| FALSE | FALSE | FALSE | FALSE |\n\n",
            "text/latex": "A matrix: 3 × 4 of type lgl\n\\begin{tabular}{llll}\n\t  TRUE & FALSE & FALSE & FALSE\\\\\n\t FALSE & FALSE &  TRUE & FALSE\\\\\n\t FALSE & FALSE & FALSE & FALSE\\\\\n\\end{tabular}\n",
            "text/plain": [
              "     [,1]  [,2]  [,3]  [,4] \n",
              "[1,]  TRUE FALSE FALSE FALSE\n",
              "[2,] FALSE FALSE  TRUE FALSE\n",
              "[3,] FALSE FALSE FALSE FALSE"
            ]
          },
          "metadata": {}
        }
      ]
    },
    {
      "cell_type": "code",
      "source": [
        "ind2 <- matrix(F, nrow = 3, ncol = 4)\n",
        "ind2\n",
        "\n",
        "ind2[1,1] <- T\n",
        "ind2[2,3] <- T\n",
        "\n",
        "ind2"
      ],
      "metadata": {
        "colab": {
          "base_uri": "https://localhost:8080/",
          "height": 240
        },
        "id": "XjJ187xd7Tyr",
        "outputId": "3db4ee48-f768-4cc4-cbab-64a8869cf04e"
      },
      "execution_count": 38,
      "outputs": [
        {
          "output_type": "display_data",
          "data": {
            "text/html": [
              "<table class=\"dataframe\">\n",
              "<caption>A matrix: 3 × 4 of type lgl</caption>\n",
              "<tbody>\n",
              "\t<tr><td>FALSE</td><td>FALSE</td><td>FALSE</td><td>FALSE</td></tr>\n",
              "\t<tr><td>FALSE</td><td>FALSE</td><td>FALSE</td><td>FALSE</td></tr>\n",
              "\t<tr><td>FALSE</td><td>FALSE</td><td>FALSE</td><td>FALSE</td></tr>\n",
              "</tbody>\n",
              "</table>\n"
            ],
            "text/markdown": "\nA matrix: 3 × 4 of type lgl\n\n| FALSE | FALSE | FALSE | FALSE |\n| FALSE | FALSE | FALSE | FALSE |\n| FALSE | FALSE | FALSE | FALSE |\n\n",
            "text/latex": "A matrix: 3 × 4 of type lgl\n\\begin{tabular}{llll}\n\t FALSE & FALSE & FALSE & FALSE\\\\\n\t FALSE & FALSE & FALSE & FALSE\\\\\n\t FALSE & FALSE & FALSE & FALSE\\\\\n\\end{tabular}\n",
            "text/plain": [
              "     [,1]  [,2]  [,3]  [,4] \n",
              "[1,] FALSE FALSE FALSE FALSE\n",
              "[2,] FALSE FALSE FALSE FALSE\n",
              "[3,] FALSE FALSE FALSE FALSE"
            ]
          },
          "metadata": {}
        },
        {
          "output_type": "display_data",
          "data": {
            "text/html": [
              "<table class=\"dataframe\">\n",
              "<caption>A matrix: 3 × 4 of type lgl</caption>\n",
              "<tbody>\n",
              "\t<tr><td> TRUE</td><td>FALSE</td><td>FALSE</td><td>FALSE</td></tr>\n",
              "\t<tr><td>FALSE</td><td>FALSE</td><td> TRUE</td><td>FALSE</td></tr>\n",
              "\t<tr><td>FALSE</td><td>FALSE</td><td>FALSE</td><td>FALSE</td></tr>\n",
              "</tbody>\n",
              "</table>\n"
            ],
            "text/markdown": "\nA matrix: 3 × 4 of type lgl\n\n|  TRUE | FALSE | FALSE | FALSE |\n| FALSE | FALSE |  TRUE | FALSE |\n| FALSE | FALSE | FALSE | FALSE |\n\n",
            "text/latex": "A matrix: 3 × 4 of type lgl\n\\begin{tabular}{llll}\n\t  TRUE & FALSE & FALSE & FALSE\\\\\n\t FALSE & FALSE &  TRUE & FALSE\\\\\n\t FALSE & FALSE & FALSE & FALSE\\\\\n\\end{tabular}\n",
            "text/plain": [
              "     [,1]  [,2]  [,3]  [,4] \n",
              "[1,]  TRUE FALSE FALSE FALSE\n",
              "[2,] FALSE FALSE  TRUE FALSE\n",
              "[3,] FALSE FALSE FALSE FALSE"
            ]
          },
          "metadata": {}
        }
      ]
    },
    {
      "cell_type": "code",
      "source": [],
      "metadata": {
        "id": "7J6avJS774KM"
      },
      "execution_count": null,
      "outputs": []
    },
    {
      "cell_type": "code",
      "metadata": {
        "trusted": true,
        "id": "m4DDikCTSqo2",
        "colab": {
          "base_uri": "https://localhost:8080/",
          "height": 34
        },
        "outputId": "be59851c-b205-4ab6-8205-29799e534bb7"
      },
      "source": [
        "# Podemos evaluar las casillas de una atriz mediante sentencias lógicas\n",
        "M3[ind]"
      ],
      "execution_count": 39,
      "outputs": [
        {
          "output_type": "display_data",
          "data": {
            "text/html": [
              "<style>\n",
              ".list-inline {list-style: none; margin:0; padding: 0}\n",
              ".list-inline>li {display: inline-block}\n",
              ".list-inline>li:not(:last-child)::after {content: \"\\00b7\"; padding: 0 .5ex}\n",
              "</style>\n",
              "<ol class=list-inline><li>10</li><li>-3</li></ol>\n"
            ],
            "text/markdown": "1. 10\n2. -3\n\n\n",
            "text/latex": "\\begin{enumerate*}\n\\item 10\n\\item -3\n\\end{enumerate*}\n",
            "text/plain": [
              "[1] 10 -3"
            ]
          },
          "metadata": {}
        }
      ]
    },
    {
      "cell_type": "code",
      "source": [
        "M3 >= 40"
      ],
      "metadata": {
        "colab": {
          "base_uri": "https://localhost:8080/",
          "height": 161
        },
        "id": "A7uiZ5KT74y-",
        "outputId": "c390f9f1-241a-41b0-8060-b3d1e27161e1"
      },
      "execution_count": 42,
      "outputs": [
        {
          "output_type": "display_data",
          "data": {
            "text/html": [
              "<table class=\"dataframe\">\n",
              "<caption>A matrix: 3 × 4 of type lgl</caption>\n",
              "<thead>\n",
              "\t<tr><th></th><th scope=col>c1</th><th scope=col>c2</th><th scope=col>c3</th><th scope=col>c4</th></tr>\n",
              "</thead>\n",
              "<tbody>\n",
              "\t<tr><th scope=row>f1</th><td>FALSE</td><td>FALSE</td><td>FALSE</td><td> TRUE</td></tr>\n",
              "\t<tr><th scope=row>f2</th><td>FALSE</td><td>FALSE</td><td>FALSE</td><td>FALSE</td></tr>\n",
              "\t<tr><th scope=row>f3</th><td> TRUE</td><td> TRUE</td><td> TRUE</td><td> TRUE</td></tr>\n",
              "</tbody>\n",
              "</table>\n"
            ],
            "text/markdown": "\nA matrix: 3 × 4 of type lgl\n\n| <!--/--> | c1 | c2 | c3 | c4 |\n|---|---|---|---|---|\n| f1 | FALSE | FALSE | FALSE |  TRUE |\n| f2 | FALSE | FALSE | FALSE | FALSE |\n| f3 |  TRUE |  TRUE |  TRUE |  TRUE |\n\n",
            "text/latex": "A matrix: 3 × 4 of type lgl\n\\begin{tabular}{r|llll}\n  & c1 & c2 & c3 & c4\\\\\n\\hline\n\tf1 & FALSE & FALSE & FALSE &  TRUE\\\\\n\tf2 & FALSE & FALSE & FALSE & FALSE\\\\\n\tf3 &  TRUE &  TRUE &  TRUE &  TRUE\\\\\n\\end{tabular}\n",
            "text/plain": [
              "   c1    c2    c3    c4   \n",
              "f1 FALSE FALSE FALSE  TRUE\n",
              "f2 FALSE FALSE FALSE FALSE\n",
              "f3  TRUE  TRUE  TRUE  TRUE"
            ]
          },
          "metadata": {}
        }
      ]
    },
    {
      "cell_type": "code",
      "source": [
        "M3[M3 >= 40]"
      ],
      "metadata": {
        "colab": {
          "base_uri": "https://localhost:8080/",
          "height": 34
        },
        "id": "hGy39Vd37ruG",
        "outputId": "1367cfca-e225-4ae3-c3bd-831975aeecfa"
      },
      "execution_count": 41,
      "outputs": [
        {
          "output_type": "display_data",
          "data": {
            "text/html": [
              "<style>\n",
              ".list-inline {list-style: none; margin:0; padding: 0}\n",
              ".list-inline>li {display: inline-block}\n",
              ".list-inline>li:not(:last-child)::after {content: \"\\00b7\"; padding: 0 .5ex}\n",
              "</style>\n",
              "<ol class=list-inline><li>100</li><li>200</li><li>300</li><li>40</li><li>400</li></ol>\n"
            ],
            "text/markdown": "1. 100\n2. 200\n3. 300\n4. 40\n5. 400\n\n\n",
            "text/latex": "\\begin{enumerate*}\n\\item 100\n\\item 200\n\\item 300\n\\item 40\n\\item 400\n\\end{enumerate*}\n",
            "text/plain": [
              "[1] 100 200 300  40 400"
            ]
          },
          "metadata": {}
        }
      ]
    },
    {
      "cell_type": "markdown",
      "metadata": {
        "id": "DtKi8VpVSqo8"
      },
      "source": [
        "**Álgebra de matrices**\n",
        "\n",
        "Las operaciones suma (resta) y ponderación por escalar se llevan cabo mediante los mismos operadores utilizados para valores numéricos y vectores (+,-,*, /). Para multiplicar matrices en cambio, se utiliza el operador %*%, mientras que para invertirlas se utiliza la función solve(), t() para transponer y det() para el cálculo del determinante en el caso de matrices cuadradas."
      ]
    },
    {
      "cell_type": "code",
      "metadata": {
        "trusted": true,
        "id": "yxrjsz27Sqo8"
      },
      "source": [
        "# transponer una matriz\n"
      ],
      "execution_count": null,
      "outputs": []
    },
    {
      "cell_type": "code",
      "metadata": {
        "trusted": true,
        "id": "tSphDch3Sqo-"
      },
      "source": [
        "# 3.2 Álgbra de matrices  ------------\n",
        "# Ejemplo simple de álgebra de matrices\n",
        "\n"
      ],
      "execution_count": null,
      "outputs": []
    },
    {
      "cell_type": "code",
      "metadata": {
        "trusted": true,
        "id": "crNocLSqSqpA"
      },
      "source": [
        "# Multiplicación de matrices\n",
        "M2 * M1 # multiplicación componente a componente\n"
      ],
      "execution_count": null,
      "outputs": []
    },
    {
      "cell_type": "code",
      "metadata": {
        "trusted": true,
        "id": "RdPKIzaySqpC"
      },
      "source": [
        "# podemos calcular determinantes\n",
        "# ?det\n",
        "\n"
      ],
      "execution_count": null,
      "outputs": []
    },
    {
      "cell_type": "code",
      "metadata": {
        "trusted": true,
        "id": "Tymq9t9NSqpH"
      },
      "source": [
        "# Podemos invertir matrices\n",
        "# ?solve\n"
      ],
      "execution_count": null,
      "outputs": []
    }
  ]
}